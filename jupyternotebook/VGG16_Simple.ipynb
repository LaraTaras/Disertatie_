{
 "cells": [
  {
   "cell_type": "markdown",
   "id": "1989cb67",
   "metadata": {},
   "source": [
    "# VGG16 model"
   ]
  },
  {
   "cell_type": "markdown",
   "id": "35b38967",
   "metadata": {},
   "source": [
    "### VGG16 with only 2 categories (Benign and Malign)"
   ]
  },
  {
   "cell_type": "markdown",
   "id": "c2472daf",
   "metadata": {},
   "source": [
    "## Get packages"
   ]
  },
  {
   "cell_type": "code",
   "execution_count": 113,
   "id": "913cb1e8",
   "metadata": {},
   "outputs": [],
   "source": [
    "import tensorflow as tf\n",
    "import os\n",
    "import random\n",
    "import numpy as np\n",
    "from tqdm import tqdm\n",
    "import albumentations as A \n",
    "import cv2\n",
    "\n",
    "from skimage.io import imread\n",
    "from skimage.io import imshow\n",
    "from skimage.util import crop\n",
    "from skimage.transform import resize\n",
    "import matplotlib.pyplot as plt\n",
    "\n",
    "from tensorflow import keras\n",
    "from keras.models import Sequential, Model\n",
    "from keras.layers import Dense, Flatten, Conv2D, MaxPooling2D, Dropout\n",
    "from tensorflow.keras import layers\n",
    "from tensorflow.keras.utils import to_categorical\n",
    "from tensorflow.keras.optimizers.legacy import Adam\n",
    "\n",
    "import numpy as np\n",
    "import pandas as pd\n",
    "import matplotlib.pyplot as plt\n",
    "import keras\n",
    "from keras.layers import *\n",
    "from keras import models\n",
    "from keras.preprocessing import image\n",
    "\n",
    "from sklearn.metrics import classification_report\n",
    "from sklearn.metrics import confusion_matrix\n",
    "from sklearn.metrics import ConfusionMatrixDisplay\n",
    "from sklearn.metrics import confusion_matrix, ConfusionMatrixDisplay\n",
    "from tensorflow.keras.callbacks import ReduceLROnPlateau, Callback"
   ]
  },
  {
   "cell_type": "markdown",
   "id": "38916d3c",
   "metadata": {},
   "source": [
    "## Paths"
   ]
  },
  {
   "cell_type": "code",
   "execution_count": 130,
   "id": "daaa803b",
   "metadata": {},
   "outputs": [],
   "source": [
    "TRAIN_PATH = 'archive/classification/binary/no_frame/balance/train'\n",
    "TEST_PATH = 'archive/classification/binary/no_frame/balance/test'\n",
    "VALID_PATH = 'archive/classification/binary/no_frame/balance/validate'"
   ]
  },
  {
   "cell_type": "code",
   "execution_count": 131,
   "id": "1f8617a1",
   "metadata": {},
   "outputs": [],
   "source": [
    "input_size = (3,224,224)"
   ]
  },
  {
   "cell_type": "markdown",
   "id": "472ab4a6",
   "metadata": {},
   "source": [
    "## Load and Prepare Images"
   ]
  },
  {
   "cell_type": "code",
   "execution_count": 132,
   "id": "05e5bb61",
   "metadata": {},
   "outputs": [
    {
     "name": "stdout",
     "output_type": "stream",
     "text": [
      "Found 422 images belonging to 2 classes.\n",
      "Found 16 images belonging to 2 classes.\n"
     ]
    }
   ],
   "source": [
    "from keras.preprocessing.image import ImageDataGenerator\n",
    "\n",
    "# # for neaug\n",
    "# # divisible with 259: 7, 37\n",
    "# train_batchsize = 7\n",
    "# # divisible with 51: 3, 17 \n",
    "# valid_batchsize = 17\n",
    "\n",
    "\n",
    "# #for aug\n",
    "# # divisible with 518:  2, 259.\n",
    "# train_batchsize = 2\n",
    "# # divisible with 51: 3, 17 \n",
    "# valid_batchsize = 17\n",
    "\n",
    "\n",
    "# #for balance\n",
    "# # divisible with 494: 2, 7, 14, 31, 62, 217\n",
    "# train_batchsize = 7\n",
    "# # divisible with 18: 2, 3, 6, 9\n",
    "# valid_batchsize = 6\n",
    "\n",
    "\n",
    "# # for neaug non-frame\n",
    "# # divisible with 253: 11, 23 \n",
    "# train_batchsize = 23\n",
    "# # divisible with 50: 2, 5, 10, 25,\n",
    "# valid_batchsize = 5\n",
    "\n",
    "\n",
    "# #for aug non-frame\n",
    "# # divisible with 506: 2, 11, 22, 23, 46, 253,\n",
    "# train_batchsize = 22\n",
    "# # divisible with 50: 2, 5, 10, 25,\n",
    "# valid_batchsize = 5\n",
    "\n",
    "\n",
    "#for balance non-frame\n",
    "# divisible with 422: 2, 211.\n",
    "train_batchsize = 2\n",
    "# divisible with 16: 2, 4, 8,\n",
    "valid_batchsize = 4\n",
    "\n",
    "train_datagen = ImageDataGenerator(\n",
    "        rescale = 1./255.\n",
    ")\n",
    "\n",
    "validation_datagen = ImageDataGenerator(\n",
    "         rescale = 1./255.\n",
    ")\n",
    "                                  \n",
    "\n",
    "train_generator = train_datagen.flow_from_directory(\n",
    "        TRAIN_PATH,  \n",
    "        shuffle=True,\n",
    "         batch_size=train_batchsize,\n",
    "        target_size=input_size[1:],\n",
    "        class_mode='categorical')  \n",
    "\n",
    "validation_generator = validation_datagen.flow_from_directory(\n",
    "        VALID_PATH,  \n",
    "        target_size=input_size[1:],\n",
    "        shuffle=True,\n",
    "         batch_size=valid_batchsize,\n",
    "        class_mode='categorical')"
   ]
  },
  {
   "cell_type": "markdown",
   "id": "c0032f3a",
   "metadata": {},
   "source": [
    "## Make the model"
   ]
  },
  {
   "cell_type": "markdown",
   "id": "dcde2523",
   "metadata": {},
   "source": [
    "### From scratch"
   ]
  },
  {
   "cell_type": "code",
   "execution_count": 106,
   "id": "9d410dc9",
   "metadata": {},
   "outputs": [
    {
     "name": "stdout",
     "output_type": "stream",
     "text": [
      "Model: \"sequential_10\"\n",
      "_________________________________________________________________\n",
      " Layer (type)                Output Shape              Param #   \n",
      "=================================================================\n",
      " conv2d_13 (Conv2D)          (None, 224, 224, 64)      1792      \n",
      "                                                                 \n",
      " conv2d_14 (Conv2D)          (None, 224, 224, 64)      36928     \n",
      "                                                                 \n",
      " max_pooling2d_5 (MaxPoolin  (None, 112, 112, 64)      0         \n",
      " g2D)                                                            \n",
      "                                                                 \n",
      " conv2d_15 (Conv2D)          (None, 112, 112, 128)     73856     \n",
      "                                                                 \n",
      " conv2d_16 (Conv2D)          (None, 112, 112, 128)     147584    \n",
      "                                                                 \n",
      " max_pooling2d_6 (MaxPoolin  (None, 56, 56, 128)       0         \n",
      " g2D)                                                            \n",
      "                                                                 \n",
      " conv2d_17 (Conv2D)          (None, 56, 56, 256)       295168    \n",
      "                                                                 \n",
      " conv2d_18 (Conv2D)          (None, 56, 56, 256)       590080    \n",
      "                                                                 \n",
      " conv2d_19 (Conv2D)          (None, 56, 56, 256)       590080    \n",
      "                                                                 \n",
      " max_pooling2d_7 (MaxPoolin  (None, 28, 28, 256)       0         \n",
      " g2D)                                                            \n",
      "                                                                 \n",
      " conv2d_20 (Conv2D)          (None, 28, 28, 512)       1180160   \n",
      "                                                                 \n",
      " conv2d_21 (Conv2D)          (None, 28, 28, 512)       2359808   \n",
      "                                                                 \n",
      " conv2d_22 (Conv2D)          (None, 28, 28, 512)       2359808   \n",
      "                                                                 \n",
      " max_pooling2d_8 (MaxPoolin  (None, 14, 14, 512)       0         \n",
      " g2D)                                                            \n",
      "                                                                 \n",
      " conv2d_23 (Conv2D)          (None, 14, 14, 512)       2359808   \n",
      "                                                                 \n",
      " conv2d_24 (Conv2D)          (None, 14, 14, 512)       2359808   \n",
      "                                                                 \n",
      " conv2d_25 (Conv2D)          (None, 14, 14, 512)       2359808   \n",
      "                                                                 \n",
      " max_pooling2d_9 (MaxPoolin  (None, 7, 7, 512)         0         \n",
      " g2D)                                                            \n",
      "                                                                 \n",
      " flatten_10 (Flatten)        (None, 25088)             0         \n",
      "                                                                 \n",
      " dense_30 (Dense)            (None, 4096)              102764544 \n",
      "                                                                 \n",
      " dropout_20 (Dropout)        (None, 4096)              0         \n",
      "                                                                 \n",
      " dense_31 (Dense)            (None, 4096)              16781312  \n",
      "                                                                 \n",
      " dropout_21 (Dropout)        (None, 4096)              0         \n",
      "                                                                 \n",
      " dense_32 (Dense)            (None, 2)                 8194      \n",
      "                                                                 \n",
      "=================================================================\n",
      "Total params: 134268738 (512.19 MB)\n",
      "Trainable params: 134268738 (512.19 MB)\n",
      "Non-trainable params: 0 (0.00 Byte)\n",
      "_________________________________________________________________\n"
     ]
    }
   ],
   "source": [
    "# Define the model as a sequential sequence of layers\n",
    "model = Sequential()\n",
    "\n",
    "# Define convolutional layers\n",
    "model.add(Conv2D(64, (3, 3), activation='relu', padding='same', input_shape=(224, 224, 3)))\n",
    "model.add(Conv2D(64, (3, 3), activation='relu', padding='same'))\n",
    "model.add(MaxPooling2D((2, 2)))\n",
    "\n",
    "model.add(Conv2D(128, (3, 3), activation='relu', padding='same'))\n",
    "model.add(Conv2D(128, (3, 3), activation='relu', padding='same'))\n",
    "model.add(MaxPooling2D((2, 2)))\n",
    "\n",
    "model.add(Conv2D(256, (3, 3), activation='relu', padding='same'))\n",
    "model.add(Conv2D(256, (3, 3), activation='relu', padding='same'))\n",
    "model.add(Conv2D(256, (3, 3), activation='relu', padding='same'))\n",
    "model.add(MaxPooling2D((2, 2)))\n",
    "\n",
    "model.add(Conv2D(512, (3, 3), activation='relu', padding='same'))\n",
    "model.add(Conv2D(512, (3, 3), activation='relu', padding='same'))\n",
    "model.add(Conv2D(512, (3, 3), activation='relu', padding='same'))\n",
    "model.add(MaxPooling2D((2, 2)))\n",
    "\n",
    "model.add(Conv2D(512, (3, 3), activation='relu', padding='same'))\n",
    "model.add(Conv2D(512, (3, 3), activation='relu', padding='same'))\n",
    "model.add(Conv2D(512, (3, 3), activation='relu', padding='same'))\n",
    "model.add(MaxPooling2D((2, 2)))\n",
    "\n",
    "# Define classification layers\n",
    "model.add(Flatten())\n",
    "model.add(Dense(4096, activation='relu'))\n",
    "model.add(Dropout(0.5))\n",
    "model.add(Dense(4096, activation='relu'))\n",
    "model.add(Dropout(0.5))\n",
    "model.add(Dense(2, activation='softmax'))\n",
    "\n",
    "# Print a summary of the model architecture\n",
    "model.summary()"
   ]
  },
  {
   "cell_type": "code",
   "execution_count": 70,
   "id": "5b5f8fde",
   "metadata": {},
   "outputs": [],
   "source": [
    "# Compile the model\n",
    "model.compile(\n",
    "              loss=keras.losses.BinaryFocalCrossentropy(),\n",
    "              optimizer=keras.optimizers.legacy.Adamax(), \n",
    "              metrics=['accuracy'])"
   ]
  },
  {
   "cell_type": "markdown",
   "id": "ac8baa8e",
   "metadata": {},
   "source": [
    "### Pre-trained"
   ]
  },
  {
   "cell_type": "code",
   "execution_count": 133,
   "id": "097b8323",
   "metadata": {},
   "outputs": [],
   "source": [
    "# To show the model arhitecture\n",
    "from tensorflow.keras.applications.vgg16 import VGG16\n",
    "# from keras.utils.vis_utils import plot_model\n",
    "base_model = VGG16(input_shape = (224, 224, 3), include_top = False, weights = 'imagenet')\n",
    "\n",
    "for layer in base_model.layers:\n",
    "              layer.trainable = False"
   ]
  },
  {
   "cell_type": "code",
   "execution_count": 134,
   "id": "6ea416bb",
   "metadata": {},
   "outputs": [
    {
     "name": "stdout",
     "output_type": "stream",
     "text": [
      "Model: \"sequential_13\"\n",
      "_________________________________________________________________\n",
      " Layer (type)                Output Shape              Param #   \n",
      "=================================================================\n",
      " vgg16 (Functional)          (None, 7, 7, 512)         14714688  \n",
      "                                                                 \n",
      " flatten_13 (Flatten)        (None, 25088)             0         \n",
      "                                                                 \n",
      " dense_39 (Dense)            (None, 4096)              102764544 \n",
      "                                                                 \n",
      " dropout_26 (Dropout)        (None, 4096)              0         \n",
      "                                                                 \n",
      " dense_40 (Dense)            (None, 4096)              16781312  \n",
      "                                                                 \n",
      " dropout_27 (Dropout)        (None, 4096)              0         \n",
      "                                                                 \n",
      " dense_41 (Dense)            (None, 2)                 8194      \n",
      "                                                                 \n",
      "=================================================================\n",
      "Total params: 134268738 (512.19 MB)\n",
      "Trainable params: 119554050 (456.06 MB)\n",
      "Non-trainable params: 14714688 (56.13 MB)\n",
      "_________________________________________________________________\n"
     ]
    }
   ],
   "source": [
    "model = Sequential()\n",
    "model.add(base_model)\n",
    "\n",
    "model.add(Flatten())\n",
    "model.add(Dense(4096, activation='relu'))\n",
    "model.add(Dropout(0.5))\n",
    "model.add(Dense(4096, activation='relu'))\n",
    "model.add(Dropout(0.5))\n",
    "model.add(Dense(2, activation='softmax'))\n",
    "\n",
    "model.summary()"
   ]
  },
  {
   "cell_type": "code",
   "execution_count": 135,
   "id": "a4e99279",
   "metadata": {},
   "outputs": [],
   "source": [
    "model.compile(\n",
    "    loss=keras.losses.BinaryFocalCrossentropy(),\n",
    "   optimizer=keras.optimizers.legacy.RMSprop(learning_rate=0.001,decay=1e-3, momentum=0.9),\n",
    "    metrics = ['accuracy'])"
   ]
  },
  {
   "cell_type": "markdown",
   "id": "9c93eb46",
   "metadata": {},
   "source": [
    "## Train the model"
   ]
  },
  {
   "cell_type": "code",
   "execution_count": 136,
   "id": "000805b8",
   "metadata": {},
   "outputs": [],
   "source": [
    "class LearningRateLogger(Callback):\n",
    "    def on_epoch_end(self, epoch, logs=None):\n",
    "        lr = self.model.optimizer.learning_rate\n",
    "        if isinstance(lr, tf.Variable) or tf.is_tensor(lr):\n",
    "            lr = tf.keras.backend.get_value(lr)\n",
    "        print(f\" Epoch {epoch+1}: Learning rate is {lr:.6f}\")"
   ]
  },
  {
   "cell_type": "code",
   "execution_count": 137,
   "id": "34339e1a",
   "metadata": {},
   "outputs": [
    {
     "name": "stdout",
     "output_type": "stream",
     "text": [
      "Epoch 1/25\n",
      "211/211 [==============================] - ETA: 0s - loss: 2778.2649 - accuracy: 0.6635 Epoch 1: Learning rate is 0.001000\n",
      "\n",
      "Epoch 1: val_loss improved from inf to 821.86896, saving model to model_vgg16_aug_simple.h5\n"
     ]
    },
    {
     "name": "stderr",
     "output_type": "stream",
     "text": [
      "/Users/taras_lara/anaconda3/lib/python3.10/site-packages/keras/src/engine/training.py:3000: UserWarning: You are saving your model as an HDF5 file via `model.save()`. This file format is considered legacy. We recommend using instead the native Keras format, e.g. `model.save('my_model.keras')`.\n",
      "  saving_api.save_model(\n"
     ]
    },
    {
     "name": "stdout",
     "output_type": "stream",
     "text": [
      "211/211 [==============================] - 324s 2s/step - loss: 2778.2649 - accuracy: 0.6635 - val_loss: 821.8690 - val_accuracy: 0.5625 - lr: 0.0010\n",
      "Epoch 2/25\n",
      "211/211 [==============================] - ETA: 0s - loss: 1120.6636 - accuracy: 0.7204 Epoch 2: Learning rate is 0.001000\n",
      "\n",
      "Epoch 2: val_loss improved from 821.86896 to 494.06958, saving model to model_vgg16_aug_simple.h5\n",
      "211/211 [==============================] - 320s 2s/step - loss: 1120.6636 - accuracy: 0.7204 - val_loss: 494.0696 - val_accuracy: 0.7500 - lr: 0.0010\n",
      "Epoch 3/25\n",
      "211/211 [==============================] - ETA: 0s - loss: 300.8899 - accuracy: 0.8009 Epoch 3: Learning rate is 0.001000\n",
      "\n",
      "Epoch 3: val_loss improved from 494.06958 to 274.19025, saving model to model_vgg16_aug_simple.h5\n",
      "211/211 [==============================] - 305s 1s/step - loss: 300.8899 - accuracy: 0.8009 - val_loss: 274.1902 - val_accuracy: 0.6875 - lr: 0.0010\n",
      "Epoch 4/25\n",
      "211/211 [==============================] - ETA: 0s - loss: 98.2816 - accuracy: 0.8365 Epoch 4: Learning rate is 0.001000\n",
      "\n",
      "Epoch 4: val_loss improved from 274.19025 to 114.67339, saving model to model_vgg16_aug_simple.h5\n",
      "211/211 [==============================] - 314s 1s/step - loss: 98.2816 - accuracy: 0.8365 - val_loss: 114.6734 - val_accuracy: 0.6875 - lr: 0.0010\n",
      "Epoch 5/25\n",
      "211/211 [==============================] - ETA: 0s - loss: 25.7238 - accuracy: 0.8460 Epoch 5: Learning rate is 0.001000\n",
      "\n",
      "Epoch 5: val_loss improved from 114.67339 to 34.25859, saving model to model_vgg16_aug_simple.h5\n",
      "211/211 [==============================] - 313s 1s/step - loss: 25.7238 - accuracy: 0.8460 - val_loss: 34.2586 - val_accuracy: 0.8125 - lr: 0.0010\n",
      "Epoch 6/25\n",
      "211/211 [==============================] - ETA: 0s - loss: 11.9856 - accuracy: 0.8436 Epoch 6: Learning rate is 0.001000\n",
      "\n",
      "Epoch 6: val_loss improved from 34.25859 to 1.80118, saving model to model_vgg16_aug_simple.h5\n",
      "211/211 [==============================] - 269s 1s/step - loss: 11.9856 - accuracy: 0.8436 - val_loss: 1.8012 - val_accuracy: 0.8125 - lr: 0.0010\n",
      "Epoch 7/25\n",
      "211/211 [==============================] - ETA: 0s - loss: 2.1108 - accuracy: 0.8815 Epoch 7: Learning rate is 0.001000\n",
      "\n",
      "Epoch 7: val_loss improved from 1.80118 to 0.96431, saving model to model_vgg16_aug_simple.h5\n",
      "211/211 [==============================] - 221s 1s/step - loss: 2.1108 - accuracy: 0.8815 - val_loss: 0.9643 - val_accuracy: 0.8125 - lr: 0.0010\n",
      "Epoch 8/25\n",
      "211/211 [==============================] - ETA: 0s - loss: 2.3146 - accuracy: 0.8389 Epoch 8: Learning rate is 0.001000\n",
      "\n",
      "Epoch 8: val_loss improved from 0.96431 to 0.58805, saving model to model_vgg16_aug_simple.h5\n",
      "211/211 [==============================] - 312s 1s/step - loss: 2.3146 - accuracy: 0.8389 - val_loss: 0.5881 - val_accuracy: 0.8125 - lr: 0.0010\n",
      "Epoch 9/25\n",
      "211/211 [==============================] - ETA: 0s - loss: 1.0025 - accuracy: 0.8483\n",
      "Epoch 9: ReduceLROnPlateau reducing learning rate to 0.00010000000474974513.\n",
      " Epoch 9: Learning rate is 0.000100\n",
      "\n",
      "Epoch 9: val_loss did not improve from 0.58805\n",
      "211/211 [==============================] - 277s 1s/step - loss: 1.0025 - accuracy: 0.8483 - val_loss: 0.9275 - val_accuracy: 0.6875 - lr: 0.0010\n",
      "Epoch 10/25\n",
      "211/211 [==============================] - ETA: 0s - loss: 0.1340 - accuracy: 0.8483 Epoch 10: Learning rate is 0.000100\n",
      "\n",
      "Epoch 10: val_loss did not improve from 0.58805\n",
      "211/211 [==============================] - 269s 1s/step - loss: 0.1340 - accuracy: 0.8483 - val_loss: 0.9492 - val_accuracy: 0.6875 - lr: 1.0000e-04\n",
      "Epoch 11/25\n",
      "211/211 [==============================] - ETA: 0s - loss: 0.1715 - accuracy: 0.8555 Epoch 11: Learning rate is 0.000100\n",
      "\n",
      "Epoch 11: val_loss did not improve from 0.58805\n",
      "211/211 [==============================] - 215s 1s/step - loss: 0.1715 - accuracy: 0.8555 - val_loss: 1.2237 - val_accuracy: 0.6875 - lr: 1.0000e-04\n",
      "Epoch 12/25\n",
      "211/211 [==============================] - ETA: 0s - loss: 0.1225 - accuracy: 0.8578 Epoch 12: Learning rate is 0.000100\n",
      "\n",
      "Epoch 12: val_loss did not improve from 0.58805\n",
      "211/211 [==============================] - 228s 1s/step - loss: 0.1225 - accuracy: 0.8578 - val_loss: 1.4512 - val_accuracy: 0.6875 - lr: 1.0000e-04\n",
      "Epoch 13/25\n",
      "211/211 [==============================] - ETA: 0s - loss: 0.0715 - accuracy: 0.8791\n",
      "Epoch 13: ReduceLROnPlateau reducing learning rate to 1.0000000474974514e-05.\n",
      " Epoch 13: Learning rate is 0.000010\n",
      "\n",
      "Epoch 13: val_loss did not improve from 0.58805\n",
      "211/211 [==============================] - 256s 1s/step - loss: 0.0715 - accuracy: 0.8791 - val_loss: 2.0746 - val_accuracy: 0.7500 - lr: 1.0000e-04\n"
     ]
    }
   ],
   "source": [
    "# Saving the best result\n",
    "checkpoiter = tf.keras.callbacks.ModelCheckpoint('model_vgg16_aug_simple.h5', verbose=1, save_best_only=True)\n",
    "steps = train_generator.samples//train_generator.batch_size\n",
    "reduce_lr = ReduceLROnPlateau(monitor='val_accuracy', factor=0.1, patience=4, min_lr=0.00001, verbose=1)\n",
    "\n",
    "callbacks = [\n",
    "    tf.keras.callbacks.EarlyStopping(patience=5, monitor='val_loss'),\n",
    "    tf.keras.callbacks.TensorBoard(log_dir='logs'),\n",
    "    reduce_lr,\n",
    "    LearningRateLogger(),\n",
    "    checkpoiter\n",
    "\n",
    "]\n",
    "# Train\n",
    "results = model.fit(train_generator, \n",
    "                    validation_data=validation_generator, \n",
    "                    steps_per_epoch = steps,\n",
    "                    shuffle=True,\n",
    "                    epochs=25, \n",
    "                    callbacks=callbacks,\n",
    "                 )"
   ]
  },
  {
   "cell_type": "markdown",
   "id": "17fe29b9",
   "metadata": {},
   "source": [
    "## Results"
   ]
  },
  {
   "cell_type": "code",
   "execution_count": 138,
   "id": "430a1d71",
   "metadata": {},
   "outputs": [
    {
     "name": "stdout",
     "output_type": "stream",
     "text": [
      "Accuracy Score =  0.8125\n",
      "Loss Score =  0.5880537033081055\n"
     ]
    }
   ],
   "source": [
    "print('Accuracy Score = ',np.max(results.history['val_accuracy']))\n",
    "print('Loss Score = ',np.min(results.history['val_loss']))"
   ]
  },
  {
   "cell_type": "markdown",
   "id": "db312570",
   "metadata": {},
   "source": [
    "### During training"
   ]
  },
  {
   "cell_type": "code",
   "execution_count": 140,
   "id": "b0901dc0",
   "metadata": {},
   "outputs": [
    {
     "data": {
      "image/png": "[encoded data removed]",
      "text/plain": [
       "<Figure size 640x480 with 2 Axes>"
      ]
     },
     "metadata": {},
     "output_type": "display_data"
    }
   ],
   "source": [
    "plt.figure()\n",
    "plt.subplot(211)\n",
    "loss_train_curve = results.history[\"loss\"]\n",
    "loss_val_curve = results.history[\"val_loss\"]\n",
    "plt.plot(loss_train_curve, label = \"Loss\")\n",
    "plt.plot(loss_val_curve, label = \"Val_Loss\")\n",
    "plt.legend(loc = 'upper right')\n",
    "plt.ylabel(\"Loss\")\n",
    "\n",
    "\n",
    "plt.subplot(212)\n",
    "acc_train_curve = results.history[\"accuracy\"]\n",
    "acc_val_curve = results.history[\"val_accuracy\"]\n",
    "plt.plot(acc_train_curve, label = \"Accuracy\")\n",
    "plt.plot(acc_val_curve, label = \"Val_Accuracy\")\n",
    "plt.legend(loc = 'upper right')\n",
    "plt.ylabel(\"Accuracy\")\n",
    "plt.xlabel(\"Epoch\")\n",
    "plt.show()"
   ]
  },
  {
   "cell_type": "code",
   "execution_count": 50,
   "id": "c06650f8",
   "metadata": {},
   "outputs": [
    {
     "data": {
      "text/plain": [
       "{'benign': 0, 'malign': 1}"
      ]
     },
     "execution_count": 50,
     "metadata": {},
     "output_type": "execute_result"
    }
   ],
   "source": [
    "train_generator.class_indices"
   ]
  },
  {
   "cell_type": "markdown",
   "id": "3eeef50c",
   "metadata": {},
   "source": [
    "## Test the model"
   ]
  },
  {
   "cell_type": "code",
   "execution_count": 141,
   "id": "b8f1f3b9",
   "metadata": {},
   "outputs": [
    {
     "name": "stdout",
     "output_type": "stream",
     "text": [
      "['benign', 'malign']\n",
      "Found 36 images belonging to 2 classes.\n",
      "2/2 [==============================] - 17s 2s/step - loss: 803.9285 - accuracy: 0.8333\n"
     ]
    }
   ],
   "source": [
    "# Predict Classes\n",
    "\n",
    "# divisible with 36: 2, 3, 4, 6, 9, 12, 18\n",
    "test_batch_size = 3\n",
    "\n",
    "target_names = list(train_generator.class_indices.keys())\n",
    "print(target_names)\n",
    "test_datagen = ImageDataGenerator()\n",
    "\n",
    "test_generator = test_datagen.flow_from_directory(\n",
    "    TEST_PATH,\n",
    "    target_size=input_size[1:],\n",
    "#     batch_size=test_batchsize,\n",
    "    shuffle=True,\n",
    "class_mode='categorical')\n",
    "\n",
    "scores = model.evaluate(test_generator,workers=12)\n",
    "target_names = list(test_generator.class_indices.keys())"
   ]
  },
  {
   "cell_type": "markdown",
   "id": "9d5e9eef",
   "metadata": {},
   "source": [
    "### Make prediction"
   ]
  },
  {
   "cell_type": "code",
   "execution_count": 142,
   "id": "e22fb423",
   "metadata": {},
   "outputs": [
    {
     "name": "stdout",
     "output_type": "stream",
     "text": [
      "WARNING:tensorflow:5 out of the last 11 calls to <function Model.make_predict_function.<locals>.predict_function at 0x303cf56c0> triggered tf.function retracing. Tracing is expensive and the excessive number of tracings could be due to (1) creating @tf.function repeatedly in a loop, (2) passing tensors with different shapes, (3) passing Python objects instead of tensors. For (1), please define your @tf.function outside of the loop. For (2), @tf.function has reduce_retracing=True option that can avoid unnecessary retracing. For (3), please refer to https://www.tensorflow.org/guide/function#controlling_retracing and https://www.tensorflow.org/api_docs/python/tf/function for  more details.\n",
      "2/2 [==============================] - 16s 2s/step\n",
      "[0 0 0 0 0 0 0 1 1 1 1 1 1 1 1 1 1 1 1 1 1 1 1 1 1 1 1 1 1 1 1 1 1 1 1 1]\n",
      "[1 1 0 1 1 1 1 1 1 1 1 1 1 1 1 1 1 1 1 1 1 1 1 1 1 1 1 1 1 1 1 1 1 1 1 1]\n",
      "0.8333333333333334\n"
     ]
    }
   ],
   "source": [
    "test_generator.reset()\n",
    "\n",
    "Y_pred = model.predict(test_generator, verbose=1)\n",
    "\n",
    "y_pred = np.argmax(Y_pred, axis=-1)\n",
    "classes = test_generator.classes\n",
    "\n",
    "print(classes)\n",
    "print(y_pred)\n",
    "\n",
    "print(sum(y_pred==classes)/len(test_generator.classes))"
   ]
  },
  {
   "cell_type": "markdown",
   "id": "7045f677",
   "metadata": {},
   "source": [
    "### Confusion Matrix"
   ]
  },
  {
   "cell_type": "code",
   "execution_count": 143,
   "id": "457c90fe",
   "metadata": {},
   "outputs": [
    {
     "data": {
      "image/png": "[encoded data removed]",
      "text/plain": [
       "<Figure size 640x480 with 2 Axes>"
      ]
     },
     "metadata": {},
     "output_type": "display_data"
    }
   ],
   "source": [
    "cm = confusion_matrix(classes, y_pred)\n",
    "\n",
    "disp = ConfusionMatrixDisplay(confusion_matrix=cm, display_labels=target_names)\n",
    "\n",
    "disp.plot()\n",
    "plt.grid(False)\n",
    "plt.show()"
   ]
  },
  {
   "cell_type": "markdown",
   "id": "ec3ef3ba",
   "metadata": {},
   "source": [
    "### Metrics"
   ]
  },
  {
   "cell_type": "code",
   "execution_count": 144,
   "id": "294b7e13",
   "metadata": {},
   "outputs": [],
   "source": [
    "TN, FP, FN, TP = cm.ravel()"
   ]
  },
  {
   "cell_type": "code",
   "execution_count": 145,
   "id": "57e0d72f",
   "metadata": {},
   "outputs": [
    {
     "name": "stdout",
     "output_type": "stream",
     "text": [
      "True positive= 29\n",
      "True Negative= 1\n",
      "False positive= 6\n",
      "False Negative= 0\n"
     ]
    }
   ],
   "source": [
    "print(\"True positive=\",TP)\n",
    "print(\"True Negative=\",TN)\n",
    "print(\"False positive=\",FP)\n",
    "print(\"False Negative=\",FN)"
   ]
  },
  {
   "cell_type": "code",
   "execution_count": 146,
   "id": "762561b5",
   "metadata": {},
   "outputs": [],
   "source": [
    "# Sensitivity, hit rate, recall, or true positive rate\n",
    "TPR = TP/(TP+FN)\n",
    "# Specificity or true negative rate\n",
    "TNR = TN/(TN+FP) \n",
    "# Precision or positive predictive value\n",
    "PPV = TP/(TP+FP)\n",
    "# Negative predictive value\n",
    "NPV = TN/(TN+FN)\n",
    "# Fall out or false positive rate\n",
    "FPR = FP/(FP+TN)\n",
    "# False negative rate\n",
    "FNR = FN/(TP+FN)\n",
    "# False discovery rate\n",
    "FDR = FP/(TP+FP)\n",
    "#F1_SCORE\n",
    "FSCO=(2*TP) / ((2*TP) +FP + FN) \n",
    "# Overall accuracy\n",
    "ACC = (TP+TN)/(TP+FP+FN+TN)"
   ]
  },
  {
   "cell_type": "code",
   "execution_count": 147,
   "id": "10f82f14",
   "metadata": {},
   "outputs": [
    {
     "name": "stdout",
     "output_type": "stream",
     "text": [
      "sensitivity= 100.0 %\n",
      "precision= 82.857 %\n",
      "Specificity= 14.286 %\n",
      "F-score= 90.625 %\n",
      "ACCURACY= 83.333 %\n",
      "FNR= 0.0 %\n",
      "FPR= 85.71428571428571 %\n",
      "NPV= 100.0 %\n"
     ]
    }
   ],
   "source": [
    "print(\"sensitivity=\",round(TPR*100,3),\"%\")\n",
    "print(\"precision=\",round(PPV*100,3),\"%\")\n",
    "print(\"Specificity=\",round(TNR*100,3),\"%\")\n",
    "print(\"F-score=\",round(FSCO*100,3),\"%\")\n",
    "print(\"ACCURACY=\",round(ACC*100,3),\"%\")\n",
    "print(\"FNR=\",FNR*100,\"%\")\n",
    "print(\"FPR=\",FPR*100,\"%\")\n",
    "print(\"NPV=\",NPV*100,\"%\")"
   ]
  }
 ],
 "metadata": {
  "kernelspec": {
   "display_name": "Python 3 (ipykernel)",
   "language": "python",
   "name": "python3"
  },
  "language_info": {
   "codemirror_mode": {
    "name": "ipython",
    "version": 3
   },
   "file_extension": ".py",
   "mimetype": "text/x-python",
   "name": "python",
   "nbconvert_exporter": "python",
   "pygments_lexer": "ipython3",
   "version": "3.10.9"
  }
 },
 "nbformat": 4,
 "nbformat_minor": 5
}
