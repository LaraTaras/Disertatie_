{
 "cells": [
  {
   "cell_type": "markdown",
   "id": "1989cb67",
   "metadata": {},
   "source": [
    "# VGG16 model"
   ]
  },
  {
   "cell_type": "markdown",
   "id": "35b38967",
   "metadata": {},
   "source": [
    "### VGG16 with only 2 categories (Benign and Malign)"
   ]
  },
  {
   "cell_type": "markdown",
   "id": "c2472daf",
   "metadata": {},
   "source": [
    "## Get packages"
   ]
  },
  {
   "cell_type": "code",
   "execution_count": 1,
   "id": "913cb1e8",
   "metadata": {},
   "outputs": [],
   "source": [
    "import tensorflow as tf\n",
    "import os\n",
    "import random\n",
    "import numpy as np\n",
    "from tqdm import tqdm\n",
    "import albumentations as A \n",
    "import cv2\n",
    "\n",
    "from skimage.io import imread\n",
    "from skimage.io import imshow\n",
    "from skimage.util import crop\n",
    "from skimage.transform import resize\n",
    "import matplotlib.pyplot as plt\n",
    "\n",
    "\n",
    "from tensorflow import keras\n",
    "from keras.models import Sequential, Model\n",
    "from keras.layers import Dense, Flatten, Conv2D, MaxPooling2D, Dropout\n",
    "from tensorflow.keras import layers\n",
    "from tensorflow.keras.utils import to_categorical\n",
    "from tensorflow.keras.optimizers.legacy import Adam\n",
    "\n",
    "import numpy as np\n",
    "import pandas as pd\n",
    "import matplotlib.pyplot as plt\n",
    "import keras\n",
    "from keras.layers import *\n",
    "from keras import models\n",
    "from keras.preprocessing import image\n",
    "\n",
    "from sklearn.metrics import classification_report\n",
    "from sklearn.metrics import confusion_matrix\n",
    "from sklearn.metrics import ConfusionMatrixDisplay\n",
    "from sklearn.metrics import confusion_matrix, ConfusionMatrixDisplay\n",
    "     "
   ]
  },
  {
   "cell_type": "markdown",
   "id": "38916d3c",
   "metadata": {},
   "source": [
    "## Paths"
   ]
  },
  {
   "cell_type": "code",
   "execution_count": 2,
   "id": "daaa803b",
   "metadata": {},
   "outputs": [],
   "source": [
    "TRAIN_PATH = 'archive/classification/simple/train'\n",
    "TEST_PATH = 'archive/classification/simple/test'\n",
    "VALID_PATH = 'archive/classification/simple/validate'"
   ]
  },
  {
   "cell_type": "code",
   "execution_count": 3,
   "id": "1f8617a1",
   "metadata": {},
   "outputs": [],
   "source": [
    "input_size = (3,224,224)"
   ]
  },
  {
   "cell_type": "markdown",
   "id": "472ab4a6",
   "metadata": {},
   "source": [
    "## Load and Prepare Images"
   ]
  },
  {
   "cell_type": "code",
   "execution_count": 32,
   "id": "05e5bb61",
   "metadata": {},
   "outputs": [
    {
     "name": "stdout",
     "output_type": "stream",
     "text": [
      "Found 520 images belonging to 2 classes.\n",
      "Found 174 images belonging to 2 classes.\n"
     ]
    }
   ],
   "source": [
    "from keras.preprocessing.image import ImageDataGenerator\n",
    "\n",
    "# train_batchsize = 4\n",
    "# valid_batchsize = 4\n",
    "\n",
    "train_datagen = ImageDataGenerator(\n",
    "        shear_range=0.2,\n",
    "        zoom_range=0.2,\n",
    "        horizontal_flip=0.6)\n",
    "\n",
    "validation_datagen = ImageDataGenerator()\n",
    "                                  \n",
    "\n",
    "train_generator = train_datagen.flow_from_directory(\n",
    "        TRAIN_PATH,  \n",
    "        shuffle=True,\n",
    "#          batch_size=train_batchsize,\n",
    "        target_size=input_size[1:],\n",
    "        class_mode='categorical')  \n",
    "\n",
    "validation_generator = validation_datagen.flow_from_directory(\n",
    "        VALID_PATH,  \n",
    "        target_size=input_size[1:],\n",
    "        shuffle=True,\n",
    "#          batch_size=valid_batchsize,\n",
    "        class_mode='categorical')"
   ]
  },
  {
   "cell_type": "markdown",
   "id": "c0032f3a",
   "metadata": {},
   "source": [
    "## Make the model"
   ]
  },
  {
   "cell_type": "code",
   "execution_count": 61,
   "id": "5b5f8fde",
   "metadata": {},
   "outputs": [
    {
     "name": "stdout",
     "output_type": "stream",
     "text": [
      "Model: \"sequential_12\"\n",
      "_________________________________________________________________\n",
      " Layer (type)                Output Shape              Param #   \n",
      "=================================================================\n",
      " conv2d_156 (Conv2D)         (None, 224, 224, 64)      1792      \n",
      "                                                                 \n",
      " conv2d_157 (Conv2D)         (None, 224, 224, 64)      36928     \n",
      "                                                                 \n",
      " max_pooling2d_60 (MaxPooli  (None, 112, 112, 64)      0         \n",
      " ng2D)                                                           \n",
      "                                                                 \n",
      " conv2d_158 (Conv2D)         (None, 112, 112, 128)     73856     \n",
      "                                                                 \n",
      " conv2d_159 (Conv2D)         (None, 112, 112, 128)     147584    \n",
      "                                                                 \n",
      " max_pooling2d_61 (MaxPooli  (None, 56, 56, 128)       0         \n",
      " ng2D)                                                           \n",
      "                                                                 \n",
      " conv2d_160 (Conv2D)         (None, 56, 56, 256)       295168    \n",
      "                                                                 \n",
      " conv2d_161 (Conv2D)         (None, 56, 56, 256)       590080    \n",
      "                                                                 \n",
      " conv2d_162 (Conv2D)         (None, 56, 56, 256)       590080    \n",
      "                                                                 \n",
      " max_pooling2d_62 (MaxPooli  (None, 28, 28, 256)       0         \n",
      " ng2D)                                                           \n",
      "                                                                 \n",
      " conv2d_163 (Conv2D)         (None, 28, 28, 512)       1180160   \n",
      "                                                                 \n",
      " conv2d_164 (Conv2D)         (None, 28, 28, 512)       2359808   \n",
      "                                                                 \n",
      " conv2d_165 (Conv2D)         (None, 28, 28, 512)       2359808   \n",
      "                                                                 \n",
      " max_pooling2d_63 (MaxPooli  (None, 14, 14, 512)       0         \n",
      " ng2D)                                                           \n",
      "                                                                 \n",
      " conv2d_166 (Conv2D)         (None, 14, 14, 512)       2359808   \n",
      "                                                                 \n",
      " conv2d_167 (Conv2D)         (None, 14, 14, 512)       2359808   \n",
      "                                                                 \n",
      " conv2d_168 (Conv2D)         (None, 14, 14, 512)       2359808   \n",
      "                                                                 \n",
      " max_pooling2d_64 (MaxPooli  (None, 7, 7, 512)         0         \n",
      " ng2D)                                                           \n",
      "                                                                 \n",
      " flatten_12 (Flatten)        (None, 25088)             0         \n",
      "                                                                 \n",
      " dense_36 (Dense)            (None, 4096)              102764544 \n",
      "                                                                 \n",
      " dropout_24 (Dropout)        (None, 4096)              0         \n",
      "                                                                 \n",
      " dense_37 (Dense)            (None, 4096)              16781312  \n",
      "                                                                 \n",
      " dropout_25 (Dropout)        (None, 4096)              0         \n",
      "                                                                 \n",
      " dense_38 (Dense)            (None, 2)                 8194      \n",
      "                                                                 \n",
      "=================================================================\n",
      "Total params: 134268738 (512.19 MB)\n",
      "Trainable params: 134268738 (512.19 MB)\n",
      "Non-trainable params: 0 (0.00 Byte)\n",
      "_________________________________________________________________\n"
     ]
    }
   ],
   "source": [
    "# Define the model as a sequential sequence of layers\n",
    "model = Sequential()\n",
    "\n",
    "# Define convolutional layers\n",
    "model.add(Conv2D(64, (3, 3), activation='relu', padding='same', input_shape=(224, 224, 3)))\n",
    "model.add(Conv2D(64, (3, 3), activation='relu', padding='same'))\n",
    "model.add(MaxPooling2D((2, 2)))\n",
    "\n",
    "model.add(Conv2D(128, (3, 3), activation='relu', padding='same'))\n",
    "model.add(Conv2D(128, (3, 3), activation='relu', padding='same'))\n",
    "model.add(MaxPooling2D((2, 2)))\n",
    "\n",
    "model.add(Conv2D(256, (3, 3), activation='relu', padding='same'))\n",
    "model.add(Conv2D(256, (3, 3), activation='relu', padding='same'))\n",
    "model.add(Conv2D(256, (3, 3), activation='relu', padding='same'))\n",
    "model.add(MaxPooling2D((2, 2)))\n",
    "\n",
    "model.add(Conv2D(512, (3, 3), activation='relu', padding='same'))\n",
    "model.add(Conv2D(512, (3, 3), activation='relu', padding='same'))\n",
    "model.add(Conv2D(512, (3, 3), activation='relu', padding='same'))\n",
    "model.add(MaxPooling2D((2, 2)))\n",
    "\n",
    "model.add(Conv2D(512, (3, 3), activation='relu', padding='same'))\n",
    "model.add(Conv2D(512, (3, 3), activation='relu', padding='same'))\n",
    "model.add(Conv2D(512, (3, 3), activation='relu', padding='same'))\n",
    "model.add(MaxPooling2D((2, 2)))\n",
    "\n",
    "# Define classification layers\n",
    "model.add(Flatten())\n",
    "model.add(Dense(4096, activation='relu'))\n",
    "model.add(Dropout(0.5))\n",
    "model.add(Dense(4096, activation='relu'))\n",
    "model.add(Dropout(0.5))\n",
    "model.add(Dense(2, activation='softmax'))\n",
    "\n",
    "# Print a summary of the model architecture\n",
    "model.summary()\n",
    "\n",
    "\n",
    "# Compile the model\n",
    "model.compile(\n",
    "#                loss=keras.losses.CategoricalCrossentropy(), \n",
    "              loss=keras.losses.BinaryCrossentropy(),\n",
    "              optimizer=keras.optimizers.legacy.Adamax(), \n",
    "              metrics=['accuracy'])"
   ]
  },
  {
   "cell_type": "code",
   "execution_count": 12,
   "id": "097b8323",
   "metadata": {},
   "outputs": [
    {
     "ename": "ModuleNotFoundError",
     "evalue": "No module named 'keras.utils.vis_utils'",
     "output_type": "error",
     "traceback": [
      "\u001b[0;31m---------------------------------------------------------------------------\u001b[0m",
      "\u001b[0;31mModuleNotFoundError\u001b[0m                       Traceback (most recent call last)",
      "Cell \u001b[0;32mIn[12], line 2\u001b[0m\n\u001b[1;32m      1\u001b[0m \u001b[38;5;28;01mfrom\u001b[39;00m \u001b[38;5;21;01mkeras\u001b[39;00m\u001b[38;5;21;01m.\u001b[39;00m\u001b[38;5;21;01mapplications\u001b[39;00m\u001b[38;5;21;01m.\u001b[39;00m\u001b[38;5;21;01mvgg16\u001b[39;00m \u001b[38;5;28;01mimport\u001b[39;00m VGG16\n\u001b[0;32m----> 2\u001b[0m \u001b[38;5;28;01mfrom\u001b[39;00m \u001b[38;5;21;01mkeras\u001b[39;00m\u001b[38;5;21;01m.\u001b[39;00m\u001b[38;5;21;01mutils\u001b[39;00m\u001b[38;5;21;01m.\u001b[39;00m\u001b[38;5;21;01mvis_utils\u001b[39;00m \u001b[38;5;28;01mimport\u001b[39;00m plot_model\n\u001b[1;32m      3\u001b[0m model \u001b[38;5;241m=\u001b[39m VGG16()\n\u001b[1;32m      4\u001b[0m plot_model(model, to_file\u001b[38;5;241m=\u001b[39m\u001b[38;5;124m'\u001b[39m\u001b[38;5;124mvgg.png\u001b[39m\u001b[38;5;124m'\u001b[39m)\n",
      "\u001b[0;31mModuleNotFoundError\u001b[0m: No module named 'keras.utils.vis_utils'"
     ]
    }
   ],
   "source": [
    "# To show the model arhitecture\n",
    "from keras.applications.vgg16 import VGG16\n",
    "from keras.utils.vis_utils import plot_model\n",
    "model = VGG16()\n",
    "plot_model(model, to_file='vgg.png')"
   ]
  },
  {
   "cell_type": "markdown",
   "id": "9c93eb46",
   "metadata": {},
   "source": [
    "## Train the model"
   ]
  },
  {
   "cell_type": "code",
   "execution_count": 64,
   "id": "34339e1a",
   "metadata": {},
   "outputs": [
    {
     "name": "stdout",
     "output_type": "stream",
     "text": [
      "Epoch 1/25\n",
      "17/17 [==============================] - ETA: 0s - loss: 0.4096 - accuracy: 0.8269 \n",
      "Epoch 1: val_loss improved from inf to 0.45702, saving model to model_vgg16_aug_simple.h5\n",
      "17/17 [==============================] - 288s 17s/step - loss: 0.4096 - accuracy: 0.8269 - val_loss: 0.4570 - val_accuracy: 0.7816\n",
      "Epoch 2/25\n",
      "17/17 [==============================] - ETA: 0s - loss: 0.4140 - accuracy: 0.8250 \n",
      "Epoch 2: val_loss did not improve from 0.45702\n",
      "17/17 [==============================] - 317s 19s/step - loss: 0.4140 - accuracy: 0.8250 - val_loss: 0.4651 - val_accuracy: 0.7759\n",
      "Epoch 3/25\n",
      "17/17 [==============================] - ETA: 0s - loss: 0.4120 - accuracy: 0.8212 \n",
      "Epoch 3: val_loss did not improve from 0.45702\n",
      "17/17 [==============================] - 301s 18s/step - loss: 0.4120 - accuracy: 0.8212 - val_loss: 0.4618 - val_accuracy: 0.7874\n",
      "Epoch 4/25\n",
      "17/17 [==============================] - ETA: 0s - loss: 0.4021 - accuracy: 0.8346 \n",
      "Epoch 4: val_loss improved from 0.45702 to 0.45486, saving model to model_vgg16_aug_simple.h5\n",
      "17/17 [==============================] - 306s 18s/step - loss: 0.4021 - accuracy: 0.8346 - val_loss: 0.4549 - val_accuracy: 0.7874\n",
      "Epoch 5/25\n",
      "17/17 [==============================] - ETA: 0s - loss: 0.4039 - accuracy: 0.8269 \n",
      "Epoch 5: val_loss did not improve from 0.45486\n",
      "17/17 [==============================] - 314s 19s/step - loss: 0.4039 - accuracy: 0.8269 - val_loss: 0.4585 - val_accuracy: 0.8046\n",
      "Epoch 6/25\n",
      "17/17 [==============================] - ETA: 0s - loss: 0.4015 - accuracy: 0.8404 \n",
      "Epoch 6: val_loss did not improve from 0.45486\n",
      "17/17 [==============================] - 305s 18s/step - loss: 0.4015 - accuracy: 0.8404 - val_loss: 0.5159 - val_accuracy: 0.7931\n",
      "Epoch 7/25\n",
      "17/17 [==============================] - ETA: 0s - loss: 0.3964 - accuracy: 0.8288 \n",
      "Epoch 7: val_loss did not improve from 0.45486\n",
      "17/17 [==============================] - 319s 19s/step - loss: 0.3964 - accuracy: 0.8288 - val_loss: 0.5022 - val_accuracy: 0.7874\n",
      "Epoch 8/25\n",
      "17/17 [==============================] - ETA: 0s - loss: 0.3784 - accuracy: 0.8365 \n",
      "Epoch 8: val_loss improved from 0.45486 to 0.43972, saving model to model_vgg16_aug_simple.h5\n",
      "17/17 [==============================] - 310s 18s/step - loss: 0.3784 - accuracy: 0.8365 - val_loss: 0.4397 - val_accuracy: 0.7931\n",
      "Epoch 9/25\n",
      "17/17 [==============================] - ETA: 0s - loss: 0.3916 - accuracy: 0.8385 \n",
      "Epoch 9: val_loss did not improve from 0.43972\n",
      "17/17 [==============================] - 318s 19s/step - loss: 0.3916 - accuracy: 0.8385 - val_loss: 0.5235 - val_accuracy: 0.7931\n",
      "Epoch 10/25\n",
      "17/17 [==============================] - ETA: 0s - loss: 0.3904 - accuracy: 0.8462 \n",
      "Epoch 10: val_loss did not improve from 0.43972\n",
      "17/17 [==============================] - 305s 18s/step - loss: 0.3904 - accuracy: 0.8462 - val_loss: 0.4443 - val_accuracy: 0.7931\n",
      "Epoch 11/25\n",
      "17/17 [==============================] - ETA: 0s - loss: 0.3899 - accuracy: 0.8385 \n",
      "Epoch 11: val_loss did not improve from 0.43972\n",
      "17/17 [==============================] - 310s 18s/step - loss: 0.3899 - accuracy: 0.8385 - val_loss: 0.4630 - val_accuracy: 0.7874\n",
      "Epoch 12/25\n",
      "17/17 [==============================] - ETA: 0s - loss: 0.3975 - accuracy: 0.8288 \n",
      "Epoch 12: val_loss did not improve from 0.43972\n",
      "17/17 [==============================] - 307s 18s/step - loss: 0.3975 - accuracy: 0.8288 - val_loss: 0.4576 - val_accuracy: 0.8046\n",
      "Epoch 13/25\n",
      "17/17 [==============================] - ETA: 0s - loss: 0.3976 - accuracy: 0.8365 \n",
      "Epoch 13: val_loss did not improve from 0.43972\n",
      "17/17 [==============================] - 297s 18s/step - loss: 0.3976 - accuracy: 0.8365 - val_loss: 0.4474 - val_accuracy: 0.8046\n"
     ]
    }
   ],
   "source": [
    "# Saving the best result\n",
    "checkpoiter = tf.keras.callbacks.ModelCheckpoint('model_vgg16_aug_simple.h5', verbose=1, save_best_only=True)\n",
    "\n",
    "callbacks = [\n",
    "    tf.keras.callbacks.EarlyStopping(patience=5, monitor='val_loss'),\n",
    "    tf.keras.callbacks.TensorBoard(log_dir='logs'),\n",
    "    checkpoiter\n",
    "\n",
    "]\n",
    "# Train\n",
    "results = model.fit(train_generator, \n",
    "                    validation_data=validation_generator, \n",
    "#                      validation_split=0.1, \n",
    "                    batch_size=64, \n",
    "                    epochs=25, \n",
    "                    callbacks=callbacks,\n",
    "#                     steps_per_epoch=10\n",
    "                   )"
   ]
  },
  {
   "cell_type": "code",
   "execution_count": null,
   "id": "a31b1707",
   "metadata": {},
   "outputs": [],
   "source": []
  },
  {
   "cell_type": "markdown",
   "id": "17fe29b9",
   "metadata": {},
   "source": [
    "## Results"
   ]
  },
  {
   "cell_type": "code",
   "execution_count": 65,
   "id": "430a1d71",
   "metadata": {},
   "outputs": [
    {
     "name": "stdout",
     "output_type": "stream",
     "text": [
      "Accuracy Score =  0.8045976758003235\n",
      "Loss Score =  0.4397170841693878\n"
     ]
    }
   ],
   "source": [
    "print('Accuracy Score = ',np.max(results.history['val_accuracy']))\n",
    "print('Loss Score = ',np.min(results.history['val_loss']))"
   ]
  },
  {
   "cell_type": "markdown",
   "id": "db312570",
   "metadata": {},
   "source": [
    "### During training"
   ]
  },
  {
   "cell_type": "code",
   "execution_count": 32,
   "id": "b0901dc0",
   "metadata": {},
   "outputs": [
    {
     "data": {
      "image/png": "[encoded data removed]",
      "text/plain": [
       "<Figure size 640x480 with 2 Axes>"
      ]
     },
     "metadata": {},
     "output_type": "display_data"
    }
   ],
   "source": [
    "plt.figure()\n",
    "plt.subplot(211)\n",
    "loss_train_curve = results.history[\"loss\"]\n",
    "loss_val_curve = results.history[\"val_loss\"]\n",
    "plt.plot(loss_train_curve, label = \"Loss\")\n",
    "plt.plot(loss_val_curve, label = \"Val_Loss\")\n",
    "plt.legend(loc = 'upper right')\n",
    "plt.ylabel(\"Loss\")\n",
    "\n",
    "\n",
    "plt.subplot(212)\n",
    "acc_train_curve = results.history[\"accuracy\"]\n",
    "acc_val_curve = results.history[\"val_accuracy\"]\n",
    "plt.plot(acc_train_curve, label = \"Accuracy\")\n",
    "plt.plot(acc_val_curve, label = \"Val_Accuracy\")\n",
    "plt.legend(loc = 'upper right')\n",
    "plt.ylabel(\"Accuracy\")\n",
    "plt.xlabel(\"Epoch\")\n",
    "plt.show()"
   ]
  },
  {
   "cell_type": "code",
   "execution_count": 50,
   "id": "c06650f8",
   "metadata": {},
   "outputs": [
    {
     "data": {
      "text/plain": [
       "{'benign': 0, 'malign': 1}"
      ]
     },
     "execution_count": 50,
     "metadata": {},
     "output_type": "execute_result"
    }
   ],
   "source": [
    "train_generator.class_indices"
   ]
  },
  {
   "cell_type": "markdown",
   "id": "3eeef50c",
   "metadata": {},
   "source": [
    "## Test the model"
   ]
  },
  {
   "cell_type": "code",
   "execution_count": null,
   "id": "b8f1f3b9",
   "metadata": {},
   "outputs": [],
   "source": [
    "# Predict Classes\n",
    "\n",
    "# test_batch_size = 1\n",
    "\n",
    "# num_of_test_samples = 1\n",
    "\n",
    "target_names = list(train_generator.class_indices.keys())\n",
    "print(target_names)\n",
    "test_datagen = ImageDataGenerator()\n",
    "\n",
    "test_generator = test_datagen.flow_from_directory(\n",
    "    TEST_PATH,\n",
    "    target_size=input_size[1:],\n",
    "#     batch_size=test_batchsize,\n",
    "    shuffle=True,\n",
    "class_mode='categorical')"
   ]
  },
  {
   "cell_type": "code",
   "execution_count": null,
   "id": "78e45063",
   "metadata": {},
   "outputs": [],
   "source": [
    "# Get ground-truth classes \n",
    "\n",
    "true_classes = test_generator.classes\n",
    "class_labels = list(test_generator.class_indices.keys())  "
   ]
  },
  {
   "cell_type": "markdown",
   "id": "9d5e9eef",
   "metadata": {},
   "source": [
    "### Make prediction"
   ]
  },
  {
   "cell_type": "code",
   "execution_count": 47,
   "id": "457c90fe",
   "metadata": {},
   "outputs": [
    {
     "name": "stdout",
     "output_type": "stream",
     "text": [
      "1/1 [==============================] - 2s 2s/step\n"
     ]
    },
    {
     "data": {
      "image/png": "[encoded data removed]",
      "text/plain": [
       "<Figure size 640x480 with 2 Axes>"
      ]
     },
     "metadata": {},
     "output_type": "display_data"
    }
   ],
   "source": [
    "test_steps_per_epoch = np.math.ceil(test_generator.samples / test_generator.batch_size)\n",
    "# print(validation_generator.batch_size)\n",
    "\n",
    "predictions = model.predict(test_generator, steps=test_steps_per_epoch)\n",
    "\n",
    "# Get most likely class\n",
    "# Y_pred = model.predict(test_generator, num_of_test_samples // test_batch_size+1)\n",
    "y_pred = np.argmax(predictions, axis=1)\n",
    "\n",
    "cm = confusion_matrix(test_generator.classes, y_pred)\n",
    "\n",
    "disp = ConfusionMatrixDisplay(confusion_matrix=cm, display_labels=target_names)\n",
    "\n",
    "disp.plot()\n",
    "plt.grid(False)\n",
    "plt.show()"
   ]
  }
 ],
 "metadata": {
  "kernelspec": {
   "display_name": "Python 3 (ipykernel)",
   "language": "python",
   "name": "python3"
  },
  "language_info": {
   "codemirror_mode": {
    "name": "ipython",
    "version": 3
   },
   "file_extension": ".py",
   "mimetype": "text/x-python",
   "name": "python",
   "nbconvert_exporter": "python",
   "pygments_lexer": "ipython3",
   "version": "3.10.9"
  }
 },
 "nbformat": 4,
 "nbformat_minor": 5
}
