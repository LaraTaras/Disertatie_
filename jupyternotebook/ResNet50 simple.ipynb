{
 "cells": [
  {
   "cell_type": "markdown",
   "id": "bfabd63c",
   "metadata": {},
   "source": [
    "# ResNet50 model"
   ]
  },
  {
   "cell_type": "markdown",
   "id": "720a21a1",
   "metadata": {},
   "source": [
    "### ResNet50 with only 2 categories (Benign and Malign)"
   ]
  },
  {
   "cell_type": "markdown",
   "id": "783e8ac3",
   "metadata": {},
   "source": [
    "## Get packages"
   ]
  },
  {
   "cell_type": "code",
   "execution_count": 10,
   "id": "f0af782c",
   "metadata": {},
   "outputs": [],
   "source": [
    "import tensorflow as tf\n",
    "import os\n",
    "import random\n",
    "import numpy as np\n",
    "from tqdm import tqdm\n",
    "import albumentations as A\n",
    "import cv2\n",
    "\n",
    "from skimage.io import imread\n",
    "from skimage.io import imshow\n",
    "from skimage.util import crop\n",
    "from skimage.transform import resize\n",
    "import matplotlib.pyplot as plt\n",
    "\n",
    "\n",
    "from tensorflow import keras\n",
    "from tensorflow.keras.utils import to_categorical\n",
    "\n",
    "import numpy as np\n",
    "import pandas as pd\n",
    "import matplotlib.pyplot as plt\n",
    "import keras\n",
    "from keras.layers import *\n",
    "from keras import models\n",
    "from keras.preprocessing import image\n",
    "\n",
    "from sklearn.metrics import classification_report\n",
    "from sklearn.metrics import confusion_matrix\n",
    "from sklearn.metrics import ConfusionMatrixDisplay\n",
    "from sklearn.metrics import confusion_matrix, ConfusionMatrixDisplay\n",
    "\n",
    "# model / neural network\n",
    "from tensorflow.keras import layers\n",
    "from tensorflow.keras.models import Sequential, Model\n",
    "from tensorflow.keras.applications import ResNet50\n",
    "from tensorflow.keras.applications.resnet50 import preprocess_input\n",
    "\n",
    "from tensorflow.python.framework import ops\n",
    "from tensorflow.keras import regularizers\n",
    "from tensorflow.keras.callbacks import ReduceLROnPlateau, Callback"
   ]
  },
  {
   "cell_type": "markdown",
   "id": "405da0dd",
   "metadata": {},
   "source": [
    "## Paths"
   ]
  },
  {
   "cell_type": "code",
   "execution_count": 88,
   "id": "476c0a7c",
   "metadata": {},
   "outputs": [],
   "source": [
    "TRAIN_PATH = 'archive/classification/binary/no_frame/balance/train'\n",
    "TEST_PATH = 'archive/classification/binary/no_frame/balance/test' \n",
    "VALID_PATH = 'archive/classification/binary/no_frame/balance/validate'"
   ]
  },
  {
   "cell_type": "code",
   "execution_count": 44,
   "id": "61f433d7",
   "metadata": {},
   "outputs": [],
   "source": [
    "input_size = (3,224,224)"
   ]
  },
  {
   "cell_type": "markdown",
   "id": "56af8f1b",
   "metadata": {},
   "source": [
    "## Load and Prepare Images"
   ]
  },
  {
   "cell_type": "code",
   "execution_count": 89,
   "id": "c6ae9e2e",
   "metadata": {},
   "outputs": [
    {
     "name": "stdout",
     "output_type": "stream",
     "text": [
      "Found 422 images belonging to 2 classes.\n",
      "Found 16 images belonging to 2 classes.\n"
     ]
    }
   ],
   "source": [
    "from keras.preprocessing.image import ImageDataGenerator\n",
    "\n",
    "# # for neaug\n",
    "# # divisible with 259: 7, 37\n",
    "# train_batchsize = 37\n",
    "# # divisible with 51: 3, 17 \n",
    "# valid_batchsize = 17\n",
    "\n",
    "\n",
    "# #for aug\n",
    "# # divisible with 518:  2, 259.\n",
    "# train_batchsize = 2\n",
    "# # divisible with 51: 3, 17 \n",
    "# valid_batchsize = 3\n",
    "\n",
    "\n",
    "# #for balance\n",
    "# # divisible with 494: 2, 7, 14, 31, 62, 217\n",
    "# train_batchsize = 7\n",
    "# # divisible with 18: 2, 3, 6, 9\n",
    "# valid_batchsize = 6\n",
    "\n",
    "\n",
    "# # for neaug non-frame\n",
    "# # divisible with 253: 11, 23 \n",
    "# train_batchsize = 23\n",
    "# # divisible with 50: 2, 5, 10, 25,\n",
    "# valid_batchsize = 5\n",
    "\n",
    "\n",
    "# #for aug non-frame\n",
    "# # divisible with 506: 2, 11, 22, 23, 46, 253,\n",
    "# train_batchsize = 22\n",
    "# # divisible with 50: 2, 5, 10, 25,\n",
    "# valid_batchsize = 5\n",
    "\n",
    "\n",
    "#for balance non-frame\n",
    "# divisible with 422: 2, 211.\n",
    "train_batchsize = 2\n",
    "# divisible with 16: 2, 4, 8,\n",
    "valid_batchsize = 4\n",
    "\n",
    "train_datagen = ImageDataGenerator(  rescale = 1./255.\n",
    ")\n",
    "\n",
    "validation_datagen = ImageDataGenerator(  rescale = 1./255.)\n",
    "                                  \n",
    "\n",
    "train_generator = train_datagen.flow_from_directory(\n",
    "        TRAIN_PATH,  \n",
    "        shuffle=True,\n",
    "         batch_size=train_batchsize,\n",
    "        target_size=input_size[1:],\n",
    "        class_mode='categorical')  \n",
    "\n",
    "validation_generator = validation_datagen.flow_from_directory(\n",
    "        VALID_PATH,  \n",
    "        target_size=input_size[1:],\n",
    "        shuffle=True,\n",
    "         batch_size=valid_batchsize,\n",
    "        class_mode='categorical')\n"
   ]
  },
  {
   "cell_type": "markdown",
   "id": "30fd9ed4",
   "metadata": {},
   "source": [
    "## Import the Model"
   ]
  },
  {
   "cell_type": "markdown",
   "id": "e63b3518",
   "metadata": {},
   "source": [
    "### Pre-trained"
   ]
  },
  {
   "cell_type": "code",
   "execution_count": 90,
   "id": "f5af010f",
   "metadata": {},
   "outputs": [],
   "source": [
    "from tensorflow.keras.applications.resnet50 import ResNet50\n",
    "base_model = ResNet50(include_top=False, weights='imagenet', input_shape=(224,224,3))\n",
    "for layer in base_model.layers:\n",
    "    layer.trainable = False"
   ]
  },
  {
   "cell_type": "markdown",
   "id": "2ac0e0a8",
   "metadata": {},
   "source": [
    "### Adjust the model"
   ]
  },
  {
   "cell_type": "code",
   "execution_count": 91,
   "id": "36a5d382",
   "metadata": {},
   "outputs": [
    {
     "name": "stdout",
     "output_type": "stream",
     "text": [
      "Model: \"sequential_5\"\n",
      "_________________________________________________________________\n",
      " Layer (type)                Output Shape              Param #   \n",
      "=================================================================\n",
      " resnet50 (Functional)       (None, 7, 7, 2048)        23587712  \n",
      "                                                                 \n",
      " global_average_pooling2d_5  (None, 2048)              0         \n",
      "  (GlobalAveragePooling2D)                                       \n",
      "                                                                 \n",
      " dense_25 (Dense)            (None, 512)               1049088   \n",
      "                                                                 \n",
      " activation_20 (Activation)  (None, 512)               0         \n",
      "                                                                 \n",
      " dropout_20 (Dropout)        (None, 512)               0         \n",
      "                                                                 \n",
      " dense_26 (Dense)            (None, 256)               131328    \n",
      "                                                                 \n",
      " activation_21 (Activation)  (None, 256)               0         \n",
      "                                                                 \n",
      " dropout_21 (Dropout)        (None, 256)               0         \n",
      "                                                                 \n",
      " dense_27 (Dense)            (None, 128)               32896     \n",
      "                                                                 \n",
      " activation_22 (Activation)  (None, 128)               0         \n",
      "                                                                 \n",
      " dropout_22 (Dropout)        (None, 128)               0         \n",
      "                                                                 \n",
      " dense_28 (Dense)            (None, 64)                8256      \n",
      "                                                                 \n",
      " activation_23 (Activation)  (None, 64)                0         \n",
      "                                                                 \n",
      " dropout_23 (Dropout)        (None, 64)                0         \n",
      "                                                                 \n",
      " dense_29 (Dense)            (None, 2)                 130       \n",
      "                                                                 \n",
      "=================================================================\n",
      "Total params: 24809410 (94.64 MB)\n",
      "Trainable params: 1221698 (4.66 MB)\n",
      "Non-trainable params: 23587712 (89.98 MB)\n",
      "_________________________________________________________________\n"
     ]
    }
   ],
   "source": [
    "# We need to change the final layer accoding to the number of classes we have\n",
    "model = Sequential()\n",
    "model.add(base_model)\n",
    "\n",
    "model.add(GlobalAveragePooling2D())\n",
    "\n",
    "model.add(Dense(512, kernel_regularizer=regularizers.l2(0.01)))\n",
    "model.add(Activation('relu'))\n",
    "model.add(Dropout(0.5))\n",
    "          \n",
    "model.add(Dense(256, kernel_regularizer=regularizers.l2(0.01)))\n",
    "model.add(Activation('relu'))\n",
    "model.add(Dropout(0.5))\n",
    "          \n",
    "model.add(Dense(128, kernel_regularizer=regularizers.l2(0.01)))\n",
    "model.add(Activation('relu'))\n",
    "model.add(Dropout(0.5))\n",
    "          \n",
    "model.add(Dense(64,kernel_regularizer=regularizers.l2(0.01)))  \n",
    "model.add(Activation('relu'))\n",
    "model.add(Dropout(0.5))\n",
    "          \n",
    "model.add(Dense(2, activation='softmax'))  \n",
    "\n",
    "# Print a summary of the model architecture\n",
    "model.summary()"
   ]
  },
  {
   "cell_type": "code",
   "execution_count": 92,
   "id": "99409042",
   "metadata": {},
   "outputs": [],
   "source": [
    "\n",
    "model.compile(\n",
    "    loss = keras.losses.BinaryFocalCrossentropy(),\n",
    "   optimizer=keras.optimizers.legacy.RMSprop(learning_rate=0.001,decay=1e-3, momentum=0.9),\n",
    "    metrics = ['accuracy']\n",
    ")"
   ]
  },
  {
   "cell_type": "markdown",
   "id": "b2dd6d98",
   "metadata": {},
   "source": [
    "## Train the model"
   ]
  },
  {
   "cell_type": "code",
   "execution_count": 93,
   "id": "f456e9c7",
   "metadata": {},
   "outputs": [],
   "source": [
    "class LearningRateLogger(Callback):\n",
    "    def on_epoch_end(self, epoch, logs=None):\n",
    "        lr = self.model.optimizer.learning_rate\n",
    "        if isinstance(lr, tf.Variable) or tf.is_tensor(lr):\n",
    "            lr = tf.keras.backend.get_value(lr)\n",
    "        print(f\" Epoch {epoch+1}: Learning rate is {lr:.6f}\")"
   ]
  },
  {
   "cell_type": "code",
   "execution_count": 94,
   "id": "1209aec4",
   "metadata": {},
   "outputs": [
    {
     "name": "stdout",
     "output_type": "stream",
     "text": [
      "Epoch 1/50\n",
      "211/211 [==============================] - ETA: 0s - loss: 2.8893 - accuracy: 0.4526 Epoch 1: Learning rate is 0.001000\n",
      "\n",
      "Epoch 1: val_loss improved from inf to 0.19831, saving model to model_resnet_simple.h5\n"
     ]
    },
    {
     "name": "stderr",
     "output_type": "stream",
     "text": [
      "/Users/taras_lara/anaconda3/lib/python3.10/site-packages/keras/src/engine/training.py:3000: UserWarning: You are saving your model as an HDF5 file via `model.save()`. This file format is considered legacy. We recommend using instead the native Keras format, e.g. `model.save('my_model.keras')`.\n",
      "  saving_api.save_model(\n"
     ]
    },
    {
     "name": "stdout",
     "output_type": "stream",
     "text": [
      "211/211 [==============================] - 62s 277ms/step - loss: 2.8893 - accuracy: 0.4526 - val_loss: 0.1983 - val_accuracy: 0.5000 - lr: 0.0010\n",
      "Epoch 2/50\n",
      "211/211 [==============================] - ETA: 0s - loss: 0.1787 - accuracy: 0.4360 Epoch 2: Learning rate is 0.001000\n",
      "\n",
      "Epoch 2: val_loss improved from 0.19831 to 0.17336, saving model to model_resnet_simple.h5\n",
      "211/211 [==============================] - 78s 372ms/step - loss: 0.1787 - accuracy: 0.4360 - val_loss: 0.1734 - val_accuracy: 0.5000 - lr: 0.0010\n",
      "Epoch 3/50\n",
      "211/211 [==============================] - ETA: 0s - loss: 0.1746 - accuracy: 0.4787 Epoch 3: Learning rate is 0.001000\n",
      "\n",
      "Epoch 3: val_loss did not improve from 0.17336\n",
      "211/211 [==============================] - 76s 360ms/step - loss: 0.1746 - accuracy: 0.4787 - val_loss: 0.1734 - val_accuracy: 0.5000 - lr: 0.0010\n",
      "Epoch 4/50\n",
      "211/211 [==============================] - ETA: 0s - loss: 0.1741 - accuracy: 0.4787 Epoch 4: Learning rate is 0.001000\n",
      "\n",
      "Epoch 4: val_loss improved from 0.17336 to 0.17332, saving model to model_resnet_simple.h5\n",
      "211/211 [==============================] - 77s 365ms/step - loss: 0.1741 - accuracy: 0.4787 - val_loss: 0.1733 - val_accuracy: 0.5000 - lr: 0.0010\n",
      "Epoch 5/50\n",
      "211/211 [==============================] - ETA: 0s - loss: 0.1744 - accuracy: 0.4360\n",
      "Epoch 5: ReduceLROnPlateau reducing learning rate to 0.00010000000474974513.\n",
      " Epoch 5: Learning rate is 0.000100\n",
      "\n",
      "Epoch 5: val_loss improved from 0.17332 to 0.17331, saving model to model_resnet_simple.h5\n",
      "211/211 [==============================] - 86s 409ms/step - loss: 0.1744 - accuracy: 0.4360 - val_loss: 0.1733 - val_accuracy: 0.5000 - lr: 0.0010\n",
      "Epoch 6/50\n",
      "211/211 [==============================] - ETA: 0s - loss: 0.1735 - accuracy: 0.5000 Epoch 6: Learning rate is 0.000100\n",
      "\n",
      "Epoch 6: val_loss did not improve from 0.17331\n",
      "211/211 [==============================] - 96s 453ms/step - loss: 0.1735 - accuracy: 0.5000 - val_loss: 0.1735 - val_accuracy: 0.5000 - lr: 1.0000e-04\n",
      "Epoch 7/50\n",
      "211/211 [==============================] - ETA: 0s - loss: 0.1735 - accuracy: 0.5000 Epoch 7: Learning rate is 0.000100\n",
      "\n",
      "Epoch 7: val_loss did not improve from 0.17331\n",
      "211/211 [==============================] - 97s 462ms/step - loss: 0.1735 - accuracy: 0.5000 - val_loss: 0.1734 - val_accuracy: 0.5000 - lr: 1.0000e-04\n",
      "Epoch 8/50\n",
      "211/211 [==============================] - ETA: 0s - loss: 0.1735 - accuracy: 0.5000 Epoch 8: Learning rate is 0.000100\n",
      "\n",
      "Epoch 8: val_loss did not improve from 0.17331\n",
      "211/211 [==============================] - 91s 433ms/step - loss: 0.1735 - accuracy: 0.5000 - val_loss: 0.1733 - val_accuracy: 0.5000 - lr: 1.0000e-04\n",
      "Epoch 9/50\n",
      "211/211 [==============================] - ETA: 0s - loss: 0.1734 - accuracy: 0.5000\n",
      "Epoch 9: ReduceLROnPlateau reducing learning rate to 1.0000000474974514e-05.\n",
      " Epoch 9: Learning rate is 0.000010\n",
      "\n",
      "Epoch 9: val_loss did not improve from 0.17331\n",
      "211/211 [==============================] - 91s 431ms/step - loss: 0.1734 - accuracy: 0.5000 - val_loss: 0.1733 - val_accuracy: 0.5000 - lr: 1.0000e-04\n",
      "Epoch 10/50\n",
      "211/211 [==============================] - ETA: 0s - loss: 0.1733 - accuracy: 0.5000 Epoch 10: Learning rate is 0.000010\n",
      "\n",
      "Epoch 10: val_loss did not improve from 0.17331\n",
      "211/211 [==============================] - 86s 409ms/step - loss: 0.1733 - accuracy: 0.5000 - val_loss: 0.1733 - val_accuracy: 0.5000 - lr: 1.0000e-05\n"
     ]
    }
   ],
   "source": [
    "# Se antreneaza modelul\n",
    "checkpoiter = keras.callbacks.ModelCheckpoint('model_resnet_simple.h5', verbose=1, save_best_only=True)\n",
    "\n",
    "steps = train_generator.samples//train_generator.batch_size\n",
    "reduce_lr = ReduceLROnPlateau(monitor='val_accuracy', factor=0.1, patience=4, min_lr=0.00001, verbose=1)\n",
    "\n",
    "callbacks = [\n",
    "    tf.keras.callbacks.EarlyStopping(patience=5, monitor='val_loss'),\n",
    "    keras.callbacks.TensorBoard(log_dir='logs'),\n",
    "    reduce_lr,\n",
    "    LearningRateLogger(),\n",
    "    checkpoiter\n",
    "\n",
    "]\n",
    "\n",
    "results = model.fit(train_generator, \n",
    "                    validation_data=validation_generator, \n",
    "                    steps_per_epoch = steps,\n",
    "                    shuffle=True,\n",
    "                    epochs=50, \n",
    "                    callbacks=callbacks,\n",
    "                    verbose=1\n",
    "                   )\n"
   ]
  },
  {
   "cell_type": "markdown",
   "id": "86d35b5e",
   "metadata": {},
   "source": [
    "## Results"
   ]
  },
  {
   "cell_type": "code",
   "execution_count": 95,
   "id": "e21f35da",
   "metadata": {},
   "outputs": [
    {
     "name": "stdout",
     "output_type": "stream",
     "text": [
      "Accuracy Score =  0.5\n",
      "Loss Score =  0.17331455647945404\n"
     ]
    }
   ],
   "source": [
    "print('Accuracy Score = ',np.max(results.history['val_accuracy']))\n",
    "print('Loss Score = ',np.min(results.history['val_loss']))"
   ]
  },
  {
   "cell_type": "markdown",
   "id": "50cc2223",
   "metadata": {},
   "source": [
    "### During training"
   ]
  },
  {
   "cell_type": "code",
   "execution_count": 97,
   "id": "36a4a47c",
   "metadata": {},
   "outputs": [
    {
     "data": {
      "image/png": "[encoded data removed]",
      "text/plain": [
       "<Figure size 640x480 with 2 Axes>"
      ]
     },
     "metadata": {},
     "output_type": "display_data"
    }
   ],
   "source": [
    "plt.figure()\n",
    "plt.subplot(211)\n",
    "loss_train_curve = results.history[\"loss\"]\n",
    "loss_val_curve = results.history[\"val_loss\"]\n",
    "plt.plot(loss_train_curve, label = \"Loss\")\n",
    "plt.plot(loss_val_curve, label = \"Val_Loss\")\n",
    "plt.legend(loc = 'upper right')\n",
    "plt.ylabel(\"Loss\")\n",
    "\n",
    "\n",
    "plt.subplot(212)\n",
    "acc_train_curve = results.history[\"accuracy\"]\n",
    "acc_val_curve = results.history[\"val_accuracy\"]\n",
    "plt.plot(acc_train_curve, label = \"Accuracy\")\n",
    "plt.plot(acc_val_curve, label = \"Val_Accuracy\")\n",
    "plt.legend(loc = 'upper right')\n",
    "plt.ylabel(\"Accuracy\")\n",
    "plt.xlabel(\"Epoch\")\n",
    "plt.show()"
   ]
  },
  {
   "cell_type": "markdown",
   "id": "984f0d17",
   "metadata": {},
   "source": [
    "### Test the model"
   ]
  },
  {
   "cell_type": "code",
   "execution_count": 98,
   "id": "5a959b7d",
   "metadata": {},
   "outputs": [
    {
     "name": "stdout",
     "output_type": "stream",
     "text": [
      "Found 36 images belonging to 2 classes.\n",
      "12/12 [==============================] - 7s 602ms/step - loss: 0.1704 - accuracy: 0.8056\n"
     ]
    }
   ],
   "source": [
    "\n",
    "# divisible with 36: 2, 3, 4, 6, 9, 12, 18\n",
    "test_batch_size = 3\n",
    "\n",
    "\n",
    "test_datagen = ImageDataGenerator(rescale=1./255)\n",
    "\n",
    "test_generator = test_datagen.flow_from_directory(\n",
    "    TEST_PATH,\n",
    "    target_size=input_size[1:],\n",
    "    batch_size=test_batch_size,\n",
    "    shuffle=False,\n",
    "class_mode='categorical')\n",
    "\n",
    "scores = model.evaluate(test_generator,workers=12)\n",
    "target_names = list(test_generator.class_indices.keys())"
   ]
  },
  {
   "cell_type": "markdown",
   "id": "b8b9475d",
   "metadata": {},
   "source": [
    "### Make predictions"
   ]
  },
  {
   "cell_type": "code",
   "execution_count": 99,
   "id": "e6ba66c3",
   "metadata": {},
   "outputs": [
    {
     "name": "stdout",
     "output_type": "stream",
     "text": [
      "12/12 [==============================] - 9s 570ms/step\n",
      "[0 0 0 0 0 0 0 1 1 1 1 1 1 1 1 1 1 1 1 1 1 1 1 1 1 1 1 1 1 1 1 1 1 1 1 1]\n",
      "[1 1 1 1 1 1 1 1 1 1 1 1 1 1 1 1 1 1 1 1 1 1 1 1 1 1 1 1 1 1 1 1 1 1 1 1]\n",
      "0.8055555555555556\n"
     ]
    }
   ],
   "source": [
    "test_generator.reset()\n",
    "\n",
    "Y_pred = model.predict(test_generator, verbose=1)\n",
    "\n",
    "y_pred = np.argmax(Y_pred, axis=-1)\n",
    "classes = test_generator.classes\n",
    "\n",
    "print(classes)\n",
    "print(y_pred)\n",
    "\n",
    "print(sum(y_pred==classes)/len(test_generator.classes))"
   ]
  },
  {
   "cell_type": "markdown",
   "id": "4b7e75ff",
   "metadata": {},
   "source": [
    "### Confusion Matrix"
   ]
  },
  {
   "cell_type": "code",
   "execution_count": 100,
   "id": "383c7bd5",
   "metadata": {},
   "outputs": [
    {
     "data": {
      "image/png": "[encoded data removed]",
      "text/plain": [
       "<Figure size 640x480 with 2 Axes>"
      ]
     },
     "metadata": {},
     "output_type": "display_data"
    }
   ],
   "source": [
    "\n",
    "cm = confusion_matrix(classes, y_pred)\n",
    "\n",
    "disp = ConfusionMatrixDisplay(confusion_matrix=cm, display_labels=target_names)\n",
    "\n",
    "disp.plot()\n",
    "plt.grid(False)\n",
    "plt.show()"
   ]
  },
  {
   "cell_type": "markdown",
   "id": "b36b79c4",
   "metadata": {},
   "source": [
    "### Metrics"
   ]
  },
  {
   "cell_type": "code",
   "execution_count": 101,
   "id": "9b9bb647",
   "metadata": {},
   "outputs": [],
   "source": [
    "TN, FP, FN, TP = cm.ravel()\n"
   ]
  },
  {
   "cell_type": "code",
   "execution_count": 102,
   "id": "55839252",
   "metadata": {},
   "outputs": [
    {
     "name": "stdout",
     "output_type": "stream",
     "text": [
      "True positive= 29\n",
      "True Negative= 0\n",
      "False positive= 7\n",
      "False Negative= 0\n"
     ]
    }
   ],
   "source": [
    "print(\"True positive=\",TP)\n",
    "print(\"True Negative=\",TN)\n",
    "print(\"False positive=\",FP)\n",
    "print(\"False Negative=\",FN)"
   ]
  },
  {
   "cell_type": "code",
   "execution_count": 104,
   "id": "4c2878f4",
   "metadata": {},
   "outputs": [
    {
     "name": "stderr",
     "output_type": "stream",
     "text": [
      "/var/folders/ml/1pq8pf157qjcrdxwm5xjgzfm0000gn/T/ipykernel_2586/1327457140.py:8: RuntimeWarning: invalid value encountered in long_scalars\n",
      "  NPV = TN/(TN+FN)\n"
     ]
    }
   ],
   "source": [
    "# Sensitivity, hit rate, recall, or true positive rate\n",
    "TPR = TP/(TP+FN)\n",
    "# Specificity or true negative rate\n",
    "TNR = TN/(TN+FP) \n",
    "# Precision or positive predictive value\n",
    "PPV = TP/(TP+FP)\n",
    "# Negative predictive value\n",
    "NPV = TN/(TN+FN)\n",
    "# Fall out or false positive rate\n",
    "FPR = FP/(FP+TN)\n",
    "# False negative rate\n",
    "FNR = FN/(TP+FN)\n",
    "# False discovery rate\n",
    "FDR = FP/(TP+FP)\n",
    "#F1_SCORE\n",
    "FSCO=(2*TP) / ((2*TP) +FP + FN) \n",
    "# Overall accuracy\n",
    "ACC = (TP+TN)/(TP+FP+FN+TN)"
   ]
  },
  {
   "cell_type": "code",
   "execution_count": 105,
   "id": "a051f2bb",
   "metadata": {},
   "outputs": [
    {
     "name": "stdout",
     "output_type": "stream",
     "text": [
      "sensitivity= 100.0 %\n",
      "precision= 80.556 %\n",
      "Specificity= 0.0 %\n",
      "F-score= 89.231 %\n",
      "ACCURACY= 80.556 %\n",
      "FNR= 0.0 %\n",
      "FPR= 100.0 %\n",
      "NPV= nan %\n"
     ]
    }
   ],
   "source": [
    "print(\"sensitivity=\",round(TPR*100,3),\"%\")\n",
    "print(\"precision=\",round(PPV*100,3),\"%\")\n",
    "print(\"Specificity=\",round(TNR*100,3),\"%\")\n",
    "print(\"F-score=\", round(FSCO*100,3),\"%\")\n",
    "print(\"ACCURACY=\",round(ACC*100,3),\"%\")\n",
    "print(\"FNR=\",FNR*100,\"%\")\n",
    "print(\"FPR=\",FPR*100,\"%\")\n",
    "print(\"NPV=\",NPV*100,\"%\")"
   ]
  }
 ],
 "metadata": {
  "kernelspec": {
   "display_name": "Python 3 (ipykernel)",
   "language": "python",
   "name": "python3"
  },
  "language_info": {
   "codemirror_mode": {
    "name": "ipython",
    "version": 3
   },
   "file_extension": ".py",
   "mimetype": "text/x-python",
   "name": "python",
   "nbconvert_exporter": "python",
   "pygments_lexer": "ipython3",
   "version": "3.10.9"
  }
 },
 "nbformat": 4,
 "nbformat_minor": 5
}
