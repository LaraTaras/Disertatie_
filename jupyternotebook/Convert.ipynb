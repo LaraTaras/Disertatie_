{
 "cells": [
  {
   "cell_type": "code",
   "execution_count": 5,
   "id": "c2f8bde3",
   "metadata": {},
   "outputs": [],
   "source": [
    "from PIL import Image\n",
    "import pandas as pd\n",
    "import xml.etree.ElementTree as ET  # For parsing the XML files\n",
    "from xml.dom import minidom  # For prettifying the XML files\n",
    "import os\n",
    "from PIL import Image, ImageDraw\n",
    "import tensorflow as tf\n",
    "import os\n",
    "import random\n",
    "import numpy as np\n",
    "import cv2\n",
    "from PIL import Image\n",
    "import numpy as np\n",
    "from tqdm import tqdm\n",
    "\n",
    "from skimage.io import imread\n",
    "from skimage.io import imshow\n",
    "from skimage.transform import resize\n",
    "import matplotlib.pyplot as plt\n",
    "\n"
   ]
  },
  {
   "cell_type": "code",
   "execution_count": 10,
   "id": "367f5b9d",
   "metadata": {},
   "outputs": [
    {
     "name": "stderr",
     "output_type": "stream",
     "text": [
      "100%|███████████████████████████████████████████| 108/108 [00:00<00:00, 3374.06it/s]\n"
     ]
    }
   ],
   "source": [
    "\n",
    "# img_pil = Image.open('path/to/your/image')\n",
    "# print('Pillow: ', img_pil.mode, img_pil.size)\n",
    "#\n",
    "# img = cv2.imread('path/to/your/image', cv2.IMREAD_UNCHANGED)\n",
    "# print('OpenCV: ', img.shape)\n",
    "\n",
    "TRAIN_PATH = 'archive/segmentation/train/'\n",
    "TEST_PATH = 'archive/segmentation/test/'\n",
    "\n",
    "train_ids = next(os.walk(TRAIN_PATH))[1]\n",
    "test_ids = next(os.walk(TEST_PATH))[1]\n",
    "\n",
    "for n, id_ in tqdm(enumerate(test_ids), total=len(test_ids)):\n",
    "    path = TEST_PATH + id_\n",
    "    img = Image.open(path + '/masks/' + id_ + '.jpg')\n",
    "# Save the png image format\n",
    "#     img.save(path + '/masks/' + id_ + '.png')\n",
    "# Delete the jpg image format\n",
    "    os.remove(path + '/masks/' + id_ + '.jpg')\n",
    "\n",
    "#Check if all the folders have images.\n",
    "#     img = cv2.imread(path + '/masks/' + id_ + '.png', cv2.IMREAD_UNCHANGED)\n",
    "#     if img is not None:\n",
    "#         print('OpenCV: ', img.shape)\n",
    "#         print(id_)\n",
    "#     else:\n",
    "#         print('variable is None')\n",
    "#         print(id_)\n",
    "\n"
   ]
  }
 ],
 "metadata": {
  "kernelspec": {
   "display_name": "Python 3 (ipykernel)",
   "language": "python",
   "name": "python3"
  },
  "language_info": {
   "codemirror_mode": {
    "name": "ipython",
    "version": 3
   },
   "file_extension": ".py",
   "mimetype": "text/x-python",
   "name": "python",
   "nbconvert_exporter": "python",
   "pygments_lexer": "ipython3",
   "version": "3.10.9"
  }
 },
 "nbformat": 4,
 "nbformat_minor": 5
}
