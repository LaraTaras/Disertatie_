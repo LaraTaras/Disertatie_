{
 "cells": [
  {
   "cell_type": "markdown",
   "id": "ce83d299",
   "metadata": {},
   "source": [
    "# ResNet50 model"
   ]
  },
  {
   "cell_type": "markdown",
   "id": "dcd24e26",
   "metadata": {},
   "source": [
    "### ResNet50 with TI-RADS"
   ]
  },
  {
   "cell_type": "markdown",
   "id": "8060dfc0",
   "metadata": {},
   "source": [
    "## Get packages"
   ]
  },
  {
   "cell_type": "code",
   "execution_count": 8,
   "id": "3232337c",
   "metadata": {},
   "outputs": [],
   "source": [
    "import tensorflow as tf\n",
    "import os\n",
    "import random\n",
    "import numpy as np\n",
    "from tqdm import tqdm\n",
    "import albumentations as A\n",
    "import cv2\n",
    "\n",
    "from skimage.io import imread\n",
    "from skimage.io import imshow\n",
    "from skimage.util import crop\n",
    "from skimage.transform import resize\n",
    "import matplotlib.pyplot as plt\n",
    "\n",
    "\n",
    "from tensorflow import keras\n",
    "from tensorflow.keras.utils import to_categorical\n",
    "\n",
    "import numpy as np\n",
    "import pandas as pd\n",
    "import matplotlib.pyplot as plt\n",
    "import keras\n",
    "from keras.layers import *\n",
    "from keras import models\n",
    "from keras.preprocessing import image\n",
    "from keras.preprocessing.image import ImageDataGenerator\n",
    "from tensorflow.keras.callbacks import ReduceLROnPlateau, Callback\n",
    "\n",
    "from sklearn.metrics import classification_report\n",
    "from sklearn.metrics import confusion_matrix\n",
    "from sklearn.metrics import ConfusionMatrixDisplay\n",
    "from sklearn.metrics import confusion_matrix, ConfusionMatrixDisplay\n",
    "from tensorflow.keras import r \n",
    "egularizers\n",
    "\n",
    "# model / neural network\n",
    "from tensorflow.keras import layers\n",
    "from tensorflow.keras.models import Sequential, Model\n",
    "from tensorflow.keras.applications import ResNet50\n",
    "from tensorflow.keras.applications.resnet50 import preprocess_input\n",
    "     "
   ]
  },
  {
   "cell_type": "markdown",
   "id": "924a30ff",
   "metadata": {},
   "source": [
    "## Paths"
   ]
  },
  {
   "cell_type": "code",
   "execution_count": 103,
   "id": "a783075b",
   "metadata": {},
   "outputs": [],
   "source": [
    "TRAIN_PATH = 'archive/classification/tirads/no_frame/balance/train'\n",
    "TEST_PATH = 'archive/classification/tirads/no_frame/balance/test'\n",
    "VALID_PATH = 'archive/classification/tirads/no_frame/balance/validate'"
   ]
  },
  {
   "cell_type": "code",
   "execution_count": 104,
   "id": "955f1a4f",
   "metadata": {},
   "outputs": [],
   "source": [
    "input_size = (3,224,224)"
   ]
  },
  {
   "cell_type": "markdown",
   "id": "75c17e21",
   "metadata": {},
   "source": [
    "## Load and Prepare Images"
   ]
  },
  {
   "cell_type": "code",
   "execution_count": 105,
   "id": "c23158d6",
   "metadata": {},
   "outputs": [
    {
     "name": "stdout",
     "output_type": "stream",
     "text": [
      "Found 426 images belonging to 6 classes.\n",
      "Found 18 images belonging to 6 classes.\n"
     ]
    }
   ],
   "source": [
    "\n",
    "# # for neaug frame\n",
    "# # divisible with 258: 2, 3, 6, 43, 86, 129 \n",
    "# train_batchsize = 6\n",
    "# # divisible with 52: 2, 4, 13 \n",
    "# valid_batchsize = 4\n",
    "\n",
    "\n",
    "# #for aug frame\n",
    "# # divisible with 518: 2, 259.\n",
    "# train_batchsize = 2\n",
    "# # divisible with 52: 2, 4, 13 \n",
    "# valid_batchsize = 4\n",
    "\n",
    "\n",
    "# #for balance frame\n",
    "# # divisible with 426: 2, 3, 6, 71, 142, 213\n",
    "# train_batchsize = 6\n",
    "#  # divisible with 52: 2, 4, 13 \n",
    "# valid_batchsize = 4\n",
    "\n",
    "\n",
    "# # for neaug no frame\n",
    "# # divisible with 258: 2, 3, 6, 43, 86, 129 \n",
    "# train_batchsize = 6\n",
    "# # divisible with 52: 2, 4, 13 \n",
    "# valid_batchsize = 4\n",
    "\n",
    "\n",
    "# #for aug no frame\n",
    "# # divisible with 518: 2, 259\n",
    "# train_batchsize = 2\n",
    "# # divisible with 52: 2, 4, 13 \n",
    "# valid_batchsize = 4\n",
    "\n",
    "\n",
    "#for balance no frane\n",
    "# divisible with 426: 2, 3, 6, 71, 142, 213\n",
    "train_batchsize = 6\n",
    "# divisible with 18: 2, 3, 6, 9\n",
    "valid_batchsize = 3\n",
    "\n",
    "\n",
    "train_datagen = ImageDataGenerator(rescale=1./255\n",
    ")\n",
    "\n",
    "validation_datagen = ImageDataGenerator(rescale=1./255)\n",
    "                                  \n",
    "\n",
    "train_generator = train_datagen.flow_from_directory(\n",
    "        TRAIN_PATH,  \n",
    "        shuffle=True,\n",
    "         batch_size=train_batchsize,\n",
    "        target_size=input_size[1:],\n",
    "        class_mode='categorical')  \n",
    "\n",
    "validation_generator = validation_datagen.flow_from_directory(\n",
    "        VALID_PATH,  \n",
    "        target_size=input_size[1:],\n",
    "        shuffle=True,\n",
    "         batch_size=valid_batchsize,\n",
    "        class_mode='categorical')"
   ]
  },
  {
   "cell_type": "markdown",
   "id": "81e2dce9",
   "metadata": {},
   "source": [
    "## Import the Model"
   ]
  },
  {
   "cell_type": "code",
   "execution_count": 106,
   "id": "e4df2d48",
   "metadata": {},
   "outputs": [],
   "source": [
    "resnet_50 = ResNet50(include_top=False, weights='imagenet', input_shape=(224,224,3))\n",
    "for layer in resnet_50.layers:\n",
    "    layer.trainable = False"
   ]
  },
  {
   "cell_type": "markdown",
   "id": "fa627ab0",
   "metadata": {},
   "source": [
    "### Adjust the model"
   ]
  },
  {
   "cell_type": "code",
   "execution_count": 107,
   "id": "c55ce7d5",
   "metadata": {},
   "outputs": [
    {
     "name": "stdout",
     "output_type": "stream",
     "text": [
      "Model: \"sequential_8\"\n",
      "_________________________________________________________________\n",
      " Layer (type)                Output Shape              Param #   \n",
      "=================================================================\n",
      " resnet50 (Functional)       (None, 7, 7, 2048)        23587712  \n",
      "                                                                 \n",
      " global_average_pooling2d_7  (None, 2048)              0         \n",
      "  (GlobalAveragePooling2D)                                       \n",
      "                                                                 \n",
      " dense_30 (Dense)            (None, 512)               1049088   \n",
      "                                                                 \n",
      " activation_24 (Activation)  (None, 512)               0         \n",
      "                                                                 \n",
      " dropout_24 (Dropout)        (None, 512)               0         \n",
      "                                                                 \n",
      " dense_31 (Dense)            (None, 256)               131328    \n",
      "                                                                 \n",
      " activation_25 (Activation)  (None, 256)               0         \n",
      "                                                                 \n",
      " dropout_25 (Dropout)        (None, 256)               0         \n",
      "                                                                 \n",
      " dense_32 (Dense)            (None, 128)               32896     \n",
      "                                                                 \n",
      " activation_26 (Activation)  (None, 128)               0         \n",
      "                                                                 \n",
      " dropout_26 (Dropout)        (None, 128)               0         \n",
      "                                                                 \n",
      " dense_33 (Dense)            (None, 64)                8256      \n",
      "                                                                 \n",
      " activation_27 (Activation)  (None, 64)                0         \n",
      "                                                                 \n",
      " dropout_27 (Dropout)        (None, 64)                0         \n",
      "                                                                 \n",
      " dense_34 (Dense)            (None, 6)                 390       \n",
      "                                                                 \n",
      "=================================================================\n",
      "Total params: 24809670 (94.64 MB)\n",
      "Trainable params: 1221958 (4.66 MB)\n",
      "Non-trainable params: 23587712 (89.98 MB)\n",
      "_________________________________________________________________\n"
     ]
    }
   ],
   "source": [
    "# We need to change the final layer accoding to the number of classes we have\n",
    "model = Sequential()\n",
    "model.add(resnet_50)\n",
    "\n",
    "model.add(GlobalAveragePooling2D())\n",
    "\n",
    "model.add(Dense(512, kernel_regularizer=regularizers.l2(0.01)))\n",
    "model.add(Activation('relu'))\n",
    "model.add(Dropout(0.5))\n",
    "          \n",
    "model.add(Dense(256, kernel_regularizer=regularizers.l2(0.01)))\n",
    "model.add(Activation('relu'))\n",
    "model.add(Dropout(0.5))\n",
    "          \n",
    "model.add(Dense(128, kernel_regularizer=regularizers.l2(0.01)))\n",
    "model.add(Activation('relu'))\n",
    "model.add(Dropout(0.5))\n",
    "          \n",
    "model.add(Dense(64,kernel_regularizer=regularizers.l2(0.01)))  \n",
    "model.add(Activation('relu'))\n",
    "model.add(Dropout(0.5))\n",
    "          \n",
    "model.add(Dense(6, activation='softmax')) \n",
    "model.summary()"
   ]
  },
  {
   "cell_type": "code",
   "execution_count": 108,
   "id": "b0393f9c",
   "metadata": {},
   "outputs": [],
   "source": [
    "#Compile the model\n",
    "model.compile(\n",
    "    loss=keras.losses.BinaryCrossentropy(),\n",
    "#     loss=keras.losses.CategoricalCrossentropy(), \n",
    "    optimizer=keras.optimizers.legacy.Adamax(learning_rate=0.001), \n",
    "    metrics=['accuracy']\n",
    ")"
   ]
  },
  {
   "cell_type": "markdown",
   "id": "b16489b5",
   "metadata": {},
   "source": [
    "## Train the model"
   ]
  },
  {
   "cell_type": "code",
   "execution_count": 109,
   "id": "e95e8ab5",
   "metadata": {},
   "outputs": [],
   "source": [
    "class LearningRateLogger(Callback):\n",
    "    def on_epoch_end(self, epoch, logs=None):\n",
    "        lr = self.model.optimizer.learning_rate\n",
    "        if isinstance(lr, tf.Variable) or tf.is_tensor(lr):\n",
    "            lr = tf.keras.backend.get_value(lr)\n",
    "        print(f\" Epoch {epoch+1}: Learning rate is {lr:.6f}\")"
   ]
  },
  {
   "cell_type": "code",
   "execution_count": 110,
   "id": "b70c9294",
   "metadata": {},
   "outputs": [
    {
     "name": "stdout",
     "output_type": "stream",
     "text": [
      "Epoch 1/50\n",
      "71/71 [==============================] - ETA: 0s - loss: 6.9660 - accuracy: 0.1291 Epoch 1: Learning rate is 0.001000\n",
      "\n",
      "Epoch 1: val_loss improved from inf to 4.20509, saving model to model_resnet1_tirads_aug.h5\n"
     ]
    },
    {
     "name": "stderr",
     "output_type": "stream",
     "text": [
      "/Users/taras_lara/anaconda3/lib/python3.10/site-packages/keras/src/engine/training.py:3000: UserWarning: You are saving your model as an HDF5 file via `model.save()`. This file format is considered legacy. We recommend using instead the native Keras format, e.g. `model.save('my_model.keras')`.\n",
      "  saving_api.save_model(\n"
     ]
    },
    {
     "name": "stdout",
     "output_type": "stream",
     "text": [
      "71/71 [==============================] - 63s 800ms/step - loss: 6.9660 - accuracy: 0.1291 - val_loss: 4.2051 - val_accuracy: 0.1667 - lr: 0.0010\n",
      "Epoch 2/50\n",
      "71/71 [==============================] - ETA: 0s - loss: 3.7577 - accuracy: 0.1761 Epoch 2: Learning rate is 0.001000\n",
      "\n",
      "Epoch 2: val_loss improved from 4.20509 to 3.42107, saving model to model_resnet1_tirads_aug.h5\n",
      "71/71 [==============================] - 54s 765ms/step - loss: 3.7577 - accuracy: 0.1761 - val_loss: 3.4211 - val_accuracy: 0.1667 - lr: 0.0010\n",
      "Epoch 3/50\n",
      "71/71 [==============================] - ETA: 0s - loss: 3.2474 - accuracy: 0.1737 Epoch 3: Learning rate is 0.001000\n",
      "\n",
      "Epoch 3: val_loss improved from 3.42107 to 3.03674, saving model to model_resnet1_tirads_aug.h5\n",
      "71/71 [==============================] - 53s 745ms/step - loss: 3.2474 - accuracy: 0.1737 - val_loss: 3.0367 - val_accuracy: 0.1667 - lr: 0.0010\n",
      "Epoch 4/50\n",
      "71/71 [==============================] - ETA: 0s - loss: 2.9108 - accuracy: 0.1479 Epoch 4: Learning rate is 0.001000\n",
      "\n",
      "Epoch 4: val_loss improved from 3.03674 to 2.75134, saving model to model_resnet1_tirads_aug.h5\n",
      "71/71 [==============================] - 52s 730ms/step - loss: 2.9108 - accuracy: 0.1479 - val_loss: 2.7513 - val_accuracy: 0.1667 - lr: 0.0010\n",
      "Epoch 5/50\n",
      "71/71 [==============================] - ETA: 0s - loss: 2.6393 - accuracy: 0.1573\n",
      "Epoch 5: ReduceLROnPlateau reducing learning rate to 0.00010000000474974513.\n",
      " Epoch 5: Learning rate is 0.000100\n",
      "\n",
      "Epoch 5: val_loss improved from 2.75134 to 2.48814, saving model to model_resnet1_tirads_aug.h5\n",
      "71/71 [==============================] - 51s 721ms/step - loss: 2.6393 - accuracy: 0.1573 - val_loss: 2.4881 - val_accuracy: 0.1667 - lr: 0.0010\n",
      "Epoch 6/50\n",
      "71/71 [==============================] - ETA: 0s - loss: 2.4973 - accuracy: 0.1620 Epoch 6: Learning rate is 0.000100\n",
      "\n",
      "Epoch 6: val_loss improved from 2.48814 to 2.46780, saving model to model_resnet1_tirads_aug.h5\n",
      "71/71 [==============================] - 52s 732ms/step - loss: 2.4973 - accuracy: 0.1620 - val_loss: 2.4678 - val_accuracy: 0.1667 - lr: 1.0000e-04\n",
      "Epoch 7/50\n",
      "71/71 [==============================] - ETA: 0s - loss: 2.4706 - accuracy: 0.1784 Epoch 7: Learning rate is 0.000100\n",
      "\n",
      "Epoch 7: val_loss improved from 2.46780 to 2.44603, saving model to model_resnet1_tirads_aug.h5\n",
      "71/71 [==============================] - 51s 716ms/step - loss: 2.4706 - accuracy: 0.1784 - val_loss: 2.4460 - val_accuracy: 0.1667 - lr: 1.0000e-04\n",
      "Epoch 8/50\n",
      "71/71 [==============================] - ETA: 0s - loss: 2.4412 - accuracy: 0.1690 Epoch 8: Learning rate is 0.000100\n",
      "\n",
      "Epoch 8: val_loss improved from 2.44603 to 2.42051, saving model to model_resnet1_tirads_aug.h5\n",
      "71/71 [==============================] - 52s 733ms/step - loss: 2.4412 - accuracy: 0.1690 - val_loss: 2.4205 - val_accuracy: 0.2778 - lr: 1.0000e-04\n",
      "Epoch 9/50\n",
      "71/71 [==============================] - ETA: 0s - loss: 2.4198 - accuracy: 0.1573 Epoch 9: Learning rate is 0.000100\n",
      "\n",
      "Epoch 9: val_loss improved from 2.42051 to 2.39277, saving model to model_resnet1_tirads_aug.h5\n",
      "71/71 [==============================] - 52s 733ms/step - loss: 2.4198 - accuracy: 0.1573 - val_loss: 2.3928 - val_accuracy: 0.1667 - lr: 1.0000e-04\n",
      "Epoch 10/50\n",
      "71/71 [==============================] - ETA: 0s - loss: 2.3886 - accuracy: 0.1643 Epoch 10: Learning rate is 0.000100\n",
      "\n",
      "Epoch 10: val_loss improved from 2.39277 to 2.36324, saving model to model_resnet1_tirads_aug.h5\n",
      "71/71 [==============================] - 52s 731ms/step - loss: 2.3886 - accuracy: 0.1643 - val_loss: 2.3632 - val_accuracy: 0.1667 - lr: 1.0000e-04\n",
      "Epoch 11/50\n",
      "71/71 [==============================] - ETA: 0s - loss: 2.3721 - accuracy: 0.1432 Epoch 11: Learning rate is 0.000100\n",
      "\n",
      "Epoch 11: val_loss improved from 2.36324 to 2.33602, saving model to model_resnet1_tirads_aug.h5\n",
      "71/71 [==============================] - 52s 736ms/step - loss: 2.3721 - accuracy: 0.1432 - val_loss: 2.3360 - val_accuracy: 0.1667 - lr: 1.0000e-04\n",
      "Epoch 12/50\n",
      "71/71 [==============================] - ETA: 0s - loss: 2.3303 - accuracy: 0.1972\n",
      "Epoch 12: ReduceLROnPlateau reducing learning rate to 1.0000000474974514e-05.\n",
      " Epoch 12: Learning rate is 0.000010\n",
      "\n",
      "Epoch 12: val_loss improved from 2.33602 to 2.30567, saving model to model_resnet1_tirads_aug.h5\n",
      "71/71 [==============================] - 51s 724ms/step - loss: 2.3303 - accuracy: 0.1972 - val_loss: 2.3057 - val_accuracy: 0.1667 - lr: 1.0000e-04\n",
      "Epoch 13/50\n",
      "71/71 [==============================] - ETA: 0s - loss: 2.3178 - accuracy: 0.1643 Epoch 13: Learning rate is 0.000010\n",
      "\n",
      "Epoch 13: val_loss improved from 2.30567 to 2.30234, saving model to model_resnet1_tirads_aug.h5\n",
      "71/71 [==============================] - 52s 726ms/step - loss: 2.3178 - accuracy: 0.1643 - val_loss: 2.3023 - val_accuracy: 0.1667 - lr: 1.0000e-05\n",
      "Epoch 14/50\n",
      "71/71 [==============================] - ETA: 0s - loss: 2.3069 - accuracy: 0.1854 Epoch 14: Learning rate is 0.000010\n",
      "\n",
      "Epoch 14: val_loss improved from 2.30234 to 2.29864, saving model to model_resnet1_tirads_aug.h5\n",
      "71/71 [==============================] - 52s 728ms/step - loss: 2.3069 - accuracy: 0.1854 - val_loss: 2.2986 - val_accuracy: 0.1667 - lr: 1.0000e-05\n",
      "Epoch 15/50\n",
      "71/71 [==============================] - ETA: 0s - loss: 2.3178 - accuracy: 0.1643 Epoch 15: Learning rate is 0.000010\n",
      "\n",
      "Epoch 15: val_loss improved from 2.29864 to 2.29512, saving model to model_resnet1_tirads_aug.h5\n",
      "71/71 [==============================] - 51s 722ms/step - loss: 2.3178 - accuracy: 0.1643 - val_loss: 2.2951 - val_accuracy: 0.1667 - lr: 1.0000e-05\n",
      "Epoch 16/50\n",
      "71/71 [==============================] - ETA: 0s - loss: 2.3094 - accuracy: 0.1690\n",
      "Epoch 16: ReduceLROnPlateau reducing learning rate to 1e-05.\n",
      " Epoch 16: Learning rate is 0.000010\n",
      "\n",
      "Epoch 16: val_loss improved from 2.29512 to 2.29133, saving model to model_resnet1_tirads_aug.h5\n",
      "71/71 [==============================] - 52s 736ms/step - loss: 2.3094 - accuracy: 0.1690 - val_loss: 2.2913 - val_accuracy: 0.1667 - lr: 1.0000e-05\n",
      "Epoch 17/50\n",
      "71/71 [==============================] - ETA: 0s - loss: 2.2984 - accuracy: 0.1737 Epoch 17: Learning rate is 0.000010\n",
      "\n",
      "Epoch 17: val_loss improved from 2.29133 to 2.28756, saving model to model_resnet1_tirads_aug.h5\n",
      "71/71 [==============================] - 52s 735ms/step - loss: 2.2984 - accuracy: 0.1737 - val_loss: 2.2876 - val_accuracy: 0.1667 - lr: 1.0000e-05\n",
      "Epoch 18/50\n",
      "71/71 [==============================] - ETA: 0s - loss: 2.2948 - accuracy: 0.1761 Epoch 18: Learning rate is 0.000010\n",
      "\n",
      "Epoch 18: val_loss improved from 2.28756 to 2.28330, saving model to model_resnet1_tirads_aug.h5\n",
      "71/71 [==============================] - 51s 722ms/step - loss: 2.2948 - accuracy: 0.1761 - val_loss: 2.2833 - val_accuracy: 0.1667 - lr: 1.0000e-05\n",
      "Epoch 19/50\n",
      "71/71 [==============================] - ETA: 0s - loss: 2.2938 - accuracy: 0.2019 Epoch 19: Learning rate is 0.000010\n",
      "\n",
      "Epoch 19: val_loss improved from 2.28330 to 2.27902, saving model to model_resnet1_tirads_aug.h5\n",
      "71/71 [==============================] - 52s 735ms/step - loss: 2.2938 - accuracy: 0.2019 - val_loss: 2.2790 - val_accuracy: 0.1667 - lr: 1.0000e-05\n",
      "Epoch 20/50\n",
      "71/71 [==============================] - ETA: 0s - loss: 2.2915 - accuracy: 0.1714 Epoch 20: Learning rate is 0.000010\n",
      "\n",
      "Epoch 20: val_loss improved from 2.27902 to 2.27445, saving model to model_resnet1_tirads_aug.h5\n",
      "71/71 [==============================] - 52s 740ms/step - loss: 2.2915 - accuracy: 0.1714 - val_loss: 2.2745 - val_accuracy: 0.1667 - lr: 1.0000e-05\n",
      "Epoch 21/50\n",
      "71/71 [==============================] - ETA: 0s - loss: 2.2909 - accuracy: 0.1620 Epoch 21: Learning rate is 0.000010\n",
      "\n",
      "Epoch 21: val_loss improved from 2.27445 to 2.27029, saving model to model_resnet1_tirads_aug.h5\n",
      "71/71 [==============================] - 34s 469ms/step - loss: 2.2909 - accuracy: 0.1620 - val_loss: 2.2703 - val_accuracy: 0.1667 - lr: 1.0000e-05\n",
      "Epoch 22/50\n",
      "71/71 [==============================] - ETA: 0s - loss: 2.2825 - accuracy: 0.1479 Epoch 22: Learning rate is 0.000010\n",
      "\n",
      "Epoch 22: val_loss improved from 2.27029 to 2.26568, saving model to model_resnet1_tirads_aug.h5\n",
      "71/71 [==============================] - 28s 397ms/step - loss: 2.2825 - accuracy: 0.1479 - val_loss: 2.2657 - val_accuracy: 0.1667 - lr: 1.0000e-05\n"
     ]
    },
    {
     "name": "stdout",
     "output_type": "stream",
     "text": [
      "Epoch 23/50\n",
      "71/71 [==============================] - ETA: 0s - loss: 2.2716 - accuracy: 0.1995 Epoch 23: Learning rate is 0.000010\n",
      "\n",
      "Epoch 23: val_loss improved from 2.26568 to 2.26058, saving model to model_resnet1_tirads_aug.h5\n",
      "71/71 [==============================] - 27s 383ms/step - loss: 2.2716 - accuracy: 0.1995 - val_loss: 2.2606 - val_accuracy: 0.1667 - lr: 1.0000e-05\n",
      "Epoch 24/50\n",
      "71/71 [==============================] - ETA: 0s - loss: 2.2675 - accuracy: 0.1925 Epoch 24: Learning rate is 0.000010\n",
      "\n",
      "Epoch 24: val_loss improved from 2.26058 to 2.25579, saving model to model_resnet1_tirads_aug.h5\n",
      "71/71 [==============================] - 27s 383ms/step - loss: 2.2675 - accuracy: 0.1925 - val_loss: 2.2558 - val_accuracy: 0.1667 - lr: 1.0000e-05\n",
      "Epoch 25/50\n",
      "71/71 [==============================] - ETA: 0s - loss: 2.2686 - accuracy: 0.1667 Epoch 25: Learning rate is 0.000010\n",
      "\n",
      "Epoch 25: val_loss improved from 2.25579 to 2.25068, saving model to model_resnet1_tirads_aug.h5\n",
      "71/71 [==============================] - 27s 385ms/step - loss: 2.2686 - accuracy: 0.1667 - val_loss: 2.2507 - val_accuracy: 0.1667 - lr: 1.0000e-05\n",
      "Epoch 26/50\n",
      "71/71 [==============================] - ETA: 0s - loss: 2.2690 - accuracy: 0.1808 Epoch 26: Learning rate is 0.000010\n",
      "\n",
      "Epoch 26: val_loss improved from 2.25068 to 2.24566, saving model to model_resnet1_tirads_aug.h5\n",
      "71/71 [==============================] - 27s 387ms/step - loss: 2.2690 - accuracy: 0.1808 - val_loss: 2.2457 - val_accuracy: 0.1667 - lr: 1.0000e-05\n",
      "Epoch 27/50\n",
      "71/71 [==============================] - ETA: 0s - loss: 2.2549 - accuracy: 0.1714 Epoch 27: Learning rate is 0.000010\n",
      "\n",
      "Epoch 27: val_loss improved from 2.24566 to 2.24013, saving model to model_resnet1_tirads_aug.h5\n",
      "71/71 [==============================] - 27s 386ms/step - loss: 2.2549 - accuracy: 0.1714 - val_loss: 2.2401 - val_accuracy: 0.1667 - lr: 1.0000e-05\n",
      "Epoch 28/50\n",
      "71/71 [==============================] - ETA: 0s - loss: 2.2581 - accuracy: 0.1643 Epoch 28: Learning rate is 0.000010\n",
      "\n",
      "Epoch 28: val_loss improved from 2.24013 to 2.23472, saving model to model_resnet1_tirads_aug.h5\n",
      "71/71 [==============================] - 27s 385ms/step - loss: 2.2581 - accuracy: 0.1643 - val_loss: 2.2347 - val_accuracy: 0.1667 - lr: 1.0000e-05\n",
      "Epoch 29/50\n",
      "71/71 [==============================] - ETA: 0s - loss: 2.2508 - accuracy: 0.1455 Epoch 29: Learning rate is 0.000010\n",
      "\n",
      "Epoch 29: val_loss improved from 2.23472 to 2.22915, saving model to model_resnet1_tirads_aug.h5\n",
      "71/71 [==============================] - 27s 386ms/step - loss: 2.2508 - accuracy: 0.1455 - val_loss: 2.2292 - val_accuracy: 0.1667 - lr: 1.0000e-05\n",
      "Epoch 30/50\n",
      "71/71 [==============================] - ETA: 0s - loss: 2.2437 - accuracy: 0.1338 Epoch 30: Learning rate is 0.000010\n",
      "\n",
      "Epoch 30: val_loss improved from 2.22915 to 2.22367, saving model to model_resnet1_tirads_aug.h5\n",
      "71/71 [==============================] - 27s 385ms/step - loss: 2.2437 - accuracy: 0.1338 - val_loss: 2.2237 - val_accuracy: 0.1667 - lr: 1.0000e-05\n",
      "Epoch 31/50\n",
      "71/71 [==============================] - ETA: 0s - loss: 2.2365 - accuracy: 0.1714 Epoch 31: Learning rate is 0.000010\n",
      "\n",
      "Epoch 31: val_loss improved from 2.22367 to 2.21793, saving model to model_resnet1_tirads_aug.h5\n",
      "71/71 [==============================] - 28s 389ms/step - loss: 2.2365 - accuracy: 0.1714 - val_loss: 2.2179 - val_accuracy: 0.1667 - lr: 1.0000e-05\n",
      "Epoch 32/50\n",
      "71/71 [==============================] - ETA: 0s - loss: 2.2290 - accuracy: 0.1362 Epoch 32: Learning rate is 0.000010\n",
      "\n",
      "Epoch 32: val_loss improved from 2.21793 to 2.21213, saving model to model_resnet1_tirads_aug.h5\n",
      "71/71 [==============================] - 27s 384ms/step - loss: 2.2290 - accuracy: 0.1362 - val_loss: 2.2121 - val_accuracy: 0.1667 - lr: 1.0000e-05\n",
      "Epoch 33/50\n",
      "71/71 [==============================] - ETA: 0s - loss: 2.2248 - accuracy: 0.1549 Epoch 33: Learning rate is 0.000010\n",
      "\n",
      "Epoch 33: val_loss improved from 2.21213 to 2.20583, saving model to model_resnet1_tirads_aug.h5\n",
      "71/71 [==============================] - 27s 383ms/step - loss: 2.2248 - accuracy: 0.1549 - val_loss: 2.2058 - val_accuracy: 0.1667 - lr: 1.0000e-05\n",
      "Epoch 34/50\n",
      "71/71 [==============================] - ETA: 0s - loss: 2.2157 - accuracy: 0.1831 Epoch 34: Learning rate is 0.000010\n",
      "\n",
      "Epoch 34: val_loss improved from 2.20583 to 2.19918, saving model to model_resnet1_tirads_aug.h5\n",
      "71/71 [==============================] - 27s 386ms/step - loss: 2.2157 - accuracy: 0.1831 - val_loss: 2.1992 - val_accuracy: 0.1667 - lr: 1.0000e-05\n",
      "Epoch 35/50\n",
      "71/71 [==============================] - ETA: 0s - loss: 2.2206 - accuracy: 0.1596 Epoch 35: Learning rate is 0.000010\n",
      "\n",
      "Epoch 35: val_loss improved from 2.19918 to 2.19311, saving model to model_resnet1_tirads_aug.h5\n",
      "71/71 [==============================] - 27s 386ms/step - loss: 2.2206 - accuracy: 0.1596 - val_loss: 2.1931 - val_accuracy: 0.1667 - lr: 1.0000e-05\n",
      "Epoch 36/50\n",
      "71/71 [==============================] - ETA: 0s - loss: 2.2052 - accuracy: 0.1502 Epoch 36: Learning rate is 0.000010\n",
      "\n",
      "Epoch 36: val_loss improved from 2.19311 to 2.18634, saving model to model_resnet1_tirads_aug.h5\n",
      "71/71 [==============================] - 27s 386ms/step - loss: 2.2052 - accuracy: 0.1502 - val_loss: 2.1863 - val_accuracy: 0.1667 - lr: 1.0000e-05\n",
      "Epoch 37/50\n",
      "71/71 [==============================] - ETA: 0s - loss: 2.2049 - accuracy: 0.1596 Epoch 37: Learning rate is 0.000010\n",
      "\n",
      "Epoch 37: val_loss improved from 2.18634 to 2.17970, saving model to model_resnet1_tirads_aug.h5\n",
      "71/71 [==============================] - 27s 383ms/step - loss: 2.2049 - accuracy: 0.1596 - val_loss: 2.1797 - val_accuracy: 0.1667 - lr: 1.0000e-05\n",
      "Epoch 38/50\n",
      "71/71 [==============================] - ETA: 0s - loss: 2.1867 - accuracy: 0.1643 Epoch 38: Learning rate is 0.000010\n",
      "\n",
      "Epoch 38: val_loss improved from 2.17970 to 2.17245, saving model to model_resnet1_tirads_aug.h5\n",
      "71/71 [==============================] - 27s 384ms/step - loss: 2.1867 - accuracy: 0.1643 - val_loss: 2.1724 - val_accuracy: 0.1667 - lr: 1.0000e-05\n",
      "Epoch 39/50\n",
      "71/71 [==============================] - ETA: 0s - loss: 2.1835 - accuracy: 0.1667 Epoch 39: Learning rate is 0.000010\n",
      "\n",
      "Epoch 39: val_loss improved from 2.17245 to 2.16560, saving model to model_resnet1_tirads_aug.h5\n",
      "71/71 [==============================] - 27s 388ms/step - loss: 2.1835 - accuracy: 0.1667 - val_loss: 2.1656 - val_accuracy: 0.1667 - lr: 1.0000e-05\n",
      "Epoch 40/50\n",
      "71/71 [==============================] - ETA: 0s - loss: 2.1750 - accuracy: 0.1620 Epoch 40: Learning rate is 0.000010\n",
      "\n",
      "Epoch 40: val_loss improved from 2.16560 to 2.15857, saving model to model_resnet1_tirads_aug.h5\n",
      "71/71 [==============================] - 28s 390ms/step - loss: 2.1750 - accuracy: 0.1620 - val_loss: 2.1586 - val_accuracy: 0.1667 - lr: 1.0000e-05\n",
      "Epoch 41/50\n",
      "71/71 [==============================] - ETA: 0s - loss: 2.1737 - accuracy: 0.1197 Epoch 41: Learning rate is 0.000010\n",
      "\n",
      "Epoch 41: val_loss improved from 2.15857 to 2.15109, saving model to model_resnet1_tirads_aug.h5\n",
      "71/71 [==============================] - 29s 400ms/step - loss: 2.1737 - accuracy: 0.1197 - val_loss: 2.1511 - val_accuracy: 0.1667 - lr: 1.0000e-05\n",
      "Epoch 42/50\n",
      "71/71 [==============================] - ETA: 0s - loss: 2.1640 - accuracy: 0.1268 Epoch 42: Learning rate is 0.000010\n",
      "\n",
      "Epoch 42: val_loss improved from 2.15109 to 2.14359, saving model to model_resnet1_tirads_aug.h5\n",
      "71/71 [==============================] - 27s 387ms/step - loss: 2.1640 - accuracy: 0.1268 - val_loss: 2.1436 - val_accuracy: 0.1667 - lr: 1.0000e-05\n",
      "Epoch 43/50\n",
      "71/71 [==============================] - ETA: 0s - loss: 2.1540 - accuracy: 0.1784 Epoch 43: Learning rate is 0.000010\n",
      "\n",
      "Epoch 43: val_loss improved from 2.14359 to 2.13585, saving model to model_resnet1_tirads_aug.h5\n",
      "71/71 [==============================] - 27s 385ms/step - loss: 2.1540 - accuracy: 0.1784 - val_loss: 2.1359 - val_accuracy: 0.1667 - lr: 1.0000e-05\n",
      "Epoch 44/50\n",
      "71/71 [==============================] - ETA: 0s - loss: 2.1509 - accuracy: 0.1455 Epoch 44: Learning rate is 0.000010\n",
      "\n",
      "Epoch 44: val_loss improved from 2.13585 to 2.12807, saving model to model_resnet1_tirads_aug.h5\n",
      "71/71 [==============================] - 27s 386ms/step - loss: 2.1509 - accuracy: 0.1455 - val_loss: 2.1281 - val_accuracy: 0.1667 - lr: 1.0000e-05\n"
     ]
    },
    {
     "name": "stdout",
     "output_type": "stream",
     "text": [
      "Epoch 45/50\n",
      "71/71 [==============================] - ETA: 0s - loss: 2.1347 - accuracy: 0.1737 Epoch 45: Learning rate is 0.000010\n",
      "\n",
      "Epoch 45: val_loss improved from 2.12807 to 2.12024, saving model to model_resnet1_tirads_aug.h5\n",
      "71/71 [==============================] - 27s 388ms/step - loss: 2.1347 - accuracy: 0.1737 - val_loss: 2.1202 - val_accuracy: 0.1667 - lr: 1.0000e-05\n",
      "Epoch 46/50\n",
      "71/71 [==============================] - ETA: 0s - loss: 2.1294 - accuracy: 0.1737 Epoch 46: Learning rate is 0.000010\n",
      "\n",
      "Epoch 46: val_loss improved from 2.12024 to 2.11237, saving model to model_resnet1_tirads_aug.h5\n",
      "71/71 [==============================] - 27s 387ms/step - loss: 2.1294 - accuracy: 0.1737 - val_loss: 2.1124 - val_accuracy: 0.1667 - lr: 1.0000e-05\n",
      "Epoch 47/50\n",
      "71/71 [==============================] - ETA: 0s - loss: 2.1216 - accuracy: 0.1549 Epoch 47: Learning rate is 0.000010\n",
      "\n",
      "Epoch 47: val_loss improved from 2.11237 to 2.10420, saving model to model_resnet1_tirads_aug.h5\n",
      "71/71 [==============================] - 27s 385ms/step - loss: 2.1216 - accuracy: 0.1549 - val_loss: 2.1042 - val_accuracy: 0.1667 - lr: 1.0000e-05\n",
      "Epoch 48/50\n",
      "71/71 [==============================] - ETA: 0s - loss: 2.1159 - accuracy: 0.1549 Epoch 48: Learning rate is 0.000010\n",
      "\n",
      "Epoch 48: val_loss improved from 2.10420 to 2.09623, saving model to model_resnet1_tirads_aug.h5\n",
      "71/71 [==============================] - 27s 385ms/step - loss: 2.1159 - accuracy: 0.1549 - val_loss: 2.0962 - val_accuracy: 0.1667 - lr: 1.0000e-05\n",
      "Epoch 49/50\n",
      "71/71 [==============================] - ETA: 0s - loss: 2.1031 - accuracy: 0.1643 Epoch 49: Learning rate is 0.000010\n",
      "\n",
      "Epoch 49: val_loss improved from 2.09623 to 2.08802, saving model to model_resnet1_tirads_aug.h5\n",
      "71/71 [==============================] - 27s 386ms/step - loss: 2.1031 - accuracy: 0.1643 - val_loss: 2.0880 - val_accuracy: 0.1667 - lr: 1.0000e-05\n",
      "Epoch 50/50\n",
      "71/71 [==============================] - ETA: 0s - loss: 2.0996 - accuracy: 0.1432 Epoch 50: Learning rate is 0.000010\n",
      "\n",
      "Epoch 50: val_loss improved from 2.08802 to 2.07994, saving model to model_resnet1_tirads_aug.h5\n",
      "71/71 [==============================] - 27s 386ms/step - loss: 2.0996 - accuracy: 0.1432 - val_loss: 2.0799 - val_accuracy: 0.1667 - lr: 1.0000e-05\n"
     ]
    }
   ],
   "source": [
    "# Se antreneaza modelul\n",
    "checkpoiter = tf.keras.callbacks.ModelCheckpoint('model_resnet1_tirads_aug.h5', verbose=1, save_best_only=True)\n",
    "steps = train_generator.samples//train_generator.batch_size\n",
    "reduce_lr = ReduceLROnPlateau(monitor='val_accuracy', factor=0.1, patience=4, min_lr=0.00001, verbose=1)\n",
    "\n",
    "callbacks = [\n",
    "    tf.keras.callbacks.EarlyStopping(patience=5, monitor='val_loss'),\n",
    "    tf.keras.callbacks.TensorBoard(log_dir='logs'),\n",
    "    reduce_lr,\n",
    "    LearningRateLogger(),\n",
    "    checkpoiter,\n",
    "\n",
    "]\n",
    "\n",
    "results = model.fit(train_generator, \n",
    "                    validation_data=validation_generator, \n",
    "                    validation_steps=validation_generator.samples // validation_generator.batch_size,\n",
    "                    steps_per_epoch = steps,\n",
    "                    shuffle=True,\n",
    "                    epochs=50, \n",
    "                    callbacks=callbacks,\n",
    "                   )"
   ]
  },
  {
   "cell_type": "markdown",
   "id": "522f77a6",
   "metadata": {},
   "source": [
    "## Results"
   ]
  },
  {
   "cell_type": "code",
   "execution_count": 111,
   "id": "403f81ad",
   "metadata": {},
   "outputs": [
    {
     "name": "stdout",
     "output_type": "stream",
     "text": [
      "Accuracy Score =  0.2777777910232544\n",
      "Loss Score =  2.0799448490142822\n"
     ]
    }
   ],
   "source": [
    "print('Accuracy Score = ',np.max(results.history['val_accuracy']))\n",
    "print('Loss Score = ',np.min(results.history['val_loss']))"
   ]
  },
  {
   "cell_type": "markdown",
   "id": "e8f31406",
   "metadata": {},
   "source": [
    "### During training"
   ]
  },
  {
   "cell_type": "code",
   "execution_count": 112,
   "id": "7b943397",
   "metadata": {},
   "outputs": [
    {
     "data": {
      "image/png": "[encoded data removed]",
      "text/plain": [
       "<Figure size 640x480 with 2 Axes>"
      ]
     },
     "metadata": {},
     "output_type": "display_data"
    }
   ],
   "source": [
    "plt.figure()\n",
    "plt.subplot(211)\n",
    "loss_train_curve = results.history[\"loss\"]\n",
    "loss_val_curve = results.history[\"val_loss\"]\n",
    "plt.plot(loss_train_curve, label = \"Loss\")\n",
    "plt.plot(loss_val_curve, label = \"Val_Loss\")\n",
    "plt.legend(loc = 'upper right')\n",
    "plt.ylabel(\"Loss\")\n",
    "\n",
    "\n",
    "plt.subplot(212)\n",
    "acc_train_curve = results.history[\"accuracy\"]\n",
    "acc_val_curve = results.history[\"val_accuracy\"]\n",
    "plt.plot(acc_train_curve, label = \"Accuracy\")\n",
    "plt.plot(acc_val_curve, label = \"Val_Accuracy\")\n",
    "plt.legend(loc = 'upper right')\n",
    "plt.ylabel(\"Accuracy\")\n",
    "plt.xlabel(\"Epoch\")\n",
    "plt.show()"
   ]
  },
  {
   "cell_type": "markdown",
   "id": "55ef6d80",
   "metadata": {},
   "source": [
    "## Test the model"
   ]
  },
  {
   "cell_type": "code",
   "execution_count": 113,
   "id": "9e31d832",
   "metadata": {},
   "outputs": [
    {
     "name": "stdout",
     "output_type": "stream",
     "text": [
      "Found 36 images belonging to 6 classes.\n",
      "6/6 [==============================] - 1s 210ms/step - loss: 2.0763 - accuracy: 0.1389\n",
      "[2.0762991905212402, 0.1388888955116272]\n"
     ]
    }
   ],
   "source": [
    "# divisible with 36:  2, 3, 4, 6, 9, 12, 18\n",
    "test_batch_size = 6\n",
    "\n",
    "test_datagen = ImageDataGenerator(rescale=1./255)\n",
    "\n",
    "test_generator = test_datagen.flow_from_directory(\n",
    "    TEST_PATH,\n",
    "    target_size=input_size[1:],\n",
    "    batch_size=test_batch_size,\n",
    "    shuffle=False,\n",
    "class_mode='categorical')\n",
    "scores = model.evaluate(test_generator,workers=12)\n",
    "print(scores)\n",
    "target_names = list(test_generator.class_indices.keys())"
   ]
  },
  {
   "cell_type": "markdown",
   "id": "cfed210c",
   "metadata": {},
   "source": [
    "### Make prediction"
   ]
  },
  {
   "cell_type": "code",
   "execution_count": 114,
   "id": "ebd403c9",
   "metadata": {},
   "outputs": [
    {
     "name": "stdout",
     "output_type": "stream",
     "text": [
      "6/6 [==============================] - 2s 204ms/step\n",
      "[0 0 0 0 0 1 1 2 2 2 2 2 2 2 2 2 3 3 3 3 3 3 3 3 4 4 4 4 4 4 4 5 5 5 5 5]\n",
      "[5 5 5 5 5 5 5 5 5 5 5 5 5 5 5 5 5 5 5 5 5 5 5 5 5 5 5 5 5 5 5 5 5 5 5 5]\n",
      "0.1388888888888889\n"
     ]
    }
   ],
   "source": [
    "test_generator.reset()\n",
    "\n",
    "Y_pred = model.predict(test_generator, verbose=1)\n",
    "\n",
    "y_pred = np.argmax(Y_pred, axis=-1)\n",
    "classes = test_generator.classes\n",
    "\n",
    "print(classes)\n",
    "print(y_pred)\n",
    "\n",
    "print(sum(y_pred==classes)/len(test_generator.classes))"
   ]
  },
  {
   "cell_type": "markdown",
   "id": "fdd88020",
   "metadata": {},
   "source": [
    "### Confusion Matrix"
   ]
  },
  {
   "cell_type": "code",
   "execution_count": 115,
   "id": "62cb7452",
   "metadata": {},
   "outputs": [
    {
     "data": {
      "image/png": "[encoded data removed]",
      "text/plain": [
       "<Figure size 640x480 with 2 Axes>"
      ]
     },
     "metadata": {},
     "output_type": "display_data"
    }
   ],
   "source": [
    "cm = confusion_matrix(classes, y_pred)\n",
    "\n",
    "disp = ConfusionMatrixDisplay(confusion_matrix=cm, display_labels=target_names)\n",
    "\n",
    "disp.plot()\n",
    "plt.grid(False)\n",
    "plt.show()"
   ]
  },
  {
   "cell_type": "markdown",
   "id": "266f8f01",
   "metadata": {},
   "source": [
    "### Metrics"
   ]
  },
  {
   "cell_type": "code",
   "execution_count": 116,
   "id": "8cc72c90",
   "metadata": {},
   "outputs": [],
   "source": [
    "FP = cm.sum(axis=0) - np.diag(cm)  \n",
    "FN = cm.sum(axis=1) - np.diag(cm)\n",
    "TP = np.diag(cm)\n",
    "TN = cm.sum() - (FP + FN + TP)\n",
    "FP = FP.astype(float)\n",
    "FN = FN.astype(float)\n",
    "TP = TP.astype(float)\n",
    "TN = TN.astype(float)"
   ]
  },
  {
   "cell_type": "code",
   "execution_count": 117,
   "id": "dbe50093",
   "metadata": {},
   "outputs": [
    {
     "name": "stdout",
     "output_type": "stream",
     "text": [
      "True positive= 0.8333333333333334\n",
      "True Negative= 24.833333333333332\n",
      "False positive= 5.166666666666667\n",
      "False Negative= 5.166666666666667\n"
     ]
    }
   ],
   "source": [
    "def Average(FP):\n",
    "    return sum(FP) / len(FP)\n",
    "FP=Average(FP)\n",
    "\n",
    "def Average1(FN):\n",
    "    return sum(FN) / len(FN)\n",
    "FN=Average1(FN)\n",
    "\n",
    "def Average2(TP):\n",
    "    return sum(TP) / len(TP)\n",
    "TP=Average2(TP)\n",
    "\n",
    "def Average3(TN):\n",
    "    return sum(TN) / len(TN)\n",
    "TN=Average3(TN)\n",
    "\n",
    "\n",
    "print(\"True positive=\",TP)\n",
    "print(\"True Negative=\",TN)\n",
    "print(\"False positive=\",FP)\n",
    "print(\"False Negative=\",FN)"
   ]
  },
  {
   "cell_type": "code",
   "execution_count": 118,
   "id": "430fd61f",
   "metadata": {},
   "outputs": [],
   "source": [
    "# Sensitivity, hit rate, recall, or true positive rate\n",
    "TPR = TP/(TP+FN)\n",
    "# Specificity or true negative rate\n",
    "TNR = TN/(TN+FP) \n",
    "# Precision or positive predictive value\n",
    "PPV = TP/(TP+FP)\n",
    "# Negative predictive value\n",
    "NPV = TN/(TN+FN)\n",
    "# Fall out or false positive rate\n",
    "FPR = FP/(FP+TN)\n",
    "# False negative rate\n",
    "FNR = FN/(TP+FN)\n",
    "# False discovery rate\n",
    "FDR = FP/(TP+FP)\n",
    "#F1_SCORE\n",
    "FSCO=(2*TP) / ((2*TP) +FP + FN) \n",
    "# Overall accuracy\n",
    "ACC = (TP+TN)/(TP+FP+FN+TN)"
   ]
  },
  {
   "cell_type": "code",
   "execution_count": 119,
   "id": "2c1b6acc",
   "metadata": {},
   "outputs": [
    {
     "name": "stdout",
     "output_type": "stream",
     "text": [
      "sensitivity= 13.889 %\n",
      "precision= 13.889 %\n",
      "Specificity= 82.778 %\n",
      "F-score= 13.889 %\n",
      "ACCURACY= 71.296 %\n",
      "FNR= 86.11111111111111 %\n",
      "FPR= 17.22222222222222 %\n",
      "NPV= 82.77777777777777 %\n"
     ]
    }
   ],
   "source": [
    "print(\"sensitivity=\",round(TPR*100,3),\"%\")\n",
    "print(\"precision=\",round(PPV*100,3),\"%\")\n",
    "print(\"Specificity=\",round(TNR*100,3),\"%\")\n",
    "print(\"F-score=\",round(FSCO*100,3),\"%\")\n",
    "print(\"ACCURACY=\",round(ACC*100,3),\"%\")\n",
    "print(\"FNR=\",FNR*100,\"%\")\n",
    "print(\"FPR=\",FPR*100,\"%\")\n",
    "print(\"NPV=\",NPV*100,\"%\")"
   ]
  }
 ],
 "metadata": {
  "kernelspec": {
   "display_name": "Python 3 (ipykernel)",
   "language": "python",
   "name": "python3"
  },
  "language_info": {
   "codemirror_mode": {
    "name": "ipython",
    "version": 3
   },
   "file_extension": ".py",
   "mimetype": "text/x-python",
   "name": "python",
   "nbconvert_exporter": "python",
   "pygments_lexer": "ipython3",
   "version": "3.10.9"
  }
 },
 "nbformat": 4,
 "nbformat_minor": 5
}
