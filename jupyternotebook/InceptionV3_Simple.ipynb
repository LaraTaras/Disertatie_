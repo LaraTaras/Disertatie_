{
 "cells": [
  {
   "cell_type": "markdown",
   "id": "d0860210",
   "metadata": {},
   "source": [
    "# Inception V3"
   ]
  },
  {
   "cell_type": "markdown",
   "id": "cec4a49a",
   "metadata": {},
   "source": [
    "### InceptionV3 with only 2 categories (Benign and Malign)"
   ]
  },
  {
   "cell_type": "markdown",
   "id": "c506d202",
   "metadata": {},
   "source": [
    "## Get packages"
   ]
  },
  {
   "cell_type": "code",
   "execution_count": 1,
   "id": "dfd9c2e7",
   "metadata": {},
   "outputs": [],
   "source": [
    "import tensorflow as tf\n",
    "import os\n",
    "import random\n",
    "import numpy as np\n",
    "from tqdm import tqdm\n",
    "import albumentations as A \n",
    "import cv2\n",
    "\n",
    "from skimage.io import imread\n",
    "from skimage.io import imshow\n",
    "from skimage.util import crop\n",
    "from skimage.transform import resize\n",
    "import matplotlib.pyplot as plt\n",
    "\n",
    "\n",
    "from tensorflow import keras\n",
    "from keras.models import Sequential, Model\n",
    "from keras.layers import Dense, Flatten, Conv2D, MaxPooling2D, Dropout\n",
    "from tensorflow.keras import layers\n",
    "from tensorflow.keras.utils import to_categorical\n",
    "from tensorflow.keras.optimizers.legacy import Adam\n",
    "from tensorflow.keras import regularizers\n",
    "from tensorflow.keras.callbacks import ReduceLROnPlateau, Callback\n",
    "\n",
    "import numpy as np\n",
    "import pandas as pd\n",
    "import matplotlib.pyplot as plt\n",
    "import keras\n",
    "from keras.layers import *\n",
    "from keras import models\n",
    "from keras.preprocessing import image\n",
    "from keras.preprocessing.image import ImageDataGenerator\n",
    "\n",
    "from sklearn.metrics import classification_report\n",
    "from sklearn.metrics import confusion_matrix\n",
    "from sklearn.metrics import ConfusionMatrixDisplay\n",
    "from sklearn.metrics import confusion_matrix, ConfusionMatrixDisplay\n"
   ]
  },
  {
   "cell_type": "markdown",
   "id": "eb030642",
   "metadata": {},
   "source": [
    "## Paths"
   ]
  },
  {
   "cell_type": "code",
   "execution_count": 2,
   "id": "9669509e",
   "metadata": {},
   "outputs": [],
   "source": [
    "TRAIN_PATH = 'archive/classification/binary/frame/aug/train'\n",
    "TEST_PATH = 'archive/classification/binary/frame/aug/test' \n",
    "VALID_PATH = 'archive/classification/binary/frame/aug/validate'"
   ]
  },
  {
   "cell_type": "code",
   "execution_count": 3,
   "id": "0b9147d2",
   "metadata": {},
   "outputs": [],
   "source": [
    "input_size = (3,150,150)"
   ]
  },
  {
   "cell_type": "markdown",
   "id": "84b109cb",
   "metadata": {},
   "source": [
    "## Load and Prepare Images"
   ]
  },
  {
   "cell_type": "code",
   "execution_count": 4,
   "id": "c0b9dc47",
   "metadata": {},
   "outputs": [
    {
     "name": "stdout",
     "output_type": "stream",
     "text": [
      "Found 518 images belonging to 2 classes.\n",
      "Found 51 images belonging to 2 classes.\n"
     ]
    }
   ],
   "source": [
    "\n",
    "# # for neaug\n",
    "# # divisible with 259: 7, 37\n",
    "# train_batchsize = 37\n",
    "# # divisible with 51: 3, 17 \n",
    "# valid_batchsize = 3\n",
    "\n",
    "\n",
    "#for aug\n",
    "# divisible with 518:  2, 259.\n",
    "train_batchsize = 2\n",
    "# divisible with 51: 3, 17 \n",
    "valid_batchsize = 3\n",
    "\n",
    "\n",
    "# #for balance\n",
    "# # divisible with 494: 2, 7, 14, 31, 62, 217\n",
    "# train_batchsize = 7\n",
    "# # divisible with 18: 2, 3, 6, 9\n",
    "# valid_batchsize = 6\n",
    "\n",
    "# # for neaug non-frame\n",
    "# # divisible with 253: 11, 23 \n",
    "# train_batchsize = 23\n",
    "# # divisible with 50: 2, 5, 10, 25,\n",
    "# valid_batchsize = 5\n",
    "\n",
    "\n",
    "# #for aug non-frame\n",
    "# # divisible with 506: 2, 11, 22, 23, 46, 253,\n",
    "# train_batchsize = 22\n",
    "# # divisible with 50: 2, 5, 10, 25,\n",
    "# valid_batchsize = 5\n",
    "\n",
    "\n",
    "# #for balance non-frame\n",
    "# # divisible with 422: 2, 211.\n",
    "# train_batchsize = 2\n",
    "# # divisible with 16: 2, 4, 8,\n",
    "# valid_batchsize = 4\n",
    "\n",
    "train_datagen = ImageDataGenerator(\n",
    "        rescale = 1./255.,\n",
    "\n",
    ")\n",
    "\n",
    "validation_datagen = ImageDataGenerator(\n",
    "        rescale = 1./255.,\n",
    "    )\n",
    "                                  \n",
    "\n",
    "train_generator = train_datagen.flow_from_directory(\n",
    "        TRAIN_PATH,  \n",
    "        shuffle=True,\n",
    "         batch_size=train_batchsize,\n",
    "        target_size = input_size[1:],\n",
    "        class_mode='categorical')  \n",
    "\n",
    "validation_generator = validation_datagen.flow_from_directory(\n",
    "        VALID_PATH,  \n",
    "        target_size = input_size[1:],\n",
    "        shuffle=True,\n",
    "         batch_size=valid_batchsize,\n",
    "        class_mode='categorical')"
   ]
  },
  {
   "cell_type": "markdown",
   "id": "80863fbb",
   "metadata": {},
   "source": [
    "## Make the model"
   ]
  },
  {
   "cell_type": "markdown",
   "id": "2679f64c",
   "metadata": {},
   "source": [
    "### Pre-trained"
   ]
  },
  {
   "cell_type": "code",
   "execution_count": 11,
   "id": "ec26b9f7",
   "metadata": {},
   "outputs": [],
   "source": [
    "\n",
    "from tensorflow.keras.applications.inception_v3 import InceptionV3\n",
    "base_model = InceptionV3(input_shape = (150, 150, 3), include_top = False, weights = 'imagenet')\n",
    " \n",
    "for layer in base_model.layers:\n",
    "    layer.trainable = False"
   ]
  },
  {
   "cell_type": "code",
   "execution_count": 12,
   "id": "93ee0696",
   "metadata": {},
   "outputs": [
    {
     "name": "stdout",
     "output_type": "stream",
     "text": [
      "Model: \"sequential_1\"\n",
      "_________________________________________________________________\n",
      " Layer (type)                Output Shape              Param #   \n",
      "=================================================================\n",
      " inception_v3 (Functional)   (None, 3, 3, 2048)        21802784  \n",
      "                                                                 \n",
      " flatten_1 (Flatten)         (None, 18432)             0         \n",
      "                                                                 \n",
      " dense_2 (Dense)             (None, 1024)              18875392  \n",
      "                                                                 \n",
      " activation_189 (Activation  (None, 1024)              0         \n",
      " )                                                               \n",
      "                                                                 \n",
      " dropout_1 (Dropout)         (None, 1024)              0         \n",
      "                                                                 \n",
      " dense_3 (Dense)             (None, 2)                 2050      \n",
      "                                                                 \n",
      "=================================================================\n",
      "Total params: 40680226 (155.18 MB)\n",
      "Trainable params: 18877442 (72.01 MB)\n",
      "Non-trainable params: 21802784 (83.17 MB)\n",
      "_________________________________________________________________\n"
     ]
    }
   ],
   "source": [
    "# from tensorflow.keras.optimizers import RMSprop\n",
    "model = Sequential()\n",
    "model.add(base_model)\n",
    "\n",
    "model.add(Flatten())\n",
    "model.add(Dense(1024, kernel_regularizer=regularizers.l2(0.01)))\n",
    "# model.add(BatchNormalization())\n",
    "model.add(Activation('relu'))\n",
    "model.add(Dropout(0.2))  # Dropout for regularization\n",
    "\n",
    "# Add a final sigmoid layer with 1 node for classification output\n",
    "model.add(Dense(2, activation='softmax'))\n",
    "# Print a summary of the model architecture\n",
    "model.summary()"
   ]
  },
  {
   "cell_type": "code",
   "execution_count": 13,
   "id": "bece994d",
   "metadata": {},
   "outputs": [],
   "source": [
    "model.compile(\n",
    "\n",
    "    loss=keras.losses.BinaryFocalCrossentropy(),\n",
    "    optimizer=keras.optimizers.legacy.RMSprop(learning_rate=0.001,decay=1e-3, momentum=0.9),\n",
    "    metrics = ['accuracy'])"
   ]
  },
  {
   "cell_type": "markdown",
   "id": "187f3a9d",
   "metadata": {},
   "source": [
    "## Train the model"
   ]
  },
  {
   "cell_type": "code",
   "execution_count": 14,
   "id": "a79156de",
   "metadata": {},
   "outputs": [],
   "source": [
    "class LearningRateLogger(Callback):\n",
    "    def on_epoch_end(self, epoch, logs=None):\n",
    "        lr = self.model.optimizer.learning_rate\n",
    "        if isinstance(lr, tf.Variable) or tf.is_tensor(lr):\n",
    "            lr = tf.keras.backend.get_value(lr)\n",
    "        print(f\" Epoch {epoch+1}: Learning rate is {lr:.6f}\")"
   ]
  },
  {
   "cell_type": "code",
   "execution_count": 15,
   "id": "9a76f21d",
   "metadata": {},
   "outputs": [
    {
     "name": "stdout",
     "output_type": "stream",
     "text": [
      "Epoch 1/50\n",
      "259/259 [==============================] - ETA: 0s - loss: 92.8796 - accuracy: 0.7413 Epoch 1: Learning rate is 0.001000\n",
      "\n",
      "Epoch 1: val_loss improved from inf to 58.68074, saving model to model_inception_binary_bun.h5\n",
      "259/259 [==============================] - 29s 102ms/step - loss: 92.8796 - accuracy: 0.7413 - val_loss: 58.6807 - val_accuracy: 0.8235 - lr: 0.0010\n",
      "Epoch 2/50\n",
      "259/259 [==============================] - ETA: 0s - loss: 83.0841 - accuracy: 0.7027 Epoch 2: Learning rate is 0.001000\n",
      "\n",
      "Epoch 2: val_loss did not improve from 58.68074\n",
      "259/259 [==============================] - 25s 95ms/step - loss: 83.0841 - accuracy: 0.7027 - val_loss: 94.4162 - val_accuracy: 0.2549 - lr: 0.0010\n",
      "Epoch 3/50\n",
      "259/259 [==============================] - ETA: 0s - loss: 66.4615 - accuracy: 0.7124 Epoch 3: Learning rate is 0.001000\n",
      "\n",
      "Epoch 3: val_loss did not improve from 58.68074\n",
      "259/259 [==============================] - 25s 96ms/step - loss: 66.4615 - accuracy: 0.7124 - val_loss: 333.6785 - val_accuracy: 0.1765 - lr: 0.0010\n",
      "Epoch 4/50\n",
      "259/259 [==============================] - ETA: 0s - loss: 60.0954 - accuracy: 0.7355 Epoch 4: Learning rate is 0.001000\n",
      "\n",
      "Epoch 4: val_loss did not improve from 58.68074\n",
      "259/259 [==============================] - 25s 97ms/step - loss: 60.0954 - accuracy: 0.7355 - val_loss: 72.2400 - val_accuracy: 0.8235 - lr: 0.0010\n",
      "Epoch 5/50\n",
      "259/259 [==============================] - ETA: 0s - loss: 33.0861 - accuracy: 0.7046\n",
      "Epoch 5: ReduceLROnPlateau reducing learning rate to 0.00010000000474974513.\n",
      " Epoch 5: Learning rate is 0.000100\n",
      "\n",
      "Epoch 5: val_loss improved from 58.68074 to 36.58904, saving model to model_inception_binary_bun.h5\n",
      "259/259 [==============================] - 26s 99ms/step - loss: 33.0861 - accuracy: 0.7046 - val_loss: 36.5890 - val_accuracy: 0.8235 - lr: 0.0010\n",
      "Epoch 6/50\n",
      "259/259 [==============================] - ETA: 0s - loss: 14.3942 - accuracy: 0.8205 Epoch 6: Learning rate is 0.000100\n",
      "\n",
      "Epoch 6: val_loss improved from 36.58904 to 9.12945, saving model to model_inception_binary_bun.h5\n",
      "259/259 [==============================] - 26s 99ms/step - loss: 14.3942 - accuracy: 0.8205 - val_loss: 9.1294 - val_accuracy: 0.6863 - lr: 1.0000e-04\n",
      "Epoch 7/50\n",
      "259/259 [==============================] - ETA: 0s - loss: 6.6820 - accuracy: 0.8147 Epoch 7: Learning rate is 0.000100\n",
      "\n",
      "Epoch 7: val_loss improved from 9.12945 to 5.30111, saving model to model_inception_binary_bun.h5\n",
      "259/259 [==============================] - 26s 102ms/step - loss: 6.6820 - accuracy: 0.8147 - val_loss: 5.3011 - val_accuracy: 0.7059 - lr: 1.0000e-04\n",
      "Epoch 8/50\n",
      "259/259 [==============================] - ETA: 0s - loss: 4.3964 - accuracy: 0.8243 Epoch 8: Learning rate is 0.000100\n",
      "\n",
      "Epoch 8: val_loss did not improve from 5.30111\n",
      "259/259 [==============================] - 26s 100ms/step - loss: 4.3964 - accuracy: 0.8243 - val_loss: 6.4087 - val_accuracy: 0.8235 - lr: 1.0000e-04\n",
      "Epoch 9/50\n",
      "259/259 [==============================] - ETA: 0s - loss: 3.3002 - accuracy: 0.8436\n",
      "Epoch 9: ReduceLROnPlateau reducing learning rate to 1.0000000474974514e-05.\n",
      " Epoch 9: Learning rate is 0.000010\n",
      "\n",
      "Epoch 9: val_loss did not improve from 5.30111\n",
      "259/259 [==============================] - 26s 99ms/step - loss: 3.3002 - accuracy: 0.8436 - val_loss: 8.8371 - val_accuracy: 0.8235 - lr: 1.0000e-04\n",
      "Epoch 10/50\n",
      "259/259 [==============================] - ETA: 0s - loss: 2.5839 - accuracy: 0.8668 Epoch 10: Learning rate is 0.000010\n",
      "\n",
      "Epoch 10: val_loss improved from 5.30111 to 4.22206, saving model to model_inception_binary_bun.h5\n",
      "259/259 [==============================] - 26s 99ms/step - loss: 2.5839 - accuracy: 0.8668 - val_loss: 4.2221 - val_accuracy: 0.7843 - lr: 1.0000e-05\n",
      "Epoch 11/50\n",
      "259/259 [==============================] - ETA: 0s - loss: 2.3259 - accuracy: 0.8475 Epoch 11: Learning rate is 0.000010\n",
      "\n",
      "Epoch 11: val_loss did not improve from 4.22206\n",
      "259/259 [==============================] - 25s 98ms/step - loss: 2.3259 - accuracy: 0.8475 - val_loss: 4.8796 - val_accuracy: 0.8235 - lr: 1.0000e-05\n",
      "Epoch 12/50\n",
      "259/259 [==============================] - ETA: 0s - loss: 1.9738 - accuracy: 0.8900 Epoch 12: Learning rate is 0.000010\n",
      "\n",
      "Epoch 12: val_loss improved from 4.22206 to 4.15395, saving model to model_inception_binary_bun.h5\n",
      "259/259 [==============================] - 26s 101ms/step - loss: 1.9738 - accuracy: 0.8900 - val_loss: 4.1540 - val_accuracy: 0.8235 - lr: 1.0000e-05\n",
      "Epoch 13/50\n",
      "259/259 [==============================] - ETA: 0s - loss: 2.1000 - accuracy: 0.8707\n",
      "Epoch 13: ReduceLROnPlateau reducing learning rate to 1e-05.\n",
      " Epoch 13: Learning rate is 0.000010\n",
      "\n",
      "Epoch 13: val_loss did not improve from 4.15395\n",
      "259/259 [==============================] - 25s 98ms/step - loss: 2.1000 - accuracy: 0.8707 - val_loss: 4.2569 - val_accuracy: 0.8235 - lr: 1.0000e-05\n",
      "Epoch 14/50\n",
      "259/259 [==============================] - ETA: 0s - loss: 2.0652 - accuracy: 0.8649 Epoch 14: Learning rate is 0.000010\n",
      "\n",
      "Epoch 14: val_loss did not improve from 4.15395\n",
      "259/259 [==============================] - 25s 98ms/step - loss: 2.0652 - accuracy: 0.8649 - val_loss: 4.4441 - val_accuracy: 0.8235 - lr: 1.0000e-05\n",
      "Epoch 15/50\n",
      "259/259 [==============================] - ETA: 0s - loss: 1.8430 - accuracy: 0.8803 Epoch 15: Learning rate is 0.000010\n",
      "\n",
      "Epoch 15: val_loss improved from 4.15395 to 3.89344, saving model to model_inception_binary_bun.h5\n",
      "259/259 [==============================] - 27s 103ms/step - loss: 1.8430 - accuracy: 0.8803 - val_loss: 3.8934 - val_accuracy: 0.8235 - lr: 1.0000e-05\n",
      "Epoch 16/50\n",
      "259/259 [==============================] - ETA: 0s - loss: 1.8753 - accuracy: 0.8571 Epoch 16: Learning rate is 0.000010\n",
      "\n",
      "Epoch 16: val_loss improved from 3.89344 to 3.10629, saving model to model_inception_binary_bun.h5\n",
      "259/259 [==============================] - 29s 113ms/step - loss: 1.8753 - accuracy: 0.8571 - val_loss: 3.1063 - val_accuracy: 0.7647 - lr: 1.0000e-05\n",
      "Epoch 17/50\n",
      "259/259 [==============================] - ETA: 0s - loss: 1.6709 - accuracy: 0.8842 Epoch 17: Learning rate is 0.000010\n",
      "\n",
      "Epoch 17: val_loss did not improve from 3.10629\n",
      "259/259 [==============================] - 29s 111ms/step - loss: 1.6709 - accuracy: 0.8842 - val_loss: 3.6010 - val_accuracy: 0.8235 - lr: 1.0000e-05\n",
      "Epoch 18/50\n",
      "259/259 [==============================] - ETA: 0s - loss: 1.7970 - accuracy: 0.8707 Epoch 18: Learning rate is 0.000010\n",
      "\n",
      "Epoch 18: val_loss did not improve from 3.10629\n",
      "259/259 [==============================] - 26s 102ms/step - loss: 1.7970 - accuracy: 0.8707 - val_loss: 3.5078 - val_accuracy: 0.8235 - lr: 1.0000e-05\n",
      "Epoch 19/50\n",
      "259/259 [==============================] - ETA: 0s - loss: 1.6757 - accuracy: 0.8707 Epoch 19: Learning rate is 0.000010\n",
      "\n",
      "Epoch 19: val_loss did not improve from 3.10629\n",
      "259/259 [==============================] - 26s 101ms/step - loss: 1.6757 - accuracy: 0.8707 - val_loss: 3.3405 - val_accuracy: 0.8235 - lr: 1.0000e-05\n",
      "Epoch 20/50\n",
      "259/259 [==============================] - ETA: 0s - loss: 1.4773 - accuracy: 0.8996 Epoch 20: Learning rate is 0.000010\n",
      "\n",
      "Epoch 20: val_loss improved from 3.10629 to 3.08723, saving model to model_inception_binary_bun.h5\n",
      "259/259 [==============================] - 27s 103ms/step - loss: 1.4773 - accuracy: 0.8996 - val_loss: 3.0872 - val_accuracy: 0.8039 - lr: 1.0000e-05\n",
      "Epoch 21/50\n",
      "259/259 [==============================] - ETA: 0s - loss: 1.6123 - accuracy: 0.8784 Epoch 21: Learning rate is 0.000010\n",
      "\n",
      "Epoch 21: val_loss did not improve from 3.08723\n",
      "259/259 [==============================] - 26s 99ms/step - loss: 1.6123 - accuracy: 0.8784 - val_loss: 3.2871 - val_accuracy: 0.8235 - lr: 1.0000e-05\n",
      "Epoch 22/50\n",
      "259/259 [==============================] - ETA: 0s - loss: 1.3818 - accuracy: 0.9015 Epoch 22: Learning rate is 0.000010\n",
      "\n",
      "Epoch 22: val_loss did not improve from 3.08723\n",
      "259/259 [==============================] - 26s 101ms/step - loss: 1.3818 - accuracy: 0.9015 - val_loss: 3.0919 - val_accuracy: 0.8235 - lr: 1.0000e-05\n",
      "Epoch 23/50\n",
      "259/259 [==============================] - ETA: 0s - loss: 1.4460 - accuracy: 0.8745 Epoch 23: Learning rate is 0.000010\n",
      "\n",
      "Epoch 23: val_loss did not improve from 3.08723\n",
      "259/259 [==============================] - 26s 100ms/step - loss: 1.4460 - accuracy: 0.8745 - val_loss: 3.3857 - val_accuracy: 0.8235 - lr: 1.0000e-05\n"
     ]
    },
    {
     "name": "stdout",
     "output_type": "stream",
     "text": [
      "Epoch 24/50\n",
      "259/259 [==============================] - ETA: 0s - loss: 1.4894 - accuracy: 0.8900 Epoch 24: Learning rate is 0.000010\n",
      "\n",
      "Epoch 24: val_loss improved from 3.08723 to 2.77347, saving model to model_inception_binary_bun.h5\n",
      "259/259 [==============================] - 26s 99ms/step - loss: 1.4894 - accuracy: 0.8900 - val_loss: 2.7735 - val_accuracy: 0.7647 - lr: 1.0000e-05\n",
      "Epoch 25/50\n",
      "259/259 [==============================] - ETA: 0s - loss: 1.4967 - accuracy: 0.8861 Epoch 25: Learning rate is 0.000010\n",
      "\n",
      "Epoch 25: val_loss did not improve from 2.77347\n",
      "259/259 [==============================] - 25s 98ms/step - loss: 1.4967 - accuracy: 0.8861 - val_loss: 3.2658 - val_accuracy: 0.8235 - lr: 1.0000e-05\n",
      "Epoch 26/50\n",
      "259/259 [==============================] - ETA: 0s - loss: 1.3957 - accuracy: 0.8784 Epoch 26: Learning rate is 0.000010\n",
      "\n",
      "Epoch 26: val_loss did not improve from 2.77347\n",
      "259/259 [==============================] - 26s 99ms/step - loss: 1.3957 - accuracy: 0.8784 - val_loss: 3.0717 - val_accuracy: 0.8235 - lr: 1.0000e-05\n",
      "Epoch 27/50\n",
      "259/259 [==============================] - ETA: 0s - loss: 1.5828 - accuracy: 0.8591 Epoch 27: Learning rate is 0.000010\n",
      "\n",
      "Epoch 27: val_loss did not improve from 2.77347\n",
      "259/259 [==============================] - 26s 101ms/step - loss: 1.5828 - accuracy: 0.8591 - val_loss: 3.7814 - val_accuracy: 0.8235 - lr: 1.0000e-05\n",
      "Epoch 28/50\n",
      "259/259 [==============================] - ETA: 0s - loss: 1.4934 - accuracy: 0.8938 Epoch 28: Learning rate is 0.000010\n",
      "\n",
      "Epoch 28: val_loss did not improve from 2.77347\n",
      "259/259 [==============================] - 28s 109ms/step - loss: 1.4934 - accuracy: 0.8938 - val_loss: 3.0491 - val_accuracy: 0.8235 - lr: 1.0000e-05\n",
      "Epoch 29/50\n",
      "259/259 [==============================] - ETA: 0s - loss: 1.3136 - accuracy: 0.8938 Epoch 29: Learning rate is 0.000010\n",
      "\n",
      "Epoch 29: val_loss did not improve from 2.77347\n",
      "259/259 [==============================] - 31s 119ms/step - loss: 1.3136 - accuracy: 0.8938 - val_loss: 3.0074 - val_accuracy: 0.8235 - lr: 1.0000e-05\n",
      "Epoch 30/50\n",
      "259/259 [==============================] - ETA: 0s - loss: 1.2862 - accuracy: 0.9015 Epoch 30: Learning rate is 0.000010\n",
      "\n",
      "Epoch 30: val_loss improved from 2.77347 to 2.76297, saving model to model_inception_binary_bun.h5\n",
      "259/259 [==============================] - 28s 108ms/step - loss: 1.2862 - accuracy: 0.9015 - val_loss: 2.7630 - val_accuracy: 0.8039 - lr: 1.0000e-05\n",
      "Epoch 31/50\n",
      "259/259 [==============================] - ETA: 0s - loss: 1.3361 - accuracy: 0.8842 Epoch 31: Learning rate is 0.000010\n",
      "\n",
      "Epoch 31: val_loss did not improve from 2.76297\n",
      "259/259 [==============================] - 25s 97ms/step - loss: 1.3361 - accuracy: 0.8842 - val_loss: 3.2837 - val_accuracy: 0.8235 - lr: 1.0000e-05\n",
      "Epoch 32/50\n",
      "259/259 [==============================] - ETA: 0s - loss: 1.2219 - accuracy: 0.9073 Epoch 32: Learning rate is 0.000010\n",
      "\n",
      "Epoch 32: val_loss improved from 2.76297 to 2.54335, saving model to model_inception_binary_bun.h5\n",
      "259/259 [==============================] - 26s 99ms/step - loss: 1.2219 - accuracy: 0.9073 - val_loss: 2.5433 - val_accuracy: 0.7843 - lr: 1.0000e-05\n",
      "Epoch 33/50\n",
      "259/259 [==============================] - ETA: 0s - loss: 1.2030 - accuracy: 0.8996 Epoch 33: Learning rate is 0.000010\n",
      "\n",
      "Epoch 33: val_loss did not improve from 2.54335\n",
      "259/259 [==============================] - 25s 98ms/step - loss: 1.2030 - accuracy: 0.8996 - val_loss: 2.7460 - val_accuracy: 0.8039 - lr: 1.0000e-05\n",
      "Epoch 34/50\n",
      "259/259 [==============================] - ETA: 0s - loss: 1.3193 - accuracy: 0.8745 Epoch 34: Learning rate is 0.000010\n",
      "\n",
      "Epoch 34: val_loss did not improve from 2.54335\n",
      "259/259 [==============================] - 25s 98ms/step - loss: 1.3193 - accuracy: 0.8745 - val_loss: 3.1348 - val_accuracy: 0.8235 - lr: 1.0000e-05\n",
      "Epoch 35/50\n",
      "259/259 [==============================] - ETA: 0s - loss: 1.2305 - accuracy: 0.9073 Epoch 35: Learning rate is 0.000010\n",
      "\n",
      "Epoch 35: val_loss did not improve from 2.54335\n",
      "259/259 [==============================] - 25s 97ms/step - loss: 1.2305 - accuracy: 0.9073 - val_loss: 2.9544 - val_accuracy: 0.8235 - lr: 1.0000e-05\n",
      "Epoch 36/50\n",
      "259/259 [==============================] - ETA: 0s - loss: 1.2331 - accuracy: 0.8764 Epoch 36: Learning rate is 0.000010\n",
      "\n",
      "Epoch 36: val_loss did not improve from 2.54335\n",
      "259/259 [==============================] - 25s 97ms/step - loss: 1.2331 - accuracy: 0.8764 - val_loss: 2.7435 - val_accuracy: 0.8235 - lr: 1.0000e-05\n",
      "Epoch 37/50\n",
      "259/259 [==============================] - ETA: 0s - loss: 1.2333 - accuracy: 0.8919 Epoch 37: Learning rate is 0.000010\n",
      "\n",
      "Epoch 37: val_loss improved from 2.54335 to 2.42916, saving model to model_inception_binary_bun.h5\n",
      "259/259 [==============================] - 26s 101ms/step - loss: 1.2333 - accuracy: 0.8919 - val_loss: 2.4292 - val_accuracy: 0.8039 - lr: 1.0000e-05\n",
      "Epoch 38/50\n",
      "259/259 [==============================] - ETA: 0s - loss: 1.2503 - accuracy: 0.8784 Epoch 38: Learning rate is 0.000010\n",
      "\n",
      "Epoch 38: val_loss did not improve from 2.42916\n",
      "259/259 [==============================] - 27s 103ms/step - loss: 1.2503 - accuracy: 0.8784 - val_loss: 2.6414 - val_accuracy: 0.8235 - lr: 1.0000e-05\n",
      "Epoch 39/50\n",
      "259/259 [==============================] - ETA: 0s - loss: 1.1229 - accuracy: 0.8900 Epoch 39: Learning rate is 0.000010\n",
      "\n",
      "Epoch 39: val_loss did not improve from 2.42916\n",
      "259/259 [==============================] - 27s 103ms/step - loss: 1.1229 - accuracy: 0.8900 - val_loss: 2.6669 - val_accuracy: 0.8235 - lr: 1.0000e-05\n",
      "Epoch 40/50\n",
      "259/259 [==============================] - ETA: 0s - loss: 1.0959 - accuracy: 0.8919 Epoch 40: Learning rate is 0.000010\n",
      "\n",
      "Epoch 40: val_loss did not improve from 2.42916\n",
      "259/259 [==============================] - 26s 99ms/step - loss: 1.0959 - accuracy: 0.8919 - val_loss: 2.6276 - val_accuracy: 0.8235 - lr: 1.0000e-05\n",
      "Epoch 41/50\n",
      "259/259 [==============================] - ETA: 0s - loss: 1.1090 - accuracy: 0.8938 Epoch 41: Learning rate is 0.000010\n",
      "\n",
      "Epoch 41: val_loss did not improve from 2.42916\n",
      "259/259 [==============================] - 26s 101ms/step - loss: 1.1090 - accuracy: 0.8938 - val_loss: 2.6929 - val_accuracy: 0.8235 - lr: 1.0000e-05\n",
      "Epoch 42/50\n",
      "259/259 [==============================] - ETA: 0s - loss: 1.1839 - accuracy: 0.8880 Epoch 42: Learning rate is 0.000010\n",
      "\n",
      "Epoch 42: val_loss did not improve from 2.42916\n",
      "259/259 [==============================] - 27s 106ms/step - loss: 1.1839 - accuracy: 0.8880 - val_loss: 2.7548 - val_accuracy: 0.8235 - lr: 1.0000e-05\n",
      "Epoch 43/50\n",
      "259/259 [==============================] - ETA: 0s - loss: 1.1818 - accuracy: 0.8784 Epoch 43: Learning rate is 0.000010\n",
      "\n",
      "Epoch 43: val_loss did not improve from 2.42916\n",
      "259/259 [==============================] - 25s 97ms/step - loss: 1.1818 - accuracy: 0.8784 - val_loss: 2.8326 - val_accuracy: 0.8235 - lr: 1.0000e-05\n",
      "Epoch 44/50\n",
      "259/259 [==============================] - ETA: 0s - loss: 1.1434 - accuracy: 0.8842 Epoch 44: Learning rate is 0.000010\n",
      "\n",
      "Epoch 44: val_loss did not improve from 2.42916\n",
      "259/259 [==============================] - 25s 98ms/step - loss: 1.1434 - accuracy: 0.8842 - val_loss: 2.8373 - val_accuracy: 0.8235 - lr: 1.0000e-05\n",
      "Epoch 45/50\n",
      "259/259 [==============================] - ETA: 0s - loss: 1.0860 - accuracy: 0.8880 Epoch 45: Learning rate is 0.000010\n",
      "\n",
      "Epoch 45: val_loss did not improve from 2.42916\n",
      "259/259 [==============================] - 25s 97ms/step - loss: 1.0860 - accuracy: 0.8880 - val_loss: 2.5835 - val_accuracy: 0.8235 - lr: 1.0000e-05\n",
      "Epoch 46/50\n",
      "259/259 [==============================] - ETA: 0s - loss: 1.1306 - accuracy: 0.8938 Epoch 46: Learning rate is 0.000010\n",
      "\n",
      "Epoch 46: val_loss did not improve from 2.42916\n",
      "259/259 [==============================] - 25s 97ms/step - loss: 1.1306 - accuracy: 0.8938 - val_loss: 2.8535 - val_accuracy: 0.8235 - lr: 1.0000e-05\n",
      "Epoch 47/50\n",
      "259/259 [==============================] - ETA: 0s - loss: 1.0396 - accuracy: 0.8938 Epoch 47: Learning rate is 0.000010\n",
      "\n",
      "Epoch 47: val_loss did not improve from 2.42916\n",
      "259/259 [==============================] - 26s 100ms/step - loss: 1.0396 - accuracy: 0.8938 - val_loss: 2.4839 - val_accuracy: 0.8235 - lr: 1.0000e-05\n"
     ]
    }
   ],
   "source": [
    "# Saving the best result\n",
    "checkpoiter = tf.keras.callbacks.ModelCheckpoint('model_inception_binary_bun.h5', verbose=1, save_best_only=True)\n",
    "\n",
    "steps = train_generator.samples//train_generator.batch_size\n",
    "reduce_lr = ReduceLROnPlateau(monitor='val_accuracy', factor=0.1, patience=4, min_lr=0.00001, verbose=1)\n",
    "\n",
    "\n",
    "callbacks = [\n",
    "    tf.keras.callbacks.EarlyStopping(patience=10, monitor='val_loss'),\n",
    "    tf.keras.callbacks.TensorBoard(log_dir='logs'),\n",
    "     reduce_lr,\n",
    "    LearningRateLogger(),\n",
    "    checkpoiter\n",
    "\n",
    "]\n",
    "# Train\n",
    "results = model.fit(train_generator, \n",
    "                    validation_data=validation_generator,\n",
    "                    validation_steps=validation_generator.samples // validation_generator.batch_size,\n",
    "                    steps_per_epoch = steps,\n",
    "                    shuffle=True,\n",
    "                    epochs=50, \n",
    "                    callbacks=callbacks,\n",
    "                   )"
   ]
  },
  {
   "cell_type": "markdown",
   "id": "807a4ac5",
   "metadata": {},
   "source": [
    "## Results"
   ]
  },
  {
   "cell_type": "code",
   "execution_count": 16,
   "id": "275a290d",
   "metadata": {},
   "outputs": [
    {
     "name": "stdout",
     "output_type": "stream",
     "text": [
      "Accuracy Score =  0.8235294222831726\n",
      "Loss Score =  2.4291625022888184\n"
     ]
    }
   ],
   "source": [
    "print('Accuracy Score = ',np.max(results.history['val_accuracy']))\n",
    "\n",
    "print('Loss Score = ',np.min(results.history['val_loss']))"
   ]
  },
  {
   "cell_type": "markdown",
   "id": "c405cdea",
   "metadata": {},
   "source": [
    "### During training"
   ]
  },
  {
   "cell_type": "code",
   "execution_count": 25,
   "id": "a694f88b",
   "metadata": {},
   "outputs": [
    {
     "data": {
      "image/png": "[encoded data removed]",
      "text/plain": [
       "<Figure size 640x480 with 2 Axes>"
      ]
     },
     "metadata": {},
     "output_type": "display_data"
    }
   ],
   "source": [
    "plt.figure()\n",
    "plt.subplot(211)\n",
    "loss_train_curve = results.history[\"loss\"]\n",
    "loss_val_curve = results.history[\"val_loss\"]\n",
    "plt.plot(loss_train_curve, label = \"Loss\")\n",
    "plt.plot(loss_val_curve, label = \"Val_Loss\")\n",
    "plt.legend(loc = 'upper right')\n",
    "plt.ylabel(\"Loss\")\n",
    "\n",
    "\n",
    "plt.subplot(212)\n",
    "acc_train_curve = results.history[\"accuracy\"]\n",
    "acc_val_curve = results.history[\"val_accuracy\"]\n",
    "plt.plot(acc_train_curve, label = \"Accuracy\")\n",
    "plt.plot(acc_val_curve, label = \"Val_Accuracy\")\n",
    "plt.legend(loc = 'upper right')\n",
    "plt.ylabel(\"Accuracy\")\n",
    "plt.xlabel(\"Epoch\")\n",
    "plt.show()"
   ]
  },
  {
   "cell_type": "markdown",
   "id": "21cfc257",
   "metadata": {},
   "source": [
    "### Test the model"
   ]
  },
  {
   "cell_type": "code",
   "execution_count": 26,
   "id": "fd893086",
   "metadata": {},
   "outputs": [
    {
     "name": "stdout",
     "output_type": "stream",
     "text": [
      "Found 36 images belonging to 2 classes.\n",
      "36/36 [==============================] - 1s 24ms/step - loss: 1.8967 - accuracy: 0.7778\n",
      "[1.896666407585144, 0.7777777910232544]\n"
     ]
    }
   ],
   "source": [
    "\n",
    "# divisible with 36: 2, 3, 4, 6, 9, 12, 18\n",
    "test_batch_size = 1\n",
    "\n",
    "test_datagen = ImageDataGenerator(rescale=1./255)\n",
    "\n",
    "test_generator = test_datagen.flow_from_directory(\n",
    "    TEST_PATH,\n",
    "    target_size=input_size[1:],\n",
    "    batch_size=test_batch_size,\n",
    "    shuffle=False,\n",
    "class_mode='categorical')\n",
    "\n",
    "scores = model.evaluate(test_generator,workers=12)\n",
    "print(scores)"
   ]
  },
  {
   "cell_type": "markdown",
   "id": "2dd76b14",
   "metadata": {},
   "source": [
    "### Make predictions"
   ]
  },
  {
   "cell_type": "code",
   "execution_count": 27,
   "id": "69267e7f",
   "metadata": {},
   "outputs": [
    {
     "name": "stdout",
     "output_type": "stream",
     "text": [
      "36/36 [==============================] - 1s 22ms/step\n",
      "[0 0 0 0 0 0 0 1 1 1 1 1 1 1 1 1 1 1 1 1 1 1 1 1 1 1 1 1 1 1 1 1 1 1 1 1]\n",
      "[1 1 1 1 1 0 1 1 1 1 1 0 1 1 1 1 1 1 1 1 1 0 1 1 1 1 1 1 1 1 1 1 1 1 1 1]\n",
      "0.7777777777777778\n"
     ]
    }
   ],
   "source": [
    "test_generator.reset()\n",
    "\n",
    "Y_pred = model.predict(test_generator, verbose=1)\n",
    "\n",
    "y_pred = np.argmax(Y_pred, axis=-1)\n",
    "classes = test_generator.classes\n",
    "\n",
    "print(classes)\n",
    "print(y_pred)\n",
    "\n",
    "print(sum(y_pred==classes)/len(test_generator.classes))\n",
    "target_names = list(test_generator.class_indices.keys())"
   ]
  },
  {
   "cell_type": "markdown",
   "id": "a09525cb",
   "metadata": {},
   "source": [
    "### Confusion Matrix"
   ]
  },
  {
   "cell_type": "code",
   "execution_count": 20,
   "id": "590d58d4",
   "metadata": {},
   "outputs": [
    {
     "data": {
      "image/png": "[encoded data removed]",
      "text/plain": [
       "<Figure size 640x480 with 2 Axes>"
      ]
     },
     "metadata": {},
     "output_type": "display_data"
    }
   ],
   "source": [
    "# Confusion Matrix\n",
    "cm = confusion_matrix(test_generator.classes, y_pred)\n",
    "\n",
    "disp = ConfusionMatrixDisplay(confusion_matrix=cm, display_labels=target_names)\n",
    "\n",
    "disp.plot()\n",
    "plt.grid(False)\n",
    "plt.show()"
   ]
  },
  {
   "cell_type": "code",
   "execution_count": 21,
   "id": "0e83d93a",
   "metadata": {},
   "outputs": [],
   "source": [
    "TN, FP, FN, TP = cm.ravel()"
   ]
  },
  {
   "cell_type": "code",
   "execution_count": 22,
   "id": "f173ea12",
   "metadata": {},
   "outputs": [
    {
     "name": "stdout",
     "output_type": "stream",
     "text": [
      "True positive= 27\n",
      "True Negative= 1\n",
      "False positive= 6\n",
      "False Negative= 2\n"
     ]
    }
   ],
   "source": [
    "print(\"True positive=\",TP)\n",
    "print(\"True Negative=\",TN)\n",
    "print(\"False positive=\",FP)\n",
    "print(\"False Negative=\",FN)"
   ]
  },
  {
   "cell_type": "code",
   "execution_count": 23,
   "id": "c1395ff0",
   "metadata": {},
   "outputs": [],
   "source": [
    "# Sensitivity, hit rate, recall, or true positive rate\n",
    "TPR = TP/(TP+FN)\n",
    "# Specificity or true negative rate\n",
    "TNR = TN/(TN+FP) \n",
    "# Precision or positive predictive value\n",
    "PPV = TP/(TP+FP)\n",
    "# Negative predictive value\n",
    "NPV = TN/(TN+FN)\n",
    "# Fall out or false positive rate\n",
    "FPR = FP/(FP+TN)\n",
    "# False negative rate\n",
    "FNR = FN/(TP+FN)\n",
    "# False discovery rate\n",
    "FDR = FP/(TP+FP)\n",
    "#F1_SCORE\n",
    "FSCO=(2*TP) / ((2*TP) +FP + FN) \n",
    "# Overall accuracy\n",
    "ACC = (TP+TN)/(TP+FP+FN+TN)"
   ]
  },
  {
   "cell_type": "code",
   "execution_count": 24,
   "id": "34449449",
   "metadata": {},
   "outputs": [
    {
     "name": "stdout",
     "output_type": "stream",
     "text": [
      "sensitivity= 93.10344827586206 %\n",
      "precision= 81.81818181818183 %\n",
      "Specificity= 14.285714285714285 %\n",
      "F-score= 87.09677419354838 %\n",
      "ACCURACY= 77.77777777777779 %\n",
      "FNR= 6.896551724137931 %\n",
      "FPR= 85.71428571428571 %\n",
      "NPV= 33.33333333333333 %\n"
     ]
    }
   ],
   "source": [
    "print(\"sensitivity=\",TPR*100,\"%\")\n",
    "print(\"precision=\",PPV*100,\"%\")\n",
    "print(\"Specificity=\",TNR*100,\"%\")\n",
    "print(\"F-score=\",FSCO*100,\"%\")\n",
    "print(\"ACCURACY=\",ACC*100,\"%\")\n",
    "print(\"FNR=\",FNR*100,\"%\")\n",
    "print(\"FPR=\",FPR*100,\"%\")\n",
    "print(\"NPV=\",NPV*100,\"%\")"
   ]
  }
 ],
 "metadata": {
  "kernelspec": {
   "display_name": "Python 3 (ipykernel)",
   "language": "python",
   "name": "python3"
  },
  "language_info": {
   "codemirror_mode": {
    "name": "ipython",
    "version": 3
   },
   "file_extension": ".py",
   "mimetype": "text/x-python",
   "name": "python",
   "nbconvert_exporter": "python",
   "pygments_lexer": "ipython3",
   "version": "3.10.9"
  }
 },
 "nbformat": 4,
 "nbformat_minor": 5
}
