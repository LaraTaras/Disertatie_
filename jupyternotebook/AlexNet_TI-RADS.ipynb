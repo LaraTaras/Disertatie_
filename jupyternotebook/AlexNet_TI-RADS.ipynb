{
 "cells": [
  {
   "cell_type": "markdown",
   "id": "dce826ba",
   "metadata": {},
   "source": [
    "# AlexNet model"
   ]
  },
  {
   "cell_type": "markdown",
   "id": "9408e78e",
   "metadata": {},
   "source": [
    "### AlexNet with TIRADS"
   ]
  },
  {
   "cell_type": "markdown",
   "id": "cc53d2a7",
   "metadata": {},
   "source": [
    "## Get packages"
   ]
  },
  {
   "cell_type": "code",
   "execution_count": 4,
   "id": "298f301c",
   "metadata": {},
   "outputs": [],
   "source": [
    "import tensorflow as tf\n",
    "import os\n",
    "import random\n",
    "import numpy as np\n",
    "from tqdm import tqdm\n",
    "import albumentations as A\n",
    "import cv2\n",
    "\n",
    "from skimage.io import imread\n",
    "from skimage.io import imshow\n",
    "from skimage.util import crop\n",
    "from skimage.transform import resize\n",
    "import matplotlib.pyplot as plt\n",
    "\n",
    "\n",
    "from tensorflow import keras\n",
    "from keras.models import Sequential\n",
    "from keras.layers import Dense, Flatten, Conv2D, MaxPooling2D, Dropout\n",
    "from tensorflow.keras import layers\n",
    "from tensorflow.keras.utils import to_categorical\n",
    "from tensorflow.keras.optimizers.legacy import Adam\n",
    "from tensorflow.keras import regularizers\n",
    "\n",
    "import numpy as np\n",
    "import pandas as pd\n",
    "import matplotlib.pyplot as plt\n",
    "import keras\n",
    "from keras.layers import *\n",
    "from keras import models\n",
    "from keras.preprocessing import image\n",
    "from keras.preprocessing.image import ImageDataGenerator\n",
    "\n",
    "\n",
    "from sklearn.metrics import classification_report\n",
    "from sklearn.metrics import confusion_matrix\n",
    "from sklearn.metrics import ConfusionMatrixDisplay\n",
    "from sklearn.metrics import confusion_matrix, ConfusionMatrixDisplay\n",
    "from tensorflow.keras.callbacks import ReduceLROnPlateau, Callback"
   ]
  },
  {
   "cell_type": "markdown",
   "id": "adc3587b",
   "metadata": {},
   "source": [
    "## Paths"
   ]
  },
  {
   "cell_type": "code",
   "execution_count": 1,
   "id": "aa69648a",
   "metadata": {},
   "outputs": [],
   "source": [
    "TRAIN_PATH = 'archive/classification/tirads/frame/neaug/train'\n",
    "TEST_PATH = 'archive/classification/tirads/frame/neaug/test'\n",
    "VALID_PATH = 'archive/classification/tirads/frame/neaug/validate'"
   ]
  },
  {
   "cell_type": "code",
   "execution_count": 2,
   "id": "2731ede3",
   "metadata": {},
   "outputs": [],
   "source": [
    "input_size = (3,227,227)"
   ]
  },
  {
   "cell_type": "markdown",
   "id": "08b576f2",
   "metadata": {},
   "source": [
    "## Load and Prepare Images"
   ]
  },
  {
   "cell_type": "code",
   "execution_count": 5,
   "id": "dcafd8bd",
   "metadata": {},
   "outputs": [
    {
     "name": "stdout",
     "output_type": "stream",
     "text": [
      "Found 258 images belonging to 6 classes.\n",
      "Found 52 images belonging to 6 classes.\n"
     ]
    }
   ],
   "source": [
    "\n",
    "# for neaug frame\n",
    "# divisible with 258: 2, 3, 6, 43, 86, 129 \n",
    "train_batchsize = 6\n",
    "# divisible with 52: 2, 4, 13 \n",
    "valid_batchsize = 4\n",
    "\n",
    "\n",
    "# #for aug frame\n",
    "# # divisible with 518: 2, 259.\n",
    "# train_batchsize = 2\n",
    "# # divisible with 52: 2, 4, 13 \n",
    "# valid_batchsize = 4\n",
    "\n",
    "\n",
    "# #for balance frame\n",
    "# # divisible with 426: 2, 3, 6, 71, 142, 213\n",
    "# train_batchsize = 6\n",
    "# # divisible with 18: 2, 3, 6, 9\n",
    "# valid_batchsize = 3\n",
    "\n",
    "\n",
    "# # for neaug no frame\n",
    "# # divisible with 258: 2, 3, 6, 43, 86, 129 \n",
    "# train_batchsize = 6\n",
    "# # divisible with 52: 2, 4, 13 \n",
    "# valid_batchsize = 4\n",
    "\n",
    "\n",
    "# #for aug no frame\n",
    "# # divisible with 518: 2, 259\n",
    "# train_batchsize = 2\n",
    "# # divisible with 52: 2, 4, 13 \n",
    "# valid_batchsize = 4\n",
    "\n",
    "\n",
    "# #for balance no frane\n",
    "# # divisible with 426: 2, 3, 6, 71, 142, 213\n",
    "# train_batchsize = 6\n",
    "# # divisible with 18: 2, 3, 6, 9\n",
    "# valid_batchsize = 3\n",
    "\n",
    "\n",
    "\n",
    "\n",
    "# S-a folosit din totalul datelor 75% pentru validare si antrenare 15% pt testare 10%\n",
    "train_datagen = ImageDataGenerator(rescale=1./255\n",
    "\n",
    ")\n",
    "\n",
    "validation_datagen = ImageDataGenerator(rescale=1./255)\n",
    "                                  \n",
    "\n",
    "train_generator = train_datagen.flow_from_directory(\n",
    "        TRAIN_PATH,  \n",
    "        shuffle=True,\n",
    "         batch_size=train_batchsize,\n",
    "        target_size=input_size[1:],\n",
    "        class_mode='categorical')  \n",
    "\n",
    "validation_generator = validation_datagen.flow_from_directory(\n",
    "        VALID_PATH,  \n",
    "        target_size=input_size[1:],\n",
    "        shuffle=True,\n",
    "         batch_size=valid_batchsize,\n",
    "        class_mode='categorical')"
   ]
  },
  {
   "cell_type": "markdown",
   "id": "b559ccc9",
   "metadata": {},
   "source": [
    "## Make the model"
   ]
  },
  {
   "cell_type": "markdown",
   "id": "64759e1b",
   "metadata": {},
   "source": [
    "### From scratch"
   ]
  },
  {
   "cell_type": "markdown",
   "id": "58cfda79",
   "metadata": {},
   "source": [
    "#### Complex Model"
   ]
  },
  {
   "cell_type": "code",
   "execution_count": 91,
   "id": "03da4820",
   "metadata": {},
   "outputs": [
    {
     "name": "stdout",
     "output_type": "stream",
     "text": [
      "Model: \"sequential_8\"\n",
      "_________________________________________________________________\n",
      " Layer (type)                Output Shape              Param #   \n",
      "=================================================================\n",
      " conv2d_24 (Conv2D)          (None, 54, 54, 32)        11648     \n",
      "                                                                 \n",
      " activation_40 (Activation)  (None, 54, 54, 32)        0         \n",
      "                                                                 \n",
      " max_pooling2d_24 (MaxPooli  (None, 27, 27, 32)        0         \n",
      " ng2D)                                                           \n",
      "                                                                 \n",
      " conv2d_25 (Conv2D)          (None, 17, 17, 64)        247872    \n",
      "                                                                 \n",
      " activation_41 (Activation)  (None, 17, 17, 64)        0         \n",
      "                                                                 \n",
      " max_pooling2d_25 (MaxPooli  (None, 8, 8, 64)          0         \n",
      " ng2D)                                                           \n",
      "                                                                 \n",
      " conv2d_26 (Conv2D)          (None, 6, 6, 64)          36928     \n",
      "                                                                 \n",
      " activation_42 (Activation)  (None, 6, 6, 64)          0         \n",
      "                                                                 \n",
      " conv2d_27 (Conv2D)          (None, 4, 4, 128)         73856     \n",
      "                                                                 \n",
      " activation_43 (Activation)  (None, 4, 4, 128)         0         \n",
      "                                                                 \n",
      " conv2d_28 (Conv2D)          (None, 2, 2, 256)         295168    \n",
      "                                                                 \n",
      " activation_44 (Activation)  (None, 2, 2, 256)         0         \n",
      "                                                                 \n",
      " max_pooling2d_26 (MaxPooli  (None, 1, 1, 256)         0         \n",
      " ng2D)                                                           \n",
      "                                                                 \n",
      " flatten_8 (Flatten)         (None, 256)               0         \n",
      "                                                                 \n",
      " dense_24 (Dense)            (None, 200)               51400     \n",
      "                                                                 \n",
      " activation_45 (Activation)  (None, 200)               0         \n",
      "                                                                 \n",
      " dropout_16 (Dropout)        (None, 200)               0         \n",
      "                                                                 \n",
      " dense_25 (Dense)            (None, 100)               20100     \n",
      "                                                                 \n",
      " activation_46 (Activation)  (None, 100)               0         \n",
      "                                                                 \n",
      " dropout_17 (Dropout)        (None, 100)               0         \n",
      "                                                                 \n",
      " dense_26 (Dense)            (None, 50)                5050      \n",
      "                                                                 \n",
      " activation_47 (Activation)  (None, 50)                0         \n",
      "                                                                 \n",
      " dropout_18 (Dropout)        (None, 50)                0         \n",
      "                                                                 \n",
      " dense_27 (Dense)            (None, 6)                 306       \n",
      "                                                                 \n",
      " activation_48 (Activation)  (None, 6)                 0         \n",
      "                                                                 \n",
      "=================================================================\n",
      "Total params: 742328 (2.83 MB)\n",
      "Trainable params: 742328 (2.83 MB)\n",
      "Non-trainable params: 0 (0.00 Byte)\n",
      "_________________________________________________________________\n"
     ]
    }
   ],
   "source": [
    "#Instantiate an empty model\n",
    "model = Sequential()\n",
    "\n",
    "# 1st Convolutional Layer\n",
    "model.add(Conv2D(filters=32, input_shape=(224,224,3), kernel_size=(11,11), strides=(4,4), padding=\"valid\"))\n",
    "model.add(Activation('relu'))\n",
    "# Max Pooling\n",
    "model.add(MaxPooling2D(pool_size=(2,2), strides=(2,2), padding='valid'))\n",
    "\n",
    "# 2nd Convolutional Layer\n",
    "model.add(Conv2D(filters=64, kernel_size=(11,11), strides=(1,1), padding='valid'))\n",
    "model.add(Activation('relu'))\n",
    "# Max Pooling\n",
    "model.add(MaxPooling2D(pool_size=(2,2), strides=(2,2), padding='valid'))\n",
    "\n",
    "# 3rd Convolutional Layer\n",
    "model.add(Conv2D(filters=64, kernel_size=(3,3), strides=(1,1), padding='valid'))\n",
    "model.add(Activation('relu'))\n",
    "\n",
    "# 4th Convolutional Layer\n",
    "model.add(Conv2D(filters=128, kernel_size=(3,3), strides=(1,1), padding='valid'))\n",
    "model.add(Activation('relu'))\n",
    "\n",
    "# 5th Convolutional Layer\n",
    "model.add(Conv2D(filters=256, kernel_size=(3,3), strides=(1,1), padding='valid'))\n",
    "model.add(Activation('relu'))\n",
    "# Max Pooling\n",
    "model.add(MaxPooling2D(pool_size=(2,2), strides=(2,2), padding='valid'))\n",
    "\n",
    "# Passing it to a Fully Connected layer\n",
    "model.add(Flatten())\n",
    "# 1st Fully Connected Layer\n",
    "model.add(Dense(200, input_shape=(224*224*3,)))\n",
    "model.add(Activation('relu'))\n",
    "# Add Dropout to prevent overfitting\n",
    "model.add(Dropout(0.25))\n",
    "\n",
    "# 2nd Fully Connected Layer\n",
    "model.add(Dense(100))\n",
    "model.add(Activation('relu'))\n",
    "# Add Dropout\n",
    "model.add(Dropout(0.2))\n",
    "\n",
    "# 3rd Fully Connected Layer\n",
    "model.add(Dense(50))\n",
    "model.add(Activation('relu'))\n",
    "# Add Dropout\n",
    "model.add(Dropout(0.1))\n",
    "\n",
    "# Output Layer\n",
    "model.add(Dense(6))\n",
    "model.add(Activation('softmax'))\n",
    "\n",
    "model.summary()"
   ]
  },
  {
   "cell_type": "markdown",
   "id": "e1b1d80f",
   "metadata": {},
   "source": [
    "#### Simple model"
   ]
  },
  {
   "cell_type": "code",
   "execution_count": 10,
   "id": "23eac5c2",
   "metadata": {},
   "outputs": [
    {
     "name": "stdout",
     "output_type": "stream",
     "text": [
      "Model: \"sequential_1\"\n",
      "_________________________________________________________________\n",
      " Layer (type)                Output Shape              Param #   \n",
      "=================================================================\n",
      " conv2d_3 (Conv2D)           (None, 225, 225, 32)      896       \n",
      "                                                                 \n",
      " activation_5 (Activation)   (None, 225, 225, 32)      0         \n",
      "                                                                 \n",
      " max_pooling2d_3 (MaxPoolin  (None, 112, 112, 32)      0         \n",
      " g2D)                                                            \n",
      "                                                                 \n",
      " conv2d_4 (Conv2D)           (None, 110, 110, 64)      18496     \n",
      "                                                                 \n",
      " activation_6 (Activation)   (None, 110, 110, 64)      0         \n",
      "                                                                 \n",
      " max_pooling2d_4 (MaxPoolin  (None, 55, 55, 64)        0         \n",
      " g2D)                                                            \n",
      "                                                                 \n",
      " conv2d_5 (Conv2D)           (None, 53, 53, 128)       73856     \n",
      "                                                                 \n",
      " activation_7 (Activation)   (None, 53, 53, 128)       0         \n",
      "                                                                 \n",
      " max_pooling2d_5 (MaxPoolin  (None, 26, 26, 128)       0         \n",
      " g2D)                                                            \n",
      "                                                                 \n",
      " flatten_1 (Flatten)         (None, 86528)             0         \n",
      "                                                                 \n",
      " dense_3 (Dense)             (None, 128)               11075712  \n",
      "                                                                 \n",
      " activation_8 (Activation)   (None, 128)               0         \n",
      "                                                                 \n",
      " dropout_2 (Dropout)         (None, 128)               0         \n",
      "                                                                 \n",
      " dense_4 (Dense)             (None, 64)                8256      \n",
      "                                                                 \n",
      " activation_9 (Activation)   (None, 64)                0         \n",
      "                                                                 \n",
      " dropout_3 (Dropout)         (None, 64)                0         \n",
      "                                                                 \n",
      " dense_5 (Dense)             (None, 6)                 390       \n",
      "                                                                 \n",
      "=================================================================\n",
      "Total params: 11177606 (42.64 MB)\n",
      "Trainable params: 11177606 (42.64 MB)\n",
      "Non-trainable params: 0 (0.00 Byte)\n",
      "_________________________________________________________________\n"
     ]
    }
   ],
   "source": [
    "\n",
    "model = Sequential()\n",
    "\n",
    "# Convolutional Layers\n",
    "model.add(Conv2D(32, (3, 3), input_shape=(227, 227, 3)))\n",
    "# model.add(BatchNormalization())\n",
    "model.add(Activation('relu'))\n",
    "model.add(MaxPooling2D((2, 2)))\n",
    "\n",
    "model.add(Conv2D(64, (3, 3),kernel_regularizer=regularizers.l2(0.01)))\n",
    "# model.add(BatchNormalization())\n",
    "model.add(Activation('relu'))\n",
    "model.add(MaxPooling2D((2, 2)))\n",
    "\n",
    "model.add(Conv2D(128, (3, 3),kernel_regularizer=regularizers.l2(0.01)))\n",
    "# model.add(BatchNormalization())\n",
    "model.add(Activation('relu'))\n",
    "model.add(MaxPooling2D((2, 2)))\n",
    "\n",
    "# Flatten and Dense Layers\n",
    "model.add(Flatten())\n",
    "\n",
    "model.add(Dense(128, kernel_regularizer=regularizers.l2(0.01)))\n",
    "# model.add(BatchNormalization())\n",
    "model.add(Activation('relu'))\n",
    "model.add(Dropout(0.5))  # Dropout for regularization\n",
    "\n",
    "model.add(Dense(64, kernel_regularizer=regularizers.l2(0.01)))\n",
    "# model.add(BatchNormalization())\n",
    "model.add(Activation('relu'))\n",
    "model.add(Dropout(0.5))\n",
    "\n",
    "model.add(Dense(6, activation='softmax')) \n",
    "\n",
    "model.summary()"
   ]
  },
  {
   "cell_type": "code",
   "execution_count": 15,
   "id": "eac38b42",
   "metadata": {},
   "outputs": [
    {
     "data": {
      "text/plain": [
       "{'2': 0, '3': 1, '4a': 2, '4b': 3, '4c': 4, '5': 5}"
      ]
     },
     "execution_count": 15,
     "metadata": {},
     "output_type": "execute_result"
    }
   ],
   "source": [
    "train_generator.class_indices"
   ]
  },
  {
   "cell_type": "markdown",
   "id": "53f762e8",
   "metadata": {},
   "source": [
    "## Train the model"
   ]
  },
  {
   "cell_type": "code",
   "execution_count": 11,
   "id": "30563689",
   "metadata": {},
   "outputs": [],
   "source": [
    "class LearningRateLogger(Callback):\n",
    "    def on_epoch_end(self, epoch, logs=None):\n",
    "        lr = self.model.optimizer.learning_rate\n",
    "        if isinstance(lr, tf.Variable) or tf.is_tensor(lr):\n",
    "            lr = tf.keras.backend.get_value(lr)\n",
    "        print(f\" Epoch {epoch+1}: Learning rate is {lr:.6f}\")"
   ]
  },
  {
   "cell_type": "code",
   "execution_count": 12,
   "id": "7aaa8175",
   "metadata": {},
   "outputs": [],
   "source": [
    "# Compile the model\n",
    "model.compile(\n",
    "              loss=keras.losses.CategoricalCrossentropy(), \n",
    "#               loss=keras.losses.BinaryFocalCrossentropy(),\n",
    "           optimizer=keras.optimizers.legacy.Adamax(learning_rate=0.001),\n",
    "              metrics=['accuracy'],\n",
    "    \n",
    "             )"
   ]
  },
  {
   "cell_type": "code",
   "execution_count": 13,
   "id": "53167d04",
   "metadata": {},
   "outputs": [
    {
     "name": "stdout",
     "output_type": "stream",
     "text": [
      "Epoch 1/50\n",
      "43/43 [==============================] - ETA: 0s - loss: 4.4011 - accuracy: 0.1977 Epoch 1: Learning rate is 0.001000\n",
      "\n",
      "Epoch 1: val_loss improved from inf to 3.56642, saving model to model_alexnet_tirads_bun.h5\n",
      "43/43 [==============================] - 6s 125ms/step - loss: 4.4011 - accuracy: 0.1977 - val_loss: 3.5664 - val_accuracy: 0.2308 - lr: 0.0010\n",
      "Epoch 2/50\n",
      "43/43 [==============================] - ETA: 0s - loss: 3.3330 - accuracy: 0.2752 Epoch 2: Learning rate is 0.001000\n",
      "\n",
      "Epoch 2: val_loss improved from 3.56642 to 3.06280, saving model to model_alexnet_tirads_bun.h5\n",
      "43/43 [==============================] - 6s 130ms/step - loss: 3.3330 - accuracy: 0.2752 - val_loss: 3.0628 - val_accuracy: 0.2692 - lr: 0.0010\n",
      "Epoch 3/50\n",
      "43/43 [==============================] - ETA: 0s - loss: 2.9239 - accuracy: 0.2364 Epoch 3: Learning rate is 0.001000\n",
      "\n",
      "Epoch 3: val_loss improved from 3.06280 to 2.78767, saving model to model_alexnet_tirads_bun.h5\n",
      "43/43 [==============================] - 6s 132ms/step - loss: 2.9239 - accuracy: 0.2364 - val_loss: 2.7877 - val_accuracy: 0.2692 - lr: 0.0010\n",
      "Epoch 4/50\n",
      "43/43 [==============================] - ETA: 0s - loss: 2.7455 - accuracy: 0.2093 Epoch 4: Learning rate is 0.001000\n",
      "\n",
      "Epoch 4: val_loss improved from 2.78767 to 2.63359, saving model to model_alexnet_tirads_bun.h5\n",
      "43/43 [==============================] - 5s 124ms/step - loss: 2.7455 - accuracy: 0.2093 - val_loss: 2.6336 - val_accuracy: 0.2692 - lr: 0.0010\n",
      "Epoch 5/50\n",
      "43/43 [==============================] - ETA: 0s - loss: 2.5621 - accuracy: 0.2791 Epoch 5: Learning rate is 0.001000\n",
      "\n",
      "Epoch 5: val_loss improved from 2.63359 to 2.52709, saving model to model_alexnet_tirads_bun.h5\n",
      "43/43 [==============================] - 5s 124ms/step - loss: 2.5621 - accuracy: 0.2791 - val_loss: 2.5271 - val_accuracy: 0.3462 - lr: 0.0010\n",
      "Epoch 6/50\n",
      "43/43 [==============================] - ETA: 0s - loss: 2.4695 - accuracy: 0.3023 Epoch 6: Learning rate is 0.001000\n",
      "\n",
      "Epoch 6: val_loss improved from 2.52709 to 2.45433, saving model to model_alexnet_tirads_bun.h5\n",
      "43/43 [==============================] - 6s 129ms/step - loss: 2.4695 - accuracy: 0.3023 - val_loss: 2.4543 - val_accuracy: 0.3462 - lr: 0.0010\n",
      "Epoch 7/50\n",
      "43/43 [==============================] - ETA: 0s - loss: 2.3747 - accuracy: 0.2713 Epoch 7: Learning rate is 0.001000\n",
      "\n",
      "Epoch 7: val_loss improved from 2.45433 to 2.36212, saving model to model_alexnet_tirads_bun.h5\n",
      "43/43 [==============================] - 6s 130ms/step - loss: 2.3747 - accuracy: 0.2713 - val_loss: 2.3621 - val_accuracy: 0.2308 - lr: 0.0010\n",
      "Epoch 8/50\n",
      "43/43 [==============================] - ETA: 0s - loss: 2.3069 - accuracy: 0.3450 Epoch 8: Learning rate is 0.001000\n",
      "\n",
      "Epoch 8: val_loss improved from 2.36212 to 2.31044, saving model to model_alexnet_tirads_bun.h5\n",
      "43/43 [==============================] - 6s 132ms/step - loss: 2.3069 - accuracy: 0.3450 - val_loss: 2.3104 - val_accuracy: 0.3462 - lr: 0.0010\n",
      "Epoch 9/50\n",
      "43/43 [==============================] - ETA: 0s - loss: 2.2742 - accuracy: 0.3140\n",
      "Epoch 9: ReduceLROnPlateau reducing learning rate to 0.00010000000474974513.\n",
      " Epoch 9: Learning rate is 0.000100\n",
      "\n",
      "Epoch 9: val_loss improved from 2.31044 to 2.28488, saving model to model_alexnet_tirads_bun.h5\n",
      "43/43 [==============================] - 6s 138ms/step - loss: 2.2742 - accuracy: 0.3140 - val_loss: 2.2849 - val_accuracy: 0.3462 - lr: 0.0010\n",
      "Epoch 10/50\n",
      "43/43 [==============================] - ETA: 0s - loss: 2.2425 - accuracy: 0.2868 Epoch 10: Learning rate is 0.000100\n",
      "\n",
      "Epoch 10: val_loss improved from 2.28488 to 2.27350, saving model to model_alexnet_tirads_bun.h5\n",
      "43/43 [==============================] - 6s 138ms/step - loss: 2.2425 - accuracy: 0.2868 - val_loss: 2.2735 - val_accuracy: 0.3462 - lr: 1.0000e-04\n",
      "Epoch 11/50\n",
      "43/43 [==============================] - ETA: 0s - loss: 2.2031 - accuracy: 0.2868 Epoch 11: Learning rate is 0.000100\n",
      "\n",
      "Epoch 11: val_loss improved from 2.27350 to 2.26264, saving model to model_alexnet_tirads_bun.h5\n",
      "43/43 [==============================] - 6s 136ms/step - loss: 2.2031 - accuracy: 0.2868 - val_loss: 2.2626 - val_accuracy: 0.3462 - lr: 1.0000e-04\n",
      "Epoch 12/50\n",
      "43/43 [==============================] - ETA: 0s - loss: 2.2200 - accuracy: 0.2674 Epoch 12: Learning rate is 0.000100\n",
      "\n",
      "Epoch 12: val_loss improved from 2.26264 to 2.25630, saving model to model_alexnet_tirads_bun.h5\n",
      "43/43 [==============================] - 6s 132ms/step - loss: 2.2200 - accuracy: 0.2674 - val_loss: 2.2563 - val_accuracy: 0.3462 - lr: 1.0000e-04\n",
      "Epoch 13/50\n",
      "43/43 [==============================] - ETA: 0s - loss: 2.2333 - accuracy: 0.2868\n",
      "Epoch 13: ReduceLROnPlateau reducing learning rate to 1.0000000474974514e-05.\n",
      " Epoch 13: Learning rate is 0.000010\n",
      "\n",
      "Epoch 13: val_loss improved from 2.25630 to 2.25310, saving model to model_alexnet_tirads_bun.h5\n",
      "43/43 [==============================] - 6s 143ms/step - loss: 2.2333 - accuracy: 0.2868 - val_loss: 2.2531 - val_accuracy: 0.3462 - lr: 1.0000e-04\n",
      "Epoch 14/50\n",
      "43/43 [==============================] - ETA: 0s - loss: 2.2015 - accuracy: 0.2791 Epoch 14: Learning rate is 0.000010\n",
      "\n",
      "Epoch 14: val_loss improved from 2.25310 to 2.25228, saving model to model_alexnet_tirads_bun.h5\n",
      "43/43 [==============================] - 6s 136ms/step - loss: 2.2015 - accuracy: 0.2791 - val_loss: 2.2523 - val_accuracy: 0.3462 - lr: 1.0000e-05\n",
      "Epoch 15/50\n",
      "43/43 [==============================] - ETA: 0s - loss: 2.2325 - accuracy: 0.2907 Epoch 15: Learning rate is 0.000010\n",
      "\n",
      "Epoch 15: val_loss improved from 2.25228 to 2.25227, saving model to model_alexnet_tirads_bun.h5\n",
      "43/43 [==============================] - 6s 145ms/step - loss: 2.2325 - accuracy: 0.2907 - val_loss: 2.2523 - val_accuracy: 0.3462 - lr: 1.0000e-05\n",
      "Epoch 16/50\n",
      "43/43 [==============================] - ETA: 0s - loss: 2.2101 - accuracy: 0.2868 Epoch 16: Learning rate is 0.000010\n",
      "\n",
      "Epoch 16: val_loss improved from 2.25227 to 2.25183, saving model to model_alexnet_tirads_bun.h5\n",
      "43/43 [==============================] - 6s 145ms/step - loss: 2.2101 - accuracy: 0.2868 - val_loss: 2.2518 - val_accuracy: 0.3462 - lr: 1.0000e-05\n",
      "Epoch 17/50\n",
      "43/43 [==============================] - ETA: 0s - loss: 2.2082 - accuracy: 0.2558\n",
      "Epoch 17: ReduceLROnPlateau reducing learning rate to 1e-05.\n",
      " Epoch 17: Learning rate is 0.000010\n",
      "\n",
      "Epoch 17: val_loss improved from 2.25183 to 2.25109, saving model to model_alexnet_tirads_bun.h5\n",
      "43/43 [==============================] - 6s 143ms/step - loss: 2.2082 - accuracy: 0.2558 - val_loss: 2.2511 - val_accuracy: 0.3462 - lr: 1.0000e-05\n",
      "Epoch 18/50\n",
      "43/43 [==============================] - ETA: 0s - loss: 2.2121 - accuracy: 0.2984 Epoch 18: Learning rate is 0.000010\n",
      "\n",
      "Epoch 18: val_loss improved from 2.25109 to 2.25015, saving model to model_alexnet_tirads_bun.h5\n",
      "43/43 [==============================] - 6s 142ms/step - loss: 2.2121 - accuracy: 0.2984 - val_loss: 2.2502 - val_accuracy: 0.3462 - lr: 1.0000e-05\n",
      "Epoch 19/50\n",
      "43/43 [==============================] - ETA: 0s - loss: 2.2422 - accuracy: 0.2519 Epoch 19: Learning rate is 0.000010\n",
      "\n",
      "Epoch 19: val_loss improved from 2.25015 to 2.25007, saving model to model_alexnet_tirads_bun.h5\n",
      "43/43 [==============================] - 6s 148ms/step - loss: 2.2422 - accuracy: 0.2519 - val_loss: 2.2501 - val_accuracy: 0.3462 - lr: 1.0000e-05\n",
      "Epoch 20/50\n",
      "43/43 [==============================] - ETA: 0s - loss: 2.2151 - accuracy: 0.2829 Epoch 20: Learning rate is 0.000010\n",
      "\n",
      "Epoch 20: val_loss improved from 2.25007 to 2.24971, saving model to model_alexnet_tirads_bun.h5\n",
      "43/43 [==============================] - 6s 145ms/step - loss: 2.2151 - accuracy: 0.2829 - val_loss: 2.2497 - val_accuracy: 0.3462 - lr: 1.0000e-05\n",
      "Epoch 21/50\n",
      "43/43 [==============================] - ETA: 0s - loss: 2.2081 - accuracy: 0.2868 Epoch 21: Learning rate is 0.000010\n",
      "\n",
      "Epoch 21: val_loss improved from 2.24971 to 2.24897, saving model to model_alexnet_tirads_bun.h5\n",
      "43/43 [==============================] - 6s 150ms/step - loss: 2.2081 - accuracy: 0.2868 - val_loss: 2.2490 - val_accuracy: 0.3462 - lr: 1.0000e-05\n",
      "Epoch 22/50\n",
      "43/43 [==============================] - ETA: 0s - loss: 2.2297 - accuracy: 0.3062 Epoch 22: Learning rate is 0.000010\n",
      "\n",
      "Epoch 22: val_loss improved from 2.24897 to 2.24802, saving model to model_alexnet_tirads_bun.h5\n"
     ]
    },
    {
     "name": "stdout",
     "output_type": "stream",
     "text": [
      "43/43 [==============================] - 7s 151ms/step - loss: 2.2297 - accuracy: 0.3062 - val_loss: 2.2480 - val_accuracy: 0.3462 - lr: 1.0000e-05\n",
      "Epoch 23/50\n",
      "43/43 [==============================] - ETA: 0s - loss: 2.2389 - accuracy: 0.2713 Epoch 23: Learning rate is 0.000010\n",
      "\n",
      "Epoch 23: val_loss did not improve from 2.24802\n",
      "43/43 [==============================] - 6s 150ms/step - loss: 2.2389 - accuracy: 0.2713 - val_loss: 2.2481 - val_accuracy: 0.3462 - lr: 1.0000e-05\n",
      "Epoch 24/50\n",
      "43/43 [==============================] - ETA: 0s - loss: 2.2176 - accuracy: 0.3178 Epoch 24: Learning rate is 0.000010\n",
      "\n",
      "Epoch 24: val_loss improved from 2.24802 to 2.24731, saving model to model_alexnet_tirads_bun.h5\n",
      "43/43 [==============================] - 6s 150ms/step - loss: 2.2176 - accuracy: 0.3178 - val_loss: 2.2473 - val_accuracy: 0.3462 - lr: 1.0000e-05\n",
      "Epoch 25/50\n",
      "43/43 [==============================] - ETA: 0s - loss: 2.2001 - accuracy: 0.2364 Epoch 25: Learning rate is 0.000010\n",
      "\n",
      "Epoch 25: val_loss improved from 2.24731 to 2.24617, saving model to model_alexnet_tirads_bun.h5\n",
      "43/43 [==============================] - 6s 148ms/step - loss: 2.2001 - accuracy: 0.2364 - val_loss: 2.2462 - val_accuracy: 0.3462 - lr: 1.0000e-05\n",
      "Epoch 26/50\n",
      "43/43 [==============================] - ETA: 0s - loss: 2.2221 - accuracy: 0.2829 Epoch 26: Learning rate is 0.000010\n",
      "\n",
      "Epoch 26: val_loss improved from 2.24617 to 2.24521, saving model to model_alexnet_tirads_bun.h5\n",
      "43/43 [==============================] - 6s 150ms/step - loss: 2.2221 - accuracy: 0.2829 - val_loss: 2.2452 - val_accuracy: 0.3462 - lr: 1.0000e-05\n",
      "Epoch 27/50\n",
      "43/43 [==============================] - ETA: 0s - loss: 2.2277 - accuracy: 0.2713 Epoch 27: Learning rate is 0.000010\n",
      "\n",
      "Epoch 27: val_loss improved from 2.24521 to 2.24510, saving model to model_alexnet_tirads_bun.h5\n",
      "43/43 [==============================] - 6s 151ms/step - loss: 2.2277 - accuracy: 0.2713 - val_loss: 2.2451 - val_accuracy: 0.3462 - lr: 1.0000e-05\n",
      "Epoch 28/50\n",
      "43/43 [==============================] - ETA: 0s - loss: 2.1959 - accuracy: 0.2946 Epoch 28: Learning rate is 0.000010\n",
      "\n",
      "Epoch 28: val_loss improved from 2.24510 to 2.24372, saving model to model_alexnet_tirads_bun.h5\n",
      "43/43 [==============================] - 7s 153ms/step - loss: 2.1959 - accuracy: 0.2946 - val_loss: 2.2437 - val_accuracy: 0.3462 - lr: 1.0000e-05\n",
      "Epoch 29/50\n",
      "43/43 [==============================] - ETA: 0s - loss: 2.1987 - accuracy: 0.2558 Epoch 29: Learning rate is 0.000010\n",
      "\n",
      "Epoch 29: val_loss improved from 2.24372 to 2.24295, saving model to model_alexnet_tirads_bun.h5\n",
      "43/43 [==============================] - 7s 154ms/step - loss: 2.1987 - accuracy: 0.2558 - val_loss: 2.2430 - val_accuracy: 0.3462 - lr: 1.0000e-05\n",
      "Epoch 30/50\n",
      "43/43 [==============================] - ETA: 0s - loss: 2.2138 - accuracy: 0.2558 Epoch 30: Learning rate is 0.000010\n",
      "\n",
      "Epoch 30: val_loss improved from 2.24295 to 2.24166, saving model to model_alexnet_tirads_bun.h5\n",
      "43/43 [==============================] - 7s 161ms/step - loss: 2.2138 - accuracy: 0.2558 - val_loss: 2.2417 - val_accuracy: 0.3462 - lr: 1.0000e-05\n",
      "Epoch 31/50\n",
      "43/43 [==============================] - ETA: 0s - loss: 2.1917 - accuracy: 0.3062 Epoch 31: Learning rate is 0.000010\n",
      "\n",
      "Epoch 31: val_loss improved from 2.24166 to 2.24069, saving model to model_alexnet_tirads_bun.h5\n",
      "43/43 [==============================] - 7s 153ms/step - loss: 2.1917 - accuracy: 0.3062 - val_loss: 2.2407 - val_accuracy: 0.3462 - lr: 1.0000e-05\n",
      "Epoch 32/50\n",
      "43/43 [==============================] - ETA: 0s - loss: 2.2125 - accuracy: 0.2597 Epoch 32: Learning rate is 0.000010\n",
      "\n",
      "Epoch 32: val_loss improved from 2.24069 to 2.23971, saving model to model_alexnet_tirads_bun.h5\n",
      "43/43 [==============================] - 7s 155ms/step - loss: 2.2125 - accuracy: 0.2597 - val_loss: 2.2397 - val_accuracy: 0.3462 - lr: 1.0000e-05\n",
      "Epoch 33/50\n",
      "43/43 [==============================] - ETA: 0s - loss: 2.1991 - accuracy: 0.2829 Epoch 33: Learning rate is 0.000010\n",
      "\n",
      "Epoch 33: val_loss improved from 2.23971 to 2.23874, saving model to model_alexnet_tirads_bun.h5\n",
      "43/43 [==============================] - 7s 154ms/step - loss: 2.1991 - accuracy: 0.2829 - val_loss: 2.2387 - val_accuracy: 0.3462 - lr: 1.0000e-05\n",
      "Epoch 34/50\n",
      "43/43 [==============================] - ETA: 0s - loss: 2.2016 - accuracy: 0.2636 Epoch 34: Learning rate is 0.000010\n",
      "\n",
      "Epoch 34: val_loss improved from 2.23874 to 2.23763, saving model to model_alexnet_tirads_bun.h5\n",
      "43/43 [==============================] - 6s 147ms/step - loss: 2.2016 - accuracy: 0.2636 - val_loss: 2.2376 - val_accuracy: 0.3462 - lr: 1.0000e-05\n",
      "Epoch 35/50\n",
      "43/43 [==============================] - ETA: 0s - loss: 2.1744 - accuracy: 0.2713 Epoch 35: Learning rate is 0.000010\n",
      "\n",
      "Epoch 35: val_loss improved from 2.23763 to 2.23620, saving model to model_alexnet_tirads_bun.h5\n",
      "43/43 [==============================] - 6s 150ms/step - loss: 2.1744 - accuracy: 0.2713 - val_loss: 2.2362 - val_accuracy: 0.3462 - lr: 1.0000e-05\n",
      "Epoch 36/50\n",
      "43/43 [==============================] - ETA: 0s - loss: 2.1760 - accuracy: 0.2868 Epoch 36: Learning rate is 0.000010\n",
      "\n",
      "Epoch 36: val_loss improved from 2.23620 to 2.23517, saving model to model_alexnet_tirads_bun.h5\n",
      "43/43 [==============================] - 6s 146ms/step - loss: 2.1760 - accuracy: 0.2868 - val_loss: 2.2352 - val_accuracy: 0.3462 - lr: 1.0000e-05\n",
      "Epoch 37/50\n",
      "43/43 [==============================] - ETA: 0s - loss: 2.1575 - accuracy: 0.3140 Epoch 37: Learning rate is 0.000010\n",
      "\n",
      "Epoch 37: val_loss improved from 2.23517 to 2.23313, saving model to model_alexnet_tirads_bun.h5\n",
      "43/43 [==============================] - 6s 147ms/step - loss: 2.1575 - accuracy: 0.3140 - val_loss: 2.2331 - val_accuracy: 0.3462 - lr: 1.0000e-05\n",
      "Epoch 38/50\n",
      "43/43 [==============================] - ETA: 0s - loss: 2.1869 - accuracy: 0.2984 Epoch 38: Learning rate is 0.000010\n",
      "\n",
      "Epoch 38: val_loss improved from 2.23313 to 2.23195, saving model to model_alexnet_tirads_bun.h5\n",
      "43/43 [==============================] - 7s 154ms/step - loss: 2.1869 - accuracy: 0.2984 - val_loss: 2.2320 - val_accuracy: 0.3462 - lr: 1.0000e-05\n",
      "Epoch 39/50\n",
      "43/43 [==============================] - ETA: 0s - loss: 2.1863 - accuracy: 0.3062 Epoch 39: Learning rate is 0.000010\n",
      "\n",
      "Epoch 39: val_loss improved from 2.23195 to 2.23124, saving model to model_alexnet_tirads_bun.h5\n",
      "43/43 [==============================] - 7s 153ms/step - loss: 2.1863 - accuracy: 0.3062 - val_loss: 2.2312 - val_accuracy: 0.3462 - lr: 1.0000e-05\n",
      "Epoch 40/50\n",
      "43/43 [==============================] - ETA: 0s - loss: 2.1765 - accuracy: 0.2752 Epoch 40: Learning rate is 0.000010\n",
      "\n",
      "Epoch 40: val_loss improved from 2.23124 to 2.22989, saving model to model_alexnet_tirads_bun.h5\n",
      "43/43 [==============================] - 7s 159ms/step - loss: 2.1765 - accuracy: 0.2752 - val_loss: 2.2299 - val_accuracy: 0.3462 - lr: 1.0000e-05\n",
      "Epoch 41/50\n",
      "43/43 [==============================] - ETA: 0s - loss: 2.2117 - accuracy: 0.2558 Epoch 41: Learning rate is 0.000010\n",
      "\n",
      "Epoch 41: val_loss improved from 2.22989 to 2.22935, saving model to model_alexnet_tirads_bun.h5\n",
      "43/43 [==============================] - 7s 161ms/step - loss: 2.2117 - accuracy: 0.2558 - val_loss: 2.2294 - val_accuracy: 0.3462 - lr: 1.0000e-05\n",
      "Epoch 42/50\n",
      "43/43 [==============================] - ETA: 0s - loss: 2.1880 - accuracy: 0.2984 Epoch 42: Learning rate is 0.000010\n",
      "\n",
      "Epoch 42: val_loss improved from 2.22935 to 2.22816, saving model to model_alexnet_tirads_bun.h5\n",
      "43/43 [==============================] - 7s 162ms/step - loss: 2.1880 - accuracy: 0.2984 - val_loss: 2.2282 - val_accuracy: 0.3462 - lr: 1.0000e-05\n",
      "Epoch 43/50\n",
      "43/43 [==============================] - ETA: 0s - loss: 2.1676 - accuracy: 0.3140 Epoch 43: Learning rate is 0.000010\n",
      "\n",
      "Epoch 43: val_loss improved from 2.22816 to 2.22604, saving model to model_alexnet_tirads_bun.h5\n",
      "43/43 [==============================] - 7s 156ms/step - loss: 2.1676 - accuracy: 0.3140 - val_loss: 2.2260 - val_accuracy: 0.3462 - lr: 1.0000e-05\n",
      "Epoch 44/50\n",
      "43/43 [==============================] - ETA: 0s - loss: 2.1802 - accuracy: 0.3062 Epoch 44: Learning rate is 0.000010\n",
      "\n",
      "Epoch 44: val_loss improved from 2.22604 to 2.22553, saving model to model_alexnet_tirads_bun.h5\n"
     ]
    },
    {
     "name": "stdout",
     "output_type": "stream",
     "text": [
      "43/43 [==============================] - 7s 159ms/step - loss: 2.1802 - accuracy: 0.3062 - val_loss: 2.2255 - val_accuracy: 0.3462 - lr: 1.0000e-05\n",
      "Epoch 45/50\n",
      "43/43 [==============================] - ETA: 0s - loss: 2.1583 - accuracy: 0.2946 Epoch 45: Learning rate is 0.000010\n",
      "\n",
      "Epoch 45: val_loss improved from 2.22553 to 2.22355, saving model to model_alexnet_tirads_bun.h5\n",
      "43/43 [==============================] - 7s 164ms/step - loss: 2.1583 - accuracy: 0.2946 - val_loss: 2.2236 - val_accuracy: 0.3462 - lr: 1.0000e-05\n",
      "Epoch 46/50\n",
      "43/43 [==============================] - ETA: 0s - loss: 2.1747 - accuracy: 0.2209 Epoch 46: Learning rate is 0.000010\n",
      "\n",
      "Epoch 46: val_loss improved from 2.22355 to 2.22232, saving model to model_alexnet_tirads_bun.h5\n",
      "43/43 [==============================] - 7s 163ms/step - loss: 2.1747 - accuracy: 0.2209 - val_loss: 2.2223 - val_accuracy: 0.3462 - lr: 1.0000e-05\n",
      "Epoch 47/50\n",
      "43/43 [==============================] - ETA: 0s - loss: 2.1887 - accuracy: 0.2713 Epoch 47: Learning rate is 0.000010\n",
      "\n",
      "Epoch 47: val_loss improved from 2.22232 to 2.22121, saving model to model_alexnet_tirads_bun.h5\n",
      "43/43 [==============================] - 7s 161ms/step - loss: 2.1887 - accuracy: 0.2713 - val_loss: 2.2212 - val_accuracy: 0.3462 - lr: 1.0000e-05\n",
      "Epoch 48/50\n",
      "43/43 [==============================] - ETA: 0s - loss: 2.1773 - accuracy: 0.2713 Epoch 48: Learning rate is 0.000010\n",
      "\n",
      "Epoch 48: val_loss improved from 2.22121 to 2.21955, saving model to model_alexnet_tirads_bun.h5\n",
      "43/43 [==============================] - 7s 165ms/step - loss: 2.1773 - accuracy: 0.2713 - val_loss: 2.2195 - val_accuracy: 0.3462 - lr: 1.0000e-05\n",
      "Epoch 49/50\n",
      "43/43 [==============================] - ETA: 0s - loss: 2.1722 - accuracy: 0.2907 Epoch 49: Learning rate is 0.000010\n",
      "\n",
      "Epoch 49: val_loss improved from 2.21955 to 2.21844, saving model to model_alexnet_tirads_bun.h5\n",
      "43/43 [==============================] - 7s 163ms/step - loss: 2.1722 - accuracy: 0.2907 - val_loss: 2.2184 - val_accuracy: 0.3462 - lr: 1.0000e-05\n",
      "Epoch 50/50\n",
      "43/43 [==============================] - ETA: 0s - loss: 2.1998 - accuracy: 0.2558 Epoch 50: Learning rate is 0.000010\n",
      "\n",
      "Epoch 50: val_loss improved from 2.21844 to 2.21707, saving model to model_alexnet_tirads_bun.h5\n",
      "43/43 [==============================] - 7s 166ms/step - loss: 2.1998 - accuracy: 0.2558 - val_loss: 2.2171 - val_accuracy: 0.3462 - lr: 1.0000e-05\n"
     ]
    }
   ],
   "source": [
    "# Se antreneaza modelul\n",
    "checkpoiter = tf.keras.callbacks.ModelCheckpoint('model_alexnet_tirads_bun.h5', verbose=1, save_best_only=True)\n",
    "steps = train_generator.samples//train_generator.batch_size\n",
    "reduce_lr = ReduceLROnPlateau(monitor='val_accuracy', factor=0.1, patience=4, min_lr=0.00001, verbose=1)\n",
    "\n",
    "callbacks = [\n",
    "    tf.keras.callbacks.EarlyStopping(patience=5, monitor='val_loss'),\n",
    "    tf.keras.callbacks.TensorBoard(log_dir='logs'),\n",
    "    reduce_lr,\n",
    "    LearningRateLogger(),\n",
    "    checkpoiter\n",
    "\n",
    "]\n",
    "\n",
    "results = model.fit(train_generator, \n",
    "                    validation_data=validation_generator,\n",
    "                    validation_steps=validation_generator.samples // validation_generator.batch_size,\n",
    "                    steps_per_epoch = steps,\n",
    "                    shuffle=True,\n",
    "                    epochs=50, \n",
    "                    callbacks=callbacks,\n",
    "                   )"
   ]
  },
  {
   "cell_type": "markdown",
   "id": "5bd2b090",
   "metadata": {},
   "source": [
    "## Results"
   ]
  },
  {
   "cell_type": "code",
   "execution_count": 14,
   "id": "ef78169f",
   "metadata": {},
   "outputs": [
    {
     "name": "stdout",
     "output_type": "stream",
     "text": [
      "Accuracy Score =  0.3461538553237915\n",
      "Loss Score =  2.2170660495758057\n"
     ]
    }
   ],
   "source": [
    "print('Accuracy Score = ',np.max(results.history['val_accuracy']))\n",
    "print('Loss Score = ',np.min(results.history['val_loss']))"
   ]
  },
  {
   "cell_type": "code",
   "execution_count": 29,
   "id": "6baf6d4e",
   "metadata": {},
   "outputs": [],
   "source": [
    "import pickle\n",
    "history = results.history\n",
    "\n",
    "# Pickle the history to file\n",
    "with open('file_name.pkl', 'wb') as f:\n",
    "    pickle.dump(history, f)\n"
   ]
  },
  {
   "cell_type": "code",
   "execution_count": null,
   "id": "380d4ee5",
   "metadata": {},
   "outputs": [],
   "source": []
  },
  {
   "cell_type": "markdown",
   "id": "c39bb9a9",
   "metadata": {},
   "source": [
    "### During training"
   ]
  },
  {
   "cell_type": "code",
   "execution_count": 15,
   "id": "9432ad8b",
   "metadata": {},
   "outputs": [
    {
     "data": {
      "image/png": "[encoded data removed]",
      "text/plain": [
       "<Figure size 640x480 with 2 Axes>"
      ]
     },
     "metadata": {},
     "output_type": "display_data"
    }
   ],
   "source": [
    "plt.figure()\n",
    "plt.subplot(211)\n",
    "loss_train_curve = results.history[\"loss\"]\n",
    "loss_val_curve = results.history[\"val_loss\"]\n",
    "plt.plot(loss_train_curve, label = \"Loss\")\n",
    "plt.plot(loss_val_curve, label = \"Val_Loss\")\n",
    "plt.legend(loc = 'upper right')\n",
    "plt.ylabel(\"Loss\")\n",
    "\n",
    "\n",
    "plt.subplot(212)\n",
    "acc_train_curve = results.history[\"accuracy\"]\n",
    "acc_val_curve = results.history[\"val_accuracy\"]\n",
    "plt.plot(acc_train_curve, label = \"Accuracy\")\n",
    "plt.plot(acc_val_curve, label = \"Val_Accuracy\")\n",
    "plt.legend(loc = 'upper right')\n",
    "plt.ylabel(\"Accuracy\")\n",
    "plt.xlabel(\"Epoch\")\n",
    "plt.show()"
   ]
  },
  {
   "cell_type": "code",
   "execution_count": 2,
   "id": "f1593747",
   "metadata": {},
   "outputs": [],
   "source": [
    "## Import the model\n",
    "\n",
    "import pickle\n",
    "ti_rads = tf.keras.models.load_model('model_alexnet_tirads_aug.h5')\n",
    "with open('file_name.pkl', 'rb') as f:\n",
    "    history = pickle.load(f)\n",
    "acc = history['accuracy']  \n",
    "ti_rads.summary()\n",
    "\n",
    "from keras.utils import plot_model\n",
    "import pydot\n",
    "import graphviz\n",
    "tf.keras.utils.plot_model(ti_rads, to_file='model_1.png', show_shapes=True)"
   ]
  },
  {
   "cell_type": "markdown",
   "id": "be8a59a4",
   "metadata": {},
   "source": [
    "## Test the model"
   ]
  },
  {
   "cell_type": "code",
   "execution_count": 16,
   "id": "fa71c484",
   "metadata": {},
   "outputs": [
    {
     "name": "stdout",
     "output_type": "stream",
     "text": [
      "Found 37 images belonging to 6 classes.\n",
      "13/13 [==============================] - 0s 18ms/step - loss: 2.2908 - accuracy: 0.1892\n",
      "[2.2907679080963135, 0.18918919563293457]\n"
     ]
    }
   ],
   "source": [
    "# Predict Classes\n",
    "\n",
    "# divisible with 36: 2, 3, 4, 6, 9, 12, 18\n",
    "test_batch_size = 3\n",
    "\n",
    "test_datagen = ImageDataGenerator(rescale=1./255)\n",
    "\n",
    "test_generator = test_datagen.flow_from_directory(\n",
    "    TEST_PATH,\n",
    "    target_size=input_size[1:],\n",
    "    batch_size=test_batch_size,\n",
    "    shuffle=False,\n",
    "class_mode='categorical')\n",
    "\n",
    "scores = model.evaluate(test_generator,workers=12)\n",
    "print(scores)"
   ]
  },
  {
   "cell_type": "markdown",
   "id": "2dd2259e",
   "metadata": {},
   "source": [
    "### Make prediction"
   ]
  },
  {
   "cell_type": "code",
   "execution_count": 148,
   "id": "87ceaa7d",
   "metadata": {},
   "outputs": [
    {
     "name": "stdout",
     "output_type": "stream",
     "text": [
      "12/12 [==============================] - 1s 88ms/step\n",
      "[0 0 0 0 0 1 1 2 2 2 2 2 2 2 2 2 3 3 3 3 3 3 3 3 4 4 4 4 4 4 4 5 5 5 5 5]\n",
      "[4 4 3 4 4 5 4 3 4 4 5 5 4 4 4 4 3 4 4 4 4 4 4 4 3 4 5 4 4 4 4 4 4 4 4 4]\n",
      "0.16666666666666666\n"
     ]
    }
   ],
   "source": [
    "target_names = list(test_generator.class_indices.keys())\n",
    "test_generator.reset()\n",
    "\n",
    "Y_pred = model.predict(test_generator, verbose=1)\n",
    "\n",
    "y_pred = np.argmax(Y_pred, axis=-1)\n",
    "classes = test_generator.classes\n",
    "\n",
    "print(classes)\n",
    "print(y_pred)\n",
    "\n",
    "print(sum(y_pred==classes)/len(test_generator.classes))"
   ]
  },
  {
   "cell_type": "markdown",
   "id": "c33ef2c3",
   "metadata": {},
   "source": [
    "### Confusion Matrix"
   ]
  },
  {
   "cell_type": "code",
   "execution_count": 149,
   "id": "6256e89f",
   "metadata": {},
   "outputs": [
    {
     "data": {
      "image/png": "[encoded data removed]",
      "text/plain": [
       "<Figure size 640x480 with 2 Axes>"
      ]
     },
     "metadata": {},
     "output_type": "display_data"
    }
   ],
   "source": [
    "cm = confusion_matrix(classes, y_pred)\n",
    "\n",
    "disp = ConfusionMatrixDisplay(confusion_matrix=cm, display_labels=target_names)\n",
    "\n",
    "disp.plot()\n",
    "plt.grid(False)\n",
    "plt.show()"
   ]
  },
  {
   "cell_type": "markdown",
   "id": "855272a2",
   "metadata": {},
   "source": [
    "### Metrics"
   ]
  },
  {
   "cell_type": "code",
   "execution_count": 150,
   "id": "cb9d3914",
   "metadata": {},
   "outputs": [],
   "source": [
    "FP = cm.sum(axis=0) - np.diag(cm)  \n",
    "FN = cm.sum(axis=1) - np.diag(cm)\n",
    "TP = np.diag(cm)\n",
    "TN = cm.sum() - (FP + FN + TP)\n",
    "FP = FP.astype(float)\n",
    "FN = FN.astype(float)\n",
    "TP = TP.astype(float)\n",
    "TN = TN.astype(float)"
   ]
  },
  {
   "cell_type": "code",
   "execution_count": 151,
   "id": "d9e27695",
   "metadata": {},
   "outputs": [
    {
     "name": "stdout",
     "output_type": "stream",
     "text": [
      "True positive= 1.0\n",
      "True Negative= 25.0\n",
      "False positive= 5.0\n",
      "False Negative= 5.0\n"
     ]
    }
   ],
   "source": [
    "def Average(FP):\n",
    "    return sum(FP) / len(FP)\n",
    "FP=Average(FP)\n",
    "\n",
    "def Average1(FN):\n",
    "    return sum(FN) / len(FN)\n",
    "FN=Average1(FN)\n",
    "\n",
    "def Average2(TP):\n",
    "    return sum(TP) / len(TP)\n",
    "TP=Average2(TP)\n",
    "\n",
    "def Average3(TN):\n",
    "    return sum(TN) / len(TN)\n",
    "TN=Average3(TN)\n",
    "\n",
    "\n",
    "print(\"True positive=\",TP)\n",
    "print(\"True Negative=\",TN)\n",
    "print(\"False positive=\",FP)\n",
    "print(\"False Negative=\",FN)"
   ]
  },
  {
   "cell_type": "code",
   "execution_count": 152,
   "id": "5ad9945d",
   "metadata": {},
   "outputs": [],
   "source": [
    "# Sensitivity, hit rate, recall, or true positive rate\n",
    "TPR = TP/(TP+FN)\n",
    "# Specificity or true negative rate\n",
    "TNR = TN/(TN+FP) \n",
    "# Precision or positive predictive value\n",
    "PPV = TP/(TP+FP)\n",
    "# Negative predictive value\n",
    "NPV = TN/(TN+FN)\n",
    "# Fall out or false positive rate\n",
    "FPR = FP/(FP+TN)\n",
    "# False negative rate\n",
    "FNR = FN/(TP+FN)\n",
    "# False discovery rate\n",
    "FDR = FP/(TP+FP)\n",
    "#F1_SCORE\n",
    "FSCO=(2*TP) / ((2*TP) +FP + FN) \n",
    "# Overall accuracy\n",
    "ACC = (TP+TN)/(TP+FP+FN+TN)"
   ]
  },
  {
   "cell_type": "code",
   "execution_count": 153,
   "id": "9f6cb7a4",
   "metadata": {},
   "outputs": [
    {
     "name": "stdout",
     "output_type": "stream",
     "text": [
      "sensitivity= 16.667 %\n",
      "precision= 16.667 %\n",
      "Specificity= 83.333 %\n",
      "F-score= 16.667 %\n",
      "ACCURACY= 72.222 %\n",
      "FNR= 83.33333333333334 %\n",
      "FPR= 16.666666666666664 %\n",
      "NPV= 83.33333333333334 %\n"
     ]
    }
   ],
   "source": [
    "print(\"sensitivity=\",round(TPR*100,3),\"%\")\n",
    "print(\"precision=\",round(PPV*100,3),\"%\")\n",
    "print(\"Specificity=\",round(TNR*100,3),\"%\")\n",
    "print(\"F-score=\",round(FSCO*100,3),\"%\")\n",
    "print(\"ACCURACY=\",round(ACC*100,3),\"%\")\n",
    "print(\"FNR=\",FNR*100,\"%\")\n",
    "print(\"FPR=\",FPR*100,\"%\")\n",
    "print(\"NPV=\",NPV*100,\"%\")"
   ]
  }
 ],
 "metadata": {
  "kernelspec": {
   "display_name": "Python 3 (ipykernel)",
   "language": "python",
   "name": "python3"
  },
  "language_info": {
   "codemirror_mode": {
    "name": "ipython",
    "version": 3
   },
   "file_extension": ".py",
   "mimetype": "text/x-python",
   "name": "python",
   "nbconvert_exporter": "python",
   "pygments_lexer": "ipython3",
   "version": "3.10.9"
  }
 },
 "nbformat": 4,
 "nbformat_minor": 5
}
