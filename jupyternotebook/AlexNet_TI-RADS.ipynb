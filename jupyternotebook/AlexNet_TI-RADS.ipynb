{
 "cells": [
  {
   "cell_type": "markdown",
   "id": "dce826ba",
   "metadata": {},
   "source": [
    "# AlexNet model"
   ]
  },
  {
   "cell_type": "markdown",
   "id": "9408e78e",
   "metadata": {},
   "source": [
    "### AlexNet with TIRADS"
   ]
  },
  {
   "cell_type": "markdown",
   "id": "cc53d2a7",
   "metadata": {},
   "source": [
    "## Get packages"
   ]
  },
  {
   "cell_type": "code",
   "execution_count": 1,
   "id": "298f301c",
   "metadata": {},
   "outputs": [],
   "source": [
    "import tensorflow as tf\n",
    "import os\n",
    "import random\n",
    "import numpy as np\n",
    "from tqdm import tqdm\n",
    "import albumentations as A\n",
    "import cv2\n",
    "\n",
    "from skimage.io import imread\n",
    "from skimage.io import imshow\n",
    "from skimage.util import crop\n",
    "from skimage.transform import resize\n",
    "import matplotlib.pyplot as plt\n",
    "\n",
    "\n",
    "from tensorflow import keras\n",
    "from keras.models import Sequential\n",
    "from keras.layers import Dense, Flatten, Conv2D, MaxPooling2D, Dropout\n",
    "from tensorflow.keras import layers\n",
    "from tensorflow.keras.utils import to_categorical\n",
    "from tensorflow.keras.optimizers.legacy import Adam\n",
    "\n",
    "import numpy as np\n",
    "import pandas as pd\n",
    "import matplotlib.pyplot as plt\n",
    "import keras\n",
    "from keras.layers import *\n",
    "from keras import models\n",
    "from keras.preprocessing import image\n",
    "\n",
    "from sklearn.metrics import classification_report\n",
    "from sklearn.metrics import confusion_matrix\n",
    "from sklearn.metrics import ConfusionMatrixDisplay\n",
    "from sklearn.metrics import confusion_matrix, ConfusionMatrixDisplay"
   ]
  },
  {
   "cell_type": "markdown",
   "id": "adc3587b",
   "metadata": {},
   "source": [
    "## Paths"
   ]
  },
  {
   "cell_type": "code",
   "execution_count": 2,
   "id": "aa69648a",
   "metadata": {},
   "outputs": [],
   "source": [
    "TRAIN_PATH = 'archive/classification/tirads/train'\n",
    "TEST_PATH = 'archive/classification/tirads/test'\n",
    "VALID_PATH = 'archive/classification/tirads/validate'"
   ]
  },
  {
   "cell_type": "code",
   "execution_count": 3,
   "id": "2731ede3",
   "metadata": {},
   "outputs": [],
   "source": [
    "input_size = (3,227,227)"
   ]
  },
  {
   "cell_type": "markdown",
   "id": "08b576f2",
   "metadata": {},
   "source": [
    "## Load and Prepare Images"
   ]
  },
  {
   "cell_type": "code",
   "execution_count": 5,
   "id": "dcafd8bd",
   "metadata": {},
   "outputs": [
    {
     "name": "stdout",
     "output_type": "stream",
     "text": [
      "Found 522 images belonging to 6 classes.\n",
      "Found 174 images belonging to 6 classes.\n"
     ]
    }
   ],
   "source": [
    "from keras.preprocessing.image import ImageDataGenerator\n",
    "\n",
    "# train_batchsize = 4\n",
    "# valid_batchsize = 4\n",
    "# S-a folosit din totalul datelor 25% pentru validare si 75% pt testare\n",
    "train_datagen = ImageDataGenerator(\n",
    "        shear_range=0.2,\n",
    "        zoom_range=0.2,\n",
    "        horizontal_flip=0.6)\n",
    "\n",
    "validation_datagen = ImageDataGenerator()\n",
    "                                  \n",
    "\n",
    "train_generator = train_datagen.flow_from_directory(\n",
    "        TRAIN_PATH,  \n",
    "        shuffle=True,\n",
    "#          batch_size=train_batchsize,\n",
    "        target_size=input_size[1:],\n",
    "        class_mode='categorical')  \n",
    "\n",
    "validation_generator = validation_datagen.flow_from_directory(\n",
    "        VALID_PATH,  \n",
    "        target_size=input_size[1:],\n",
    "        shuffle=True,\n",
    "#          batch_size=valid_batchsize,\n",
    "        class_mode='categorical')"
   ]
  },
  {
   "cell_type": "markdown",
   "id": "b559ccc9",
   "metadata": {},
   "source": [
    "## Make the model"
   ]
  },
  {
   "cell_type": "code",
   "execution_count": 185,
   "id": "fc6fc48f",
   "metadata": {},
   "outputs": [
    {
     "name": "stdout",
     "output_type": "stream",
     "text": [
      "Model: \"sequential_37\"\n",
      "_________________________________________________________________\n",
      " Layer (type)                Output Shape              Param #   \n",
      "=================================================================\n",
      " conv2d_185 (Conv2D)         (None, 54, 54, 32)        11648     \n",
      "                                                                 \n",
      " activation_333 (Activation  (None, 54, 54, 32)        0         \n",
      " )                                                               \n",
      "                                                                 \n",
      " max_pooling2d_111 (MaxPool  (None, 27, 27, 32)        0         \n",
      " ing2D)                                                          \n",
      "                                                                 \n",
      " conv2d_186 (Conv2D)         (None, 17, 17, 64)        247872    \n",
      "                                                                 \n",
      " activation_334 (Activation  (None, 17, 17, 64)        0         \n",
      " )                                                               \n",
      "                                                                 \n",
      " max_pooling2d_112 (MaxPool  (None, 8, 8, 64)          0         \n",
      " ing2D)                                                          \n",
      "                                                                 \n",
      " conv2d_187 (Conv2D)         (None, 6, 6, 64)          36928     \n",
      "                                                                 \n",
      " activation_335 (Activation  (None, 6, 6, 64)          0         \n",
      " )                                                               \n",
      "                                                                 \n",
      " conv2d_188 (Conv2D)         (None, 4, 4, 128)         73856     \n",
      "                                                                 \n",
      " activation_336 (Activation  (None, 4, 4, 128)         0         \n",
      " )                                                               \n",
      "                                                                 \n",
      " conv2d_189 (Conv2D)         (None, 2, 2, 256)         295168    \n",
      "                                                                 \n",
      " activation_337 (Activation  (None, 2, 2, 256)         0         \n",
      " )                                                               \n",
      "                                                                 \n",
      " max_pooling2d_113 (MaxPool  (None, 1, 1, 256)         0         \n",
      " ing2D)                                                          \n",
      "                                                                 \n",
      " flatten_37 (Flatten)        (None, 256)               0         \n",
      "                                                                 \n",
      " dense_148 (Dense)           (None, 200)               51400     \n",
      "                                                                 \n",
      " activation_338 (Activation  (None, 200)               0         \n",
      " )                                                               \n",
      "                                                                 \n",
      " dropout_111 (Dropout)       (None, 200)               0         \n",
      "                                                                 \n",
      " dense_149 (Dense)           (None, 100)               20100     \n",
      "                                                                 \n",
      " activation_339 (Activation  (None, 100)               0         \n",
      " )                                                               \n",
      "                                                                 \n",
      " dropout_112 (Dropout)       (None, 100)               0         \n",
      "                                                                 \n",
      " dense_150 (Dense)           (None, 50)                5050      \n",
      "                                                                 \n",
      " activation_340 (Activation  (None, 50)                0         \n",
      " )                                                               \n",
      "                                                                 \n",
      " dropout_113 (Dropout)       (None, 50)                0         \n",
      "                                                                 \n",
      " dense_151 (Dense)           (None, 6)                 306       \n",
      "                                                                 \n",
      " activation_341 (Activation  (None, 6)                 0         \n",
      " )                                                               \n",
      "                                                                 \n",
      "=================================================================\n",
      "Total params: 742328 (2.83 MB)\n",
      "Trainable params: 742328 (2.83 MB)\n",
      "Non-trainable params: 0 (0.00 Byte)\n",
      "_________________________________________________________________\n"
     ]
    }
   ],
   "source": [
    "#Instantiate an empty model\n",
    "model = Sequential()\n",
    "\n",
    "# 1st Convolutional Layer\n",
    "model.add(Conv2D(filters=32, input_shape=(224,224,3), kernel_size=(11,11), strides=(4,4), padding=\"valid\"))\n",
    "model.add(Activation('relu'))\n",
    "# Max Pooling\n",
    "model.add(MaxPooling2D(pool_size=(2,2), strides=(2,2), padding='valid'))\n",
    "\n",
    "# 2nd Convolutional Layer\n",
    "model.add(Conv2D(filters=64, kernel_size=(11,11), strides=(1,1), padding='valid'))\n",
    "model.add(Activation('relu'))\n",
    "# Max Pooling\n",
    "model.add(MaxPooling2D(pool_size=(2,2), strides=(2,2), padding='valid'))\n",
    "\n",
    "# 3rd Convolutional Layer\n",
    "model.add(Conv2D(filters=64, kernel_size=(3,3), strides=(1,1), padding='valid'))\n",
    "model.add(Activation('relu'))\n",
    "\n",
    "# 4th Convolutional Layer\n",
    "model.add(Conv2D(filters=128, kernel_size=(3,3), strides=(1,1), padding='valid'))\n",
    "model.add(Activation('relu'))\n",
    "\n",
    "# 5th Convolutional Layer\n",
    "model.add(Conv2D(filters=256, kernel_size=(3,3), strides=(1,1), padding='valid'))\n",
    "model.add(Activation('relu'))\n",
    "# Max Pooling\n",
    "model.add(MaxPooling2D(pool_size=(2,2), strides=(2,2), padding='valid'))\n",
    "\n",
    "# Passing it to a Fully Connected layer\n",
    "model.add(Flatten())\n",
    "# 1st Fully Connected Layer\n",
    "model.add(Dense(200, input_shape=(224*224*3,)))\n",
    "model.add(Activation('relu'))\n",
    "# Add Dropout to prevent overfitting\n",
    "model.add(Dropout(0.25))\n",
    "\n",
    "# 2nd Fully Connected Layer\n",
    "model.add(Dense(100))\n",
    "model.add(Activation('relu'))\n",
    "# Add Dropout\n",
    "model.add(Dropout(0.2))\n",
    "\n",
    "# 3rd Fully Connected Layer\n",
    "model.add(Dense(50))\n",
    "model.add(Activation('relu'))\n",
    "# Add Dropout\n",
    "model.add(Dropout(0.1))\n",
    "\n",
    "# Output Layer\n",
    "model.add(Dense(6))\n",
    "model.add(Activation('softmax'))\n",
    "\n",
    "model.summary()\n",
    "\n",
    "# Compile the model\n",
    "model.compile(\n",
    "              loss=keras.losses.CategoricalFocalCrossentropy(), \n",
    "#               loss=keras.losses.BinaryCrossentropy(),\n",
    "              optimizer=keras.optimizers.legacy.Adam(learning_rate=0.0004), \n",
    "              metrics=['accuracy',\n",
    "#               keras.metrics.BinaryAccuracy(),\n",
    "#               keras.metrics.FalseNegatives(),\n",
    "                      ],\n",
    "             )"
   ]
  },
  {
   "cell_type": "code",
   "execution_count": 7,
   "id": "eac38b42",
   "metadata": {},
   "outputs": [
    {
     "data": {
      "text/plain": [
       "{'2': 0, '3': 1, '4a': 2, '4b': 3, '4c': 4, '5': 5}"
      ]
     },
     "execution_count": 7,
     "metadata": {},
     "output_type": "execute_result"
    }
   ],
   "source": [
    "train_generator.class_indices"
   ]
  },
  {
   "cell_type": "markdown",
   "id": "53f762e8",
   "metadata": {},
   "source": [
    "## Train the model"
   ]
  },
  {
   "cell_type": "code",
   "execution_count": 188,
   "id": "53167d04",
   "metadata": {},
   "outputs": [
    {
     "name": "stdout",
     "output_type": "stream",
     "text": [
      "Epoch 1/25\n",
      "17/17 [==============================] - ETA: 0s - loss: 0.2659 - accuracy: 0.2874\n",
      "Epoch 1: val_loss improved from inf to 0.29823, saving model to model_alexnet_tirads_aug.h5\n",
      "17/17 [==============================] - 4s 228ms/step - loss: 0.2659 - accuracy: 0.2874 - val_loss: 0.2982 - val_accuracy: 0.1609\n",
      "Epoch 2/25\n",
      "17/17 [==============================] - ETA: 0s - loss: 0.2742 - accuracy: 0.2625\n",
      "Epoch 2: val_loss improved from 0.29823 to 0.28683, saving model to model_alexnet_tirads_aug.h5\n",
      "17/17 [==============================] - 4s 225ms/step - loss: 0.2742 - accuracy: 0.2625 - val_loss: 0.2868 - val_accuracy: 0.2126\n",
      "Epoch 3/25\n",
      "17/17 [==============================] - ETA: 0s - loss: 0.2623 - accuracy: 0.2950\n",
      "Epoch 3: val_loss did not improve from 0.28683\n",
      "17/17 [==============================] - 4s 219ms/step - loss: 0.2623 - accuracy: 0.2950 - val_loss: 0.2941 - val_accuracy: 0.2069\n",
      "Epoch 4/25\n",
      "17/17 [==============================] - ETA: 0s - loss: 0.2641 - accuracy: 0.3084\n",
      "Epoch 4: val_loss did not improve from 0.28683\n",
      "17/17 [==============================] - 4s 222ms/step - loss: 0.2641 - accuracy: 0.3084 - val_loss: 0.2939 - val_accuracy: 0.2529\n",
      "Epoch 5/25\n",
      "17/17 [==============================] - ETA: 0s - loss: 0.2589 - accuracy: 0.2912\n",
      "Epoch 5: val_loss did not improve from 0.28683\n",
      "17/17 [==============================] - 4s 225ms/step - loss: 0.2589 - accuracy: 0.2912 - val_loss: 0.2937 - val_accuracy: 0.2069\n",
      "Epoch 6/25\n",
      "17/17 [==============================] - ETA: 0s - loss: 0.2525 - accuracy: 0.3065\n",
      "Epoch 6: val_loss did not improve from 0.28683\n",
      "17/17 [==============================] - 4s 231ms/step - loss: 0.2525 - accuracy: 0.3065 - val_loss: 0.2934 - val_accuracy: 0.2759\n",
      "Epoch 7/25\n",
      "17/17 [==============================] - ETA: 0s - loss: 0.2581 - accuracy: 0.3218\n",
      "Epoch 7: val_loss did not improve from 0.28683\n",
      "17/17 [==============================] - 4s 230ms/step - loss: 0.2581 - accuracy: 0.3218 - val_loss: 0.2997 - val_accuracy: 0.2644\n",
      "Epoch 8/25\n",
      "17/17 [==============================] - ETA: 0s - loss: 0.2602 - accuracy: 0.3046\n",
      "Epoch 8: val_loss did not improve from 0.28683\n",
      "17/17 [==============================] - 4s 237ms/step - loss: 0.2602 - accuracy: 0.3046 - val_loss: 0.3006 - val_accuracy: 0.2241\n",
      "Epoch 9/25\n",
      "17/17 [==============================] - ETA: 0s - loss: 0.2585 - accuracy: 0.2969\n",
      "Epoch 9: val_loss did not improve from 0.28683\n",
      "17/17 [==============================] - 4s 239ms/step - loss: 0.2585 - accuracy: 0.2969 - val_loss: 0.3022 - val_accuracy: 0.2241\n",
      "Epoch 10/25\n",
      "17/17 [==============================] - ETA: 0s - loss: 0.2546 - accuracy: 0.3084\n",
      "Epoch 10: val_loss did not improve from 0.28683\n",
      "17/17 [==============================] - 4s 241ms/step - loss: 0.2546 - accuracy: 0.3084 - val_loss: 0.2891 - val_accuracy: 0.2126\n",
      "Epoch 11/25\n",
      "17/17 [==============================] - ETA: 0s - loss: 0.2525 - accuracy: 0.3352\n",
      "Epoch 11: val_loss did not improve from 0.28683\n",
      "17/17 [==============================] - 4s 248ms/step - loss: 0.2525 - accuracy: 0.3352 - val_loss: 0.3088 - val_accuracy: 0.1954\n",
      "Epoch 12/25\n",
      "17/17 [==============================] - ETA: 0s - loss: 0.2568 - accuracy: 0.3027\n",
      "Epoch 12: val_loss did not improve from 0.28683\n",
      "17/17 [==============================] - 4s 249ms/step - loss: 0.2568 - accuracy: 0.3027 - val_loss: 0.2977 - val_accuracy: 0.2299\n",
      "Epoch 13/25\n",
      "17/17 [==============================] - ETA: 0s - loss: 0.2544 - accuracy: 0.3352\n",
      "Epoch 13: val_loss did not improve from 0.28683\n",
      "17/17 [==============================] - 4s 256ms/step - loss: 0.2544 - accuracy: 0.3352 - val_loss: 0.2884 - val_accuracy: 0.2471\n",
      "Epoch 14/25\n",
      "16/17 [===========================>..] - ETA: 0s - loss: 0.2428 - accuracy: 0.3555\n",
      "Epoch 14: val_loss did not improve from 0.28683\n",
      "17/17 [==============================] - 4s 253ms/step - loss: 0.2439 - accuracy: 0.3544 - val_loss: 0.3118 - val_accuracy: 0.2644\n",
      "Epoch 15/25\n",
      "17/17 [==============================] - ETA: 0s - loss: 0.2453 - accuracy: 0.3238\n",
      "Epoch 15: val_loss did not improve from 0.28683\n",
      "17/17 [==============================] - 4s 251ms/step - loss: 0.2453 - accuracy: 0.3238 - val_loss: 0.3122 - val_accuracy: 0.2011\n",
      "Epoch 16/25\n",
      "17/17 [==============================] - ETA: 0s - loss: 0.2468 - accuracy: 0.3238\n",
      "Epoch 16: val_loss did not improve from 0.28683\n",
      "17/17 [==============================] - 4s 257ms/step - loss: 0.2468 - accuracy: 0.3238 - val_loss: 0.3109 - val_accuracy: 0.2356\n",
      "Epoch 17/25\n",
      "17/17 [==============================] - ETA: 0s - loss: 0.2507 - accuracy: 0.3352\n",
      "Epoch 17: val_loss did not improve from 0.28683\n",
      "17/17 [==============================] - 4s 257ms/step - loss: 0.2507 - accuracy: 0.3352 - val_loss: 0.3076 - val_accuracy: 0.2356\n",
      "Epoch 18/25\n",
      "17/17 [==============================] - ETA: 0s - loss: 0.2396 - accuracy: 0.3525\n",
      "Epoch 18: val_loss did not improve from 0.28683\n",
      "17/17 [==============================] - 5s 263ms/step - loss: 0.2396 - accuracy: 0.3525 - val_loss: 0.3140 - val_accuracy: 0.2126\n",
      "Epoch 19/25\n",
      "17/17 [==============================] - ETA: 0s - loss: 0.2350 - accuracy: 0.3352\n",
      "Epoch 19: val_loss did not improve from 0.28683\n",
      "17/17 [==============================] - 5s 263ms/step - loss: 0.2350 - accuracy: 0.3352 - val_loss: 0.3286 - val_accuracy: 0.2184\n",
      "Epoch 20/25\n",
      "17/17 [==============================] - ETA: 0s - loss: 0.2451 - accuracy: 0.3410\n",
      "Epoch 20: val_loss did not improve from 0.28683\n",
      "17/17 [==============================] - 5s 268ms/step - loss: 0.2451 - accuracy: 0.3410 - val_loss: 0.3037 - val_accuracy: 0.2184\n",
      "Epoch 21/25\n",
      "17/17 [==============================] - ETA: 0s - loss: 0.2390 - accuracy: 0.3716\n",
      "Epoch 21: val_loss did not improve from 0.28683\n",
      "17/17 [==============================] - 5s 278ms/step - loss: 0.2390 - accuracy: 0.3716 - val_loss: 0.3044 - val_accuracy: 0.2069\n",
      "Epoch 22/25\n",
      "17/17 [==============================] - ETA: 0s - loss: 0.2458 - accuracy: 0.3487\n",
      "Epoch 22: val_loss did not improve from 0.28683\n",
      "17/17 [==============================] - 5s 272ms/step - loss: 0.2458 - accuracy: 0.3487 - val_loss: 0.3148 - val_accuracy: 0.2241\n",
      "Epoch 23/25\n",
      "17/17 [==============================] - ETA: 0s - loss: 0.2345 - accuracy: 0.3621\n",
      "Epoch 23: val_loss did not improve from 0.28683\n",
      "17/17 [==============================] - 5s 264ms/step - loss: 0.2345 - accuracy: 0.3621 - val_loss: 0.3325 - val_accuracy: 0.1954\n",
      "Epoch 24/25\n",
      "17/17 [==============================] - ETA: 0s - loss: 0.2428 - accuracy: 0.3563\n",
      "Epoch 24: val_loss did not improve from 0.28683\n",
      "17/17 [==============================] - 5s 262ms/step - loss: 0.2428 - accuracy: 0.3563 - val_loss: 0.3484 - val_accuracy: 0.1897\n",
      "Epoch 25/25\n",
      "17/17 [==============================] - ETA: 0s - loss: 0.2274 - accuracy: 0.3774\n",
      "Epoch 25: val_loss did not improve from 0.28683\n",
      "17/17 [==============================] - 5s 265ms/step - loss: 0.2274 - accuracy: 0.3774 - val_loss: 0.3205 - val_accuracy: 0.2241\n"
     ]
    }
   ],
   "source": [
    "# Se antreneaza modelul\n",
    "checkpoiter = tf.keras.callbacks.ModelCheckpoint('model_alexnet_tirads_aug.h5', verbose=1, save_best_only=True)\n",
    "\n",
    "callbacks = [\n",
    "#     tf.keras.callbacks.EarlyStopping(patience=7, monitor='val_loss'),\n",
    "    tf.keras.callbacks.TensorBoard(log_dir='logs'),\n",
    "    checkpoiter\n",
    "\n",
    "]\n",
    "\n",
    "results = model.fit(train_generator, \n",
    "                    validation_data=validation_generator,\n",
    "#                     validation_split=0.1, \n",
    "                    batch_size=32, \n",
    "                    epochs=25, \n",
    "                    callbacks=callbacks,\n",
    "                   )"
   ]
  },
  {
   "cell_type": "markdown",
   "id": "5bd2b090",
   "metadata": {},
   "source": [
    "## Results"
   ]
  },
  {
   "cell_type": "code",
   "execution_count": 189,
   "id": "ef78169f",
   "metadata": {},
   "outputs": [
    {
     "name": "stdout",
     "output_type": "stream",
     "text": [
      "Accuracy Score =  0.27586206793785095\n",
      "Loss Score =  0.2868264317512512\n"
     ]
    }
   ],
   "source": [
    "print('Accuracy Score = ',np.max(results.history['val_accuracy']))\n",
    "print('Loss Score = ',np.min(results.history['val_loss']))"
   ]
  },
  {
   "cell_type": "markdown",
   "id": "c39bb9a9",
   "metadata": {},
   "source": [
    "### During training"
   ]
  },
  {
   "cell_type": "code",
   "execution_count": 80,
   "id": "9432ad8b",
   "metadata": {},
   "outputs": [
    {
     "data": {
      "image/png": "[encoded data removed]",
      "text/plain": [
       "<Figure size 640x480 with 2 Axes>"
      ]
     },
     "metadata": {},
     "output_type": "display_data"
    }
   ],
   "source": [
    "plt.figure()\n",
    "plt.subplot(211)\n",
    "loss_train_curve = results.history[\"loss\"]\n",
    "loss_val_curve = results.history[\"val_loss\"]\n",
    "plt.plot(loss_train_curve, label = \"Loss\")\n",
    "plt.plot(loss_val_curve, label = \"Val_Loss\")\n",
    "plt.legend(loc = 'upper right')\n",
    "plt.ylabel(\"Loss\")\n",
    "\n",
    "\n",
    "plt.subplot(212)\n",
    "acc_train_curve = results.history[\"accuracy\"]\n",
    "acc_val_curve = results.history[\"val_accuracy\"]\n",
    "plt.plot(acc_train_curve, label = \"Accuracy\")\n",
    "plt.plot(acc_val_curve, label = \"Val_Accuracy\")\n",
    "plt.legend(loc = 'upper right')\n",
    "plt.ylabel(\"Accuracy\")\n",
    "plt.xlabel(\"Epoch\")\n",
    "plt.show()"
   ]
  },
  {
   "cell_type": "code",
   "execution_count": null,
   "id": "f1593747",
   "metadata": {},
   "outputs": [],
   "source": []
  }
 ],
 "metadata": {
  "kernelspec": {
   "display_name": "Python 3 (ipykernel)",
   "language": "python",
   "name": "python3"
  },
  "language_info": {
   "codemirror_mode": {
    "name": "ipython",
    "version": 3
   },
   "file_extension": ".py",
   "mimetype": "text/x-python",
   "name": "python",
   "nbconvert_exporter": "python",
   "pygments_lexer": "ipython3",
   "version": "3.10.9"
  }
 },
 "nbformat": 4,
 "nbformat_minor": 5
}
