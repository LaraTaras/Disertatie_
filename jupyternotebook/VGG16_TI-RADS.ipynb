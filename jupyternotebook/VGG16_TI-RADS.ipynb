{
 "cells": [
  {
   "cell_type": "markdown",
   "id": "d42ace18",
   "metadata": {},
   "source": [
    "# VGG16 model"
   ]
  },
  {
   "cell_type": "markdown",
   "id": "5ea8f2a3",
   "metadata": {},
   "source": [
    "### VGG16 with TIRADs"
   ]
  },
  {
   "cell_type": "markdown",
   "id": "bad7213c",
   "metadata": {},
   "source": [
    "## Get packages"
   ]
  },
  {
   "cell_type": "code",
   "execution_count": 30,
   "id": "2a9dc07f",
   "metadata": {},
   "outputs": [],
   "source": [
    "import tensorflow as tf\n",
    "import os\n",
    "import random\n",
    "import numpy as np\n",
    "from tqdm import tqdm\n",
    "import albumentations as A\n",
    "import cv2\n",
    "\n",
    "from skimage.io import imread\n",
    "from skimage.io import imshow\n",
    "from skimage.util import crop\n",
    "from skimage.transform import resize\n",
    "import matplotlib.pyplot as plt\n",
    "\n",
    "\n",
    "from tensorflow import keras\n",
    "from keras.models import Sequential, Model\n",
    "from keras.layers import Dense, Flatten, Conv2D, MaxPooling2D, Dropout\n",
    "from tensorflow.keras import layers\n",
    "from tensorflow.keras.utils import to_categorical\n",
    "from tensorflow.keras.optimizers.legacy import Adam\n",
    "\n",
    "import numpy as np\n",
    "import pandas as pd\n",
    "import matplotlib.pyplot as plt\n",
    "import keras\n",
    "from keras.layers import *\n",
    "from keras import models\n",
    "from keras.preprocessing import image\n",
    "\n",
    "from sklearn.metrics import classification_report\n",
    "from sklearn.metrics import confusion_matrix\n",
    "from sklearn.metrics import ConfusionMatrixDisplay\n",
    "from sklearn.metrics import confusion_matrix, ConfusionMatrixDisplay"
   ]
  },
  {
   "cell_type": "markdown",
   "id": "bf5b74e7",
   "metadata": {},
   "source": [
    "## Paths"
   ]
  },
  {
   "cell_type": "code",
   "execution_count": 31,
   "id": "6de49798",
   "metadata": {},
   "outputs": [],
   "source": [
    "TRAIN_PATH = 'archive/classification/tirads/train'\n",
    "TEST_PATH = 'archive/classification/tirads/test' \n",
    "VALID_PATH = 'archive/classification/tirads/validate'"
   ]
  },
  {
   "cell_type": "code",
   "execution_count": 32,
   "id": "092edda7",
   "metadata": {},
   "outputs": [],
   "source": [
    "input_size = (3,224,224)"
   ]
  },
  {
   "cell_type": "markdown",
   "id": "ebecda4a",
   "metadata": {},
   "source": [
    "## Load and Prepare Images"
   ]
  },
  {
   "cell_type": "code",
   "execution_count": 33,
   "id": "b6e2034a",
   "metadata": {},
   "outputs": [
    {
     "name": "stdout",
     "output_type": "stream",
     "text": [
      "Found 522 images belonging to 6 classes.\n",
      "Found 174 images belonging to 6 classes.\n"
     ]
    }
   ],
   "source": [
    "from keras.preprocessing.image import ImageDataGenerator\n",
    "\n",
    "# train_batchsize = 4\n",
    "# valid_batchsize = 4\n",
    "\n",
    "train_datagen = ImageDataGenerator(\n",
    "        shear_range=0.2,\n",
    "        zoom_range=0.2,\n",
    "        horizontal_flip=0.6)\n",
    "\n",
    "validation_datagen = ImageDataGenerator()\n",
    "                                  \n",
    "\n",
    "train_generator = train_datagen.flow_from_directory(\n",
    "        TRAIN_PATH,  \n",
    "        shuffle=True,\n",
    "#          batch_size=train_batchsize,\n",
    "        target_size=input_size[1:],\n",
    "        class_mode='categorical')  \n",
    "\n",
    "validation_generator = validation_datagen.flow_from_directory(\n",
    "        VALID_PATH,  \n",
    "        target_size=input_size[1:],\n",
    "        shuffle=True,\n",
    "#          batch_size=valid_batchsize,\n",
    "        class_mode='categorical')"
   ]
  },
  {
   "cell_type": "markdown",
   "id": "abe13016",
   "metadata": {},
   "source": [
    "## Make the model"
   ]
  },
  {
   "cell_type": "code",
   "execution_count": 52,
   "id": "86d2c6ec",
   "metadata": {},
   "outputs": [
    {
     "name": "stdout",
     "output_type": "stream",
     "text": [
      "Model: \"sequential_9\"\n",
      "_________________________________________________________________\n",
      " Layer (type)                Output Shape              Param #   \n",
      "=================================================================\n",
      " conv2d_117 (Conv2D)         (None, 224, 224, 64)      1792      \n",
      "                                                                 \n",
      " conv2d_118 (Conv2D)         (None, 224, 224, 64)      36928     \n",
      "                                                                 \n",
      " max_pooling2d_45 (MaxPooli  (None, 112, 112, 64)      0         \n",
      " ng2D)                                                           \n",
      "                                                                 \n",
      " conv2d_119 (Conv2D)         (None, 112, 112, 128)     73856     \n",
      "                                                                 \n",
      " conv2d_120 (Conv2D)         (None, 112, 112, 128)     147584    \n",
      "                                                                 \n",
      " max_pooling2d_46 (MaxPooli  (None, 56, 56, 128)       0         \n",
      " ng2D)                                                           \n",
      "                                                                 \n",
      " conv2d_121 (Conv2D)         (None, 56, 56, 256)       295168    \n",
      "                                                                 \n",
      " conv2d_122 (Conv2D)         (None, 56, 56, 256)       590080    \n",
      "                                                                 \n",
      " conv2d_123 (Conv2D)         (None, 56, 56, 256)       590080    \n",
      "                                                                 \n",
      " max_pooling2d_47 (MaxPooli  (None, 28, 28, 256)       0         \n",
      " ng2D)                                                           \n",
      "                                                                 \n",
      " conv2d_124 (Conv2D)         (None, 28, 28, 512)       1180160   \n",
      "                                                                 \n",
      " conv2d_125 (Conv2D)         (None, 28, 28, 512)       2359808   \n",
      "                                                                 \n",
      " conv2d_126 (Conv2D)         (None, 28, 28, 512)       2359808   \n",
      "                                                                 \n",
      " max_pooling2d_48 (MaxPooli  (None, 14, 14, 512)       0         \n",
      " ng2D)                                                           \n",
      "                                                                 \n",
      " conv2d_127 (Conv2D)         (None, 14, 14, 512)       2359808   \n",
      "                                                                 \n",
      " conv2d_128 (Conv2D)         (None, 14, 14, 512)       2359808   \n",
      "                                                                 \n",
      " conv2d_129 (Conv2D)         (None, 14, 14, 512)       2359808   \n",
      "                                                                 \n",
      " max_pooling2d_49 (MaxPooli  (None, 7, 7, 512)         0         \n",
      " ng2D)                                                           \n",
      "                                                                 \n",
      " flatten_9 (Flatten)         (None, 25088)             0         \n",
      "                                                                 \n",
      " dense_27 (Dense)            (None, 4096)              102764544 \n",
      "                                                                 \n",
      " dropout_18 (Dropout)        (None, 4096)              0         \n",
      "                                                                 \n",
      " dense_28 (Dense)            (None, 4096)              16781312  \n",
      "                                                                 \n",
      " dropout_19 (Dropout)        (None, 4096)              0         \n",
      "                                                                 \n",
      " dense_29 (Dense)            (None, 6)                 24582     \n",
      "                                                                 \n",
      "=================================================================\n",
      "Total params: 134285126 (512.26 MB)\n",
      "Trainable params: 134285126 (512.26 MB)\n",
      "Non-trainable params: 0 (0.00 Byte)\n",
      "_________________________________________________________________\n"
     ]
    }
   ],
   "source": [
    "# Define the model as a sequential sequence of layers\n",
    "model = Sequential()\n",
    "\n",
    "# Define convolutional layers\n",
    "model.add(Conv2D(64, (3, 3), activation='relu', padding='same', input_shape=(224, 224, 3)))\n",
    "model.add(Conv2D(64, (3, 3), activation='relu', padding='same'))\n",
    "model.add(MaxPooling2D((2, 2)))\n",
    "\n",
    "model.add(Conv2D(128, (3, 3), activation='relu', padding='same'))\n",
    "model.add(Conv2D(128, (3, 3), activation='relu', padding='same'))\n",
    "model.add(MaxPooling2D((2, 2)))\n",
    "\n",
    "model.add(Conv2D(256, (3, 3), activation='relu', padding='same'))\n",
    "model.add(Conv2D(256, (3, 3), activation='relu', padding='same'))\n",
    "model.add(Conv2D(256, (3, 3), activation='relu', padding='same'))\n",
    "model.add(MaxPooling2D((2, 2)))\n",
    "\n",
    "model.add(Conv2D(512, (3, 3), activation='relu', padding='same'))\n",
    "model.add(Conv2D(512, (3, 3), activation='relu', padding='same'))\n",
    "model.add(Conv2D(512, (3, 3), activation='relu', padding='same'))\n",
    "model.add(MaxPooling2D((2, 2)))\n",
    "\n",
    "model.add(Conv2D(512, (3, 3), activation='relu', padding='same'))\n",
    "model.add(Conv2D(512, (3, 3), activation='relu', padding='same'))\n",
    "model.add(Conv2D(512, (3, 3), activation='relu', padding='same'))\n",
    "model.add(MaxPooling2D((2, 2)))\n",
    "\n",
    "# Define classification layers\n",
    "model.add(Flatten())\n",
    "model.add(Dense(4096, activation='relu'))\n",
    "model.add(Dropout(0.5))\n",
    "model.add(Dense(4096, activation='relu'))\n",
    "model.add(Dropout(0.5))\n",
    "model.add(Dense(6, activation='softmax'))\n",
    "\n",
    "# Print a summary of the model architecture\n",
    "model.summary()\n",
    "\n",
    "\n",
    "# Compile the model\n",
    "model.compile(\n",
    "#              loss=keras.losses.CategoricalCrossentropy(),\n",
    "              loss=keras.losses.BinaryCrossentropy(),\n",
    "              optimizer=keras.optimizers.legacy.RMSprop(), \n",
    "              metrics=['accuracy'],\n",
    "             )"
   ]
  },
  {
   "cell_type": "markdown",
   "id": "90d573d0",
   "metadata": {},
   "source": [
    "## Train the model"
   ]
  },
  {
   "cell_type": "code",
   "execution_count": null,
   "id": "25595cd9",
   "metadata": {},
   "outputs": [
    {
     "name": "stdout",
     "output_type": "stream",
     "text": [
      "Epoch 1/25\n",
      "17/17 [==============================] - ETA: 0s - loss: 0.4353 - accuracy: 0.2414 \n",
      "Epoch 1: val_loss improved from inf to 0.43926, saving model to model_vgg16_tirads_aug.h5\n",
      "17/17 [==============================] - 393s 23s/step - loss: 0.4353 - accuracy: 0.2414 - val_loss: 0.4393 - val_accuracy: 0.2759\n",
      "Epoch 2/25\n",
      "17/17 [==============================] - ETA: 0s - loss: 0.4349 - accuracy: 0.2663 \n",
      "Epoch 2: val_loss improved from 0.43926 to 0.43425, saving model to model_vgg16_tirads_aug.h5\n",
      "17/17 [==============================] - 396s 23s/step - loss: 0.4349 - accuracy: 0.2663 - val_loss: 0.4342 - val_accuracy: 0.2759\n",
      "Epoch 3/25\n",
      "17/17 [==============================] - ETA: 0s - loss: 0.4328 - accuracy: 0.2797 \n",
      "Epoch 3: val_loss did not improve from 0.43425\n",
      "17/17 [==============================] - 389s 23s/step - loss: 0.4328 - accuracy: 0.2797 - val_loss: 0.4368 - val_accuracy: 0.2184\n",
      "Epoch 4/25\n",
      "17/17 [==============================] - ETA: 0s - loss: 0.4334 - accuracy: 0.2529 \n",
      "Epoch 4: val_loss did not improve from 0.43425\n",
      "17/17 [==============================] - 390s 23s/step - loss: 0.4334 - accuracy: 0.2529 - val_loss: 0.4365 - val_accuracy: 0.2184\n",
      "Epoch 5/25\n",
      "17/17 [==============================] - ETA: 0s - loss: 12.7118 - accuracy: 0.2586 \n",
      "Epoch 5: val_loss improved from 0.43425 to 0.43401, saving model to model_vgg16_tirads_aug.h5\n",
      "17/17 [==============================] - 522s 31s/step - loss: 12.7118 - accuracy: 0.2586 - val_loss: 0.4340 - val_accuracy: 0.2759\n",
      "Epoch 6/25\n",
      "17/17 [==============================] - ETA: 0s - loss: 0.4353 - accuracy: 0.2529 \n",
      "Epoch 6: val_loss improved from 0.43401 to 0.43379, saving model to model_vgg16_tirads_aug.h5\n",
      "17/17 [==============================] - 296s 17s/step - loss: 0.4353 - accuracy: 0.2529 - val_loss: 0.4338 - val_accuracy: 0.2759\n",
      "Epoch 7/25\n",
      "17/17 [==============================] - ETA: 0s - loss: 0.4338 - accuracy: 0.2490 \n",
      "Epoch 7: val_loss did not improve from 0.43379\n",
      "17/17 [==============================] - 242s 14s/step - loss: 0.4338 - accuracy: 0.2490 - val_loss: 0.4343 - val_accuracy: 0.2759\n",
      "Epoch 8/25\n",
      "17/17 [==============================] - ETA: 0s - loss: 0.4344 - accuracy: 0.2605 \n",
      "Epoch 8: val_loss did not improve from 0.43379\n",
      "17/17 [==============================] - 250s 15s/step - loss: 0.4344 - accuracy: 0.2605 - val_loss: 0.4351 - val_accuracy: 0.2759\n",
      "Epoch 9/25\n",
      "17/17 [==============================] - ETA: 0s - loss: 0.4340 - accuracy: 0.2663 \n",
      "Epoch 9: val_loss improved from 0.43379 to 0.43307, saving model to model_vgg16_tirads_aug.h5\n",
      "17/17 [==============================] - 256s 15s/step - loss: 0.4340 - accuracy: 0.2663 - val_loss: 0.4331 - val_accuracy: 0.2759\n",
      "Epoch 10/25\n",
      "17/17 [==============================] - ETA: 0s - loss: 0.4367 - accuracy: 0.2682 \n",
      "Epoch 10: val_loss did not improve from 0.43307\n",
      "17/17 [==============================] - 261s 15s/step - loss: 0.4367 - accuracy: 0.2682 - val_loss: 0.4366 - val_accuracy: 0.2184\n",
      "Epoch 11/25\n",
      "17/17 [==============================] - ETA: 0s - loss: 0.4356 - accuracy: 0.2471 \n",
      "Epoch 11: val_loss did not improve from 0.43307\n",
      "17/17 [==============================] - 261s 15s/step - loss: 0.4356 - accuracy: 0.2471 - val_loss: 0.4359 - val_accuracy: 0.2759\n",
      "Epoch 12/25\n",
      "17/17 [==============================] - ETA: 0s - loss: 0.4366 - accuracy: 0.2529 \n",
      "Epoch 12: val_loss did not improve from 0.43307\n",
      "17/17 [==============================] - 258s 15s/step - loss: 0.4366 - accuracy: 0.2529 - val_loss: 0.4337 - val_accuracy: 0.2759\n",
      "Epoch 13/25\n",
      " 9/17 [==============>...............] - ETA: 1:47 - loss: 0.4341 - accuracy: 0.2406"
     ]
    }
   ],
   "source": [
    "# Saving the best result\n",
    "checkpoiter = tf.keras.callbacks.ModelCheckpoint('model_vgg16_tirads_aug.h5', verbose=1, save_best_only=True)\n",
    "\n",
    "callbacks = [\n",
    "    tf.keras.callbacks.EarlyStopping(patience=4, monitor='val_loss'),\n",
    "    tf.keras.callbacks.TensorBoard(log_dir='logs'),\n",
    "    checkpoiter\n",
    "\n",
    "]\n",
    "# Train\n",
    "results = model.fit(train_generator, \n",
    "                    validation_data=validation_generator, \n",
    "#                      validation_split=0.1, \n",
    "                    batch_size=64, \n",
    "                    epochs=25, \n",
    "                    callbacks=callbacks,\n",
    "#                     steps_per_epoch=10\n",
    "                   )"
   ]
  },
  {
   "cell_type": "markdown",
   "id": "eff01cbb",
   "metadata": {},
   "source": [
    "## Results"
   ]
  },
  {
   "cell_type": "code",
   "execution_count": 54,
   "id": "b9e5792e",
   "metadata": {},
   "outputs": [
    {
     "name": "stdout",
     "output_type": "stream",
     "text": [
      "Accuracy Score =  0.27586206793785095\n",
      "Loss Score =  0.43470343947410583\n"
     ]
    }
   ],
   "source": [
    "print('Accuracy Score = ',np.max(results.history['val_accuracy']))\n",
    "print('Loss Score = ',np.min(results.history['val_loss']))"
   ]
  },
  {
   "cell_type": "markdown",
   "id": "9b509294",
   "metadata": {},
   "source": [
    "### During training"
   ]
  },
  {
   "cell_type": "code",
   "execution_count": null,
   "id": "2907ff34",
   "metadata": {},
   "outputs": [],
   "source": [
    "plt.figure()\n",
    "plt.subplot(211)\n",
    "loss_train_curve = results.history[\"loss\"]\n",
    "loss_val_curve = results.history[\"val_loss\"]\n",
    "plt.plot(loss_train_curve, label = \"Loss\")\n",
    "plt.plot(loss_val_curve, label = \"Val_Loss\")\n",
    "plt.legend(loc = 'upper right')\n",
    "plt.ylabel(\"Loss\")\n",
    "\n",
    "\n",
    "plt.subplot(212)\n",
    "acc_train_curve = results.history[\"accuracy\"]\n",
    "acc_val_curve = results.history[\"val_accuracy\"]\n",
    "plt.plot(acc_train_curve, label = \"Accuracy\")\n",
    "plt.plot(acc_val_curve, label = \"Val_Accuracy\")\n",
    "plt.legend(loc = 'upper right')\n",
    "plt.ylabel(\"Accuracy\")\n",
    "plt.xlabel(\"Epoch\")\n",
    "plt.show()"
   ]
  },
  {
   "cell_type": "markdown",
   "id": "e12337a1",
   "metadata": {},
   "source": [
    "### Make predictions"
   ]
  },
  {
   "cell_type": "code",
   "execution_count": null,
   "id": "8ff435bc",
   "metadata": {},
   "outputs": [],
   "source": [
    "test_steps_per_epoch = np.math.ceil(test_generator.samples / test_generator.batch_size)\n",
    "# print(validation_generator.batch_size)\n",
    "\n",
    "predictions = model.predict(test_generator, steps=test_steps_per_epoch)\n",
    "\n",
    "# Get most likely class\n",
    "# Y_pred = model.predict(test_generator, num_of_test_samples // test_batch_size+1)\n",
    "y_pred = np.argmax(predictions, axis=1)\n",
    "\n",
    "cm = confusion_matrix(test_generator.classes, y_pred)\n",
    "\n",
    "disp = ConfusionMatrixDisplay(confusion_matrix=cm, display_labels=target_names)\n",
    "\n",
    "disp.plot()\n",
    "plt.grid(False)\n",
    "plt.show()"
   ]
  }
 ],
 "metadata": {
  "kernelspec": {
   "display_name": "Python 3 (ipykernel)",
   "language": "python",
   "name": "python3"
  },
  "language_info": {
   "codemirror_mode": {
    "name": "ipython",
    "version": 3
   },
   "file_extension": ".py",
   "mimetype": "text/x-python",
   "name": "python",
   "nbconvert_exporter": "python",
   "pygments_lexer": "ipython3",
   "version": "3.10.9"
  }
 },
 "nbformat": 4,
 "nbformat_minor": 5
}
