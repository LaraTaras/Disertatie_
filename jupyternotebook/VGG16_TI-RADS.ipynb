{
 "cells": [
  {
   "cell_type": "markdown",
   "id": "d42ace18",
   "metadata": {},
   "source": [
    "# VGG16 model"
   ]
  },
  {
   "cell_type": "markdown",
   "id": "5ea8f2a3",
   "metadata": {},
   "source": [
    "### VGG16 with TIRADs"
   ]
  },
  {
   "cell_type": "markdown",
   "id": "bad7213c",
   "metadata": {},
   "source": [
    "## Get packages"
   ]
  },
  {
   "cell_type": "code",
   "execution_count": 10,
   "id": "2a9dc07f",
   "metadata": {},
   "outputs": [],
   "source": [
    "import tensorflow as tf\n",
    "import os\n",
    "import random\n",
    "import numpy as np\n",
    "from tqdm import tqdm\n",
    "import albumentations as A\n",
    "import cv2\n",
    "\n",
    "from skimage.io import imread\n",
    "from skimage.io import imshow\n",
    "from skimage.util import crop\n",
    "from skimage.transform import resize\n",
    "import matplotlib.pyplot as plt\n",
    "\n",
    "\n",
    "from tensorflow import keras\n",
    "from keras.models import Sequential, Model\n",
    "from keras.layers import Dense, Flatten, Conv2D, MaxPooling2D, Dropout\n",
    "from tensorflow.keras import layers\n",
    "from tensorflow.keras.utils import to_categorical\n",
    "from tensorflow.keras.optimizers.legacy import Adam\n",
    "\n",
    "import numpy as np\n",
    "import pandas as pd\n",
    "import matplotlib.pyplot as plt\n",
    "import keras\n",
    "from keras.layers import *\n",
    "from keras import models\n",
    "from keras.preprocessing import image\n",
    "\n",
    "from sklearn.metrics import classification_report\n",
    "from sklearn.metrics import confusion_matrix\n",
    "from sklearn.metrics import ConfusionMatrixDisplay\n",
    "from sklearn.metrics import confusion_matrix, ConfusionMatrixDisplay\n",
    "from keras.preprocessing.image import ImageDataGenerator\n",
    "from tensorflow.keras.callbacks import ReduceLROnPlateau, Callback"
   ]
  },
  {
   "cell_type": "markdown",
   "id": "bf5b74e7",
   "metadata": {},
   "source": [
    "## Paths"
   ]
  },
  {
   "cell_type": "code",
   "execution_count": 97,
   "id": "6de49798",
   "metadata": {},
   "outputs": [],
   "source": [
    "TRAIN_PATH = 'archive/classification/tirads/no_frame/balance/train'\n",
    "TEST_PATH = 'archive/classification/tirads/no_frame/balance/test'\n",
    "VALID_PATH = 'archive/classification/tirads/no_frame/balance/validate'"
   ]
  },
  {
   "cell_type": "code",
   "execution_count": 98,
   "id": "092edda7",
   "metadata": {},
   "outputs": [],
   "source": [
    "input_size = (3,224,224)"
   ]
  },
  {
   "cell_type": "markdown",
   "id": "ebecda4a",
   "metadata": {},
   "source": [
    "## Load and Prepare Images"
   ]
  },
  {
   "cell_type": "code",
   "execution_count": 99,
   "id": "b6e2034a",
   "metadata": {},
   "outputs": [
    {
     "name": "stdout",
     "output_type": "stream",
     "text": [
      "Found 426 images belonging to 6 classes.\n",
      "Found 18 images belonging to 6 classes.\n"
     ]
    }
   ],
   "source": [
    "# # for neaug frame\n",
    "# # divisible with 258: 2, 3, 6, 43, 86, 129 \n",
    "# train_batchsize = 6\n",
    "# # divisible with 52: 2, 4, 13 \n",
    "# valid_batchsize = 4\n",
    "\n",
    "\n",
    "# #for aug frame\n",
    "# # divisible with 518: 2, 259.\n",
    "# train_batchsize = 2\n",
    "# # divisible with 52: 2, 4, 13 \n",
    "# valid_batchsize = 4\n",
    "\n",
    "\n",
    "# #for balance frame\n",
    "# # divisible with 426: 2, 3, 6, 71, 142, 213\n",
    "# train_batchsize = 6\n",
    "#  # divisible with 52: 2, 4, 13 \n",
    "# valid_batchsize = 4\n",
    "\n",
    "\n",
    "# # for neaug no frame\n",
    "# # divisible with 258: 2, 3, 6, 43, 86, 129 \n",
    "# train_batchsize = 6\n",
    "# # divisible with 52: 2, 4, 13 \n",
    "# valid_batchsize = 4\n",
    "\n",
    "\n",
    "# #for aug no frame\n",
    "# # divisible with 518: 2, 259\n",
    "# train_batchsize = 2\n",
    "# # divisible with 52: 2, 4, 13 \n",
    "# valid_batchsize = 4\n",
    "\n",
    "\n",
    "#for balance no frane\n",
    "# divisible with 426: 2, 3, 6, 71, 142, 213\n",
    "train_batchsize = 6\n",
    "# divisible with 18: 2, 3, 6, 9\n",
    "valid_batchsize = 3\n",
    "\n",
    "\n",
    "train_datagen = ImageDataGenerator(rescale=1./255\n",
    ")\n",
    "\n",
    "validation_datagen = ImageDataGenerator(rescale=1./255)\n",
    "                                  \n",
    "train_generator = train_datagen.flow_from_directory(\n",
    "        TRAIN_PATH,  \n",
    "        shuffle=True,\n",
    "         batch_size=train_batchsize,\n",
    "        target_size=input_size[1:],\n",
    "        class_mode='categorical')  \n",
    "\n",
    "validation_generator = validation_datagen.flow_from_directory(\n",
    "        VALID_PATH,  \n",
    "        target_size=input_size[1:],\n",
    "        shuffle=True,\n",
    "         batch_size=valid_batchsize,\n",
    "        class_mode='categorical')"
   ]
  },
  {
   "cell_type": "markdown",
   "id": "abe13016",
   "metadata": {},
   "source": [
    "## Make the model"
   ]
  },
  {
   "cell_type": "markdown",
   "id": "15dd6c71",
   "metadata": {},
   "source": [
    "### From Scratch"
   ]
  },
  {
   "cell_type": "code",
   "execution_count": 100,
   "id": "86d2c6ec",
   "metadata": {},
   "outputs": [
    {
     "name": "stdout",
     "output_type": "stream",
     "text": [
      "Model: \"sequential_7\"\n",
      "_________________________________________________________________\n",
      " Layer (type)                Output Shape              Param #   \n",
      "=================================================================\n",
      " conv2d_13 (Conv2D)          (None, 224, 224, 64)      1792      \n",
      "                                                                 \n",
      " conv2d_14 (Conv2D)          (None, 224, 224, 64)      36928     \n",
      "                                                                 \n",
      " max_pooling2d_5 (MaxPoolin  (None, 112, 112, 64)      0         \n",
      " g2D)                                                            \n",
      "                                                                 \n",
      " conv2d_15 (Conv2D)          (None, 112, 112, 128)     73856     \n",
      "                                                                 \n",
      " conv2d_16 (Conv2D)          (None, 112, 112, 128)     147584    \n",
      "                                                                 \n",
      " max_pooling2d_6 (MaxPoolin  (None, 56, 56, 128)       0         \n",
      " g2D)                                                            \n",
      "                                                                 \n",
      " conv2d_17 (Conv2D)          (None, 56, 56, 256)       295168    \n",
      "                                                                 \n",
      " conv2d_18 (Conv2D)          (None, 56, 56, 256)       590080    \n",
      "                                                                 \n",
      " conv2d_19 (Conv2D)          (None, 56, 56, 256)       590080    \n",
      "                                                                 \n",
      " max_pooling2d_7 (MaxPoolin  (None, 28, 28, 256)       0         \n",
      " g2D)                                                            \n",
      "                                                                 \n",
      " conv2d_20 (Conv2D)          (None, 28, 28, 512)       1180160   \n",
      "                                                                 \n",
      " conv2d_21 (Conv2D)          (None, 28, 28, 512)       2359808   \n",
      "                                                                 \n",
      " conv2d_22 (Conv2D)          (None, 28, 28, 512)       2359808   \n",
      "                                                                 \n",
      " max_pooling2d_8 (MaxPoolin  (None, 14, 14, 512)       0         \n",
      " g2D)                                                            \n",
      "                                                                 \n",
      " conv2d_23 (Conv2D)          (None, 14, 14, 512)       2359808   \n",
      "                                                                 \n",
      " conv2d_24 (Conv2D)          (None, 14, 14, 512)       2359808   \n",
      "                                                                 \n",
      " conv2d_25 (Conv2D)          (None, 14, 14, 512)       2359808   \n",
      "                                                                 \n",
      " max_pooling2d_9 (MaxPoolin  (None, 7, 7, 512)         0         \n",
      " g2D)                                                            \n",
      "                                                                 \n",
      " flatten_7 (Flatten)         (None, 25088)             0         \n",
      "                                                                 \n",
      " dense_21 (Dense)            (None, 4096)              102764544 \n",
      "                                                                 \n",
      " dropout_14 (Dropout)        (None, 4096)              0         \n",
      "                                                                 \n",
      " dense_22 (Dense)            (None, 4096)              16781312  \n",
      "                                                                 \n",
      " dropout_15 (Dropout)        (None, 4096)              0         \n",
      "                                                                 \n",
      " dense_23 (Dense)            (None, 6)                 24582     \n",
      "                                                                 \n",
      "=================================================================\n",
      "Total params: 134285126 (512.26 MB)\n",
      "Trainable params: 134285126 (512.26 MB)\n",
      "Non-trainable params: 0 (0.00 Byte)\n",
      "_________________________________________________________________\n"
     ]
    }
   ],
   "source": [
    "# Define the model as a sequential sequence of layers\n",
    "model = Sequential()\n",
    "\n",
    "# Define convolutional layers\n",
    "model.add(Conv2D(64, (3, 3), activation='relu', padding='same', input_shape=(224, 224, 3)))\n",
    "model.add(Conv2D(64, (3, 3), activation='relu', padding='same'))\n",
    "model.add(MaxPooling2D((2, 2)))\n",
    "\n",
    "model.add(Conv2D(128, (3, 3), activation='relu', padding='same'))\n",
    "model.add(Conv2D(128, (3, 3), activation='relu', padding='same'))\n",
    "model.add(MaxPooling2D((2, 2)))\n",
    "\n",
    "model.add(Conv2D(256, (3, 3), activation='relu', padding='same'))\n",
    "model.add(Conv2D(256, (3, 3), activation='relu', padding='same'))\n",
    "model.add(Conv2D(256, (3, 3), activation='relu', padding='same'))\n",
    "model.add(MaxPooling2D((2, 2)))\n",
    "\n",
    "model.add(Conv2D(512, (3, 3), activation='relu', padding='same'))\n",
    "model.add(Conv2D(512, (3, 3), activation='relu', padding='same'))\n",
    "model.add(Conv2D(512, (3, 3), activation='relu', padding='same'))\n",
    "model.add(MaxPooling2D((2, 2)))\n",
    "\n",
    "model.add(Conv2D(512, (3, 3), activation='relu', padding='same'))\n",
    "model.add(Conv2D(512, (3, 3), activation='relu', padding='same'))\n",
    "model.add(Conv2D(512, (3, 3), activation='relu', padding='same'))\n",
    "model.add(MaxPooling2D((2, 2)))\n",
    "\n",
    "# Define classification layers\n",
    "model.add(Flatten())\n",
    "model.add(Dense(4096, activation='relu'))\n",
    "model.add(Dropout(0.5))\n",
    "model.add(Dense(4096, activation='relu'))\n",
    "model.add(Dropout(0.5))\n",
    "model.add(Dense(6, activation='softmax'))\n",
    "\n",
    "# Print a summary of the model architecture\n",
    "model.summary()\n",
    "\n",
    "\n",
    "# Compile the model\n",
    "model.compile(\n",
    "#              loss=keras.losses.CategoricalCrossentropy(),\n",
    "              loss=keras.losses.BinaryCrossentropy(),\n",
    "              optimizer=keras.optimizers.legacy.Adamax(), \n",
    "              metrics=['accuracy'],\n",
    "             )"
   ]
  },
  {
   "cell_type": "markdown",
   "id": "2229ca80",
   "metadata": {},
   "source": [
    "### Pre-trained"
   ]
  },
  {
   "cell_type": "code",
   "execution_count": 101,
   "id": "3a9b60fc",
   "metadata": {},
   "outputs": [],
   "source": [
    "# To show the model arhitecture\n",
    "from tensorflow.keras.applications.vgg16 import VGG16\n",
    "# from keras.utils.vis_utils import plot_model\n",
    "base_model = VGG16(input_shape = (224, 224, 3), include_top = False, weights = 'imagenet')\n",
    "\n",
    "for layer in base_model.layers:\n",
    "              layer.trainable = False"
   ]
  },
  {
   "cell_type": "code",
   "execution_count": 102,
   "id": "3a1b382e",
   "metadata": {},
   "outputs": [
    {
     "name": "stdout",
     "output_type": "stream",
     "text": [
      "Model: \"sequential_8\"\n",
      "_________________________________________________________________\n",
      " Layer (type)                Output Shape              Param #   \n",
      "=================================================================\n",
      " vgg16 (Functional)          (None, 7, 7, 512)         14714688  \n",
      "                                                                 \n",
      " flatten_8 (Flatten)         (None, 25088)             0         \n",
      "                                                                 \n",
      " dense_24 (Dense)            (None, 4096)              102764544 \n",
      "                                                                 \n",
      " dropout_16 (Dropout)        (None, 4096)              0         \n",
      "                                                                 \n",
      " dense_25 (Dense)            (None, 4096)              16781312  \n",
      "                                                                 \n",
      " dropout_17 (Dropout)        (None, 4096)              0         \n",
      "                                                                 \n",
      " dense_26 (Dense)            (None, 6)                 24582     \n",
      "                                                                 \n",
      "=================================================================\n",
      "Total params: 134285126 (512.26 MB)\n",
      "Trainable params: 119570438 (456.13 MB)\n",
      "Non-trainable params: 14714688 (56.13 MB)\n",
      "_________________________________________________________________\n"
     ]
    }
   ],
   "source": [
    "model = Sequential()\n",
    "model.add(base_model)\n",
    "\n",
    "model.add(Flatten())\n",
    "model.add(Dense(4096, activation='relu'))\n",
    "model.add(Dropout(0.5))\n",
    "model.add(Dense(4096, activation='relu'))\n",
    "model.add(Dropout(0.5))\n",
    "model.add(Dense(6, activation='softmax'))\n",
    "\n",
    "model.summary()"
   ]
  },
  {
   "cell_type": "code",
   "execution_count": 103,
   "id": "49647331",
   "metadata": {},
   "outputs": [],
   "source": [
    "model.compile(\n",
    "    loss=keras.losses.BinaryFocalCrossentropy(),\n",
    "    optimizer=keras.optimizers.legacy.Adamax(learning_rate=0.001), \n",
    "    metrics = ['accuracy'])"
   ]
  },
  {
   "cell_type": "markdown",
   "id": "90d573d0",
   "metadata": {},
   "source": [
    "## Train the model"
   ]
  },
  {
   "cell_type": "code",
   "execution_count": 104,
   "id": "6b760b11",
   "metadata": {},
   "outputs": [],
   "source": [
    "class LearningRateLogger(Callback):\n",
    "    def on_epoch_end(self, epoch, logs=None):\n",
    "        lr = self.model.optimizer.learning_rate\n",
    "        if isinstance(lr, tf.Variable) or tf.is_tensor(lr):\n",
    "            lr = tf.keras.backend.get_value(lr)\n",
    "        print(f\" Epoch {epoch+1}: Learning rate is {lr:.6f}\")"
   ]
  },
  {
   "cell_type": "code",
   "execution_count": 105,
   "id": "25595cd9",
   "metadata": {},
   "outputs": [
    {
     "name": "stdout",
     "output_type": "stream",
     "text": [
      "Epoch 1/25\n",
      "71/71 [==============================] - ETA: 0s - loss: 1.2926 - accuracy: 0.1784 Epoch 1: Learning rate is 0.001000\n",
      "\n",
      "Epoch 1: val_loss improved from inf to 0.19714, saving model to model_vgg16_tirads_aug.h5\n"
     ]
    },
    {
     "name": "stderr",
     "output_type": "stream",
     "text": [
      "/Users/taras_lara/anaconda3/lib/python3.10/site-packages/keras/src/engine/training.py:3000: UserWarning: You are saving your model as an HDF5 file via `model.save()`. This file format is considered legacy. We recommend using instead the native Keras format, e.g. `model.save('my_model.keras')`.\n",
      "  saving_api.save_model(\n"
     ]
    },
    {
     "name": "stdout",
     "output_type": "stream",
     "text": [
      "71/71 [==============================] - 124s 2s/step - loss: 1.2926 - accuracy: 0.1784 - val_loss: 0.1971 - val_accuracy: 0.2222 - lr: 0.0010\n",
      "Epoch 2/25\n",
      "71/71 [==============================] - ETA: 0s - loss: 0.2061 - accuracy: 0.2136 Epoch 2: Learning rate is 0.001000\n",
      "\n",
      "Epoch 2: val_loss improved from 0.19714 to 0.07475, saving model to model_vgg16_tirads_aug.h5\n",
      "71/71 [==============================] - 106s 1s/step - loss: 0.2061 - accuracy: 0.2136 - val_loss: 0.0748 - val_accuracy: 0.1667 - lr: 0.0010\n",
      "Epoch 3/25\n",
      "71/71 [==============================] - ETA: 0s - loss: 0.0739 - accuracy: 0.2488 Epoch 3: Learning rate is 0.001000\n",
      "\n",
      "Epoch 3: val_loss improved from 0.07475 to 0.06804, saving model to model_vgg16_tirads_aug.h5\n",
      "71/71 [==============================] - 126s 2s/step - loss: 0.0739 - accuracy: 0.2488 - val_loss: 0.0680 - val_accuracy: 0.1111 - lr: 0.0010\n",
      "Epoch 4/25\n",
      "71/71 [==============================] - ETA: 0s - loss: 0.0690 - accuracy: 0.2770 Epoch 4: Learning rate is 0.001000\n",
      "\n",
      "Epoch 4: val_loss improved from 0.06804 to 0.06627, saving model to model_vgg16_tirads_aug.h5\n",
      "71/71 [==============================] - 124s 2s/step - loss: 0.0690 - accuracy: 0.2770 - val_loss: 0.0663 - val_accuracy: 0.1111 - lr: 0.0010\n",
      "Epoch 5/25\n",
      "71/71 [==============================] - ETA: 0s - loss: 0.0657 - accuracy: 0.2958 Epoch 5: Learning rate is 0.001000\n",
      "\n",
      "Epoch 5: val_loss improved from 0.06627 to 0.06261, saving model to model_vgg16_tirads_aug.h5\n",
      "71/71 [==============================] - 100s 1s/step - loss: 0.0657 - accuracy: 0.2958 - val_loss: 0.0626 - val_accuracy: 0.3889 - lr: 0.0010\n",
      "Epoch 6/25\n",
      "71/71 [==============================] - ETA: 0s - loss: 0.0656 - accuracy: 0.3146 Epoch 6: Learning rate is 0.001000\n",
      "\n",
      "Epoch 6: val_loss did not improve from 0.06261\n",
      "71/71 [==============================] - 110s 2s/step - loss: 0.0656 - accuracy: 0.3146 - val_loss: 0.0659 - val_accuracy: 0.2222 - lr: 0.0010\n",
      "Epoch 7/25\n",
      "71/71 [==============================] - ETA: 0s - loss: 0.0643 - accuracy: 0.3122 Epoch 7: Learning rate is 0.001000\n",
      "\n",
      "Epoch 7: val_loss did not improve from 0.06261\n",
      "71/71 [==============================] - 225s 3s/step - loss: 0.0643 - accuracy: 0.3122 - val_loss: 0.0634 - val_accuracy: 0.2222 - lr: 0.0010\n",
      "Epoch 8/25\n",
      "71/71 [==============================] - ETA: 0s - loss: 0.0649 - accuracy: 0.3427 Epoch 8: Learning rate is 0.001000\n",
      "\n",
      "Epoch 8: val_loss did not improve from 0.06261\n",
      "71/71 [==============================] - 437s 6s/step - loss: 0.0649 - accuracy: 0.3427 - val_loss: 0.0650 - val_accuracy: 0.1667 - lr: 0.0010\n",
      "Epoch 9/25\n",
      "71/71 [==============================] - ETA: 0s - loss: 0.0631 - accuracy: 0.3122\n",
      "Epoch 9: ReduceLROnPlateau reducing learning rate to 0.00010000000474974513.\n",
      " Epoch 9: Learning rate is 0.000100\n",
      "\n",
      "Epoch 9: val_loss did not improve from 0.06261\n",
      "71/71 [==============================] - 546s 8s/step - loss: 0.0631 - accuracy: 0.3122 - val_loss: 0.0637 - val_accuracy: 0.3889 - lr: 0.0010\n",
      "Epoch 10/25\n",
      "71/71 [==============================] - ETA: 0s - loss: 0.0616 - accuracy: 0.3709 Epoch 10: Learning rate is 0.000100\n",
      "\n",
      "Epoch 10: val_loss did not improve from 0.06261\n",
      "71/71 [==============================] - 598s 8s/step - loss: 0.0616 - accuracy: 0.3709 - val_loss: 0.0636 - val_accuracy: 0.3333 - lr: 1.0000e-04\n"
     ]
    }
   ],
   "source": [
    "# Saving the best result\n",
    "checkpoiter = tf.keras.callbacks.ModelCheckpoint('model_vgg16_tirads_aug.h5', verbose=1, save_best_only=True)\n",
    "\n",
    "steps = train_generator.samples//train_generator.batch_size\n",
    "reduce_lr = ReduceLROnPlateau(monitor='val_accuracy', factor=0.1, patience=4, min_lr=0.00001, verbose=1)\n",
    "\n",
    "callbacks = [\n",
    "    tf.keras.callbacks.EarlyStopping(patience=5, monitor='val_loss'),\n",
    "    tf.keras.callbacks.TensorBoard(log_dir='logs'),\n",
    "    reduce_lr,\n",
    "    LearningRateLogger(),\n",
    "    checkpoiter\n",
    "\n",
    "]\n",
    "# Train\n",
    "results = model.fit(train_generator, \n",
    "                    validation_data=validation_generator, \n",
    "                    validation_steps=validation_generator.samples // validation_generator.batch_size,\n",
    "                    steps_per_epoch = steps,\n",
    "                    shuffle=True,\n",
    "                    epochs=25, \n",
    "                    callbacks=callbacks,\n",
    "\n",
    "                   )\n"
   ]
  },
  {
   "cell_type": "markdown",
   "id": "eff01cbb",
   "metadata": {},
   "source": [
    "## Results"
   ]
  },
  {
   "cell_type": "code",
   "execution_count": 106,
   "id": "b9e5792e",
   "metadata": {},
   "outputs": [
    {
     "name": "stdout",
     "output_type": "stream",
     "text": [
      "Accuracy Score =  0.3888888955116272\n",
      "Loss Score =  0.06260836869478226\n"
     ]
    }
   ],
   "source": [
    "print('Accuracy Score = ',np.max(results.history['val_accuracy']))\n",
    "print('Loss Score = ',np.min(results.history['val_loss']))"
   ]
  },
  {
   "cell_type": "markdown",
   "id": "9b509294",
   "metadata": {},
   "source": [
    "### During training"
   ]
  },
  {
   "cell_type": "code",
   "execution_count": 107,
   "id": "2907ff34",
   "metadata": {},
   "outputs": [
    {
     "data": {
      "image/png": "[encoded data removed]",
      "text/plain": [
       "<Figure size 640x480 with 2 Axes>"
      ]
     },
     "metadata": {},
     "output_type": "display_data"
    }
   ],
   "source": [
    "plt.figure()\n",
    "plt.subplot(211)\n",
    "loss_train_curve = results.history[\"loss\"]\n",
    "loss_val_curve = results.history[\"val_loss\"]\n",
    "plt.plot(loss_train_curve, label = \"Loss\")\n",
    "plt.plot(loss_val_curve, label = \"Val_Loss\")\n",
    "plt.legend(loc = 'upper right')\n",
    "plt.ylabel(\"Loss\")\n",
    "\n",
    "\n",
    "plt.subplot(212)\n",
    "acc_train_curve = results.history[\"accuracy\"]\n",
    "acc_val_curve = results.history[\"val_accuracy\"]\n",
    "plt.plot(acc_train_curve, label = \"Accuracy\")\n",
    "plt.plot(acc_val_curve, label = \"Val_Accuracy\")\n",
    "plt.legend(loc = 'upper right')\n",
    "plt.ylabel(\"Accuracy\")\n",
    "plt.xlabel(\"Epoch\")\n",
    "plt.show()"
   ]
  },
  {
   "cell_type": "markdown",
   "id": "e12337a1",
   "metadata": {},
   "source": [
    "### Test the model"
   ]
  },
  {
   "cell_type": "code",
   "execution_count": 108,
   "id": "8ff435bc",
   "metadata": {},
   "outputs": [
    {
     "name": "stdout",
     "output_type": "stream",
     "text": [
      "['2', '3', '4a', '4b', '4c', '5']\n",
      "Found 36 images belonging to 6 classes.\n",
      "2/2 [==============================] - 43s 4s/step - loss: 1.5775 - accuracy: 0.1667\n"
     ]
    }
   ],
   "source": [
    "# Predict Classes\n",
    "\n",
    "# divisible with 36: 2, 3, 4, 6, 9, 12, 18\n",
    "test_batch_size = 3\n",
    "\n",
    "target_names = list(train_generator.class_indices.keys())\n",
    "print(target_names)\n",
    "test_datagen = ImageDataGenerator()\n",
    "\n",
    "test_generator = test_datagen.flow_from_directory(\n",
    "    TEST_PATH,\n",
    "    target_size=input_size[1:],\n",
    "#     batch_size=test_batchsize,\n",
    "    shuffle=True,\n",
    "class_mode='categorical')\n",
    "\n",
    "scores = model.evaluate(test_generator,workers=12)\n",
    "target_names = list(test_generator.class_indices.keys())"
   ]
  },
  {
   "cell_type": "markdown",
   "id": "37b5a20a",
   "metadata": {},
   "source": [
    "### Make predictions"
   ]
  },
  {
   "cell_type": "code",
   "execution_count": 109,
   "id": "353fdd35",
   "metadata": {},
   "outputs": [
    {
     "name": "stdout",
     "output_type": "stream",
     "text": [
      "WARNING:tensorflow:6 out of the last 11 calls to <function Model.make_predict_function.<locals>.predict_function at 0x305fd5870> triggered tf.function retracing. Tracing is expensive and the excessive number of tracings could be due to (1) creating @tf.function repeatedly in a loop, (2) passing tensors with different shapes, (3) passing Python objects instead of tensors. For (1), please define your @tf.function outside of the loop. For (2), @tf.function has reduce_retracing=True option that can avoid unnecessary retracing. For (3), please refer to https://www.tensorflow.org/guide/function#controlling_retracing and https://www.tensorflow.org/api_docs/python/tf/function for  more details.\n",
      "2/2 [==============================] - 31s 3s/step\n",
      "[0 0 0 0 0 1 1 2 2 2 2 2 2 2 2 2 3 3 3 3 3 3 3 3 4 4 4 4 4 4 4 5 5 5 5 5]\n",
      "[3 3 3 5 5 5 2 3 3 3 3 3 3 3 3 3 3 3 5 3 3 3 5 3 3 3 5 3 3 3 3 3 2 3 3 3]\n",
      "0.16666666666666666\n"
     ]
    }
   ],
   "source": [
    "test_generator.reset()\n",
    "\n",
    "Y_pred = model.predict(test_generator, verbose=1)\n",
    "\n",
    "y_pred = np.argmax(Y_pred, axis=-1)\n",
    "classes = test_generator.classes\n",
    "\n",
    "print(classes)\n",
    "print(y_pred)\n",
    "\n",
    "print(sum(y_pred==classes)/len(test_generator.classes))"
   ]
  },
  {
   "cell_type": "markdown",
   "id": "b596a9bf",
   "metadata": {},
   "source": [
    "### Confusion Matrix"
   ]
  },
  {
   "cell_type": "code",
   "execution_count": 110,
   "id": "c6e79763",
   "metadata": {},
   "outputs": [
    {
     "data": {
      "image/png": "[encoded data removed]",
      "text/plain": [
       "<Figure size 640x480 with 2 Axes>"
      ]
     },
     "metadata": {},
     "output_type": "display_data"
    }
   ],
   "source": [
    "\n",
    "cm = confusion_matrix(classes, y_pred)\n",
    "\n",
    "disp = ConfusionMatrixDisplay(confusion_matrix=cm, display_labels=target_names)\n",
    "\n",
    "disp.plot()\n",
    "plt.grid(False)\n",
    "plt.show()"
   ]
  },
  {
   "cell_type": "markdown",
   "id": "d35a783f",
   "metadata": {},
   "source": [
    "### Metrics"
   ]
  },
  {
   "cell_type": "code",
   "execution_count": 111,
   "id": "c46e244f",
   "metadata": {},
   "outputs": [
    {
     "name": "stdout",
     "output_type": "stream",
     "text": [
      "True positive= 1.0\n",
      "True Negative= 25.0\n",
      "False positive= 5.0\n",
      "False Negative= 5.0\n"
     ]
    }
   ],
   "source": [
    "\n",
    "FP = cm.sum(axis=0) - np.diag(cm)  \n",
    "FN = cm.sum(axis=1) - np.diag(cm)\n",
    "TP = np.diag(cm)\n",
    "TN = cm.sum() - (FP + FN + TP)\n",
    "FP = FP.astype(float)\n",
    "FN = FN.astype(float)\n",
    "TP = TP.astype(float)\n",
    "TN = TN.astype(float)\n",
    "\n",
    "def Average(FP):\n",
    "    return sum(FP) / len(FP)\n",
    "FP=Average(FP)\n",
    "\n",
    "\n",
    "def Average1(FN):\n",
    "    return sum(FN) / len(FN)\n",
    "FN=Average1(FN)\n",
    "\n",
    "def Average2(TP):\n",
    "    return sum(TP) / len(TP)\n",
    "TP=Average2(TP)\n",
    "\n",
    "def Average3(TN):\n",
    "    return sum(TN) / len(TN)\n",
    "TN=Average3(TN)\n",
    "\n",
    "\n",
    "print(\"True positive=\",TP)\n",
    "print(\"True Negative=\",TN)\n",
    "print(\"False positive=\",FP)\n",
    "print(\"False Negative=\",FN)\n"
   ]
  },
  {
   "cell_type": "code",
   "execution_count": 112,
   "id": "42374956",
   "metadata": {},
   "outputs": [],
   "source": [
    "# Sensitivity, hit rate, recall, or true positive rate\n",
    "TPR = TP/(TP+FN)\n",
    "# Specificity or true negative rate\n",
    "TNR = TN/(TN+FP) \n",
    "# Precision or positive predictive value\n",
    "PPV = TP/(TP+FP)\n",
    "# Negative predictive value\n",
    "NPV = TN/(TN+FN)\n",
    "# Fall out or false positive rate\n",
    "FPR = FP/(FP+TN)\n",
    "# False negative rate\n",
    "FNR = FN/(TP+FN)\n",
    "# False discovery rate\n",
    "FDR = FP/(TP+FP)\n",
    "#F1_SCORE\n",
    "FSCO=(2*TP) / ((2*TP) +FP + FN) \n",
    "# Overall accuracy\n",
    "ACC = (TP+TN)/(TP+FP+FN+TN)"
   ]
  },
  {
   "cell_type": "code",
   "execution_count": 113,
   "id": "e265b90f",
   "metadata": {},
   "outputs": [
    {
     "name": "stdout",
     "output_type": "stream",
     "text": [
      "sensitivity= 16.667 %\n",
      "precision= 16.667 %\n",
      "Specificity= 83.333 %\n",
      "F-score= 16.667 %\n",
      "ACCURACY= 72.222 %\n",
      "FNR= 83.33333333333334 %\n",
      "FPR= 16.666666666666664 %\n",
      "NPV= 83.33333333333334 %\n"
     ]
    }
   ],
   "source": [
    "print(\"sensitivity=\",round(TPR*100,3),\"%\")\n",
    "print(\"precision=\",round(PPV*100,3),\"%\")\n",
    "print(\"Specificity=\",round(TNR*100,3),\"%\")\n",
    "print(\"F-score=\", round(FSCO*100,3),\"%\")\n",
    "print(\"ACCURACY=\",round(ACC*100,3),\"%\")\n",
    "print(\"FNR=\",FNR*100,\"%\")\n",
    "print(\"FPR=\",FPR*100,\"%\")\n",
    "print(\"NPV=\",NPV*100,\"%\")"
   ]
  }
 ],
 "metadata": {
  "kernelspec": {
   "display_name": "Python 3 (ipykernel)",
   "language": "python",
   "name": "python3"
  },
  "language_info": {
   "codemirror_mode": {
    "name": "ipython",
    "version": 3
   },
   "file_extension": ".py",
   "mimetype": "text/x-python",
   "name": "python",
   "nbconvert_exporter": "python",
   "pygments_lexer": "ipython3",
   "version": "3.10.9"
  }
 },
 "nbformat": 4,
 "nbformat_minor": 5
}
