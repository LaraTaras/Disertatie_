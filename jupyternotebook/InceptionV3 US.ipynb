{
 "cells": [
  {
   "cell_type": "markdown",
   "id": "f8f9deb2",
   "metadata": {},
   "source": [
    "# InceptionV3"
   ]
  },
  {
   "cell_type": "markdown",
   "id": "7ef953e2",
   "metadata": {},
   "source": [
    "### InceptionV3 with only 2 categories (US and non-US)"
   ]
  },
  {
   "cell_type": "markdown",
   "id": "664476fd",
   "metadata": {},
   "source": [
    "## Get packages"
   ]
  },
  {
   "cell_type": "code",
   "execution_count": 96,
   "id": "1b37c795",
   "metadata": {},
   "outputs": [],
   "source": [
    "import tensorflow as tf\n",
    "import os\n",
    "import random\n",
    "import numpy as np\n",
    "from tqdm import tqdm\n",
    "import albumentations as A \n",
    "import cv2\n",
    "\n",
    "from skimage.io import imread\n",
    "from skimage.io import imshow\n",
    "from skimage.util import crop\n",
    "from skimage.transform import resize\n",
    "import matplotlib.pyplot as plt\n",
    "\n",
    "\n",
    "from tensorflow import keras\n",
    "from keras.models import Sequential, Model\n",
    "from keras.layers import Dense, Flatten, Conv2D, MaxPooling2D, Dropout\n",
    "from tensorflow.keras import layers\n",
    "from tensorflow.keras.utils import to_categorical\n",
    "from tensorflow.keras.optimizers.legacy import Adam\n",
    "\n",
    "import numpy as np\n",
    "import pandas as pd\n",
    "import matplotlib.pyplot as plt\n",
    "import keras\n",
    "from keras.layers import *\n",
    "from keras import models\n",
    "from keras.preprocessing import image\n",
    "\n",
    "from sklearn.metrics import classification_report\n",
    "from sklearn.metrics import confusion_matrix\n",
    "from sklearn.metrics import ConfusionMatrixDisplay\n",
    "from sklearn.metrics import confusion_matrix, ConfusionMatrixDisplay\n",
    "from keras.preprocessing.image import ImageDataGenerator\n",
    "from tensorflow.keras import regularizers\n",
    "from tensorflow.keras.callbacks import ReduceLROnPlateau, Callback"
   ]
  },
  {
   "cell_type": "markdown",
   "id": "47b79219",
   "metadata": {},
   "source": [
    "## Paths"
   ]
  },
  {
   "cell_type": "code",
   "execution_count": 97,
   "id": "2e74b802",
   "metadata": {},
   "outputs": [],
   "source": [
    "TRAIN_PATH = 'archive/classification/us/train'\n",
    "TEST_PATH = 'archive/classification/us/test'\n",
    "VALID_PATH = 'archive/classification/us/validate'"
   ]
  },
  {
   "cell_type": "code",
   "execution_count": 98,
   "id": "88f2be99",
   "metadata": {},
   "outputs": [],
   "source": [
    "input_size = (3,150,150)"
   ]
  },
  {
   "cell_type": "markdown",
   "id": "86e84758",
   "metadata": {},
   "source": [
    "## Load and Prepare the Images"
   ]
  },
  {
   "cell_type": "code",
   "execution_count": 142,
   "id": "4c2ebc2e",
   "metadata": {},
   "outputs": [
    {
     "name": "stdout",
     "output_type": "stream",
     "text": [
      "Found 520 images belonging to 2 classes.\n",
      "Found 104 images belonging to 2 classes.\n"
     ]
    }
   ],
   "source": [
    "\n",
    "# # divisible with 520: 2, 4, 5, 8, 10, 13, 20, 26, 40, 52, 65, 104, 130, 260\n",
    "train_batchsize = 52\n",
    "# # divisible with 104: 2, 4, 8, 13, 26, 52\n",
    "valid_batchsize = 13\n",
    "\n",
    "train_datagen = ImageDataGenerator(\n",
    "        rescale = 1./255.,\n",
    "#         shear_range=0.2,\n",
    "#         zoom_range=0.2,\n",
    "#         horizontal_flip=0.6\n",
    ")\n",
    "\n",
    "validation_datagen = ImageDataGenerator(\n",
    "        rescale = 1./255.,\n",
    "    )\n",
    "                                  \n",
    "\n",
    "train_generator = train_datagen.flow_from_directory(\n",
    "        TRAIN_PATH,  \n",
    "        shuffle=True,\n",
    "         batch_size=train_batchsize,\n",
    "        target_size = (150, 150),\n",
    "        class_mode='categorical')  \n",
    "\n",
    "validation_generator = validation_datagen.flow_from_directory(\n",
    "        VALID_PATH,  \n",
    "        target_size = (150, 150),\n",
    "        shuffle=True,\n",
    "         batch_size=valid_batchsize,\n",
    "        class_mode='categorical')"
   ]
  },
  {
   "cell_type": "code",
   "execution_count": null,
   "id": "4051e633",
   "metadata": {},
   "outputs": [],
   "source": []
  },
  {
   "cell_type": "markdown",
   "id": "e05c9b46",
   "metadata": {},
   "source": [
    "## Make the model"
   ]
  },
  {
   "cell_type": "code",
   "execution_count": 143,
   "id": "3391ae92",
   "metadata": {},
   "outputs": [],
   "source": [
    "\n",
    "from tensorflow.keras.applications.inception_v3 import InceptionV3\n",
    "base_model = InceptionV3(input_shape = (150, 150, 3), include_top = False, weights = 'imagenet')"
   ]
  },
  {
   "cell_type": "code",
   "execution_count": 144,
   "id": "3bcb70fe",
   "metadata": {},
   "outputs": [],
   "source": [
    "for layer in base_model.layers:\n",
    "    layer.trainable = False"
   ]
  },
  {
   "cell_type": "code",
   "execution_count": 145,
   "id": "615c47bf",
   "metadata": {},
   "outputs": [
    {
     "name": "stdout",
     "output_type": "stream",
     "text": [
      "Model: \"sequential_17\"\n",
      "_________________________________________________________________\n",
      " Layer (type)                Output Shape              Param #   \n",
      "=================================================================\n",
      " inception_v3 (Functional)   (None, 3, 3, 2048)        21802784  \n",
      "                                                                 \n",
      " flatten_17 (Flatten)        (None, 18432)             0         \n",
      "                                                                 \n",
      " dense_31 (Dense)            (None, 1024)              18875392  \n",
      "                                                                 \n",
      " activation_1237 (Activatio  (None, 1024)              0         \n",
      " n)                                                              \n",
      "                                                                 \n",
      " dropout_15 (Dropout)        (None, 1024)              0         \n",
      "                                                                 \n",
      " dense_32 (Dense)            (None, 2)                 2050      \n",
      "                                                                 \n",
      "=================================================================\n",
      "Total params: 40680226 (155.18 MB)\n",
      "Trainable params: 18877442 (72.01 MB)\n",
      "Non-trainable params: 21802784 (83.17 MB)\n",
      "_________________________________________________________________\n"
     ]
    }
   ],
   "source": [
    "# from tensorflow.keras.optimizers import RMSprop\n",
    "model = Sequential()\n",
    "model.add(base_model)\n",
    "\n",
    "\n",
    "model.add(Flatten())\n",
    "model.add(Dense(1024,kernel_regularizer=regularizers.l2(0.01)))\n",
    "# model.add(BatchNormalization())\n",
    "model.add(Activation('relu'))\n",
    "model.add(Dropout(0.2))  # Dropout for regularization\n",
    "\n",
    "# Add a final sigmoid layer with 1 node for classification output\n",
    "model.add(Dense(2, activation='softmax'))\n",
    "# Print a summary of the model architecture\n",
    "model.summary()"
   ]
  },
  {
   "cell_type": "code",
   "execution_count": 146,
   "id": "12097240",
   "metadata": {},
   "outputs": [],
   "source": [
    "model.compile(\n",
    "#     loss=keras.losses.CategoricalCrossentropy(),\n",
    "    loss=keras.losses.BinaryFocalCrossentropy(),\n",
    "    optimizer = keras.optimizers.legacy.RMSprop(learning_rate=0.001, decay=1e-03, momentum=0.9),  \n",
    "    metrics = ['accuracy'])"
   ]
  },
  {
   "cell_type": "markdown",
   "id": "887ff95e",
   "metadata": {},
   "source": [
    "## Train the model"
   ]
  },
  {
   "cell_type": "code",
   "execution_count": 147,
   "id": "2047dada",
   "metadata": {},
   "outputs": [],
   "source": [
    "class LearningRateLogger(Callback):\n",
    "    def on_epoch_end(self, epoch, logs=None):\n",
    "        lr = self.model.optimizer.learning_rate\n",
    "        if isinstance(lr, tf.Variable) or tf.is_tensor(lr):\n",
    "            lr = tf.keras.backend.get_value(lr)\n",
    "        print(f\" Epoch {epoch+1}: Learning rate is {lr:.6f}\")"
   ]
  },
  {
   "cell_type": "code",
   "execution_count": 148,
   "id": "75000918",
   "metadata": {},
   "outputs": [
    {
     "name": "stdout",
     "output_type": "stream",
     "text": [
      "Epoch 1/10\n",
      "10/10 [==============================] - ETA: 0s - loss: 17.9293 - accuracy: 0.9442"
     ]
    },
    {
     "name": "stderr",
     "output_type": "stream",
     "text": [
      "/Users/taras_lara/anaconda3/lib/python3.10/site-packages/PIL/Image.py:1000: UserWarning: Palette images with Transparency expressed in bytes should be converted to RGBA images\n",
      "  warnings.warn(\n"
     ]
    },
    {
     "name": "stdout",
     "output_type": "stream",
     "text": [
      " Epoch 1: Learning rate is 0.001000\n",
      "\n",
      "Epoch 1: val_loss improved from inf to 16.37815, saving model to model_us_inception.h5\n"
     ]
    },
    {
     "name": "stderr",
     "output_type": "stream",
     "text": [
      "/Users/taras_lara/anaconda3/lib/python3.10/site-packages/keras/src/engine/training.py:3000: UserWarning: You are saving your model as an HDF5 file via `model.save()`. This file format is considered legacy. We recommend using instead the native Keras format, e.g. `model.save('my_model.keras')`.\n",
      "  saving_api.save_model(\n"
     ]
    },
    {
     "name": "stdout",
     "output_type": "stream",
     "text": [
      "10/10 [==============================] - 10s 901ms/step - loss: 17.9293 - accuracy: 0.9442 - val_loss: 16.3781 - val_accuracy: 1.0000 - lr: 0.0010\n",
      "Epoch 2/10\n",
      "10/10 [==============================] - ETA: 0s - loss: 11.0692 - accuracy: 0.9865 Epoch 2: Learning rate is 0.001000\n",
      "\n",
      "Epoch 2: val_loss improved from 16.37815 to 4.60245, saving model to model_us_inception.h5\n",
      "10/10 [==============================] - 8s 803ms/step - loss: 11.0692 - accuracy: 0.9865 - val_loss: 4.6025 - val_accuracy: 1.0000 - lr: 0.0010\n",
      "Epoch 3/10\n",
      "10/10 [==============================] - ETA: 0s - loss: 12.3945 - accuracy: 0.9462 Epoch 3: Learning rate is 0.001000\n",
      "\n",
      "Epoch 3: val_loss did not improve from 4.60245\n",
      "10/10 [==============================] - 8s 729ms/step - loss: 12.3945 - accuracy: 0.9462 - val_loss: 17.1848 - val_accuracy: 0.9519 - lr: 0.0010\n",
      "Epoch 4/10\n",
      "10/10 [==============================] - ETA: 0s - loss: 16.2565 - accuracy: 0.9962 Epoch 4: Learning rate is 0.001000\n",
      "\n",
      "Epoch 4: val_loss did not improve from 4.60245\n",
      "10/10 [==============================] - 8s 760ms/step - loss: 16.2565 - accuracy: 0.9962 - val_loss: 14.8347 - val_accuracy: 1.0000 - lr: 0.0010\n",
      "Epoch 5/10\n",
      "10/10 [==============================] - ETA: 0s - loss: 10.7358 - accuracy: 1.0000\n",
      "Epoch 5: ReduceLROnPlateau reducing learning rate to 0.00010000000474974513.\n",
      " Epoch 5: Learning rate is 0.000100\n",
      "\n",
      "Epoch 5: val_loss did not improve from 4.60245\n",
      "10/10 [==============================] - 8s 769ms/step - loss: 10.7358 - accuracy: 1.0000 - val_loss: 5.7385 - val_accuracy: 1.0000 - lr: 0.0010\n",
      "Epoch 6/10\n",
      "10/10 [==============================] - ETA: 0s - loss: 4.7047 - accuracy: 0.9962 Epoch 6: Learning rate is 0.000100\n",
      "\n",
      "Epoch 6: val_loss improved from 4.60245 to 4.25116, saving model to model_us_inception.h5\n",
      "10/10 [==============================] - 8s 817ms/step - loss: 4.7047 - accuracy: 0.9962 - val_loss: 4.2512 - val_accuracy: 1.0000 - lr: 1.0000e-04\n",
      "Epoch 7/10\n",
      "10/10 [==============================] - ETA: 0s - loss: 4.2807 - accuracy: 0.9942 Epoch 7: Learning rate is 0.000100\n",
      "\n",
      "Epoch 7: val_loss improved from 4.25116 to 3.72514, saving model to model_us_inception.h5\n",
      "10/10 [==============================] - 8s 849ms/step - loss: 4.2807 - accuracy: 0.9942 - val_loss: 3.7251 - val_accuracy: 1.0000 - lr: 1.0000e-04\n",
      "Epoch 8/10\n",
      "10/10 [==============================] - ETA: 0s - loss: 3.1489 - accuracy: 1.0000 Epoch 8: Learning rate is 0.000100\n",
      "\n",
      "Epoch 8: val_loss improved from 3.72514 to 2.42133, saving model to model_us_inception.h5\n",
      "10/10 [==============================] - 9s 873ms/step - loss: 3.1489 - accuracy: 1.0000 - val_loss: 2.4213 - val_accuracy: 1.0000 - lr: 1.0000e-04\n",
      "Epoch 9/10\n",
      "10/10 [==============================] - ETA: 0s - loss: 1.9067 - accuracy: 0.9981\n",
      "Epoch 9: ReduceLROnPlateau reducing learning rate to 1.0000000474974514e-05.\n",
      " Epoch 9: Learning rate is 0.000010\n",
      "\n",
      "Epoch 9: val_loss improved from 2.42133 to 1.31025, saving model to model_us_inception.h5\n",
      "10/10 [==============================] - 9s 851ms/step - loss: 1.9067 - accuracy: 0.9981 - val_loss: 1.3102 - val_accuracy: 1.0000 - lr: 1.0000e-04\n",
      "Epoch 10/10\n",
      "10/10 [==============================] - ETA: 0s - loss: 1.0621 - accuracy: 1.0000 Epoch 10: Learning rate is 0.000010\n",
      "\n",
      "Epoch 10: val_loss improved from 1.31025 to 0.86605, saving model to model_us_inception.h5\n",
      "10/10 [==============================] - 9s 877ms/step - loss: 1.0621 - accuracy: 1.0000 - val_loss: 0.8660 - val_accuracy: 1.0000 - lr: 1.0000e-05\n"
     ]
    }
   ],
   "source": [
    "# Saving the best result\n",
    "checkpoiter = tf.keras.callbacks.ModelCheckpoint('model_us_inception.h5', verbose=1, save_best_only=True)\n",
    "steps = train_generator.samples//train_generator.batch_size\n",
    "reduce_lr = ReduceLROnPlateau(monitor='val_accuracy', factor=0.1, patience=4, min_lr=0.00001, verbose=1)\n",
    "\n",
    "callbacks = [\n",
    "#     tf.keras.callbacks.EarlyStopping(patience=5, monitor='val_loss'),\n",
    "    tf.keras.callbacks.TensorBoard(log_dir='logs'),\n",
    "    reduce_lr,\n",
    "    LearningRateLogger(),\n",
    "    checkpoiter\n",
    "\n",
    "]\n",
    "# Train\n",
    "results = model.fit(train_generator, \n",
    "                   validation_data=validation_generator, \n",
    "                    validation_steps=validation_generator.samples // validation_generator.batch_size,\n",
    "                    steps_per_epoch = steps,\n",
    "                    shuffle=True,\n",
    "                    batch_size=64,\n",
    "                    epochs=10, \n",
    "                    callbacks=callbacks,\n",
    "\n",
    "                   )"
   ]
  },
  {
   "cell_type": "markdown",
   "id": "7d11cec7",
   "metadata": {},
   "source": [
    "## Results"
   ]
  },
  {
   "cell_type": "code",
   "execution_count": 114,
   "id": "7a8588b7",
   "metadata": {},
   "outputs": [
    {
     "name": "stdout",
     "output_type": "stream",
     "text": [
      "Accuracy Score =  1.0\n",
      "Loss Score =  0.0\n"
     ]
    }
   ],
   "source": [
    "print('Accuracy Score = ',np.max(results.history['val_accuracy']))\n",
    "\n",
    "print('Loss Score = ',np.min(results.history['val_loss']))"
   ]
  },
  {
   "cell_type": "markdown",
   "id": "f2b00c26",
   "metadata": {},
   "source": [
    "### During training"
   ]
  },
  {
   "cell_type": "code",
   "execution_count": 149,
   "id": "2c4a396f",
   "metadata": {},
   "outputs": [
    {
     "data": {
      "image/png": "[encoded data removed]",
      "text/plain": [
       "<Figure size 640x480 with 2 Axes>"
      ]
     },
     "metadata": {},
     "output_type": "display_data"
    }
   ],
   "source": [
    "plt.figure()\n",
    "plt.subplot(211)\n",
    "loss_train_curve = results.history[\"loss\"]\n",
    "loss_val_curve = results.history[\"val_loss\"]\n",
    "plt.plot(loss_train_curve, label = \"Loss\")\n",
    "plt.plot(loss_val_curve, label = \"Val_Loss\")\n",
    "plt.legend(loc = 'upper right')\n",
    "plt.ylabel(\"Loss\")\n",
    "\n",
    "\n",
    "plt.subplot(212)\n",
    "acc_train_curve = results.history[\"accuracy\"]\n",
    "acc_val_curve = results.history[\"val_accuracy\"]\n",
    "plt.plot(acc_train_curve, label = \"Accuracy\")\n",
    "plt.plot(acc_val_curve, label = \"Val_Accuracy\")\n",
    "plt.legend(loc = 'upper right')\n",
    "plt.ylabel(\"Accuracy\")\n",
    "plt.xlabel(\"Epoch\")\n",
    "plt.show()"
   ]
  },
  {
   "cell_type": "markdown",
   "id": "e310e94e",
   "metadata": {},
   "source": [
    "### Test the model"
   ]
  },
  {
   "cell_type": "code",
   "execution_count": 150,
   "id": "f18e0fbe",
   "metadata": {},
   "outputs": [
    {
     "name": "stdout",
     "output_type": "stream",
     "text": [
      "Found 70 images belonging to 2 classes.\n",
      "7/7 [==============================] - 1s 119ms/step - loss: 0.8660 - accuracy: 1.0000\n",
      "[0.8660480380058289, 1.0]\n"
     ]
    }
   ],
   "source": [
    "# divisible with 70: 2, 5, 7, 10, 14, 35 \n",
    "test_batch_size = 10\n",
    "test_datagen = ImageDataGenerator(rescale=1./255)\n",
    "\n",
    "test_generator = test_datagen.flow_from_directory(\n",
    "    TEST_PATH,\n",
    "    target_size=input_size[1:],\n",
    "    batch_size=test_batch_size,\n",
    "    shuffle=False,\n",
    "class_mode='categorical')\n",
    "scores = model.evaluate(test_generator,workers=12)\n",
    "print(scores)"
   ]
  },
  {
   "cell_type": "code",
   "execution_count": 163,
   "id": "cfc0cf1e",
   "metadata": {},
   "outputs": [
    {
     "name": "stdout",
     "output_type": "stream",
     "text": [
      "['US', 'non-US']\n"
     ]
    }
   ],
   "source": [
    "target_names = list(test_generator.class_indices.keys())\n",
    "print(target_names)\n"
   ]
  },
  {
   "cell_type": "code",
   "execution_count": 265,
   "id": "895aeea0",
   "metadata": {},
   "outputs": [
    {
     "data": {
      "text/plain": [
       "64"
      ]
     },
     "execution_count": 265,
     "metadata": {},
     "output_type": "execute_result"
    }
   ],
   "source": [
    "len(test_generator.classes)"
   ]
  },
  {
   "cell_type": "markdown",
   "id": "8ce764fd",
   "metadata": {},
   "source": [
    "### Make prediction"
   ]
  },
  {
   "cell_type": "code",
   "execution_count": 151,
   "id": "13a814ed",
   "metadata": {},
   "outputs": [
    {
     "name": "stdout",
     "output_type": "stream",
     "text": [
      "7/7 [==============================] - 1s 110ms/step\n",
      "[0 0 0 0 0 0 0 0 0 0 0 0 0 0 0 0 0 0 0 0 0 0 0 0 0 0 0 0 0 0 0 0 0 0 0 1 1\n",
      " 1 1 1 1 1 1 1 1 1 1 1 1 1 1 1 1 1 1 1 1 1 1 1 1 1 1 1 1 1 1 1 1 1]\n",
      "[0 0 0 0 0 0 0 0 0 0 0 0 0 0 0 0 0 0 0 0 0 0 0 0 0 0 0 0 0 0 0 0 0 0 0 1 1\n",
      " 1 1 1 1 1 1 1 1 1 1 1 1 1 1 1 1 1 1 1 1 1 1 1 1 1 1 1 1 1 1 1 1 1]\n",
      "1.0\n"
     ]
    },
    {
     "data": {
      "text/plain": [
       "array([[35,  0],\n",
       "       [ 0, 35]])"
      ]
     },
     "execution_count": 151,
     "metadata": {},
     "output_type": "execute_result"
    }
   ],
   "source": [
    "test_generator.reset()\n",
    "Y_pred = model.predict(test_generator, verbose=1)\n",
    "classes = test_generator.classes\n",
    "y_pred = np.argmax(Y_pred, axis=-1)\n",
    "print(classes)\n",
    "print(y_pred)\n",
    "print(sum(y_pred==classes)/len(test_generator.classes))\n",
    "confusion_matrix(classes,y_pred)"
   ]
  },
  {
   "cell_type": "markdown",
   "id": "a8a9072e",
   "metadata": {},
   "source": [
    "### Confusion Matrix"
   ]
  },
  {
   "cell_type": "code",
   "execution_count": 153,
   "id": "640b3d8a",
   "metadata": {},
   "outputs": [
    {
     "data": {
      "image/png": "[encoded data removed]",
      "text/plain": [
       "<Figure size 640x480 with 2 Axes>"
      ]
     },
     "metadata": {},
     "output_type": "display_data"
    }
   ],
   "source": [
    "# Confusion Matrix\n",
    "cm = confusion_matrix(classes, y_pred)\n",
    "\n",
    "disp = ConfusionMatrixDisplay(confusion_matrix=cm, display_labels=target_names)\n",
    "\n",
    "disp.plot()\n",
    "plt.grid(False)\n",
    "plt.show()"
   ]
  },
  {
   "cell_type": "markdown",
   "id": "9c319297",
   "metadata": {},
   "source": [
    "### Metrics"
   ]
  },
  {
   "cell_type": "code",
   "execution_count": 154,
   "id": "6637408e",
   "metadata": {},
   "outputs": [],
   "source": [
    "TN, FP, FN, TP = cm.ravel()\n"
   ]
  },
  {
   "cell_type": "code",
   "execution_count": 250,
   "id": "2714a0c8",
   "metadata": {},
   "outputs": [],
   "source": [
    "\n",
    "FP = cm.sum(axis=0) - np.diag(cm)  \n",
    "FN = cm.sum(axis=1) - np.diag(cm)\n",
    "TP = np.diag(cm)\n",
    "TN = cm.sum() - (FP + FN + TP)\n",
    "FP = FP.astype(float)\n",
    "FN = FN.astype(float)\n",
    "TP = TP.astype(float)\n",
    "TN = TN.astype(float)"
   ]
  },
  {
   "cell_type": "code",
   "execution_count": 251,
   "id": "6040f105",
   "metadata": {},
   "outputs": [],
   "source": [
    "def Average(FP):\n",
    "    return sum(FP) / len(FP)\n",
    "FP=Average(FP)"
   ]
  },
  {
   "cell_type": "code",
   "execution_count": 252,
   "id": "85bf7471",
   "metadata": {},
   "outputs": [],
   "source": [
    "\n",
    "def Average1(FN):\n",
    "    return sum(FN) / len(FN)\n",
    "FN=Average1(FN)"
   ]
  },
  {
   "cell_type": "code",
   "execution_count": 253,
   "id": "9f8e1581",
   "metadata": {},
   "outputs": [],
   "source": [
    "def Average2(TP):\n",
    "    return sum(TP) / len(TP)\n",
    "TP=Average2(TP)"
   ]
  },
  {
   "cell_type": "code",
   "execution_count": 254,
   "id": "bf6a52e6",
   "metadata": {},
   "outputs": [],
   "source": [
    "def Average3(TN):\n",
    "    return sum(TN) / len(TN)\n",
    "TN=Average3(TN)"
   ]
  },
  {
   "cell_type": "code",
   "execution_count": 155,
   "id": "2b752e7b",
   "metadata": {},
   "outputs": [
    {
     "name": "stdout",
     "output_type": "stream",
     "text": [
      "True positive= 35\n",
      "True Negative= 35\n",
      "False positive= 0\n",
      "False Negative= 0\n"
     ]
    }
   ],
   "source": [
    "\n",
    "print(\"True positive=\",TP)\n",
    "print(\"True Negative=\",TN)\n",
    "print(\"False positive=\",FP)\n",
    "print(\"False Negative=\",FN)"
   ]
  },
  {
   "cell_type": "code",
   "execution_count": 156,
   "id": "44a5ce0c",
   "metadata": {},
   "outputs": [],
   "source": [
    "# Sensitivity, hit rate, recall, or true positive rate\n",
    "TPR = TP/(TP+FN)\n",
    "# Specificity or true negative rate\n",
    "TNR = TN/(TN+FP) \n",
    "# Precision or positive predictive value\n",
    "PPV = TP/(TP+FP)\n",
    "# Negative predictive value\n",
    "NPV = TN/(TN+FN)\n",
    "# Fall out or false positive rate\n",
    "FPR = FP/(FP+TN)\n",
    "# False negative rate\n",
    "FNR = FN/(TP+FN)\n",
    "# False discovery rate\n",
    "FDR = FP/(TP+FP)\n",
    "#F1_SCORE\n",
    "FSCO=(2*TP) / ((2*TP) +FP + FN) \n",
    "# Overall accuracy\n",
    "ACC = (TP+TN)/(TP+FP+FN+TN)"
   ]
  },
  {
   "cell_type": "code",
   "execution_count": 157,
   "id": "5b7c543c",
   "metadata": {},
   "outputs": [
    {
     "name": "stdout",
     "output_type": "stream",
     "text": [
      "sensitivity= 100.0 %\n",
      "precision= 100.0 %\n",
      "Specificity= 100.0 %\n",
      "F-score= 100.0 %\n",
      "ACCURACY= 100.0 %\n",
      "FNR= 0.0 %\n",
      "FPR= 0.0 %\n",
      "NPV= 100.0 %\n"
     ]
    }
   ],
   "source": [
    "print(\"sensitivity=\",round(TPR*100,3),\"%\")\n",
    "print(\"precision=\",PPV*100,\"%\")\n",
    "print(\"Specificity=\",TNR*100,\"%\")\n",
    "print(\"F-score=\",FSCO*100,\"%\")\n",
    "print(\"ACCURACY=\",ACC*100,\"%\")\n",
    "print(\"FNR=\",FNR*100,\"%\")\n",
    "print(\"FPR=\",FPR*100,\"%\")\n",
    "print(\"NPV=\",NPV*100,\"%\")"
   ]
  }
 ],
 "metadata": {
  "kernelspec": {
   "display_name": "Python 3 (ipykernel)",
   "language": "python",
   "name": "python3"
  },
  "language_info": {
   "codemirror_mode": {
    "name": "ipython",
    "version": 3
   },
   "file_extension": ".py",
   "mimetype": "text/x-python",
   "name": "python",
   "nbconvert_exporter": "python",
   "pygments_lexer": "ipython3",
   "version": "3.10.9"
  }
 },
 "nbformat": 4,
 "nbformat_minor": 5
}
