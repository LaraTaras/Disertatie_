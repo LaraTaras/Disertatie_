{
 "cells": [
  {
   "cell_type": "markdown",
   "id": "d295432f",
   "metadata": {},
   "source": [
    "# Inception V3\n",
    "\n",
    "### InceptionV3 with TI-RADS"
   ]
  },
  {
   "cell_type": "markdown",
   "id": "1ee52558",
   "metadata": {},
   "source": [
    "## Get packages"
   ]
  },
  {
   "cell_type": "code",
   "execution_count": 58,
   "id": "7dfb4a04",
   "metadata": {},
   "outputs": [],
   "source": [
    "import tensorflow as tf\n",
    "import os\n",
    "import random\n",
    "import numpy as np\n",
    "from tqdm import tqdm\n",
    "import albumentations as A \n",
    "import cv2\n",
    "\n",
    "from skimage.io import imread\n",
    "from skimage.io import imshow\n",
    "from skimage.util import crop\n",
    "from skimage.transform import resize\n",
    "import matplotlib.pyplot as plt\n",
    "\n",
    "\n",
    "from tensorflow import keras\n",
    "from keras.models import Sequential, Model\n",
    "from keras.layers import Dense, Flatten, Conv2D, MaxPooling2D, Dropout\n",
    "from tensorflow.keras import layers\n",
    "from tensorflow.keras.utils import to_categorical\n",
    "from tensorflow.keras.optimizers.legacy import Adam\n",
    "from tensorflow.keras.callbacks import ReduceLROnPlateau, Callback\n",
    "\n",
    "import numpy as np\n",
    "import pandas as pd\n",
    "import matplotlib.pyplot as plt\n",
    "import keras\n",
    "from keras.layers import *\n",
    "from keras import models\n",
    "from keras.preprocessing import image\n",
    "from keras.preprocessing.image import ImageDataGenerator\n",
    "\n",
    "from sklearn.metrics import classification_report\n",
    "from sklearn.metrics import confusion_matrix\n",
    "from sklearn.metrics import ConfusionMatrixDisplay\n",
    "from sklearn.metrics import confusion_matrix, ConfusionMatrixDisplay\n",
    "from tensorflow.keras import regularizers\n"
   ]
  },
  {
   "cell_type": "markdown",
   "id": "084308cf",
   "metadata": {},
   "source": [
    "## Paths"
   ]
  },
  {
   "cell_type": "code",
   "execution_count": 172,
   "id": "d9a8e114",
   "metadata": {},
   "outputs": [],
   "source": [
    "TRAIN_PATH = 'archive/classification/tirads/no_frame/balance/train'\n",
    "TEST_PATH = 'archive/classification/tirads/no_frame/balance/test'\n",
    "VALID_PATH = 'archive/classification/tirads/no_frame/balance/validate 2'"
   ]
  },
  {
   "cell_type": "code",
   "execution_count": 173,
   "id": "89cf7baa",
   "metadata": {},
   "outputs": [],
   "source": [
    "input_size = (3,150,150)"
   ]
  },
  {
   "cell_type": "markdown",
   "id": "aaeb969d",
   "metadata": {},
   "source": [
    "## Load and Prepare Images"
   ]
  },
  {
   "cell_type": "code",
   "execution_count": 174,
   "id": "0d560098",
   "metadata": {},
   "outputs": [
    {
     "name": "stdout",
     "output_type": "stream",
     "text": [
      "Found 426 images belonging to 6 classes.\n",
      "Found 52 images belonging to 6 classes.\n"
     ]
    }
   ],
   "source": [
    "# # for neaug frame\n",
    "# # divisible with 258: 2, 3, 6, 43, 86, 129 \n",
    "# train_batchsize = 6\n",
    "# # divisible with 52: 2, 4, 13 \n",
    "# valid_batchsize = 4\n",
    "\n",
    "\n",
    "# #for aug frame\n",
    "# # divisible with 518: 2, 259.\n",
    "# train_batchsize = 2\n",
    "# # divisible with 52: 2, 4, 13 \n",
    "# valid_batchsize = 4\n",
    "\n",
    "\n",
    "# #for balance frame\n",
    "# # divisible with 426: 2, 3, 6, 71, 142, 213\n",
    "# train_batchsize = 6\n",
    "#  # divisible with 52: 2, 4, 13 \n",
    "# valid_batchsize = 4\n",
    "\n",
    "\n",
    "# # for neaug no frame\n",
    "# # divisible with 258: 2, 3, 6, 43, 86, 129 \n",
    "# train_batchsize = 6\n",
    "# # divisible with 52: 2, 4, 13 \n",
    "# valid_batchsize = 4\n",
    "\n",
    "\n",
    "# #for aug no frame\n",
    "# # divisible with 518: 2, 259\n",
    "# train_batchsize = 2\n",
    "# # divisible with 52: 2, 4, 13 \n",
    "# valid_batchsize = 4\n",
    "\n",
    "\n",
    "#for balance no frane\n",
    "# divisible with 426: 2, 3, 6, 71, 142, 213\n",
    "train_batchsize = 6\n",
    "#  # divisible with 52: 2, 4, 13 \n",
    "valid_batchsize = 4\n",
    "\n",
    "\n",
    "train_datagen = ImageDataGenerator(\n",
    "        rescale = 1./255.,\n",
    "\n",
    ")\n",
    "\n",
    "validation_datagen = ImageDataGenerator(\n",
    "        rescale = 1./255.,\n",
    "    )\n",
    "                                  \n",
    "\n",
    "train_generator = train_datagen.flow_from_directory(\n",
    "        TRAIN_PATH,  \n",
    "        shuffle=True,\n",
    "#          batch_size=train_batchsize,\n",
    "        target_size = input_size[1:],\n",
    "        class_mode='categorical')  \n",
    "\n",
    "validation_generator = validation_datagen.flow_from_directory(\n",
    "        VALID_PATH,  \n",
    "        target_size = input_size[1:],\n",
    "        shuffle=True,\n",
    "#          batch_size=valid_batchsize,\n",
    "        class_mode='categorical')"
   ]
  },
  {
   "cell_type": "markdown",
   "id": "ac0b4af8",
   "metadata": {},
   "source": [
    "## Make the model"
   ]
  },
  {
   "cell_type": "code",
   "execution_count": 175,
   "id": "f099b5b9",
   "metadata": {},
   "outputs": [],
   "source": [
    "\n",
    "from tensorflow.keras.applications.inception_v3 import InceptionV3\n",
    "base_model = InceptionV3(input_shape = (150, 150, 3), include_top = False, weights = 'imagenet')\n",
    "\n",
    "for layer in base_model.layers:\n",
    "    layer.trainable = False"
   ]
  },
  {
   "cell_type": "code",
   "execution_count": 176,
   "id": "1a385b2e",
   "metadata": {},
   "outputs": [
    {
     "name": "stdout",
     "output_type": "stream",
     "text": [
      "Model: \"sequential_16\"\n",
      "_________________________________________________________________\n",
      " Layer (type)                Output Shape              Param #   \n",
      "=================================================================\n",
      " inception_v3 (Functional)   (None, 3, 3, 2048)        21802784  \n",
      "                                                                 \n",
      " flatten_16 (Flatten)        (None, 18432)             0         \n",
      "                                                                 \n",
      " dense_32 (Dense)            (None, 1024)              18875392  \n",
      "                                                                 \n",
      " activation_1520 (Activatio  (None, 1024)              0         \n",
      " n)                                                              \n",
      "                                                                 \n",
      " dropout_16 (Dropout)        (None, 1024)              0         \n",
      "                                                                 \n",
      " dense_33 (Dense)            (None, 6)                 6150      \n",
      "                                                                 \n",
      "=================================================================\n",
      "Total params: 40684326 (155.20 MB)\n",
      "Trainable params: 18881542 (72.03 MB)\n",
      "Non-trainable params: 21802784 (83.17 MB)\n",
      "_________________________________________________________________\n"
     ]
    }
   ],
   "source": [
    "# from tensorflow.keras.optimizers import RMSprop\n",
    "model = Sequential()\n",
    "model.add(base_model)\n",
    "\n",
    "model.add(Flatten())\n",
    "model.add(Dense(1024, kernel_regularizer=regularizers.l2(0.01)))\n",
    "# model.add(BatchNormalization())\n",
    "model.add(Activation('relu'))\n",
    "model.add(Dropout(0.2))  # Dropout for regularization\n",
    "\n",
    "# Add a final sigmoid layer with 1 node for classification output\n",
    "model.add(Dense(6, activation='softmax'))\n",
    "# Print a summary of the model architecture\n",
    "model.summary()"
   ]
  },
  {
   "cell_type": "code",
   "execution_count": 177,
   "id": "fba46147",
   "metadata": {},
   "outputs": [],
   "source": [
    "model.compile(\n",
    "    loss=keras.losses.CategoricalCrossentropy(),\n",
    "#     loss=keras.losses.BinaryCrossentropy(),\n",
    "     optimizer=keras.optimizers.legacy.Adamax(learning_rate=0.001),  \n",
    "#     optimizer=keras.optimizers.legacy.RMSprop(learning_rate=0.001,decay=1e-3, momentum=0.9),\n",
    "    metrics = ['accuracy']\n",
    "    )"
   ]
  },
  {
   "cell_type": "markdown",
   "id": "4754afb8",
   "metadata": {},
   "source": [
    "## Train the model"
   ]
  },
  {
   "cell_type": "code",
   "execution_count": 178,
   "id": "f4157ef2",
   "metadata": {},
   "outputs": [],
   "source": [
    "class LearningRateLogger(Callback):\n",
    "    def on_epoch_end(self, epoch, logs=None):\n",
    "        lr = self.model.optimizer.learning_rate\n",
    "        if isinstance(lr, tf.Variable) or tf.is_tensor(lr):\n",
    "            lr = tf.keras.backend.get_value(lr)\n",
    "        print(f\" Epoch {epoch+1}: Learning rate is {lr:.6f}\")"
   ]
  },
  {
   "cell_type": "code",
   "execution_count": 179,
   "id": "3fba5f5f",
   "metadata": {},
   "outputs": [
    {
     "name": "stdout",
     "output_type": "stream",
     "text": [
      "Epoch 1/50\n",
      "13/13 [==============================] - ETA: 0s - loss: 20.7847 - accuracy: 0.2386 Epoch 1: Learning rate is 0.001000\n",
      "\n",
      "Epoch 1: val_loss improved from inf to 16.40519, saving model to model_inception_tirads_aug.h5\n"
     ]
    },
    {
     "name": "stderr",
     "output_type": "stream",
     "text": [
      "/Users/taras_lara/anaconda3/lib/python3.10/site-packages/keras/src/engine/training.py:3000: UserWarning: You are saving your model as an HDF5 file via `model.save()`. This file format is considered legacy. We recommend using instead the native Keras format, e.g. `model.save('my_model.keras')`.\n",
      "  saving_api.save_model(\n"
     ]
    },
    {
     "name": "stdout",
     "output_type": "stream",
     "text": [
      "13/13 [==============================] - 81s 4s/step - loss: 20.7847 - accuracy: 0.2386 - val_loss: 16.4052 - val_accuracy: 0.1875 - lr: 0.0010\n",
      "Epoch 2/50\n",
      "13/13 [==============================] - ETA: 0s - loss: 13.5867 - accuracy: 0.5127 Epoch 2: Learning rate is 0.001000\n",
      "\n",
      "Epoch 2: val_loss improved from 16.40519 to 13.68821, saving model to model_inception_tirads_aug.h5\n",
      "13/13 [==============================] - 37s 3s/step - loss: 13.5867 - accuracy: 0.5127 - val_loss: 13.6882 - val_accuracy: 0.2188 - lr: 0.0010\n",
      "Epoch 3/50\n",
      "13/13 [==============================] - ETA: 0s - loss: 10.9943 - accuracy: 0.7360 Epoch 3: Learning rate is 0.001000\n",
      "\n",
      "Epoch 3: val_loss improved from 13.68821 to 12.17558, saving model to model_inception_tirads_aug.h5\n",
      "13/13 [==============================] - 38s 3s/step - loss: 10.9943 - accuracy: 0.7360 - val_loss: 12.1756 - val_accuracy: 0.2812 - lr: 0.0010\n",
      "Epoch 4/50\n",
      "13/13 [==============================] - ETA: 0s - loss: 9.4179 - accuracy: 0.8807 Epoch 4: Learning rate is 0.001000\n",
      "\n",
      "Epoch 4: val_loss improved from 12.17558 to 11.18385, saving model to model_inception_tirads_aug.h5\n",
      "13/13 [==============================] - 36s 3s/step - loss: 9.4179 - accuracy: 0.8807 - val_loss: 11.1839 - val_accuracy: 0.1562 - lr: 0.0010\n",
      "Epoch 5/50\n",
      "13/13 [==============================] - ETA: 0s - loss: 8.3720 - accuracy: 0.9213 Epoch 5: Learning rate is 0.001000\n",
      "\n",
      "Epoch 5: val_loss improved from 11.18385 to 10.71352, saving model to model_inception_tirads_aug.h5\n",
      "13/13 [==============================] - 37s 3s/step - loss: 8.3720 - accuracy: 0.9213 - val_loss: 10.7135 - val_accuracy: 0.1875 - lr: 0.0010\n",
      "Epoch 6/50\n",
      "13/13 [==============================] - ETA: 0s - loss: 7.4985 - accuracy: 0.9594 Epoch 6: Learning rate is 0.001000\n",
      "\n",
      "Epoch 6: val_loss improved from 10.71352 to 9.58319, saving model to model_inception_tirads_aug.h5\n",
      "13/13 [==============================] - 36s 3s/step - loss: 7.4985 - accuracy: 0.9594 - val_loss: 9.5832 - val_accuracy: 0.2500 - lr: 0.0010\n",
      "Epoch 7/50\n",
      "13/13 [==============================] - ETA: 0s - loss: 6.8115 - accuracy: 0.9822\n",
      "Epoch 7: ReduceLROnPlateau reducing learning rate to 0.00010000000474974513.\n",
      " Epoch 7: Learning rate is 0.000100\n",
      "\n",
      "Epoch 7: val_loss improved from 9.58319 to 9.30136, saving model to model_inception_tirads_aug.h5\n",
      "13/13 [==============================] - 43s 3s/step - loss: 6.8115 - accuracy: 0.9822 - val_loss: 9.3014 - val_accuracy: 0.2500 - lr: 0.0010\n",
      "Epoch 8/50\n",
      "13/13 [==============================] - ETA: 0s - loss: 6.4540 - accuracy: 0.9949 Epoch 8: Learning rate is 0.000100\n",
      "\n",
      "Epoch 8: val_loss did not improve from 9.30136\n",
      "13/13 [==============================] - 40s 3s/step - loss: 6.4540 - accuracy: 0.9949 - val_loss: 9.3521 - val_accuracy: 0.1875 - lr: 1.0000e-04\n",
      "Epoch 9/50\n",
      "13/13 [==============================] - ETA: 0s - loss: 6.3949 - accuracy: 0.9975 Epoch 9: Learning rate is 0.000100\n",
      "\n",
      "Epoch 9: val_loss improved from 9.30136 to 9.02354, saving model to model_inception_tirads_aug.h5\n",
      "13/13 [==============================] - 49s 4s/step - loss: 6.3949 - accuracy: 0.9975 - val_loss: 9.0235 - val_accuracy: 0.1562 - lr: 1.0000e-04\n",
      "Epoch 10/50\n",
      "13/13 [==============================] - ETA: 0s - loss: 6.3483 - accuracy: 0.9898 Epoch 10: Learning rate is 0.000100\n",
      "\n",
      "Epoch 10: val_loss improved from 9.02354 to 8.89649, saving model to model_inception_tirads_aug.h5\n",
      "13/13 [==============================] - 39s 3s/step - loss: 6.3483 - accuracy: 0.9898 - val_loss: 8.8965 - val_accuracy: 0.0625 - lr: 1.0000e-04\n",
      "Epoch 11/50\n",
      "13/13 [==============================] - ETA: 0s - loss: 6.2842 - accuracy: 0.9975\n",
      "Epoch 11: ReduceLROnPlateau reducing learning rate to 1.0000000474974514e-05.\n",
      " Epoch 11: Learning rate is 0.000010\n",
      "\n",
      "Epoch 11: val_loss did not improve from 8.89649\n",
      "13/13 [==============================] - 37s 3s/step - loss: 6.2842 - accuracy: 0.9975 - val_loss: 9.2103 - val_accuracy: 0.0938 - lr: 1.0000e-04\n",
      "Epoch 12/50\n",
      "13/13 [==============================] - ETA: 0s - loss: 6.2499 - accuracy: 0.9975 Epoch 12: Learning rate is 0.000010\n",
      "\n",
      "Epoch 12: val_loss did not improve from 8.89649\n",
      "13/13 [==============================] - 37s 3s/step - loss: 6.2499 - accuracy: 0.9975 - val_loss: 8.9252 - val_accuracy: 0.1250 - lr: 1.0000e-05\n",
      "Epoch 13/50\n",
      "13/13 [==============================] - ETA: 0s - loss: 6.2523 - accuracy: 0.9949 Epoch 13: Learning rate is 0.000010\n",
      "\n",
      "Epoch 13: val_loss did not improve from 8.89649\n",
      "13/13 [==============================] - 35s 3s/step - loss: 6.2523 - accuracy: 0.9949 - val_loss: 9.0358 - val_accuracy: 0.1562 - lr: 1.0000e-05\n",
      "Epoch 14/50\n",
      "13/13 [==============================] - ETA: 0s - loss: 6.2404 - accuracy: 1.0000 Epoch 14: Learning rate is 0.000010\n",
      "\n",
      "Epoch 14: val_loss did not improve from 8.89649\n",
      "13/13 [==============================] - 33s 3s/step - loss: 6.2404 - accuracy: 1.0000 - val_loss: 9.0892 - val_accuracy: 0.1250 - lr: 1.0000e-05\n",
      "Epoch 15/50\n",
      "13/13 [==============================] - ETA: 0s - loss: 6.2415 - accuracy: 0.9975\n",
      "Epoch 15: ReduceLROnPlateau reducing learning rate to 1e-05.\n",
      " Epoch 15: Learning rate is 0.000010\n",
      "\n",
      "Epoch 15: val_loss did not improve from 8.89649\n",
      "13/13 [==============================] - 34s 2s/step - loss: 6.2415 - accuracy: 0.9975 - val_loss: 8.9605 - val_accuracy: 0.2500 - lr: 1.0000e-05\n",
      "Epoch 16/50\n",
      "13/13 [==============================] - ETA: 0s - loss: 6.2310 - accuracy: 1.0000 Epoch 16: Learning rate is 0.000010\n",
      "\n",
      "Epoch 16: val_loss improved from 8.89649 to 8.45064, saving model to model_inception_tirads_aug.h5\n",
      "13/13 [==============================] - 32s 2s/step - loss: 6.2310 - accuracy: 1.0000 - val_loss: 8.4506 - val_accuracy: 0.2500 - lr: 1.0000e-05\n",
      "Epoch 17/50\n",
      "13/13 [==============================] - ETA: 0s - loss: 6.2199 - accuracy: 0.9949 Epoch 17: Learning rate is 0.000010\n",
      "\n",
      "Epoch 17: val_loss did not improve from 8.45064\n",
      "13/13 [==============================] - 34s 3s/step - loss: 6.2199 - accuracy: 0.9949 - val_loss: 8.6705 - val_accuracy: 0.1562 - lr: 1.0000e-05\n",
      "Epoch 18/50\n",
      "13/13 [==============================] - ETA: 0s - loss: 6.2201 - accuracy: 0.9975 Epoch 18: Learning rate is 0.000010\n",
      "\n",
      "Epoch 18: val_loss improved from 8.45064 to 8.42067, saving model to model_inception_tirads_aug.h5\n",
      "13/13 [==============================] - 36s 3s/step - loss: 6.2201 - accuracy: 0.9975 - val_loss: 8.4207 - val_accuracy: 0.1562 - lr: 1.0000e-05\n",
      "Epoch 19/50\n",
      "13/13 [==============================] - ETA: 0s - loss: 6.2200 - accuracy: 0.9949 Epoch 19: Learning rate is 0.000010\n",
      "\n",
      "Epoch 19: val_loss did not improve from 8.42067\n",
      "13/13 [==============================] - 34s 3s/step - loss: 6.2200 - accuracy: 0.9949 - val_loss: 9.3430 - val_accuracy: 0.1875 - lr: 1.0000e-05\n",
      "Epoch 20/50\n",
      "13/13 [==============================] - ETA: 0s - loss: 6.2019 - accuracy: 1.0000 Epoch 20: Learning rate is 0.000010\n",
      "\n",
      "Epoch 20: val_loss did not improve from 8.42067\n",
      "13/13 [==============================] - 35s 3s/step - loss: 6.2019 - accuracy: 1.0000 - val_loss: 8.4882 - val_accuracy: 0.1250 - lr: 1.0000e-05\n",
      "Epoch 21/50\n",
      "13/13 [==============================] - ETA: 0s - loss: 6.2000 - accuracy: 0.9976 Epoch 21: Learning rate is 0.000010\n",
      "\n",
      "Epoch 21: val_loss did not improve from 8.42067\n",
      "13/13 [==============================] - 43s 3s/step - loss: 6.2000 - accuracy: 0.9976 - val_loss: 9.3270 - val_accuracy: 0.1562 - lr: 1.0000e-05\n",
      "Epoch 22/50\n",
      "13/13 [==============================] - ETA: 0s - loss: 6.1889 - accuracy: 0.9975 Epoch 22: Learning rate is 0.000010\n",
      "\n",
      "Epoch 22: val_loss did not improve from 8.42067\n",
      "13/13 [==============================] - 37s 3s/step - loss: 6.1889 - accuracy: 0.9975 - val_loss: 8.7348 - val_accuracy: 0.2188 - lr: 1.0000e-05\n",
      "Epoch 23/50\n",
      "13/13 [==============================] - ETA: 0s - loss: 6.1844 - accuracy: 1.0000 Epoch 23: Learning rate is 0.000010\n",
      "\n",
      "Epoch 23: val_loss did not improve from 8.42067\n",
      "13/13 [==============================] - 33s 3s/step - loss: 6.1844 - accuracy: 1.0000 - val_loss: 8.6145 - val_accuracy: 0.1875 - lr: 1.0000e-05\n",
      "Epoch 24/50\n",
      "13/13 [==============================] - ETA: 0s - loss: 6.1792 - accuracy: 0.9975 Epoch 24: Learning rate is 0.000010\n",
      "\n",
      "Epoch 24: val_loss did not improve from 8.42067\n"
     ]
    },
    {
     "name": "stdout",
     "output_type": "stream",
     "text": [
      "13/13 [==============================] - 42s 3s/step - loss: 6.1792 - accuracy: 0.9975 - val_loss: 9.3646 - val_accuracy: 0.0938 - lr: 1.0000e-05\n",
      "Epoch 25/50\n",
      "13/13 [==============================] - ETA: 0s - loss: 6.1769 - accuracy: 1.0000 Epoch 25: Learning rate is 0.000010\n",
      "\n",
      "Epoch 25: val_loss did not improve from 8.42067\n",
      "13/13 [==============================] - 40s 3s/step - loss: 6.1769 - accuracy: 1.0000 - val_loss: 8.7493 - val_accuracy: 0.1562 - lr: 1.0000e-05\n",
      "Epoch 26/50\n",
      "13/13 [==============================] - ETA: 0s - loss: 6.1746 - accuracy: 0.9924 Epoch 26: Learning rate is 0.000010\n",
      "\n",
      "Epoch 26: val_loss did not improve from 8.42067\n",
      "13/13 [==============================] - 35s 3s/step - loss: 6.1746 - accuracy: 0.9924 - val_loss: 9.1520 - val_accuracy: 0.0938 - lr: 1.0000e-05\n",
      "Epoch 27/50\n",
      "13/13 [==============================] - ETA: 0s - loss: 6.1566 - accuracy: 1.0000 Epoch 27: Learning rate is 0.000010\n",
      "\n",
      "Epoch 27: val_loss did not improve from 8.42067\n",
      "13/13 [==============================] - 36s 3s/step - loss: 6.1566 - accuracy: 1.0000 - val_loss: 8.5922 - val_accuracy: 0.1875 - lr: 1.0000e-05\n",
      "Epoch 28/50\n",
      "13/13 [==============================] - ETA: 0s - loss: 6.1623 - accuracy: 0.9975 Epoch 28: Learning rate is 0.000010\n",
      "\n",
      "Epoch 28: val_loss did not improve from 8.42067\n",
      "13/13 [==============================] - 37s 3s/step - loss: 6.1623 - accuracy: 0.9975 - val_loss: 9.0220 - val_accuracy: 0.1562 - lr: 1.0000e-05\n",
      "Epoch 29/50\n",
      "13/13 [==============================] - ETA: 0s - loss: 6.1491 - accuracy: 1.0000 Epoch 29: Learning rate is 0.000010\n",
      "\n",
      "Epoch 29: val_loss did not improve from 8.42067\n",
      "13/13 [==============================] - 38s 3s/step - loss: 6.1491 - accuracy: 1.0000 - val_loss: 8.7979 - val_accuracy: 0.1875 - lr: 1.0000e-05\n",
      "Epoch 30/50\n",
      "13/13 [==============================] - ETA: 0s - loss: 6.1436 - accuracy: 0.9975 Epoch 30: Learning rate is 0.000010\n",
      "\n",
      "Epoch 30: val_loss did not improve from 8.42067\n",
      "13/13 [==============================] - 36s 3s/step - loss: 6.1436 - accuracy: 0.9975 - val_loss: 8.9526 - val_accuracy: 0.1562 - lr: 1.0000e-05\n",
      "Epoch 31/50\n",
      "13/13 [==============================] - ETA: 0s - loss: 6.1342 - accuracy: 1.0000 Epoch 31: Learning rate is 0.000010\n",
      "\n",
      "Epoch 31: val_loss improved from 8.42067 to 8.35437, saving model to model_inception_tirads_aug.h5\n",
      "13/13 [==============================] - 33s 2s/step - loss: 6.1342 - accuracy: 1.0000 - val_loss: 8.3544 - val_accuracy: 0.1875 - lr: 1.0000e-05\n",
      "Epoch 32/50\n",
      "13/13 [==============================] - ETA: 0s - loss: 6.1331 - accuracy: 0.9975 Epoch 32: Learning rate is 0.000010\n",
      "\n",
      "Epoch 32: val_loss did not improve from 8.35437\n",
      "13/13 [==============================] - 40s 3s/step - loss: 6.1331 - accuracy: 0.9975 - val_loss: 8.5290 - val_accuracy: 0.1875 - lr: 1.0000e-05\n",
      "Epoch 33/50\n",
      "13/13 [==============================] - ETA: 0s - loss: 6.1176 - accuracy: 1.0000 Epoch 33: Learning rate is 0.000010\n",
      "\n",
      "Epoch 33: val_loss did not improve from 8.35437\n",
      "13/13 [==============================] - 40s 3s/step - loss: 6.1176 - accuracy: 1.0000 - val_loss: 8.7915 - val_accuracy: 0.2188 - lr: 1.0000e-05\n",
      "Epoch 34/50\n",
      "13/13 [==============================] - ETA: 0s - loss: 6.1232 - accuracy: 0.9975 Epoch 34: Learning rate is 0.000010\n",
      "\n",
      "Epoch 34: val_loss did not improve from 8.35437\n",
      "13/13 [==============================] - 41s 3s/step - loss: 6.1232 - accuracy: 0.9975 - val_loss: 8.7254 - val_accuracy: 0.1562 - lr: 1.0000e-05\n",
      "Epoch 35/50\n",
      "13/13 [==============================] - ETA: 0s - loss: 6.1093 - accuracy: 0.9975 Epoch 35: Learning rate is 0.000010\n",
      "\n",
      "Epoch 35: val_loss did not improve from 8.35437\n",
      "13/13 [==============================] - 44s 3s/step - loss: 6.1093 - accuracy: 0.9975 - val_loss: 8.8706 - val_accuracy: 0.0938 - lr: 1.0000e-05\n",
      "Epoch 36/50\n",
      "13/13 [==============================] - ETA: 0s - loss: 6.0973 - accuracy: 1.0000 Epoch 36: Learning rate is 0.000010\n",
      "\n",
      "Epoch 36: val_loss did not improve from 8.35437\n",
      "13/13 [==============================] - 42s 3s/step - loss: 6.0973 - accuracy: 1.0000 - val_loss: 8.7735 - val_accuracy: 0.1562 - lr: 1.0000e-05\n",
      "Epoch 37/50\n",
      "13/13 [==============================] - ETA: 0s - loss: 6.0966 - accuracy: 1.0000 Epoch 37: Learning rate is 0.000010\n",
      "\n",
      "Epoch 37: val_loss did not improve from 8.35437\n",
      "13/13 [==============================] - 60s 5s/step - loss: 6.0966 - accuracy: 1.0000 - val_loss: 8.7191 - val_accuracy: 0.2500 - lr: 1.0000e-05\n",
      "Epoch 38/50\n",
      "13/13 [==============================] - ETA: 0s - loss: 6.0906 - accuracy: 0.9949 Epoch 38: Learning rate is 0.000010\n",
      "\n",
      "Epoch 38: val_loss did not improve from 8.35437\n",
      "13/13 [==============================] - 53s 4s/step - loss: 6.0906 - accuracy: 0.9949 - val_loss: 8.4098 - val_accuracy: 0.2188 - lr: 1.0000e-05\n",
      "Epoch 39/50\n",
      "13/13 [==============================] - ETA: 0s - loss: 6.0823 - accuracy: 1.0000 Epoch 39: Learning rate is 0.000010\n",
      "\n",
      "Epoch 39: val_loss did not improve from 8.35437\n",
      "13/13 [==============================] - 56s 4s/step - loss: 6.0823 - accuracy: 1.0000 - val_loss: 9.1617 - val_accuracy: 0.1250 - lr: 1.0000e-05\n",
      "Epoch 40/50\n",
      "13/13 [==============================] - ETA: 0s - loss: 6.0762 - accuracy: 1.0000 Epoch 40: Learning rate is 0.000010\n",
      "\n",
      "Epoch 40: val_loss did not improve from 8.35437\n",
      "13/13 [==============================] - 43s 3s/step - loss: 6.0762 - accuracy: 1.0000 - val_loss: 9.0819 - val_accuracy: 0.1562 - lr: 1.0000e-05\n",
      "Epoch 41/50\n",
      "13/13 [==============================] - ETA: 0s - loss: 6.0703 - accuracy: 1.0000 Epoch 41: Learning rate is 0.000010\n",
      "\n",
      "Epoch 41: val_loss did not improve from 8.35437\n",
      "13/13 [==============================] - 31s 2s/step - loss: 6.0703 - accuracy: 1.0000 - val_loss: 8.5317 - val_accuracy: 0.1875 - lr: 1.0000e-05\n",
      "Epoch 42/50\n",
      "13/13 [==============================] - ETA: 0s - loss: 6.0630 - accuracy: 0.9975 Epoch 42: Learning rate is 0.000010\n",
      "\n",
      "Epoch 42: val_loss did not improve from 8.35437\n",
      "13/13 [==============================] - 37s 3s/step - loss: 6.0630 - accuracy: 0.9975 - val_loss: 9.0835 - val_accuracy: 0.0625 - lr: 1.0000e-05\n",
      "Epoch 43/50\n",
      "13/13 [==============================] - ETA: 0s - loss: 6.0553 - accuracy: 1.0000 Epoch 43: Learning rate is 0.000010\n",
      "\n",
      "Epoch 43: val_loss did not improve from 8.35437\n",
      "13/13 [==============================] - 31s 2s/step - loss: 6.0553 - accuracy: 1.0000 - val_loss: 8.5804 - val_accuracy: 0.1562 - lr: 1.0000e-05\n",
      "Epoch 44/50\n",
      "13/13 [==============================] - ETA: 0s - loss: 6.0394 - accuracy: 0.9975 Epoch 44: Learning rate is 0.000010\n",
      "\n",
      "Epoch 44: val_loss did not improve from 8.35437\n",
      "13/13 [==============================] - 28s 2s/step - loss: 6.0394 - accuracy: 0.9975 - val_loss: 8.7322 - val_accuracy: 0.1562 - lr: 1.0000e-05\n",
      "Epoch 45/50\n",
      "13/13 [==============================] - ETA: 0s - loss: 6.0405 - accuracy: 1.0000 Epoch 45: Learning rate is 0.000010\n",
      "\n",
      "Epoch 45: val_loss did not improve from 8.35437\n",
      "13/13 [==============================] - 28s 2s/step - loss: 6.0405 - accuracy: 1.0000 - val_loss: 8.8277 - val_accuracy: 0.1250 - lr: 1.0000e-05\n",
      "Epoch 46/50\n",
      "13/13 [==============================] - ETA: 0s - loss: 6.0337 - accuracy: 0.9975 Epoch 46: Learning rate is 0.000010\n",
      "\n",
      "Epoch 46: val_loss did not improve from 8.35437\n",
      "13/13 [==============================] - 34s 3s/step - loss: 6.0337 - accuracy: 0.9975 - val_loss: 8.4825 - val_accuracy: 0.1250 - lr: 1.0000e-05\n",
      "Epoch 47/50\n",
      "13/13 [==============================] - ETA: 0s - loss: 6.0281 - accuracy: 0.9975 Epoch 47: Learning rate is 0.000010\n",
      "\n",
      "Epoch 47: val_loss did not improve from 8.35437\n",
      "13/13 [==============================] - 29s 2s/step - loss: 6.0281 - accuracy: 0.9975 - val_loss: 8.6099 - val_accuracy: 0.1250 - lr: 1.0000e-05\n",
      "Epoch 48/50\n",
      "13/13 [==============================] - ETA: 0s - loss: 6.0140 - accuracy: 1.0000 Epoch 48: Learning rate is 0.000010\n",
      "\n",
      "Epoch 48: val_loss did not improve from 8.35437\n",
      "13/13 [==============================] - 32s 2s/step - loss: 6.0140 - accuracy: 1.0000 - val_loss: 8.6434 - val_accuracy: 0.1250 - lr: 1.0000e-05\n",
      "Epoch 49/50\n",
      "13/13 [==============================] - ETA: 0s - loss: 6.0059 - accuracy: 1.0000 Epoch 49: Learning rate is 0.000010\n",
      "\n",
      "Epoch 49: val_loss did not improve from 8.35437\n"
     ]
    },
    {
     "name": "stdout",
     "output_type": "stream",
     "text": [
      "13/13 [==============================] - 38s 3s/step - loss: 6.0059 - accuracy: 1.0000 - val_loss: 8.7743 - val_accuracy: 0.1250 - lr: 1.0000e-05\n",
      "Epoch 50/50\n",
      "13/13 [==============================] - ETA: 0s - loss: 5.9974 - accuracy: 0.9949 Epoch 50: Learning rate is 0.000010\n",
      "\n",
      "Epoch 50: val_loss did not improve from 8.35437\n",
      "13/13 [==============================] - 32s 2s/step - loss: 5.9974 - accuracy: 0.9949 - val_loss: 8.5084 - val_accuracy: 0.1875 - lr: 1.0000e-05\n"
     ]
    }
   ],
   "source": [
    "# Saving the best result\n",
    "checkpoiter = tf.keras.callbacks.ModelCheckpoint('model_inception_tirads_aug.h5', verbose=1, save_best_only=True)\n",
    "\n",
    "steps = train_generator.samples//train_generator.batch_size\n",
    "reduce_lr = ReduceLROnPlateau(monitor='val_accuracy', factor=0.1, patience=4, min_lr=0.00001, verbose=1)\n",
    "\n",
    "callbacks = [\n",
    "    tf.keras.callbacks.EarlyStopping(patience=5, monitor='val_loss'),\n",
    "    tf.keras.callbacks.TensorBoard(log_dir='logs'),\n",
    "     reduce_lr,\n",
    "    LearningRateLogger(),\n",
    "    checkpoiter\n",
    "\n",
    "]\n",
    "# Train\n",
    "results = model.fit(train_generator, \n",
    "                    validation_data=validation_generator, \n",
    "                    validation_steps=validation_generator.samples // validation_generator.batch_size,\n",
    "                    steps_per_epoch = steps,\n",
    "                    shuffle=True,\n",
    "                    epochs=50, \n",
    "                    callbacks=callbacks,\n",
    "                   )"
   ]
  },
  {
   "cell_type": "markdown",
   "id": "63324d05",
   "metadata": {},
   "source": [
    "## Results"
   ]
  },
  {
   "cell_type": "code",
   "execution_count": 180,
   "id": "6e76c709",
   "metadata": {},
   "outputs": [
    {
     "name": "stdout",
     "output_type": "stream",
     "text": [
      "Accuracy Score =  0.28125\n",
      "Loss Score =  8.354373931884766\n"
     ]
    }
   ],
   "source": [
    "print('Accuracy Score = ',np.max(results.history['val_accuracy']))\n",
    "print('Loss Score = ',np.min(results.history['val_loss']))"
   ]
  },
  {
   "cell_type": "markdown",
   "id": "56bfec6d",
   "metadata": {},
   "source": [
    "### During training"
   ]
  },
  {
   "cell_type": "code",
   "execution_count": 181,
   "id": "1689e443",
   "metadata": {},
   "outputs": [
    {
     "data": {
      "image/png": "[encoded data removed]",
      "text/plain": [
       "<Figure size 640x480 with 2 Axes>"
      ]
     },
     "metadata": {},
     "output_type": "display_data"
    }
   ],
   "source": [
    "plt.figure()\n",
    "plt.subplot(211)\n",
    "loss_train_curve = results.history[\"loss\"]\n",
    "loss_val_curve = results.history[\"val_loss\"]\n",
    "plt.plot(loss_train_curve, label = \"Loss\")\n",
    "plt.plot(loss_val_curve, label = \"Val_Loss\")\n",
    "plt.legend(loc = 'upper right')\n",
    "plt.ylabel(\"Loss\")\n",
    "\n",
    "\n",
    "plt.subplot(212)\n",
    "acc_train_curve = results.history[\"accuracy\"]\n",
    "acc_val_curve = results.history[\"val_accuracy\"]\n",
    "plt.plot(acc_train_curve, label = \"Accuracy\")\n",
    "plt.plot(acc_val_curve, label = \"Val_Accuracy\")\n",
    "plt.legend(loc = 'upper right')\n",
    "plt.ylabel(\"Accuracy\")\n",
    "plt.xlabel(\"Epoch\")\n",
    "plt.show()"
   ]
  },
  {
   "cell_type": "markdown",
   "id": "b1522e56",
   "metadata": {},
   "source": [
    "## Test the model"
   ]
  },
  {
   "cell_type": "code",
   "execution_count": 182,
   "id": "92bd6813",
   "metadata": {},
   "outputs": [
    {
     "name": "stdout",
     "output_type": "stream",
     "text": [
      "Found 36 images belonging to 6 classes.\n",
      "6/6 [==============================] - 4s 699ms/step - loss: 8.4816 - accuracy: 0.1944\n",
      "[8.481613159179688, 0.1944444477558136]\n"
     ]
    }
   ],
   "source": [
    "# Predict Classes\n",
    "\n",
    "# divisible with 36:  2, 3, 4, 6, 9, 12, 18\n",
    "test_batch_size = 6\n",
    "\n",
    "test_datagen = ImageDataGenerator(rescale=1./255)\n",
    "\n",
    "test_generator = test_datagen.flow_from_directory(\n",
    "    TEST_PATH,\n",
    "    target_size=input_size[1:],\n",
    "    batch_size=test_batch_size,\n",
    "    shuffle=False,\n",
    "class_mode='categorical')\n",
    "scores = model.evaluate(test_generator,workers=12)\n",
    "print(scores)\n",
    "target_names = list(test_generator.class_indices.keys())"
   ]
  },
  {
   "cell_type": "markdown",
   "id": "1f4ad177",
   "metadata": {},
   "source": [
    "### Make prediction"
   ]
  },
  {
   "cell_type": "code",
   "execution_count": 184,
   "id": "0f300a0a",
   "metadata": {},
   "outputs": [
    {
     "name": "stdout",
     "output_type": "stream",
     "text": [
      "6/6 [==============================] - 2s 381ms/step\n",
      "[0 0 0 0 0 1 1 2 2 2 2 2 2 2 2 2 3 3 3 3 3 3 3 3 4 4 4 4 4 4 4 5 5 5 5 5]\n",
      "[3 0 0 2 4 2 2 4 3 2 4 5 5 1 0 5 4 4 2 0 0 2 3 4 4 3 5 3 5 4 3 4 4 3 2 5]\n",
      "0.19444444444444445\n"
     ]
    }
   ],
   "source": [
    "test_generator.reset()\n",
    "\n",
    "Y_pred = model.predict(test_generator, verbose=1)\n",
    "\n",
    "y_pred = np.argmax(Y_pred, axis=-1)\n",
    "classes = test_generator.classes\n",
    "\n",
    "print(classes)\n",
    "print(y_pred)\n",
    "\n",
    "print(sum(y_pred==classes)/len(test_generator.classes))"
   ]
  },
  {
   "cell_type": "markdown",
   "id": "74ea993b",
   "metadata": {},
   "source": [
    "### Confusion Matrix"
   ]
  },
  {
   "cell_type": "code",
   "execution_count": 185,
   "id": "36a3d2ad",
   "metadata": {},
   "outputs": [
    {
     "data": {
      "image/png": "[encoded data removed]",
      "text/plain": [
       "<Figure size 640x480 with 2 Axes>"
      ]
     },
     "metadata": {},
     "output_type": "display_data"
    }
   ],
   "source": [
    "cm = confusion_matrix(classes, y_pred)\n",
    "\n",
    "disp = ConfusionMatrixDisplay(confusion_matrix=cm, display_labels=target_names)\n",
    "\n",
    "disp.plot()\n",
    "plt.grid(False)\n",
    "plt.show()"
   ]
  },
  {
   "cell_type": "markdown",
   "id": "1d9cd424",
   "metadata": {},
   "source": [
    "### Metrics"
   ]
  },
  {
   "cell_type": "code",
   "execution_count": 186,
   "id": "c2155a4c",
   "metadata": {},
   "outputs": [],
   "source": [
    "FP = cm.sum(axis=0) - np.diag(cm)  \n",
    "FN = cm.sum(axis=1) - np.diag(cm)\n",
    "TP = np.diag(cm)\n",
    "TN = cm.sum() - (FP + FN + TP)\n",
    "FP = FP.astype(float)\n",
    "FN = FN.astype(float)\n",
    "TP = TP.astype(float)\n",
    "TN = TN.astype(float)"
   ]
  },
  {
   "cell_type": "code",
   "execution_count": 187,
   "id": "aae5f0e7",
   "metadata": {},
   "outputs": [
    {
     "name": "stdout",
     "output_type": "stream",
     "text": [
      "True positive= 1.1666666666666667\n",
      "True Negative= 25.166666666666668\n",
      "False positive= 4.833333333333333\n",
      "False Negative= 4.833333333333333\n"
     ]
    }
   ],
   "source": [
    "def Average(FP):\n",
    "    return sum(FP) / len(FP)\n",
    "FP=Average(FP)\n",
    "\n",
    "def Average1(FN):\n",
    "    return sum(FN) / len(FN)\n",
    "FN=Average1(FN)\n",
    "\n",
    "def Average2(TP):\n",
    "    return sum(TP) / len(TP)\n",
    "TP=Average2(TP)\n",
    "\n",
    "def Average3(TN):\n",
    "    return sum(TN) / len(TN)\n",
    "TN=Average3(TN)\n",
    "\n",
    "\n",
    "print(\"True positive=\",TP)\n",
    "print(\"True Negative=\",TN)\n",
    "print(\"False positive=\",FP)\n",
    "print(\"False Negative=\",FN)"
   ]
  },
  {
   "cell_type": "code",
   "execution_count": 188,
   "id": "5a9d01ea",
   "metadata": {},
   "outputs": [],
   "source": [
    "# Sensitivity, hit rate, recall, or true positive rate\n",
    "TPR = TP/(TP+FN)\n",
    "# Specificity or true negative rate\n",
    "TNR = TN/(TN+FP) \n",
    "# Precision or positive predictive value\n",
    "PPV = TP/(TP+FP)\n",
    "# Negative predictive value\n",
    "NPV = TN/(TN+FN)\n",
    "# Fall out or false positive rate\n",
    "FPR = FP/(FP+TN)\n",
    "# False negative rate\n",
    "FNR = FN/(TP+FN)\n",
    "# False discovery rate\n",
    "FDR = FP/(TP+FP)\n",
    "#F1_SCORE\n",
    "FSCO=(2*TP) / ((2*TP) +FP + FN) \n",
    "# Overall accuracy\n",
    "ACC = (TP+TN)/(TP+FP+FN+TN)"
   ]
  },
  {
   "cell_type": "code",
   "execution_count": 189,
   "id": "363126d8",
   "metadata": {},
   "outputs": [
    {
     "name": "stdout",
     "output_type": "stream",
     "text": [
      "sensitivity= 19.444 %\n",
      "precision= 19.444 %\n",
      "Specificity= 83.889 %\n",
      "F-score= 19.444 %\n",
      "ACCURACY= 73.148 %\n",
      "FNR= 80.55555555555554 %\n",
      "FPR= 16.11111111111111 %\n",
      "NPV= 83.88888888888889 %\n"
     ]
    }
   ],
   "source": [
    "print(\"sensitivity=\",round(TPR*100,3),\"%\")\n",
    "print(\"precision=\",round(PPV*100,3),\"%\")\n",
    "print(\"Specificity=\",round(TNR*100,3),\"%\")\n",
    "print(\"F-score=\",round(FSCO*100,3),\"%\")\n",
    "print(\"ACCURACY=\",round(ACC*100,3),\"%\")\n",
    "print(\"FNR=\",FNR*100,\"%\")\n",
    "print(\"FPR=\",FPR*100,\"%\")\n",
    "print(\"NPV=\",NPV*100,\"%\")"
   ]
  }
 ],
 "metadata": {
  "kernelspec": {
   "display_name": "Python 3 (ipykernel)",
   "language": "python",
   "name": "python3"
  },
  "language_info": {
   "codemirror_mode": {
    "name": "ipython",
    "version": 3
   },
   "file_extension": ".py",
   "mimetype": "text/x-python",
   "name": "python",
   "nbconvert_exporter": "python",
   "pygments_lexer": "ipython3",
   "version": "3.10.9"
  }
 },
 "nbformat": 4,
 "nbformat_minor": 5
}
