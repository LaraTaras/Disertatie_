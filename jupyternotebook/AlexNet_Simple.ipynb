{
 "cells": [
  {
   "cell_type": "markdown",
   "id": "2a18e3d7",
   "metadata": {},
   "source": [
    "# AlexNet model"
   ]
  },
  {
   "cell_type": "markdown",
   "id": "0b4f9a6e",
   "metadata": {},
   "source": [
    "### AlexNet with only 2 categories (Benign and Malign)"
   ]
  },
  {
   "cell_type": "markdown",
   "id": "25292243",
   "metadata": {},
   "source": [
    "## Get packages"
   ]
  },
  {
   "cell_type": "code",
   "execution_count": 224,
   "id": "3bdd2c7b",
   "metadata": {},
   "outputs": [],
   "source": [
    "import tensorflow as tf\n",
    "import os\n",
    "import random\n",
    "import numpy as np\n",
    "from tqdm import tqdm\n",
    "import albumentations as A\n",
    "import cv2\n",
    "from tensorflow.keras.callbacks import ReduceLROnPlateau, Callback\n",
    "from skimage.io import imread\n",
    "from skimage.io import imshow\n",
    "from skimage.util import crop\n",
    "from skimage.transform import resize\n",
    "import matplotlib.pyplot as plt\n",
    "\n",
    "\n",
    "from tensorflow import keras\n",
    "from keras.models import Sequential\n",
    "from keras.layers import Dense, Flatten, Conv2D, MaxPooling2D, Dropout\n",
    "from tensorflow.keras import layers\n",
    "from tensorflow.keras.utils import to_categorical\n",
    "from tensorflow.keras.optimizers.legacy import Adam\n",
    "\n",
    "import numpy as np\n",
    "import pandas as pd\n",
    "import matplotlib.pyplot as plt\n",
    "import keras\n",
    "from keras.layers import *\n",
    "from keras import models\n",
    "from keras.preprocessing import image\n",
    "\n",
    "from sklearn.metrics import classification_report\n",
    "from sklearn.metrics import confusion_matrix\n",
    "from sklearn.metrics import ConfusionMatrixDisplay\n",
    "from sklearn.metrics import confusion_matrix, ConfusionMatrixDisplay\n",
    "    \n",
    "from keras.preprocessing.image import ImageDataGenerator\n",
    "\n",
    "\n",
    "# model / neural network\n",
    "from tensorflow.keras import layers\n",
    "from tensorflow.keras.models import Sequential, Model\n",
    "import torchvision.models as models\n",
    "from tensorflow.keras import regularizers\n",
    "from keras.preprocessing.image import ImageDataGenerator"
   ]
  },
  {
   "cell_type": "markdown",
   "id": "0633d600",
   "metadata": {},
   "source": [
    "## Paths"
   ]
  },
  {
   "cell_type": "code",
   "execution_count": 287,
   "id": "a9a245eb",
   "metadata": {},
   "outputs": [],
   "source": [
    "TRAIN_PATH = 'archive/classification/binary/no_frame/balance/train'\n",
    "TEST_PATH = 'archive/classification/binary/no_frame/balance/test'\n",
    "VALID_PATH = 'archive/classification/binary/no_frame/balance/validate'"
   ]
  },
  {
   "cell_type": "code",
   "execution_count": 226,
   "id": "b28cabbf",
   "metadata": {},
   "outputs": [],
   "source": [
    "input_size = (3,227,227)"
   ]
  },
  {
   "cell_type": "markdown",
   "id": "74a37fab",
   "metadata": {},
   "source": [
    "## Load and Prepare Images"
   ]
  },
  {
   "cell_type": "code",
   "execution_count": 288,
   "id": "dc6cfbf9",
   "metadata": {},
   "outputs": [
    {
     "name": "stdout",
     "output_type": "stream",
     "text": [
      "Found 422 images belonging to 2 classes.\n",
      "Found 16 images belonging to 2 classes.\n"
     ]
    }
   ],
   "source": [
    "\n",
    "# # for neaug frame\n",
    "# # divisible with 259: 7, 37\n",
    "# train_batchsize = 37\n",
    "# # divisible with 51: 3, 17 \n",
    "# valid_batchsize = 17\n",
    "\n",
    "\n",
    "# #for aug frame\n",
    "# # divisible with 518:  2, 259.\n",
    "# train_batchsize = 2\n",
    "# # divisible with 51: 3, 17 \n",
    "# valid_batchsize = 3\n",
    "\n",
    "\n",
    "# #for balance frame\n",
    "# # divisible with 494: 2, 7, 14, 31, 62, 217\n",
    "# train_batchsize = 31\n",
    "# # divisible with 18: 2, 3, 6, 9\n",
    "# valid_batchsize = 6\n",
    "\n",
    "# # for neaug non-frame\n",
    "# # divisible with 253: 11, 23 \n",
    "# train_batchsize = 23\n",
    "# # divisible with 50: 2, 5, 10, 25,\n",
    "# valid_batchsize = 5\n",
    "\n",
    "\n",
    "# #for aug non-frame\n",
    "# # divisible with 506: 2, 11, 22, 23, 46, 253,\n",
    "# train_batchsize = 22\n",
    "# # divisible with 50: 2, 5, 10, 25,\n",
    "# valid_batchsize = 5\n",
    "\n",
    "\n",
    "#for balance non-frame\n",
    "# divisible with 422: 2, 211.\n",
    "train_batchsize = 2\n",
    "# divisible with 16: 2, 4, 8,\n",
    "valid_batchsize = 4\n",
    "\n",
    "train_datagen = ImageDataGenerator(rescale=1./255)\n",
    "\n",
    "validation_datagen = ImageDataGenerator(rescale=1./255)\n",
    "                                  \n",
    "\n",
    "train_generator = train_datagen.flow_from_directory(\n",
    "        TRAIN_PATH,  \n",
    "        shuffle=False,\n",
    "         batch_size=train_batchsize,\n",
    "        target_size=input_size[1:],\n",
    "        class_mode='categorical')  \n",
    "\n",
    "validation_generator = validation_datagen.flow_from_directory(\n",
    "        VALID_PATH,  \n",
    "        target_size=input_size[1:],\n",
    "        shuffle=False,\n",
    "         batch_size=valid_batchsize,\n",
    "        class_mode='categorical')\n"
   ]
  },
  {
   "cell_type": "markdown",
   "id": "3ff157c6",
   "metadata": {},
   "source": [
    "## Make the model"
   ]
  },
  {
   "cell_type": "markdown",
   "id": "6ddad707",
   "metadata": {},
   "source": [
    "### From scatch"
   ]
  },
  {
   "cell_type": "markdown",
   "id": "20f6069a",
   "metadata": {},
   "source": [
    "#### More complex"
   ]
  },
  {
   "cell_type": "code",
   "execution_count": 133,
   "id": "0d6d1280",
   "metadata": {},
   "outputs": [
    {
     "name": "stdout",
     "output_type": "stream",
     "text": [
      "Model: \"sequential_9\"\n",
      "_________________________________________________________________\n",
      " Layer (type)                Output Shape              Param #   \n",
      "=================================================================\n",
      " conv2d_31 (Conv2D)          (None, 55, 55, 32)        11648     \n",
      "                                                                 \n",
      " activation_53 (Activation)  (None, 55, 55, 32)        0         \n",
      "                                                                 \n",
      " max_pooling2d_27 (MaxPooli  (None, 27, 27, 32)        0         \n",
      " ng2D)                                                           \n",
      "                                                                 \n",
      " conv2d_32 (Conv2D)          (None, 17, 17, 64)        247872    \n",
      "                                                                 \n",
      " activation_54 (Activation)  (None, 17, 17, 64)        0         \n",
      "                                                                 \n",
      " max_pooling2d_28 (MaxPooli  (None, 8, 8, 64)          0         \n",
      " ng2D)                                                           \n",
      "                                                                 \n",
      " conv2d_33 (Conv2D)          (None, 6, 6, 64)          36928     \n",
      "                                                                 \n",
      " activation_55 (Activation)  (None, 6, 6, 64)          0         \n",
      "                                                                 \n",
      " conv2d_34 (Conv2D)          (None, 4, 4, 128)         73856     \n",
      "                                                                 \n",
      " activation_56 (Activation)  (None, 4, 4, 128)         0         \n",
      "                                                                 \n",
      " conv2d_35 (Conv2D)          (None, 2, 2, 256)         295168    \n",
      "                                                                 \n",
      " activation_57 (Activation)  (None, 2, 2, 256)         0         \n",
      "                                                                 \n",
      " max_pooling2d_29 (MaxPooli  (None, 1, 1, 256)         0         \n",
      " ng2D)                                                           \n",
      "                                                                 \n",
      " flatten_9 (Flatten)         (None, 256)               0         \n",
      "                                                                 \n",
      " dense_29 (Dense)            (None, 200)               51400     \n",
      "                                                                 \n",
      " activation_58 (Activation)  (None, 200)               0         \n",
      "                                                                 \n",
      " dropout_20 (Dropout)        (None, 200)               0         \n",
      "                                                                 \n",
      " dense_30 (Dense)            (None, 100)               20100     \n",
      "                                                                 \n",
      " activation_59 (Activation)  (None, 100)               0         \n",
      "                                                                 \n",
      " dropout_21 (Dropout)        (None, 100)               0         \n",
      "                                                                 \n",
      " dense_31 (Dense)            (None, 50)                5050      \n",
      "                                                                 \n",
      " activation_60 (Activation)  (None, 50)                0         \n",
      "                                                                 \n",
      " dropout_22 (Dropout)        (None, 50)                0         \n",
      "                                                                 \n",
      " dense_32 (Dense)            (None, 2)                 102       \n",
      "                                                                 \n",
      " activation_61 (Activation)  (None, 2)                 0         \n",
      "                                                                 \n",
      "=================================================================\n",
      "Total params: 742124 (2.83 MB)\n",
      "Trainable params: 742124 (2.83 MB)\n",
      "Non-trainable params: 0 (0.00 Byte)\n",
      "_________________________________________________________________\n"
     ]
    }
   ],
   "source": [
    "#Instantiate an empty model\n",
    "model = Sequential()\n",
    "\n",
    "# 1st Convolutional Layer\n",
    "model.add(Conv2D(filters=32, input_shape=(227,227,3), kernel_size=(11,11), strides=(4,4), padding=\"valid\"))\n",
    "model.add(Activation('relu'))\n",
    "# Max Pooling\n",
    "model.add(MaxPooling2D(pool_size=(2,2), strides=(2,2), padding='valid'))\n",
    "\n",
    "# 2nd Convolutional Layer\n",
    "model.add(Conv2D(filters=64, kernel_size=(11,11), strides=(1,1), padding='valid'))\n",
    "model.add(Activation('relu'))\n",
    "# Max Pooling\n",
    "model.add(MaxPooling2D(pool_size=(2,2), strides=(2,2), padding='valid'))\n",
    "\n",
    "# 3rd Convolutional Layer\n",
    "model.add(Conv2D(filters=64, kernel_size=(3,3), strides=(1,1), padding='valid'))\n",
    "model.add(Activation('relu'))\n",
    "\n",
    "# 4th Convolutional Layer\n",
    "model.add(Conv2D(filters=128, kernel_size=(3,3), strides=(1,1), padding='valid'))\n",
    "model.add(Activation('relu'))\n",
    "\n",
    "# 5th Convolutional Layer\n",
    "model.add(Conv2D(filters=256, kernel_size=(3,3), strides=(1,1), padding='valid'))\n",
    "model.add(Activation('relu'))\n",
    "# Max Pooling\n",
    "model.add(MaxPooling2D(pool_size=(2,2), strides=(2,2), padding='valid'))\n",
    "\n",
    "# Passing it to a Fully Connected layer\n",
    "model.add(Flatten())\n",
    "# 1st Fully Connected Layer\n",
    "model.add(Dense(200))\n",
    "model.add(Activation('relu'))\n",
    "# Add Dropout to prevent overfitting\n",
    "# model.add(Dropout(0.25))\n",
    "model.add(Dropout(0.15))\n",
    "\n",
    "\n",
    "# 2nd Fully Connected Layer\n",
    "model.add(Dense(100))\n",
    "model.add(Activation('relu'))\n",
    "# Add Dropout\n",
    "model.add(Dropout(0.1))\n",
    "\n",
    "\n",
    "# 3rd Fully Connected Layer\n",
    "model.add(Dense(50))\n",
    "model.add(Activation('relu'))\n",
    "# Add Dropout\n",
    "model.add(Dropout(0.2))\n",
    "\n",
    "\n",
    "# Output Layer\n",
    "model.add(Dense(2))\n",
    "model.add(Activation('softmax'))\n",
    "\n",
    "model.summary()"
   ]
  },
  {
   "cell_type": "markdown",
   "id": "ea5288b7",
   "metadata": {},
   "source": [
    "#### Less complex"
   ]
  },
  {
   "cell_type": "code",
   "execution_count": 289,
   "id": "f01bcc0b",
   "metadata": {},
   "outputs": [
    {
     "name": "stdout",
     "output_type": "stream",
     "text": [
      "Model: \"sequential_18\"\n",
      "_________________________________________________________________\n",
      " Layer (type)                Output Shape              Param #   \n",
      "=================================================================\n",
      " conv2d_60 (Conv2D)          (None, 225, 225, 32)      896       \n",
      "                                                                 \n",
      " activation_102 (Activation  (None, 225, 225, 32)      0         \n",
      " )                                                               \n",
      "                                                                 \n",
      " max_pooling2d_54 (MaxPooli  (None, 112, 112, 32)      0         \n",
      " ng2D)                                                           \n",
      "                                                                 \n",
      " conv2d_61 (Conv2D)          (None, 110, 110, 64)      18496     \n",
      "                                                                 \n",
      " activation_103 (Activation  (None, 110, 110, 64)      0         \n",
      " )                                                               \n",
      "                                                                 \n",
      " max_pooling2d_55 (MaxPooli  (None, 55, 55, 64)        0         \n",
      " ng2D)                                                           \n",
      "                                                                 \n",
      " conv2d_62 (Conv2D)          (None, 53, 53, 128)       73856     \n",
      "                                                                 \n",
      " activation_104 (Activation  (None, 53, 53, 128)       0         \n",
      " )                                                               \n",
      "                                                                 \n",
      " max_pooling2d_56 (MaxPooli  (None, 26, 26, 128)       0         \n",
      " ng2D)                                                           \n",
      "                                                                 \n",
      " flatten_18 (Flatten)        (None, 86528)             0         \n",
      "                                                                 \n",
      " dense_57 (Dense)            (None, 128)               11075712  \n",
      "                                                                 \n",
      " activation_105 (Activation  (None, 128)               0         \n",
      " )                                                               \n",
      "                                                                 \n",
      " dropout_39 (Dropout)        (None, 128)               0         \n",
      "                                                                 \n",
      " dense_58 (Dense)            (None, 64)                8256      \n",
      "                                                                 \n",
      " activation_106 (Activation  (None, 64)                0         \n",
      " )                                                               \n",
      "                                                                 \n",
      " dropout_40 (Dropout)        (None, 64)                0         \n",
      "                                                                 \n",
      " dense_59 (Dense)            (None, 2)                 130       \n",
      "                                                                 \n",
      "=================================================================\n",
      "Total params: 11177346 (42.64 MB)\n",
      "Trainable params: 11177346 (42.64 MB)\n",
      "Non-trainable params: 0 (0.00 Byte)\n",
      "_________________________________________________________________\n"
     ]
    }
   ],
   "source": [
    "\n",
    "model = Sequential()\n",
    "\n",
    "# Convolutional Layers\n",
    "model.add(Conv2D(32, (3, 3), input_shape=(227, 227, 3)))\n",
    "# model.add(BatchNormalization())\n",
    "model.add(Activation('relu'))\n",
    "model.add(MaxPooling2D((2, 2)))\n",
    "\n",
    "model.add(Conv2D(64, (3, 3),kernel_regularizer=regularizers.l2(0.01)))\n",
    "# model.add(BatchNormalization())\n",
    "model.add(Activation('relu'))\n",
    "model.add(MaxPooling2D((2, 2)))\n",
    "\n",
    "model.add(Conv2D(128, (3, 3),kernel_regularizer=regularizers.l2(0.01)))\n",
    "# model.add(BatchNormalization())\n",
    "model.add(Activation('relu'))\n",
    "model.add(MaxPooling2D((2, 2)))\n",
    "\n",
    "# Flatten and Dense Layers\n",
    "model.add(Flatten())\n",
    "model.add(Dense(128, kernel_regularizer=regularizers.l2(0.01)))\n",
    "# model.add(BatchNormalization())\n",
    "model.add(Activation('relu'))\n",
    "model.add(Dropout(0.5))  # Dropout for regularization\n",
    "\n",
    "model.add(Dense(64, kernel_regularizer=regularizers.l2(0.01)))\n",
    "# model.add(BatchNormalization())\n",
    "model.add(Activation('relu'))\n",
    "model.add(Dropout(0.5))\n",
    "\n",
    "model.add(Dense(2, activation='softmax')) \n",
    "\n",
    "model.summary()"
   ]
  },
  {
   "cell_type": "code",
   "execution_count": 290,
   "id": "6e579881",
   "metadata": {},
   "outputs": [],
   "source": [
    "class LearningRateLogger(Callback):\n",
    "    def on_epoch_end(self, epoch, logs=None):\n",
    "        lr = self.model.optimizer.learning_rate\n",
    "        if isinstance(lr, tf.Variable) or tf.is_tensor(lr):\n",
    "            lr = tf.keras.backend.get_value(lr)\n",
    "        print(f\" Epoch {epoch+1}: Learning rate is {lr:.6f}\")"
   ]
  },
  {
   "cell_type": "code",
   "execution_count": 291,
   "id": "aa2920b4",
   "metadata": {},
   "outputs": [],
   "source": [
    "# Compile the model\n",
    "model.compile(\n",
    "              loss=keras.losses.BinaryCrossentropy(),\n",
    "              optimizer=keras.optimizers.legacy.RMSprop(learning_rate=0.001,decay=1e-3, momentum=0.9), \n",
    "\n",
    "              metrics=['accuracy'])"
   ]
  },
  {
   "cell_type": "code",
   "execution_count": 993,
   "id": "1337c011",
   "metadata": {},
   "outputs": [
    {
     "data": {
      "text/plain": [
       "{'benign': 0, 'malign': 1}"
      ]
     },
     "execution_count": 993,
     "metadata": {},
     "output_type": "execute_result"
    }
   ],
   "source": [
    "train_generator.class_indices"
   ]
  },
  {
   "cell_type": "markdown",
   "id": "d706cf1c",
   "metadata": {},
   "source": [
    "## Train the model"
   ]
  },
  {
   "cell_type": "code",
   "execution_count": 292,
   "id": "1950d24c",
   "metadata": {},
   "outputs": [
    {
     "name": "stdout",
     "output_type": "stream",
     "text": [
      "Epoch 1/50\n",
      "211/211 [==============================] - ETA: 0s - loss: 3.6144 - accuracy: 0.4929 Epoch 1: Learning rate is 0.001000\n",
      "\n",
      "Epoch 1: val_loss improved from inf to 0.69586, saving model to model_alexnet_binary_frame_simple_balanced.h5\n"
     ]
    },
    {
     "name": "stderr",
     "output_type": "stream",
     "text": [
      "/Users/taras_lara/anaconda3/lib/python3.10/site-packages/keras/src/engine/training.py:3000: UserWarning: You are saving your model as an HDF5 file via `model.save()`. This file format is considered legacy. We recommend using instead the native Keras format, e.g. `model.save('my_model.keras')`.\n",
      "  saving_api.save_model(\n"
     ]
    },
    {
     "name": "stdout",
     "output_type": "stream",
     "text": [
      "211/211 [==============================] - 55s 251ms/step - loss: 3.6144 - accuracy: 0.4929 - val_loss: 0.6959 - val_accuracy: 0.5000 - lr: 0.0010\n",
      "Epoch 2/50\n",
      "211/211 [==============================] - ETA: 0s - loss: 0.6978 - accuracy: 0.5332 Epoch 2: Learning rate is 0.001000\n",
      "\n",
      "Epoch 2: val_loss improved from 0.69586 to 0.69334, saving model to model_alexnet_binary_frame_simple_balanced.h5\n",
      "211/211 [==============================] - 52s 247ms/step - loss: 0.6978 - accuracy: 0.5332 - val_loss: 0.6933 - val_accuracy: 0.5000 - lr: 0.0010\n",
      "Epoch 3/50\n",
      "211/211 [==============================] - ETA: 0s - loss: 0.6947 - accuracy: 0.4739 Epoch 3: Learning rate is 0.001000\n",
      "\n",
      "Epoch 3: val_loss improved from 0.69334 to 0.69325, saving model to model_alexnet_binary_frame_simple_balanced.h5\n",
      "211/211 [==============================] - 45s 212ms/step - loss: 0.6947 - accuracy: 0.4739 - val_loss: 0.6933 - val_accuracy: 0.5000 - lr: 0.0010\n",
      "Epoch 4/50\n",
      "211/211 [==============================] - ETA: 0s - loss: 0.6937 - accuracy: 0.5261 Epoch 4: Learning rate is 0.001000\n",
      "\n",
      "Epoch 4: val_loss did not improve from 0.69325\n",
      "211/211 [==============================] - 51s 244ms/step - loss: 0.6937 - accuracy: 0.5261 - val_loss: 0.6933 - val_accuracy: 0.5000 - lr: 0.0010\n",
      "Epoch 5/50\n",
      "211/211 [==============================] - ETA: 0s - loss: 0.6952 - accuracy: 0.4834\n",
      "Epoch 5: ReduceLROnPlateau reducing learning rate to 0.00010000000474974513.\n",
      " Epoch 5: Learning rate is 0.000100\n",
      "\n",
      "Epoch 5: val_loss improved from 0.69325 to 0.69321, saving model to model_alexnet_binary_frame_simple_balanced.h5\n",
      "211/211 [==============================] - 47s 220ms/step - loss: 0.6952 - accuracy: 0.4834 - val_loss: 0.6932 - val_accuracy: 0.5000 - lr: 0.0010\n",
      "Epoch 6/50\n",
      "211/211 [==============================] - ETA: 0s - loss: 0.6942 - accuracy: 0.4834 Epoch 6: Learning rate is 0.000100\n",
      "\n",
      "Epoch 6: val_loss improved from 0.69321 to 0.69320, saving model to model_alexnet_binary_frame_simple_balanced.h5\n",
      "211/211 [==============================] - 42s 200ms/step - loss: 0.6942 - accuracy: 0.4834 - val_loss: 0.6932 - val_accuracy: 0.5000 - lr: 1.0000e-04\n",
      "Epoch 7/50\n",
      "211/211 [==============================] - ETA: 0s - loss: 0.6920 - accuracy: 0.5450 Epoch 7: Learning rate is 0.000100\n",
      "\n",
      "Epoch 7: val_loss improved from 0.69320 to 0.69320, saving model to model_alexnet_binary_frame_simple_balanced.h5\n",
      "211/211 [==============================] - 38s 181ms/step - loss: 0.6920 - accuracy: 0.5450 - val_loss: 0.6932 - val_accuracy: 0.5000 - lr: 1.0000e-04\n",
      "Epoch 8/50\n",
      "211/211 [==============================] - ETA: 0s - loss: 0.6944 - accuracy: 0.4763 Epoch 8: Learning rate is 0.000100\n",
      "\n",
      "Epoch 8: val_loss improved from 0.69320 to 0.69318, saving model to model_alexnet_binary_frame_simple_balanced.h5\n",
      "211/211 [==============================] - 39s 183ms/step - loss: 0.6944 - accuracy: 0.4763 - val_loss: 0.6932 - val_accuracy: 0.5000 - lr: 1.0000e-04\n",
      "Epoch 9/50\n",
      "211/211 [==============================] - ETA: 0s - loss: 0.6943 - accuracy: 0.4763\n",
      "Epoch 9: ReduceLROnPlateau reducing learning rate to 1.0000000474974514e-05.\n",
      " Epoch 9: Learning rate is 0.000010\n",
      "\n",
      "Epoch 9: val_loss improved from 0.69318 to 0.69317, saving model to model_alexnet_binary_frame_simple_balanced.h5\n",
      "211/211 [==============================] - 37s 176ms/step - loss: 0.6943 - accuracy: 0.4763 - val_loss: 0.6932 - val_accuracy: 0.5000 - lr: 1.0000e-04\n",
      "Epoch 10/50\n",
      "211/211 [==============================] - ETA: 0s - loss: 0.6927 - accuracy: 0.5213 Epoch 10: Learning rate is 0.000010\n",
      "\n",
      "Epoch 10: val_loss improved from 0.69317 to 0.69317, saving model to model_alexnet_binary_frame_simple_balanced.h5\n",
      "211/211 [==============================] - 38s 182ms/step - loss: 0.6927 - accuracy: 0.5213 - val_loss: 0.6932 - val_accuracy: 0.5000 - lr: 1.0000e-05\n",
      "Epoch 11/50\n",
      "211/211 [==============================] - ETA: 0s - loss: 0.6933 - accuracy: 0.5000 Epoch 11: Learning rate is 0.000010\n",
      "\n",
      "Epoch 11: val_loss improved from 0.69317 to 0.69317, saving model to model_alexnet_binary_frame_simple_balanced.h5\n",
      "211/211 [==============================] - 39s 184ms/step - loss: 0.6933 - accuracy: 0.5000 - val_loss: 0.6932 - val_accuracy: 0.5000 - lr: 1.0000e-05\n",
      "Epoch 12/50\n",
      "211/211 [==============================] - ETA: 0s - loss: 0.6940 - accuracy: 0.4810 Epoch 12: Learning rate is 0.000010\n",
      "\n",
      "Epoch 12: val_loss improved from 0.69317 to 0.69317, saving model to model_alexnet_binary_frame_simple_balanced.h5\n",
      "211/211 [==============================] - 40s 192ms/step - loss: 0.6940 - accuracy: 0.4810 - val_loss: 0.6932 - val_accuracy: 0.5000 - lr: 1.0000e-05\n",
      "Epoch 13/50\n",
      "211/211 [==============================] - ETA: 0s - loss: 0.6943 - accuracy: 0.4716\n",
      "Epoch 13: ReduceLROnPlateau reducing learning rate to 1e-05.\n",
      " Epoch 13: Learning rate is 0.000010\n",
      "\n",
      "Epoch 13: val_loss improved from 0.69317 to 0.69317, saving model to model_alexnet_binary_frame_simple_balanced.h5\n",
      "211/211 [==============================] - 42s 198ms/step - loss: 0.6943 - accuracy: 0.4716 - val_loss: 0.6932 - val_accuracy: 0.5000 - lr: 1.0000e-05\n",
      "Epoch 14/50\n",
      "211/211 [==============================] - ETA: 0s - loss: 0.6927 - accuracy: 0.5190 Epoch 14: Learning rate is 0.000010\n",
      "\n",
      "Epoch 14: val_loss improved from 0.69317 to 0.69317, saving model to model_alexnet_binary_frame_simple_balanced.h5\n",
      "211/211 [==============================] - 28s 132ms/step - loss: 0.6927 - accuracy: 0.5190 - val_loss: 0.6932 - val_accuracy: 0.5000 - lr: 1.0000e-05\n",
      "Epoch 15/50\n",
      "211/211 [==============================] - ETA: 0s - loss: 0.6926 - accuracy: 0.5213 Epoch 15: Learning rate is 0.000010\n",
      "\n",
      "Epoch 15: val_loss improved from 0.69317 to 0.69317, saving model to model_alexnet_binary_frame_simple_balanced.h5\n",
      "211/211 [==============================] - 28s 132ms/step - loss: 0.6926 - accuracy: 0.5213 - val_loss: 0.6932 - val_accuracy: 0.5000 - lr: 1.0000e-05\n",
      "Epoch 16/50\n",
      "211/211 [==============================] - ETA: 0s - loss: 0.6932 - accuracy: 0.5047 Epoch 16: Learning rate is 0.000010\n",
      "\n",
      "Epoch 16: val_loss improved from 0.69317 to 0.69317, saving model to model_alexnet_binary_frame_simple_balanced.h5\n",
      "211/211 [==============================] - 31s 147ms/step - loss: 0.6932 - accuracy: 0.5047 - val_loss: 0.6932 - val_accuracy: 0.5000 - lr: 1.0000e-05\n",
      "Epoch 17/50\n",
      "211/211 [==============================] - ETA: 0s - loss: 0.6911 - accuracy: 0.5640 Epoch 17: Learning rate is 0.000010\n",
      "\n",
      "Epoch 17: val_loss did not improve from 0.69317\n",
      "211/211 [==============================] - 26s 121ms/step - loss: 0.6911 - accuracy: 0.5640 - val_loss: 0.6932 - val_accuracy: 0.5000 - lr: 1.0000e-05\n",
      "Epoch 18/50\n",
      "211/211 [==============================] - ETA: 0s - loss: 0.6927 - accuracy: 0.5190 Epoch 18: Learning rate is 0.000010\n",
      "\n",
      "Epoch 18: val_loss improved from 0.69317 to 0.69317, saving model to model_alexnet_binary_frame_simple_balanced.h5\n",
      "211/211 [==============================] - 28s 133ms/step - loss: 0.6927 - accuracy: 0.5190 - val_loss: 0.6932 - val_accuracy: 0.5000 - lr: 1.0000e-05\n",
      "Epoch 19/50\n",
      "211/211 [==============================] - ETA: 0s - loss: 0.6924 - accuracy: 0.5284 Epoch 19: Learning rate is 0.000010\n",
      "\n",
      "Epoch 19: val_loss improved from 0.69317 to 0.69317, saving model to model_alexnet_binary_frame_simple_balanced.h5\n",
      "211/211 [==============================] - 51s 243ms/step - loss: 0.6924 - accuracy: 0.5284 - val_loss: 0.6932 - val_accuracy: 0.5000 - lr: 1.0000e-05\n",
      "Epoch 20/50\n",
      "211/211 [==============================] - ETA: 0s - loss: 0.6931 - accuracy: 0.5071 Epoch 20: Learning rate is 0.000010\n",
      "\n",
      "Epoch 20: val_loss improved from 0.69317 to 0.69317, saving model to model_alexnet_binary_frame_simple_balanced.h5\n",
      "211/211 [==============================] - 47s 221ms/step - loss: 0.6931 - accuracy: 0.5071 - val_loss: 0.6932 - val_accuracy: 0.5000 - lr: 1.0000e-05\n",
      "Epoch 21/50\n",
      "211/211 [==============================] - ETA: 0s - loss: 0.6947 - accuracy: 0.4573 Epoch 21: Learning rate is 0.000010\n",
      "\n",
      "Epoch 21: val_loss did not improve from 0.69317\n",
      "211/211 [==============================] - 58s 275ms/step - loss: 0.6947 - accuracy: 0.4573 - val_loss: 0.6932 - val_accuracy: 0.5000 - lr: 1.0000e-05\n",
      "Epoch 22/50\n"
     ]
    },
    {
     "name": "stdout",
     "output_type": "stream",
     "text": [
      "211/211 [==============================] - ETA: 0s - loss: 0.6923 - accuracy: 0.5308 Epoch 22: Learning rate is 0.000010\n",
      "\n",
      "Epoch 22: val_loss improved from 0.69317 to 0.69317, saving model to model_alexnet_binary_frame_simple_balanced.h5\n",
      "211/211 [==============================] - 52s 245ms/step - loss: 0.6923 - accuracy: 0.5308 - val_loss: 0.6932 - val_accuracy: 0.5000 - lr: 1.0000e-05\n",
      "Epoch 23/50\n",
      "211/211 [==============================] - ETA: 0s - loss: 0.6935 - accuracy: 0.4953 Epoch 23: Learning rate is 0.000010\n",
      "\n",
      "Epoch 23: val_loss improved from 0.69317 to 0.69317, saving model to model_alexnet_binary_frame_simple_balanced.h5\n",
      "211/211 [==============================] - 53s 253ms/step - loss: 0.6935 - accuracy: 0.4953 - val_loss: 0.6932 - val_accuracy: 0.5000 - lr: 1.0000e-05\n",
      "Epoch 24/50\n",
      "211/211 [==============================] - ETA: 0s - loss: 0.6940 - accuracy: 0.4787 Epoch 24: Learning rate is 0.000010\n",
      "\n",
      "Epoch 24: val_loss improved from 0.69317 to 0.69317, saving model to model_alexnet_binary_frame_simple_balanced.h5\n",
      "211/211 [==============================] - 53s 252ms/step - loss: 0.6940 - accuracy: 0.4787 - val_loss: 0.6932 - val_accuracy: 0.5000 - lr: 1.0000e-05\n",
      "Epoch 25/50\n",
      "211/211 [==============================] - ETA: 0s - loss: 0.6936 - accuracy: 0.4929 Epoch 25: Learning rate is 0.000010\n",
      "\n",
      "Epoch 25: val_loss improved from 0.69317 to 0.69317, saving model to model_alexnet_binary_frame_simple_balanced.h5\n",
      "211/211 [==============================] - 63s 299ms/step - loss: 0.6936 - accuracy: 0.4929 - val_loss: 0.6932 - val_accuracy: 0.5000 - lr: 1.0000e-05\n",
      "Epoch 26/50\n",
      "211/211 [==============================] - ETA: 0s - loss: 0.6933 - accuracy: 0.4976 Epoch 26: Learning rate is 0.000010\n",
      "\n",
      "Epoch 26: val_loss did not improve from 0.69317\n",
      "211/211 [==============================] - 56s 266ms/step - loss: 0.6933 - accuracy: 0.4976 - val_loss: 0.6932 - val_accuracy: 0.5000 - lr: 1.0000e-05\n",
      "Epoch 27/50\n",
      "211/211 [==============================] - ETA: 0s - loss: 0.6932 - accuracy: 0.5047 Epoch 27: Learning rate is 0.000010\n",
      "\n",
      "Epoch 27: val_loss did not improve from 0.69317\n",
      "211/211 [==============================] - 55s 259ms/step - loss: 0.6932 - accuracy: 0.5047 - val_loss: 0.6932 - val_accuracy: 0.5000 - lr: 1.0000e-05\n",
      "Epoch 28/50\n",
      "211/211 [==============================] - ETA: 0s - loss: 0.6936 - accuracy: 0.4929 Epoch 28: Learning rate is 0.000010\n",
      "\n",
      "Epoch 28: val_loss improved from 0.69317 to 0.69317, saving model to model_alexnet_binary_frame_simple_balanced.h5\n",
      "211/211 [==============================] - 54s 254ms/step - loss: 0.6936 - accuracy: 0.4929 - val_loss: 0.6932 - val_accuracy: 0.5000 - lr: 1.0000e-05\n",
      "Epoch 29/50\n",
      "211/211 [==============================] - ETA: 0s - loss: 0.6939 - accuracy: 0.4834 Epoch 29: Learning rate is 0.000010\n",
      "\n",
      "Epoch 29: val_loss improved from 0.69317 to 0.69317, saving model to model_alexnet_binary_frame_simple_balanced.h5\n",
      "211/211 [==============================] - 50s 238ms/step - loss: 0.6939 - accuracy: 0.4834 - val_loss: 0.6932 - val_accuracy: 0.5000 - lr: 1.0000e-05\n",
      "Epoch 30/50\n",
      "211/211 [==============================] - ETA: 0s - loss: 0.6933 - accuracy: 0.5024 Epoch 30: Learning rate is 0.000010\n",
      "\n",
      "Epoch 30: val_loss improved from 0.69317 to 0.69317, saving model to model_alexnet_binary_frame_simple_balanced.h5\n",
      "211/211 [==============================] - 50s 235ms/step - loss: 0.6933 - accuracy: 0.5024 - val_loss: 0.6932 - val_accuracy: 0.5000 - lr: 1.0000e-05\n",
      "Epoch 31/50\n",
      "211/211 [==============================] - ETA: 0s - loss: 0.6938 - accuracy: 0.4858 Epoch 31: Learning rate is 0.000010\n",
      "\n",
      "Epoch 31: val_loss improved from 0.69317 to 0.69317, saving model to model_alexnet_binary_frame_simple_balanced.h5\n",
      "211/211 [==============================] - 51s 242ms/step - loss: 0.6938 - accuracy: 0.4858 - val_loss: 0.6932 - val_accuracy: 0.5000 - lr: 1.0000e-05\n",
      "Epoch 32/50\n",
      "211/211 [==============================] - ETA: 0s - loss: 0.6942 - accuracy: 0.4739 Epoch 32: Learning rate is 0.000010\n",
      "\n",
      "Epoch 32: val_loss improved from 0.69317 to 0.69317, saving model to model_alexnet_binary_frame_simple_balanced.h5\n",
      "211/211 [==============================] - 51s 241ms/step - loss: 0.6942 - accuracy: 0.4739 - val_loss: 0.6932 - val_accuracy: 0.5000 - lr: 1.0000e-05\n",
      "Epoch 33/50\n",
      "211/211 [==============================] - ETA: 0s - loss: 0.6935 - accuracy: 0.4953 Epoch 33: Learning rate is 0.000010\n",
      "\n",
      "Epoch 33: val_loss improved from 0.69317 to 0.69317, saving model to model_alexnet_binary_frame_simple_balanced.h5\n",
      "211/211 [==============================] - 49s 234ms/step - loss: 0.6935 - accuracy: 0.4953 - val_loss: 0.6932 - val_accuracy: 0.5000 - lr: 1.0000e-05\n",
      "Epoch 34/50\n",
      "211/211 [==============================] - ETA: 0s - loss: 0.6936 - accuracy: 0.4929 Epoch 34: Learning rate is 0.000010\n",
      "\n",
      "Epoch 34: val_loss improved from 0.69317 to 0.69317, saving model to model_alexnet_binary_frame_simple_balanced.h5\n",
      "211/211 [==============================] - 46s 220ms/step - loss: 0.6936 - accuracy: 0.4929 - val_loss: 0.6932 - val_accuracy: 0.5000 - lr: 1.0000e-05\n",
      "Epoch 35/50\n",
      "211/211 [==============================] - ETA: 0s - loss: 0.6942 - accuracy: 0.4739 Epoch 35: Learning rate is 0.000010\n",
      "\n",
      "Epoch 35: val_loss improved from 0.69317 to 0.69317, saving model to model_alexnet_binary_frame_simple_balanced.h5\n",
      "211/211 [==============================] - 50s 235ms/step - loss: 0.6942 - accuracy: 0.4739 - val_loss: 0.6932 - val_accuracy: 0.5000 - lr: 1.0000e-05\n",
      "Epoch 36/50\n",
      "211/211 [==============================] - ETA: 0s - loss: 0.6937 - accuracy: 0.4882 Epoch 36: Learning rate is 0.000010\n",
      "\n",
      "Epoch 36: val_loss improved from 0.69317 to 0.69317, saving model to model_alexnet_binary_frame_simple_balanced.h5\n",
      "211/211 [==============================] - 53s 252ms/step - loss: 0.6937 - accuracy: 0.4882 - val_loss: 0.6932 - val_accuracy: 0.5000 - lr: 1.0000e-05\n",
      "Epoch 37/50\n",
      "211/211 [==============================] - ETA: 0s - loss: 0.6922 - accuracy: 0.5355 Epoch 37: Learning rate is 0.000010\n",
      "\n",
      "Epoch 37: val_loss improved from 0.69317 to 0.69317, saving model to model_alexnet_binary_frame_simple_balanced.h5\n",
      "211/211 [==============================] - 48s 229ms/step - loss: 0.6922 - accuracy: 0.5355 - val_loss: 0.6932 - val_accuracy: 0.5000 - lr: 1.0000e-05\n",
      "Epoch 38/50\n",
      "211/211 [==============================] - ETA: 0s - loss: 0.6925 - accuracy: 0.5261 Epoch 38: Learning rate is 0.000010\n",
      "\n",
      "Epoch 38: val_loss improved from 0.69317 to 0.69317, saving model to model_alexnet_binary_frame_simple_balanced.h5\n",
      "211/211 [==============================] - 27s 126ms/step - loss: 0.6925 - accuracy: 0.5261 - val_loss: 0.6932 - val_accuracy: 0.5000 - lr: 1.0000e-05\n",
      "Epoch 39/50\n",
      "211/211 [==============================] - ETA: 0s - loss: 0.6934 - accuracy: 0.4976 Epoch 39: Learning rate is 0.000010\n",
      "\n",
      "Epoch 39: val_loss improved from 0.69317 to 0.69317, saving model to model_alexnet_binary_frame_simple_balanced.h5\n",
      "211/211 [==============================] - 47s 221ms/step - loss: 0.6934 - accuracy: 0.4976 - val_loss: 0.6932 - val_accuracy: 0.5000 - lr: 1.0000e-05\n",
      "Epoch 40/50\n",
      "211/211 [==============================] - ETA: 0s - loss: 0.6927 - accuracy: 0.5166 Epoch 40: Learning rate is 0.000010\n",
      "\n",
      "Epoch 40: val_loss did not improve from 0.69317\n",
      "211/211 [==============================] - 46s 218ms/step - loss: 0.6927 - accuracy: 0.5166 - val_loss: 0.6932 - val_accuracy: 0.5000 - lr: 1.0000e-05\n",
      "Epoch 41/50\n",
      "211/211 [==============================] - ETA: 0s - loss: 0.6944 - accuracy: 0.4668 Epoch 41: Learning rate is 0.000010\n",
      "\n",
      "Epoch 41: val_loss improved from 0.69317 to 0.69317, saving model to model_alexnet_binary_frame_simple_balanced.h5\n",
      "211/211 [==============================] - 50s 237ms/step - loss: 0.6944 - accuracy: 0.4668 - val_loss: 0.6932 - val_accuracy: 0.5000 - lr: 1.0000e-05\n",
      "Epoch 42/50\n",
      "211/211 [==============================] - ETA: 0s - loss: 0.6933 - accuracy: 0.5000 Epoch 42: Learning rate is 0.000010\n",
      "\n",
      "Epoch 42: val_loss did not improve from 0.69317\n",
      "211/211 [==============================] - 48s 226ms/step - loss: 0.6933 - accuracy: 0.5000 - val_loss: 0.6932 - val_accuracy: 0.5000 - lr: 1.0000e-05\n",
      "Epoch 43/50\n"
     ]
    },
    {
     "name": "stdout",
     "output_type": "stream",
     "text": [
      "211/211 [==============================] - ETA: 0s - loss: 0.6931 - accuracy: 0.5047 Epoch 43: Learning rate is 0.000010\n",
      "\n",
      "Epoch 43: val_loss did not improve from 0.69317\n",
      "211/211 [==============================] - 39s 183ms/step - loss: 0.6931 - accuracy: 0.5047 - val_loss: 0.6932 - val_accuracy: 0.5000 - lr: 1.0000e-05\n",
      "Epoch 44/50\n",
      "211/211 [==============================] - ETA: 0s - loss: 0.6942 - accuracy: 0.4739 Epoch 44: Learning rate is 0.000010\n",
      "\n",
      "Epoch 44: val_loss did not improve from 0.69317\n",
      "211/211 [==============================] - 25s 116ms/step - loss: 0.6942 - accuracy: 0.4739 - val_loss: 0.6932 - val_accuracy: 0.5000 - lr: 1.0000e-05\n",
      "Epoch 45/50\n",
      "211/211 [==============================] - ETA: 0s - loss: 0.6938 - accuracy: 0.4858 Epoch 45: Learning rate is 0.000010\n",
      "\n",
      "Epoch 45: val_loss improved from 0.69317 to 0.69317, saving model to model_alexnet_binary_frame_simple_balanced.h5\n",
      "211/211 [==============================] - 39s 183ms/step - loss: 0.6938 - accuracy: 0.4858 - val_loss: 0.6932 - val_accuracy: 0.5000 - lr: 1.0000e-05\n",
      "Epoch 46/50\n",
      "211/211 [==============================] - ETA: 0s - loss: 0.6934 - accuracy: 0.5000 Epoch 46: Learning rate is 0.000010\n",
      "\n",
      "Epoch 46: val_loss improved from 0.69317 to 0.69317, saving model to model_alexnet_binary_frame_simple_balanced.h5\n",
      "211/211 [==============================] - 48s 228ms/step - loss: 0.6934 - accuracy: 0.5000 - val_loss: 0.6932 - val_accuracy: 0.5000 - lr: 1.0000e-05\n",
      "Epoch 47/50\n",
      "211/211 [==============================] - ETA: 0s - loss: 0.6931 - accuracy: 0.5071 Epoch 47: Learning rate is 0.000010\n",
      "\n",
      "Epoch 47: val_loss improved from 0.69317 to 0.69317, saving model to model_alexnet_binary_frame_simple_balanced.h5\n",
      "211/211 [==============================] - 45s 211ms/step - loss: 0.6931 - accuracy: 0.5071 - val_loss: 0.6932 - val_accuracy: 0.5000 - lr: 1.0000e-05\n",
      "Epoch 48/50\n",
      "211/211 [==============================] - ETA: 0s - loss: 0.6952 - accuracy: 0.4431 Epoch 48: Learning rate is 0.000010\n",
      "\n",
      "Epoch 48: val_loss improved from 0.69317 to 0.69317, saving model to model_alexnet_binary_frame_simple_balanced.h5\n",
      "211/211 [==============================] - 50s 235ms/step - loss: 0.6952 - accuracy: 0.4431 - val_loss: 0.6932 - val_accuracy: 0.5000 - lr: 1.0000e-05\n",
      "Epoch 49/50\n",
      "211/211 [==============================] - ETA: 0s - loss: 0.6921 - accuracy: 0.5379 Epoch 49: Learning rate is 0.000010\n",
      "\n",
      "Epoch 49: val_loss improved from 0.69317 to 0.69317, saving model to model_alexnet_binary_frame_simple_balanced.h5\n",
      "211/211 [==============================] - 50s 239ms/step - loss: 0.6921 - accuracy: 0.5379 - val_loss: 0.6932 - val_accuracy: 0.5000 - lr: 1.0000e-05\n",
      "Epoch 50/50\n",
      "211/211 [==============================] - ETA: 0s - loss: 0.6931 - accuracy: 0.5071 Epoch 50: Learning rate is 0.000010\n",
      "\n",
      "Epoch 50: val_loss improved from 0.69317 to 0.69317, saving model to model_alexnet_binary_frame_simple_balanced.h5\n",
      "211/211 [==============================] - 51s 241ms/step - loss: 0.6931 - accuracy: 0.5071 - val_loss: 0.6932 - val_accuracy: 0.5000 - lr: 1.0000e-05\n"
     ]
    }
   ],
   "source": [
    "# Se antreneaza modelul\n",
    "checkpoiter = tf.keras.callbacks.ModelCheckpoint('model_alexnet_binary_frame_simple_balanced.h5', verbose=1, save_best_only=True)\n",
    "\n",
    "steps = train_generator.samples//train_generator.batch_size\n",
    "reduce_lr = ReduceLROnPlateau(monitor='val_accuracy', factor=0.1, patience=4, min_lr=0.00001, verbose=1)\n",
    "callbacks = [\n",
    "    tf.keras.callbacks.EarlyStopping(patience=10, monitor='val_loss'),\n",
    "    tf.keras.callbacks.TensorBoard(log_dir='logs'),\n",
    "    reduce_lr,\n",
    "    LearningRateLogger(),\n",
    "    checkpoiter\n",
    "\n",
    "]\n",
    "\n",
    "\n",
    "results = model.fit(train_generator, \n",
    "                    validation_data=validation_generator, \n",
    "                    validation_steps=validation_generator.samples // validation_generator.batch_size,\n",
    "                    steps_per_epoch = steps,\n",
    "                    shuffle=True,\n",
    "                    epochs=50, \n",
    "                    callbacks=callbacks,\n",
    "                    verbose=1\n",
    "                   )\n"
   ]
  },
  {
   "cell_type": "markdown",
   "id": "1858c38f",
   "metadata": {},
   "source": [
    "### For export"
   ]
  },
  {
   "cell_type": "code",
   "execution_count": 36,
   "id": "fe8599cd",
   "metadata": {},
   "outputs": [],
   "source": [
    "import pickle\n",
    "history = results.history\n",
    "\n",
    "# Pickle the history to file\n",
    "with open('alexnet_simple.pkl', 'wb') as f:\n",
    "    pickle.dump(history, f)\n"
   ]
  },
  {
   "cell_type": "code",
   "execution_count": 38,
   "id": "fe644716",
   "metadata": {},
   "outputs": [
    {
     "name": "stdout",
     "output_type": "stream",
     "text": [
      "Accuracy Score =  0.7965737706422806\n"
     ]
    }
   ],
   "source": [
    "acc = history['accuracy']\n",
    "acc= np.mean(acc)\n",
    "# acc=np.sort(acc)\n",
    "# acc=acc[-5]\n",
    "print('Accuracy Score = ', acc)"
   ]
  },
  {
   "cell_type": "markdown",
   "id": "79bda1d1",
   "metadata": {},
   "source": [
    "## Results"
   ]
  },
  {
   "cell_type": "code",
   "execution_count": 293,
   "id": "c9e2e6e1",
   "metadata": {},
   "outputs": [
    {
     "name": "stdout",
     "output_type": "stream",
     "text": [
      "Accuracy Score =  0.5\n",
      "Loss Score =  0.6931676268577576\n"
     ]
    }
   ],
   "source": [
    "print('Accuracy Score = ',np.max(results.history['val_accuracy']))\n",
    "print('Loss Score = ',np.min(results.history['val_loss']))"
   ]
  },
  {
   "cell_type": "markdown",
   "id": "916ca9e7",
   "metadata": {},
   "source": [
    "### During training"
   ]
  },
  {
   "cell_type": "code",
   "execution_count": 279,
   "id": "09952fff",
   "metadata": {},
   "outputs": [
    {
     "data": {
      "image/png": "[encoded data removed]",
      "text/plain": [
       "<Figure size 640x480 with 2 Axes>"
      ]
     },
     "metadata": {},
     "output_type": "display_data"
    }
   ],
   "source": [
    "plt.figure()\n",
    "plt.subplot(211)\n",
    "loss_train_curve = results.history[\"loss\"]\n",
    "loss_val_curve = results.history[\"val_loss\"] \n",
    "\n",
    "plt.plot(loss_train_curve, label = \"Loss\")\n",
    "plt.plot(loss_val_curve, label = \"Val_Loss\")\n",
    "plt.legend(loc = 'upper right')\n",
    "plt.ylabel(\"Loss\")\n",
    "\n",
    "\n",
    "plt.subplot(212)\n",
    "acc_train_curve = results.history[\"accuracy\"] \n",
    "\n",
    "acc_val_curve = results.history[\"val_accuracy\"]\n",
    "\n",
    "plt.plot(acc_train_curve, label = \"Accuracy\")\n",
    "plt.plot(acc_val_curve, label = \"Val_Accuracy\")\n",
    "plt.legend(loc = 'upper right')\n",
    "plt.ylabel(\"Accuracy\")\n",
    "plt.xlabel(\"Epoch\")\n",
    "plt.show()"
   ]
  },
  {
   "cell_type": "markdown",
   "id": "23c8821d",
   "metadata": {},
   "source": [
    "## Test the model"
   ]
  },
  {
   "cell_type": "code",
   "execution_count": 294,
   "id": "574a6808",
   "metadata": {},
   "outputs": [
    {
     "name": "stdout",
     "output_type": "stream",
     "text": [
      "Found 36 images belonging to 2 classes.\n",
      "36/36 [==============================] - 2s 44ms/step - loss: 0.6946 - accuracy: 0.1944\n",
      "[0.694567859172821, 0.1944444477558136]\n"
     ]
    }
   ],
   "source": [
    "# divisible with 36: 2, 3, 4, 6, 9, 12, 18\n",
    "test_batch_size = 1\n",
    "\n",
    "test_datagen = ImageDataGenerator(rescale=1./255)\n",
    "\n",
    "test_generator = test_datagen.flow_from_directory(\n",
    "    TEST_PATH,\n",
    "    target_size=input_size[1:],\n",
    "    batch_size=test_batch_size,\n",
    "    shuffle=False,\n",
    "class_mode='categorical')\n",
    "scores = model.evaluate(test_generator,workers=12)\n",
    "print(scores)"
   ]
  },
  {
   "cell_type": "code",
   "execution_count": 295,
   "id": "baf29d4c",
   "metadata": {},
   "outputs": [
    {
     "name": "stdout",
     "output_type": "stream",
     "text": [
      "['benign', 'malign ']\n"
     ]
    }
   ],
   "source": [
    "target_names = list(test_generator.class_indices.keys())\n",
    "print(target_names)"
   ]
  },
  {
   "cell_type": "markdown",
   "id": "3222542c",
   "metadata": {},
   "source": [
    "### Make prediction"
   ]
  },
  {
   "cell_type": "code",
   "execution_count": 296,
   "id": "959d4e07",
   "metadata": {},
   "outputs": [
    {
     "name": "stdout",
     "output_type": "stream",
     "text": [
      "36/36 [==============================] - 2s 38ms/step\n",
      "[0 0 0 0 0 0 0 1 1 1 1 1 1 1 1 1 1 1 1 1 1 1 1 1 1 1 1 1 1 1 1 1 1 1 1 1]\n",
      "[0 0 0 0 0 0 0 0 0 0 0 0 0 0 0 0 0 0 0 0 0 0 0 0 0 0 0 0 0 0 0 0 0 0 0 0]\n",
      "0.19444444444444445\n"
     ]
    }
   ],
   "source": [
    "test_generator.reset()\n",
    "\n",
    "Y_pred = model.predict(test_generator, verbose=1)\n",
    "\n",
    "y_pred = np.argmax(Y_pred, axis=-1)\n",
    "classes = test_generator.classes\n",
    "\n",
    "print(classes)\n",
    "print(y_pred)\n",
    "\n",
    "print(sum(y_pred==classes)/len(test_generator.classes))"
   ]
  },
  {
   "cell_type": "markdown",
   "id": "e4800779",
   "metadata": {},
   "source": [
    "### Confusion Matrix"
   ]
  },
  {
   "cell_type": "code",
   "execution_count": 297,
   "id": "73debb39",
   "metadata": {},
   "outputs": [
    {
     "data": {
      "image/png": "[encoded data removed]",
      "text/plain": [
       "<Figure size 640x480 with 2 Axes>"
      ]
     },
     "metadata": {},
     "output_type": "display_data"
    }
   ],
   "source": [
    "\n",
    "cm = confusion_matrix(classes, y_pred)\n",
    "\n",
    "disp = ConfusionMatrixDisplay(confusion_matrix=cm, display_labels=target_names)\n",
    "\n",
    "disp.plot()\n",
    "plt.grid(False)\n",
    "plt.show()"
   ]
  },
  {
   "cell_type": "markdown",
   "id": "bdf80a66",
   "metadata": {},
   "source": [
    "### Metrics"
   ]
  },
  {
   "cell_type": "code",
   "execution_count": 298,
   "id": "d921397c",
   "metadata": {},
   "outputs": [],
   "source": [
    "TN, FP, FN, TP = cm.ravel()"
   ]
  },
  {
   "cell_type": "code",
   "execution_count": 299,
   "id": "d132f2ad",
   "metadata": {},
   "outputs": [
    {
     "name": "stdout",
     "output_type": "stream",
     "text": [
      "True positive= 0\n",
      "True Negative= 7\n",
      "False positive= 0\n",
      "False Negative= 29\n"
     ]
    }
   ],
   "source": [
    "print(\"True positive=\",TP)\n",
    "print(\"True Negative=\",TN)\n",
    "print(\"False positive=\",FP)\n",
    "print(\"False Negative=\",FN)"
   ]
  },
  {
   "cell_type": "code",
   "execution_count": 300,
   "id": "1720304b",
   "metadata": {},
   "outputs": [
    {
     "name": "stderr",
     "output_type": "stream",
     "text": [
      "/var/folders/ml/1pq8pf157qjcrdxwm5xjgzfm0000gn/T/ipykernel_1302/1327457140.py:6: RuntimeWarning: invalid value encountered in long_scalars\n",
      "  PPV = TP/(TP+FP)\n",
      "/var/folders/ml/1pq8pf157qjcrdxwm5xjgzfm0000gn/T/ipykernel_1302/1327457140.py:14: RuntimeWarning: invalid value encountered in long_scalars\n",
      "  FDR = FP/(TP+FP)\n"
     ]
    }
   ],
   "source": [
    "# Sensitivity, hit rate, recall, or true positive rate\n",
    "TPR = TP/(TP+FN)\n",
    "# Specificity or true negative rate\n",
    "TNR = TN/(TN+FP) \n",
    "# Precision or positive predictive value\n",
    "PPV = TP/(TP+FP)\n",
    "# Negative predictive value\n",
    "NPV = TN/(TN+FN)\n",
    "# Fall out or false positive rate\n",
    "FPR = FP/(FP+TN)\n",
    "# False negative rate\n",
    "FNR = FN/(TP+FN)\n",
    "# False discovery rate\n",
    "FDR = FP/(TP+FP)\n",
    "#F1_SCORE\n",
    "FSCO=(2*TP) / ((2*TP) +FP + FN) \n",
    "# Overall accuracy\n",
    "ACC = (TP+TN)/(TP+FP+FN+TN)"
   ]
  },
  {
   "cell_type": "code",
   "execution_count": 301,
   "id": "54fa8f2d",
   "metadata": {},
   "outputs": [
    {
     "name": "stdout",
     "output_type": "stream",
     "text": [
      "sensitivity= 0.0 %\n",
      "precision= nan %\n",
      "Specificity= 100.0 %\n",
      "F-score= 0.0 %\n",
      "ACCURACY= 19.444 %\n",
      "FNR= 100.0 %\n",
      "FPR= 0.0 %\n",
      "NPV= 19.444444444444446 %\n"
     ]
    }
   ],
   "source": [
    "print(\"sensitivity=\",round(TPR*100,3),\"%\")\n",
    "print(\"precision=\",round(PPV*100,3),\"%\")\n",
    "print(\"Specificity=\",round(TNR*100,3),\"%\")\n",
    "print(\"F-score=\",round(FSCO*100,3),\"%\")\n",
    "print(\"ACCURACY=\",round(ACC*100,3),\"%\")\n",
    "print(\"FNR=\",FNR*100,\"%\")\n",
    "print(\"FPR=\",FPR*100,\"%\")\n",
    "print(\"NPV=\",NPV*100,\"%\")"
   ]
  }
 ],
 "metadata": {
  "kernelspec": {
   "display_name": "Python 3 (ipykernel)",
   "language": "python",
   "name": "python3"
  },
  "language_info": {
   "codemirror_mode": {
    "name": "ipython",
    "version": 3
   },
   "file_extension": ".py",
   "mimetype": "text/x-python",
   "name": "python",
   "nbconvert_exporter": "python",
   "pygments_lexer": "ipython3",
   "version": "3.10.9"
  }
 },
 "nbformat": 4,
 "nbformat_minor": 5
}
