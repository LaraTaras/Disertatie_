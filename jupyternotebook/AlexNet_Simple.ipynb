{
 "cells": [
  {
   "cell_type": "markdown",
   "id": "2a18e3d7",
   "metadata": {},
   "source": [
    "# AlexNet model"
   ]
  },
  {
   "cell_type": "markdown",
   "id": "0b4f9a6e",
   "metadata": {},
   "source": [
    "### AlexNet with only 2 categories (Benign and Malign)"
   ]
  },
  {
   "cell_type": "markdown",
   "id": "25292243",
   "metadata": {},
   "source": [
    "## Get packages"
   ]
  },
  {
   "cell_type": "code",
   "execution_count": 16,
   "id": "3bdd2c7b",
   "metadata": {},
   "outputs": [],
   "source": [
    "import tensorflow as tf\n",
    "import os\n",
    "import random\n",
    "import numpy as np\n",
    "from tqdm import tqdm\n",
    "import albumentations as A\n",
    "import cv2\n",
    "\n",
    "from skimage.io import imread\n",
    "from skimage.io import imshow\n",
    "from skimage.util import crop\n",
    "from skimage.transform import resize\n",
    "import matplotlib.pyplot as plt\n",
    "\n",
    "\n",
    "from tensorflow import keras\n",
    "from keras.models import Sequential\n",
    "from keras.layers import Dense, Flatten, Conv2D, MaxPooling2D, Dropout\n",
    "from tensorflow.keras import layers\n",
    "from tensorflow.keras.utils import to_categorical\n",
    "from tensorflow.keras.optimizers.legacy import Adam\n",
    "\n",
    "import numpy as np\n",
    "import pandas as pd\n",
    "import matplotlib.pyplot as plt\n",
    "import keras\n",
    "from keras.layers import *\n",
    "from keras import models\n",
    "from keras.preprocessing import image\n",
    "\n",
    "from sklearn.metrics import classification_report\n",
    "from sklearn.metrics import confusion_matrix\n",
    "from sklearn.metrics import ConfusionMatrixDisplay\n",
    "from sklearn.metrics import confusion_matrix, ConfusionMatrixDisplay\n",
    "     "
   ]
  },
  {
   "cell_type": "markdown",
   "id": "0633d600",
   "metadata": {},
   "source": [
    "## Paths"
   ]
  },
  {
   "cell_type": "code",
   "execution_count": 17,
   "id": "a9a245eb",
   "metadata": {},
   "outputs": [],
   "source": [
    "TRAIN_PATH = 'archive/classification/simple/train'\n",
    "TEST_PATH = 'archive/classification/simple/test'\n",
    "VALID_PATH = 'archive/classification/simple/validate'"
   ]
  },
  {
   "cell_type": "code",
   "execution_count": 18,
   "id": "b28cabbf",
   "metadata": {},
   "outputs": [],
   "source": [
    "input_size = (3,227,227)"
   ]
  },
  {
   "cell_type": "markdown",
   "id": "74a37fab",
   "metadata": {},
   "source": [
    "## Load and Prepare Images"
   ]
  },
  {
   "cell_type": "code",
   "execution_count": 19,
   "id": "dc6cfbf9",
   "metadata": {},
   "outputs": [
    {
     "name": "stdout",
     "output_type": "stream",
     "text": [
      "Found 260 images belonging to 2 classes.\n",
      "Found 87 images belonging to 2 classes.\n"
     ]
    }
   ],
   "source": [
    "from keras.preprocessing.image import ImageDataGenerator\n",
    "\n",
    "# train_batchsize = 4\n",
    "# valid_batchsize = 4\n",
    "\n",
    "train_datagen = ImageDataGenerator(\n",
    "        shear_range=0.2,\n",
    "        zoom_range=0.2,\n",
    "        horizontal_flip=0.6)\n",
    "\n",
    "validation_datagen = ImageDataGenerator()\n",
    "                                  \n",
    "\n",
    "train_generator = train_datagen.flow_from_directory(\n",
    "        TRAIN_PATH,  \n",
    "        shuffle=True,\n",
    "#          batch_size=train_batchsize,\n",
    "        target_size=input_size[1:],\n",
    "        class_mode='categorical')  \n",
    "\n",
    "validation_generator = validation_datagen.flow_from_directory(\n",
    "        VALID_PATH,  \n",
    "        target_size=input_size[1:],\n",
    "        shuffle=True,\n",
    "#          batch_size=valid_batchsize,\n",
    "        class_mode='categorical')\n"
   ]
  },
  {
   "cell_type": "markdown",
   "id": "3ff157c6",
   "metadata": {},
   "source": [
    "## Make the model"
   ]
  },
  {
   "cell_type": "code",
   "execution_count": 73,
   "id": "60341cd1",
   "metadata": {},
   "outputs": [
    {
     "name": "stdout",
     "output_type": "stream",
     "text": [
      "Model: \"sequential_13\"\n",
      "_________________________________________________________________\n",
      " Layer (type)                Output Shape              Param #   \n",
      "=================================================================\n",
      " conv2d_65 (Conv2D)          (None, 54, 54, 32)        11648     \n",
      "                                                                 \n",
      " activation_117 (Activation  (None, 54, 54, 32)        0         \n",
      " )                                                               \n",
      "                                                                 \n",
      " max_pooling2d_39 (MaxPooli  (None, 27, 27, 32)        0         \n",
      " ng2D)                                                           \n",
      "                                                                 \n",
      " conv2d_66 (Conv2D)          (None, 17, 17, 64)        247872    \n",
      "                                                                 \n",
      " activation_118 (Activation  (None, 17, 17, 64)        0         \n",
      " )                                                               \n",
      "                                                                 \n",
      " max_pooling2d_40 (MaxPooli  (None, 8, 8, 64)          0         \n",
      " ng2D)                                                           \n",
      "                                                                 \n",
      " conv2d_67 (Conv2D)          (None, 6, 6, 64)          36928     \n",
      "                                                                 \n",
      " activation_119 (Activation  (None, 6, 6, 64)          0         \n",
      " )                                                               \n",
      "                                                                 \n",
      " conv2d_68 (Conv2D)          (None, 4, 4, 128)         73856     \n",
      "                                                                 \n",
      " activation_120 (Activation  (None, 4, 4, 128)         0         \n",
      " )                                                               \n",
      "                                                                 \n",
      " conv2d_69 (Conv2D)          (None, 2, 2, 256)         295168    \n",
      "                                                                 \n",
      " activation_121 (Activation  (None, 2, 2, 256)         0         \n",
      " )                                                               \n",
      "                                                                 \n",
      " max_pooling2d_41 (MaxPooli  (None, 1, 1, 256)         0         \n",
      " ng2D)                                                           \n",
      "                                                                 \n",
      " flatten_13 (Flatten)        (None, 256)               0         \n",
      "                                                                 \n",
      " dense_52 (Dense)            (None, 200)               51400     \n",
      "                                                                 \n",
      " activation_122 (Activation  (None, 200)               0         \n",
      " )                                                               \n",
      "                                                                 \n",
      " dropout_39 (Dropout)        (None, 200)               0         \n",
      "                                                                 \n",
      " dense_53 (Dense)            (None, 100)               20100     \n",
      "                                                                 \n",
      " activation_123 (Activation  (None, 100)               0         \n",
      " )                                                               \n",
      "                                                                 \n",
      " dropout_40 (Dropout)        (None, 100)               0         \n",
      "                                                                 \n",
      " dense_54 (Dense)            (None, 50)                5050      \n",
      "                                                                 \n",
      " activation_124 (Activation  (None, 50)                0         \n",
      " )                                                               \n",
      "                                                                 \n",
      " dropout_41 (Dropout)        (None, 50)                0         \n",
      "                                                                 \n",
      " dense_55 (Dense)            (None, 2)                 102       \n",
      "                                                                 \n",
      " activation_125 (Activation  (None, 2)                 0         \n",
      " )                                                               \n",
      "                                                                 \n",
      "=================================================================\n",
      "Total params: 742124 (2.83 MB)\n",
      "Trainable params: 742124 (2.83 MB)\n",
      "Non-trainable params: 0 (0.00 Byte)\n",
      "_________________________________________________________________\n"
     ]
    }
   ],
   "source": [
    "#Instantiate an empty model\n",
    "model = Sequential()\n",
    "\n",
    "# 1st Convolutional Layer\n",
    "model.add(Conv2D(filters=32, input_shape=(224,224,3), kernel_size=(11,11), strides=(4,4), padding=\"valid\"))\n",
    "model.add(Activation('relu'))\n",
    "# Max Pooling\n",
    "model.add(MaxPooling2D(pool_size=(2,2), strides=(2,2), padding='valid'))\n",
    "\n",
    "# 2nd Convolutional Layer\n",
    "model.add(Conv2D(filters=64, kernel_size=(11,11), strides=(1,1), padding='valid'))\n",
    "model.add(Activation('relu'))\n",
    "# Max Pooling\n",
    "model.add(MaxPooling2D(pool_size=(2,2), strides=(2,2), padding='valid'))\n",
    "\n",
    "# 3rd Convolutional Layer\n",
    "model.add(Conv2D(filters=64, kernel_size=(3,3), strides=(1,1), padding='valid'))\n",
    "model.add(Activation('relu'))\n",
    "\n",
    "# 4th Convolutional Layer\n",
    "model.add(Conv2D(filters=128, kernel_size=(3,3), strides=(1,1), padding='valid'))\n",
    "model.add(Activation('relu'))\n",
    "\n",
    "# 5th Convolutional Layer\n",
    "model.add(Conv2D(filters=256, kernel_size=(3,3), strides=(1,1), padding='valid'))\n",
    "model.add(Activation('relu'))\n",
    "# Max Pooling\n",
    "model.add(MaxPooling2D(pool_size=(2,2), strides=(2,2), padding='valid'))\n",
    "\n",
    "# Passing it to a Fully Connected layer\n",
    "model.add(Flatten())\n",
    "# 1st Fully Connected Layer\n",
    "model.add(Dense(200, input_shape=(224*224*3,)))\n",
    "model.add(Activation('relu'))\n",
    "# Add Dropout to prevent overfitting\n",
    "model.add(Dropout(0.25))\n",
    "\n",
    "# 2nd Fully Connected Layer\n",
    "model.add(Dense(100))\n",
    "model.add(Activation('relu'))\n",
    "# Add Dropout\n",
    "model.add(Dropout(0.2))\n",
    "\n",
    "# 3rd Fully Connected Layer\n",
    "model.add(Dense(50))\n",
    "model.add(Activation('relu'))\n",
    "# Add Dropout\n",
    "model.add(Dropout(0.1))\n",
    "\n",
    "# Output Layer\n",
    "model.add(Dense(2))\n",
    "model.add(Activation('softmax'))\n",
    "\n",
    "model.summary()\n",
    "\n",
    "# Compile the model\n",
    "model.compile(\n",
    "#               loss=keras.losses.CategoricalCrossentropy(),\n",
    "              loss=keras.losses.BinaryCrossentropy(),\n",
    "              optimizer=keras.optimizers.legacy.Adamax(), \n",
    "              metrics=['accuracy'])"
   ]
  },
  {
   "cell_type": "code",
   "execution_count": 6,
   "id": "1337c011",
   "metadata": {},
   "outputs": [
    {
     "data": {
      "text/plain": [
       "{'benign': 0, 'malign': 1}"
      ]
     },
     "execution_count": 6,
     "metadata": {},
     "output_type": "execute_result"
    }
   ],
   "source": [
    "train_generator.class_indices"
   ]
  },
  {
   "cell_type": "markdown",
   "id": "d706cf1c",
   "metadata": {},
   "source": [
    "## Train the model"
   ]
  },
  {
   "cell_type": "code",
   "execution_count": 76,
   "id": "f9fe5cd9",
   "metadata": {},
   "outputs": [
    {
     "name": "stdout",
     "output_type": "stream",
     "text": [
      "Epoch 1/25\n",
      "9/9 [==============================] - ETA: 0s - loss: 0.4738 - accuracy: 0.8269\n",
      "Epoch 1: val_loss improved from inf to 0.44703, saving model to model1_alexnet_simple.h5\n",
      "9/9 [==============================] - 3s 290ms/step - loss: 0.4738 - accuracy: 0.8269 - val_loss: 0.4470 - val_accuracy: 0.8161\n",
      "Epoch 2/25\n",
      "9/9 [==============================] - ETA: 0s - loss: 0.4915 - accuracy: 0.8269\n",
      "Epoch 2: val_loss did not improve from 0.44703\n",
      "9/9 [==============================] - 3s 267ms/step - loss: 0.4915 - accuracy: 0.8269 - val_loss: 0.4601 - val_accuracy: 0.8161\n",
      "Epoch 3/25\n",
      "9/9 [==============================] - ETA: 0s - loss: 0.4180 - accuracy: 0.8269\n",
      "Epoch 3: val_loss did not improve from 0.44703\n",
      "9/9 [==============================] - 3s 270ms/step - loss: 0.4180 - accuracy: 0.8269 - val_loss: 0.5010 - val_accuracy: 0.8161\n",
      "Epoch 4/25\n",
      "9/9 [==============================] - ETA: 0s - loss: 0.4531 - accuracy: 0.8269\n",
      "Epoch 4: val_loss improved from 0.44703 to 0.42144, saving model to model1_alexnet_simple.h5\n",
      "9/9 [==============================] - 3s 270ms/step - loss: 0.4531 - accuracy: 0.8269 - val_loss: 0.4214 - val_accuracy: 0.8161\n",
      "Epoch 5/25\n",
      "9/9 [==============================] - ETA: 0s - loss: 0.4104 - accuracy: 0.8269\n",
      "Epoch 5: val_loss did not improve from 0.42144\n",
      "9/9 [==============================] - 3s 267ms/step - loss: 0.4104 - accuracy: 0.8269 - val_loss: 0.4388 - val_accuracy: 0.8161\n",
      "Epoch 6/25\n",
      "9/9 [==============================] - ETA: 0s - loss: 0.4343 - accuracy: 0.8269\n",
      "Epoch 6: val_loss did not improve from 0.42144\n",
      "9/9 [==============================] - 3s 270ms/step - loss: 0.4343 - accuracy: 0.8269 - val_loss: 0.4531 - val_accuracy: 0.8161\n",
      "Epoch 7/25\n",
      "9/9 [==============================] - ETA: 0s - loss: 0.4374 - accuracy: 0.8269\n",
      "Epoch 7: val_loss did not improve from 0.42144\n",
      "9/9 [==============================] - 3s 267ms/step - loss: 0.4374 - accuracy: 0.8269 - val_loss: 0.4543 - val_accuracy: 0.8161\n",
      "Epoch 8/25\n",
      "9/9 [==============================] - ETA: 0s - loss: 0.4439 - accuracy: 0.8269\n",
      "Epoch 8: val_loss did not improve from 0.42144\n",
      "9/9 [==============================] - 3s 266ms/step - loss: 0.4439 - accuracy: 0.8269 - val_loss: 0.4364 - val_accuracy: 0.8161\n",
      "Epoch 9/25\n",
      "9/9 [==============================] - ETA: 0s - loss: 0.4508 - accuracy: 0.8269\n",
      "Epoch 9: val_loss did not improve from 0.42144\n",
      "9/9 [==============================] - 3s 268ms/step - loss: 0.4508 - accuracy: 0.8269 - val_loss: 0.4230 - val_accuracy: 0.8161\n"
     ]
    }
   ],
   "source": [
    "# Se antreneaza modelul\n",
    "checkpoiter = tf.keras.callbacks.ModelCheckpoint('model1_alexnet_simple.h5', verbose=1, save_best_only=True)\n",
    "\n",
    "callbacks = [\n",
    "    tf.keras.callbacks.EarlyStopping(patience=5, monitor='val_loss'),\n",
    "    tf.keras.callbacks.TensorBoard(log_dir='logs'),\n",
    "    checkpoiter\n",
    "\n",
    "]\n",
    "\n",
    "results = model.fit(train_generator, \n",
    "                    validation_data=validation_generator, \n",
    "#                       validation_split=0.1, \n",
    "                    batch_size=64, \n",
    "                    epochs=25, \n",
    "                    callbacks=callbacks,\n",
    "#                     steps_per_epoch=10\n",
    "                   )"
   ]
  },
  {
   "cell_type": "markdown",
   "id": "79bda1d1",
   "metadata": {},
   "source": [
    "## Results"
   ]
  },
  {
   "cell_type": "code",
   "execution_count": 77,
   "id": "c9e2e6e1",
   "metadata": {},
   "outputs": [
    {
     "name": "stdout",
     "output_type": "stream",
     "text": [
      "Accuracy Score =  0.8160919547080994\n",
      "Loss Score =  0.4214431643486023\n"
     ]
    }
   ],
   "source": [
    "print('Accuracy Score = ',np.max(results.history['val_accuracy']))\n",
    "print('Loss Score = ',np.min(results.history['val_loss']))"
   ]
  },
  {
   "cell_type": "markdown",
   "id": "916ca9e7",
   "metadata": {},
   "source": [
    "### During training"
   ]
  },
  {
   "cell_type": "code",
   "execution_count": 11,
   "id": "09952fff",
   "metadata": {},
   "outputs": [
    {
     "data": {
      "image/png": "[encoded data removed]",
      "text/plain": [
       "<Figure size 640x480 with 2 Axes>"
      ]
     },
     "metadata": {},
     "output_type": "display_data"
    }
   ],
   "source": [
    "plt.figure()\n",
    "plt.subplot(211)\n",
    "loss_train_curve = results.history[\"loss\"]\n",
    "loss_val_curve = results.history[\"val_loss\"]\n",
    "plt.plot(loss_train_curve, label = \"Loss\")\n",
    "plt.plot(loss_val_curve, label = \"Val_Loss\")\n",
    "plt.legend(loc = 'upper right')\n",
    "plt.ylabel(\"Loss\")\n",
    "\n",
    "\n",
    "plt.subplot(212)\n",
    "acc_train_curve = results.history[\"accuracy\"]\n",
    "acc_val_curve = results.history[\"val_accuracy\"]\n",
    "plt.plot(acc_train_curve, label = \"Accuracy\")\n",
    "plt.plot(acc_val_curve, label = \"Val_Accuracy\")\n",
    "plt.legend(loc = 'upper right')\n",
    "plt.ylabel(\"Accuracy\")\n",
    "plt.xlabel(\"Epoch\")\n",
    "plt.show()"
   ]
  },
  {
   "cell_type": "markdown",
   "id": "23c8821d",
   "metadata": {},
   "source": [
    "## Test the model"
   ]
  },
  {
   "cell_type": "code",
   "execution_count": 12,
   "id": "574a6808",
   "metadata": {},
   "outputs": [
    {
     "name": "stdout",
     "output_type": "stream",
     "text": [
      "['benign', 'malign']\n",
      "Found 16 images belonging to 2 classes.\n"
     ]
    }
   ],
   "source": [
    "# test_batch_size = 1\n",
    "\n",
    "# num_of_test_samples = 1\n",
    "\n",
    "target_names = list(train_generator.class_indices.keys())\n",
    "print(target_names)\n",
    "test_datagen = ImageDataGenerator()\n",
    "\n",
    "test_generator = test_datagen.flow_from_directory(\n",
    "    TEST_PATH,\n",
    "    target_size=input_size[1:],\n",
    "#     batch_size=test_batchsize,\n",
    "    shuffle=True,\n",
    "class_mode='categorical')"
   ]
  },
  {
   "cell_type": "markdown",
   "id": "3222542c",
   "metadata": {},
   "source": [
    "### Make prediction"
   ]
  },
  {
   "cell_type": "code",
   "execution_count": 15,
   "id": "73debb39",
   "metadata": {},
   "outputs": [
    {
     "name": "stdout",
     "output_type": "stream",
     "text": [
      "1/1 [==============================] - 0s 70ms/step\n"
     ]
    },
    {
     "data": {
      "image/png": "[encoded data removed]",
      "text/plain": [
       "<Figure size 640x480 with 2 Axes>"
      ]
     },
     "metadata": {},
     "output_type": "display_data"
    }
   ],
   "source": [
    "test_steps_per_epoch = np.math.ceil(test_generator.samples / test_generator.batch_size)\n",
    "# print(validation_generator.batch_size)\n",
    "\n",
    "predictions = model.predict(test_generator, steps=test_steps_per_epoch)\n",
    "\n",
    "# Get most likely class\n",
    "predicted_classes = np.argmax(predictions, axis=1)\n",
    "\n",
    "# Y_pred = model.predict(test_generator, num_of_test_samples // test_batch_size+1)\n",
    "y_pred = np.argmax(predictions, axis=1)\n",
    "\n",
    "# Confusion Matrix\n",
    "cm = confusion_matrix(test_generator.classes, y_pred)\n",
    "\n",
    "disp = ConfusionMatrixDisplay(confusion_matrix=cm, display_labels=target_names)\n",
    "\n",
    "disp.plot()\n",
    "plt.grid(False)\n",
    "plt.show()"
   ]
  }
 ],
 "metadata": {
  "kernelspec": {
   "display_name": "Python 3 (ipykernel)",
   "language": "python",
   "name": "python3"
  },
  "language_info": {
   "codemirror_mode": {
    "name": "ipython",
    "version": 3
   },
   "file_extension": ".py",
   "mimetype": "text/x-python",
   "name": "python",
   "nbconvert_exporter": "python",
   "pygments_lexer": "ipython3",
   "version": "3.10.9"
  }
 },
 "nbformat": 4,
 "nbformat_minor": 5
}
