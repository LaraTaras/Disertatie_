{
 "cells": [
  {
   "cell_type": "markdown",
   "id": "195cbbfd",
   "metadata": {},
   "source": [
    "# AlexNet model "
   ]
  },
  {
   "cell_type": "markdown",
   "id": "1337fbce",
   "metadata": {},
   "source": [
    "### AlexNet with 2 categories (US and non-US)"
   ]
  },
  {
   "cell_type": "markdown",
   "id": "ede818a3",
   "metadata": {},
   "source": [
    "## Get packages"
   ]
  },
  {
   "cell_type": "code",
   "execution_count": 113,
   "id": "6a9b93f0",
   "metadata": {},
   "outputs": [],
   "source": [
    "import tensorflow as tf\n",
    "import os\n",
    "import random\n",
    "import numpy as np\n",
    "from tqdm import tqdm\n",
    "import albumentations as A\n",
    "import cv2\n",
    "\n",
    "from skimage.io import imread\n",
    "from skimage.io import imshow\n",
    "from skimage.util import crop\n",
    "from skimage.transform import resize\n",
    "import matplotlib.pyplot as plt\n",
    "\n",
    "\n",
    "from tensorflow import keras\n",
    "from keras.models import Sequential\n",
    "from keras.layers import Dense, Flatten, Conv2D, MaxPooling2D, Dropout\n",
    "from tensorflow.keras import layers\n",
    "from tensorflow.keras.utils import to_categorical\n",
    "from tensorflow.keras.optimizers.legacy import Adam\n",
    "\n",
    "import numpy as np\n",
    "import pandas as pd\n",
    "import matplotlib.pyplot as plt\n",
    "import keras\n",
    "from keras.layers import *\n",
    "from keras import models\n",
    "from keras.preprocessing import image\n",
    "\n",
    "from sklearn.metrics import classification_report\n",
    "from sklearn.metrics import confusion_matrix\n",
    "from sklearn.metrics import ConfusionMatrixDisplay\n",
    "from sklearn.metrics import confusion_matrix, ConfusionMatrixDisplay\n",
    "    \n",
    "from keras.preprocessing.image import ImageDataGenerator\n",
    "from livelossplot import PlotLossesKeras\n",
    "\n",
    "# model / neural network\n",
    "from tensorflow.keras import layers\n",
    "from tensorflow.keras.models import Sequential, Model\n",
    "import torchvision.models as models\n",
    "from tensorflow.keras.callbacks import ReduceLROnPlateau, Callback\n",
    "from tensorflow.keras import regularizers\n",
    "from keras.preprocessing.image import ImageDataGenerator"
   ]
  },
  {
   "cell_type": "markdown",
   "id": "1cc111f7",
   "metadata": {},
   "source": [
    "## Paths"
   ]
  },
  {
   "cell_type": "code",
   "execution_count": 114,
   "id": "efbc7ca9",
   "metadata": {},
   "outputs": [],
   "source": [
    "TRAIN_PATH = 'archive/classification/us/train'\n",
    "TEST_PATH = 'archive/classification/us/test'\n",
    "VALID_PATH = 'archive/classification/us/validate'"
   ]
  },
  {
   "cell_type": "code",
   "execution_count": 115,
   "id": "ff3d0aa3",
   "metadata": {},
   "outputs": [],
   "source": [
    "input_size = (3,227,227)"
   ]
  },
  {
   "cell_type": "markdown",
   "id": "67bc0b04",
   "metadata": {},
   "source": [
    "## Load and Prepare Images"
   ]
  },
  {
   "cell_type": "code",
   "execution_count": 116,
   "id": "654598d4",
   "metadata": {},
   "outputs": [
    {
     "name": "stdout",
     "output_type": "stream",
     "text": [
      "Found 520 images belonging to 2 classes.\n",
      "Found 104 images belonging to 2 classes.\n"
     ]
    }
   ],
   "source": [
    "\n",
    "\n",
    "# # divisible with 520: 2, 4, 5, 8, 10, 13, 20, 26, 40, 52, 65, 104, 130, 260\n",
    "train_batchsize = 52\n",
    "# # divisible with 104: 2, 4, 8, 13, 26, 52\n",
    "valid_batchsize = 13\n",
    "\n",
    "\n",
    "train_datagen = ImageDataGenerator(rescale=1./255\n",
    ")\n",
    "\n",
    "validation_datagen = ImageDataGenerator(rescale=1./255)\n",
    "                                  \n",
    "\n",
    "train_generator = train_datagen.flow_from_directory(\n",
    "        TRAIN_PATH,  \n",
    "        shuffle=True,\n",
    "         batch_size=train_batchsize,\n",
    "        target_size=input_size[1:],\n",
    "        class_mode='categorical')  \n",
    "\n",
    "validation_generator = validation_datagen.flow_from_directory(\n",
    "        VALID_PATH,  \n",
    "        target_size=input_size[1:],\n",
    "        shuffle=True,\n",
    "         batch_size=valid_batchsize,\n",
    "        class_mode='categorical')\n"
   ]
  },
  {
   "cell_type": "markdown",
   "id": "6dd58bbc",
   "metadata": {},
   "source": [
    "## Make the model"
   ]
  },
  {
   "cell_type": "code",
   "execution_count": 79,
   "id": "200e581d",
   "metadata": {},
   "outputs": [
    {
     "name": "stdout",
     "output_type": "stream",
     "text": [
      "Model: \"sequential_12\"\n",
      "_________________________________________________________________\n",
      " Layer (type)                Output Shape              Param #   \n",
      "=================================================================\n",
      " conv2d_46 (Conv2D)          (None, 54, 54, 32)        11648     \n",
      "                                                                 \n",
      " activation_80 (Activation)  (None, 54, 54, 32)        0         \n",
      "                                                                 \n",
      " max_pooling2d_34 (MaxPooli  (None, 27, 27, 32)        0         \n",
      " ng2D)                                                           \n",
      "                                                                 \n",
      " conv2d_47 (Conv2D)          (None, 17, 17, 64)        247872    \n",
      "                                                                 \n",
      " activation_81 (Activation)  (None, 17, 17, 64)        0         \n",
      "                                                                 \n",
      " max_pooling2d_35 (MaxPooli  (None, 8, 8, 64)          0         \n",
      " ng2D)                                                           \n",
      "                                                                 \n",
      " conv2d_48 (Conv2D)          (None, 6, 6, 64)          36928     \n",
      "                                                                 \n",
      " activation_82 (Activation)  (None, 6, 6, 64)          0         \n",
      "                                                                 \n",
      " conv2d_49 (Conv2D)          (None, 4, 4, 128)         73856     \n",
      "                                                                 \n",
      " activation_83 (Activation)  (None, 4, 4, 128)         0         \n",
      "                                                                 \n",
      " conv2d_50 (Conv2D)          (None, 2, 2, 256)         295168    \n",
      "                                                                 \n",
      " activation_84 (Activation)  (None, 2, 2, 256)         0         \n",
      "                                                                 \n",
      " max_pooling2d_36 (MaxPooli  (None, 1, 1, 256)         0         \n",
      " ng2D)                                                           \n",
      "                                                                 \n",
      " flatten_11 (Flatten)        (None, 256)               0         \n",
      "                                                                 \n",
      " dense_39 (Dense)            (None, 200)               51400     \n",
      "                                                                 \n",
      " activation_85 (Activation)  (None, 200)               0         \n",
      "                                                                 \n",
      " dropout_28 (Dropout)        (None, 200)               0         \n",
      "                                                                 \n",
      " dense_40 (Dense)            (None, 100)               20100     \n",
      "                                                                 \n",
      " activation_86 (Activation)  (None, 100)               0         \n",
      "                                                                 \n",
      " dropout_29 (Dropout)        (None, 100)               0         \n",
      "                                                                 \n",
      " dense_41 (Dense)            (None, 50)                5050      \n",
      "                                                                 \n",
      " activation_87 (Activation)  (None, 50)                0         \n",
      "                                                                 \n",
      " dropout_30 (Dropout)        (None, 50)                0         \n",
      "                                                                 \n",
      " dense_42 (Dense)            (None, 2)                 102       \n",
      "                                                                 \n",
      " activation_88 (Activation)  (None, 2)                 0         \n",
      "                                                                 \n",
      "=================================================================\n",
      "Total params: 742124 (2.83 MB)\n",
      "Trainable params: 742124 (2.83 MB)\n",
      "Non-trainable params: 0 (0.00 Byte)\n",
      "_________________________________________________________________\n"
     ]
    }
   ],
   "source": [
    "#Instantiate an empty model\n",
    "model = Sequential()\n",
    "\n",
    "# 1st Convolutional Layer\n",
    "model.add(Conv2D(filters=32, input_shape=(224,224,3), kernel_size=(11,11), strides=(4,4), padding=\"valid\"))\n",
    "model.add(Activation('relu'))\n",
    "# Max Pooling\n",
    "model.add(MaxPooling2D(pool_size=(2,2), strides=(2,2), padding='valid'))\n",
    "\n",
    "# 2nd Convolutional Layer\n",
    "model.add(Conv2D(filters=64, kernel_size=(11,11), strides=(1,1), padding='valid'))\n",
    "model.add(Activation('relu'))\n",
    "# Max Pooling\n",
    "model.add(MaxPooling2D(pool_size=(2,2), strides=(2,2), padding='valid'))\n",
    "\n",
    "# 3rd Convolutional Layer\n",
    "model.add(Conv2D(filters=64, kernel_size=(3,3), strides=(1,1), padding='valid'))\n",
    "model.add(Activation('relu'))\n",
    "\n",
    "# 4th Convolutional Layer\n",
    "model.add(Conv2D(filters=128, kernel_size=(3,3), strides=(1,1), padding='valid'))\n",
    "model.add(Activation('relu'))\n",
    "\n",
    "# 5th Convolutional Layer\n",
    "model.add(Conv2D(filters=256, kernel_size=(3,3), strides=(1,1), padding='valid'))\n",
    "model.add(Activation('relu'))\n",
    "# Max Pooling\n",
    "model.add(MaxPooling2D(pool_size=(2,2), strides=(2,2), padding='valid'))\n",
    "\n",
    "# Passing it to a Fully Connected layer\n",
    "model.add(Flatten())\n",
    "# 1st Fully Connected Layer\n",
    "model.add(Dense(200, input_shape=(224*224*3,)))\n",
    "model.add(Activation('relu'))\n",
    "# Add Dropout to prevent overfitting\n",
    "# model.add(Dropout(0.25))\n",
    "model.add(Dropout(0.15))\n",
    "\n",
    "\n",
    "# 2nd Fully Connected Layer\n",
    "model.add(Dense(100))\n",
    "model.add(Activation('relu'))\n",
    "# Add Dropout\n",
    "# model.add(Dropout(0.1))\n",
    "model.add(Dropout(0.1))\n",
    "\n",
    "\n",
    "# 3rd Fully Connected Layer\n",
    "model.add(Dense(50))\n",
    "model.add(Activation('relu'))\n",
    "# Add Dropout\n",
    "# model.add(Dropout(0.2))\n",
    "model.add(Dropout(0.2))\n",
    "\n",
    "\n",
    "# Output Layer\n",
    "model.add(Dense(2))\n",
    "model.add(Activation('softmax'))\n",
    "\n",
    "model.summary()"
   ]
  },
  {
   "cell_type": "code",
   "execution_count": 117,
   "id": "4a42fae1",
   "metadata": {},
   "outputs": [
    {
     "name": "stdout",
     "output_type": "stream",
     "text": [
      "Model: \"sequential_17\"\n",
      "_________________________________________________________________\n",
      " Layer (type)                Output Shape              Param #   \n",
      "=================================================================\n",
      " conv2d_63 (Conv2D)          (None, 225, 225, 32)      896       \n",
      "                                                                 \n",
      " activation_109 (Activation  (None, 225, 225, 32)      0         \n",
      " )                                                               \n",
      "                                                                 \n",
      " max_pooling2d_49 (MaxPooli  (None, 112, 112, 32)      0         \n",
      " ng2D)                                                           \n",
      "                                                                 \n",
      " conv2d_64 (Conv2D)          (None, 110, 110, 64)      18496     \n",
      "                                                                 \n",
      " activation_110 (Activation  (None, 110, 110, 64)      0         \n",
      " )                                                               \n",
      "                                                                 \n",
      " max_pooling2d_50 (MaxPooli  (None, 55, 55, 64)        0         \n",
      " ng2D)                                                           \n",
      "                                                                 \n",
      " conv2d_65 (Conv2D)          (None, 53, 53, 128)       73856     \n",
      "                                                                 \n",
      " activation_111 (Activation  (None, 53, 53, 128)       0         \n",
      " )                                                               \n",
      "                                                                 \n",
      " max_pooling2d_51 (MaxPooli  (None, 26, 26, 128)       0         \n",
      " ng2D)                                                           \n",
      "                                                                 \n",
      " flatten_16 (Flatten)        (None, 86528)             0         \n",
      "                                                                 \n",
      " dense_55 (Dense)            (None, 128)               11075712  \n",
      "                                                                 \n",
      " activation_112 (Activation  (None, 128)               0         \n",
      " )                                                               \n",
      "                                                                 \n",
      " dropout_39 (Dropout)        (None, 128)               0         \n",
      "                                                                 \n",
      " dense_56 (Dense)            (None, 64)                8256      \n",
      "                                                                 \n",
      " activation_113 (Activation  (None, 64)                0         \n",
      " )                                                               \n",
      "                                                                 \n",
      " dropout_40 (Dropout)        (None, 64)                0         \n",
      "                                                                 \n",
      " dense_57 (Dense)            (None, 2)                 130       \n",
      "                                                                 \n",
      "=================================================================\n",
      "Total params: 11177346 (42.64 MB)\n",
      "Trainable params: 11177346 (42.64 MB)\n",
      "Non-trainable params: 0 (0.00 Byte)\n",
      "_________________________________________________________________\n"
     ]
    }
   ],
   "source": [
    "## Un model mai simplu\n",
    "\n",
    "\n",
    "model = Sequential()\n",
    "\n",
    "# Convolutional Layers\n",
    "model.add(Conv2D(32, (3, 3), input_shape=(227, 227, 3)))\n",
    "# model.add(BatchNormalization())\n",
    "model.add(Activation('relu'))\n",
    "model.add(MaxPooling2D((2, 2)))\n",
    "\n",
    "model.add(Conv2D(64, (3, 3),kernel_regularizer=regularizers.l2(0.01)))\n",
    "# model.add(BatchNormalization())\n",
    "model.add(Activation('relu'))\n",
    "model.add(MaxPooling2D((2, 2)))\n",
    "\n",
    "model.add(Conv2D(128, (3, 3),kernel_regularizer=regularizers.l2(0.01)))\n",
    "# model.add(BatchNormalization())\n",
    "model.add(Activation('relu'))\n",
    "model.add(MaxPooling2D((2, 2)))\n",
    "\n",
    "# Flatten and Dense Layers\n",
    "model.add(Flatten())\n",
    "model.add(Dense(128, kernel_regularizer=regularizers.l2(0.01)))\n",
    "# model.add(BatchNormalization())\n",
    "model.add(Activation('relu'))\n",
    "model.add(Dropout(0.5))  # Dropout for regularization\n",
    "\n",
    "model.add(Dense(64, kernel_regularizer=regularizers.l2(0.01)))\n",
    "# model.add(BatchNormalization())\n",
    "model.add(Activation('relu'))\n",
    "model.add(Dropout(0.5))\n",
    " \n",
    "model.add(Dense(2, activation='softmax'))  \n",
    "  \n",
    "model.summary()"
   ]
  },
  {
   "cell_type": "code",
   "execution_count": null,
   "id": "2d602970",
   "metadata": {},
   "outputs": [],
   "source": []
  },
  {
   "cell_type": "code",
   "execution_count": 118,
   "id": "b8451aa2",
   "metadata": {},
   "outputs": [],
   "source": [
    "# Compile the model\n",
    "model.compile(\n",
    "#               loss=keras.losses.CategoricalCrossentropy(),\n",
    "              loss=keras.losses.BinaryFocalCrossentropy(),\n",
    "              optimizer=keras.optimizers.legacy.RMSprop(learning_rate=0.001, decay=1e-03, momentum=0.9),\n",
    "#               optimizer=keras.optimizers.legacy.Adam(learning_rate=0.001, decay=1e-03), \n",
    "              metrics=['accuracy'])"
   ]
  },
  {
   "cell_type": "code",
   "execution_count": 43,
   "id": "10fc3bb3",
   "metadata": {},
   "outputs": [
    {
     "data": {
      "text/plain": [
       "{'US': 0, 'non-US': 1}"
      ]
     },
     "execution_count": 43,
     "metadata": {},
     "output_type": "execute_result"
    }
   ],
   "source": [
    "train_generator.class_indices"
   ]
  },
  {
   "cell_type": "markdown",
   "id": "0e22cbd4",
   "metadata": {},
   "source": [
    "## Train the model"
   ]
  },
  {
   "cell_type": "code",
   "execution_count": 119,
   "id": "8b46f696",
   "metadata": {},
   "outputs": [],
   "source": [
    "class LearningRateLogger(Callback):\n",
    "    def on_epoch_end(self, epoch, logs=None):\n",
    "        lr = self.model.optimizer.learning_rate\n",
    "        if isinstance(lr, tf.Variable) or tf.is_tensor(lr):\n",
    "            lr = tf.keras.backend.get_value(lr)\n",
    "        print(f\" Epoch {epoch+1}: Learning rate is {lr:.6f}\")"
   ]
  },
  {
   "cell_type": "code",
   "execution_count": 120,
   "id": "b3326dea",
   "metadata": {},
   "outputs": [
    {
     "name": "stdout",
     "output_type": "stream",
     "text": [
      "Epoch 1/25\n",
      "10/10 [==============================] - ETA: 0s - loss: 5.8574 - accuracy: 0.5712 Epoch 1: Learning rate is 0.001000\n",
      "\n",
      "Epoch 1: val_loss improved from inf to 5.42350, saving model to model_us_alexnet.h5\n",
      "10/10 [==============================] - 48s 5s/step - loss: 5.8574 - accuracy: 0.5712 - val_loss: 5.4235 - val_accuracy: 1.0000 - lr: 0.0010\n",
      "Epoch 2/25\n",
      "10/10 [==============================] - ETA: 0s - loss: 3.8345 - accuracy: 0.9462 Epoch 2: Learning rate is 0.001000\n",
      "\n",
      "Epoch 2: val_loss improved from 5.42350 to 1.95820, saving model to model_us_alexnet.h5\n",
      "10/10 [==============================] - 45s 4s/step - loss: 3.8345 - accuracy: 0.9462 - val_loss: 1.9582 - val_accuracy: 1.0000 - lr: 0.0010\n",
      "Epoch 3/25\n",
      "10/10 [==============================] - ETA: 0s - loss: 1.5426 - accuracy: 0.9788 Epoch 3: Learning rate is 0.001000\n",
      "\n",
      "Epoch 3: val_loss improved from 1.95820 to 0.96220, saving model to model_us_alexnet.h5\n",
      "10/10 [==============================] - 43s 4s/step - loss: 1.5426 - accuracy: 0.9788 - val_loss: 0.9622 - val_accuracy: 0.9904 - lr: 0.0010\n",
      "Epoch 4/25\n",
      "10/10 [==============================] - ETA: 0s - loss: 0.8779 - accuracy: 0.9404 Epoch 4: Learning rate is 0.001000\n",
      "\n",
      "Epoch 4: val_loss improved from 0.96220 to 0.76409, saving model to model_us_alexnet.h5\n",
      "10/10 [==============================] - 44s 4s/step - loss: 0.8779 - accuracy: 0.9404 - val_loss: 0.7641 - val_accuracy: 1.0000 - lr: 0.0010\n",
      "Epoch 5/25\n",
      "10/10 [==============================] - ETA: 0s - loss: 0.5834 - accuracy: 0.9962\n",
      "Epoch 5: ReduceLROnPlateau reducing learning rate to 0.00010000000474974513.\n",
      " Epoch 5: Learning rate is 0.000100\n",
      "\n",
      "Epoch 5: val_loss improved from 0.76409 to 0.38059, saving model to model_us_alexnet.h5\n",
      "10/10 [==============================] - 44s 4s/step - loss: 0.5834 - accuracy: 0.9962 - val_loss: 0.3806 - val_accuracy: 1.0000 - lr: 0.0010\n",
      "Epoch 6/25\n",
      "10/10 [==============================] - ETA: 0s - loss: 0.3933 - accuracy: 0.9923 Epoch 6: Learning rate is 0.000100\n",
      "\n",
      "Epoch 6: val_loss did not improve from 0.38059\n",
      "10/10 [==============================] - 44s 4s/step - loss: 0.3933 - accuracy: 0.9923 - val_loss: 0.4198 - val_accuracy: 1.0000 - lr: 1.0000e-04\n",
      "Epoch 7/25\n",
      "10/10 [==============================] - ETA: 0s - loss: 0.4199 - accuracy: 0.9827 Epoch 7: Learning rate is 0.000100\n",
      "\n",
      "Epoch 7: val_loss improved from 0.38059 to 0.36932, saving model to model_us_alexnet.h5\n",
      "10/10 [==============================] - 43s 4s/step - loss: 0.4199 - accuracy: 0.9827 - val_loss: 0.3693 - val_accuracy: 1.0000 - lr: 1.0000e-04\n",
      "Epoch 8/25\n",
      "10/10 [==============================] - ETA: 0s - loss: 0.3164 - accuracy: 0.9962 Epoch 8: Learning rate is 0.000100\n",
      "\n",
      "Epoch 8: val_loss improved from 0.36932 to 0.24523, saving model to model_us_alexnet.h5\n",
      "10/10 [==============================] - 50s 5s/step - loss: 0.3164 - accuracy: 0.9962 - val_loss: 0.2452 - val_accuracy: 1.0000 - lr: 1.0000e-04\n",
      "Epoch 9/25\n",
      "10/10 [==============================] - ETA: 0s - loss: 0.2048 - accuracy: 1.0000\n",
      "Epoch 9: ReduceLROnPlateau reducing learning rate to 1.0000000474974514e-05.\n",
      " Epoch 9: Learning rate is 0.000010\n",
      "\n",
      "Epoch 9: val_loss improved from 0.24523 to 0.15928, saving model to model_us_alexnet.h5\n",
      "10/10 [==============================] - 50s 5s/step - loss: 0.2048 - accuracy: 1.0000 - val_loss: 0.1593 - val_accuracy: 1.0000 - lr: 1.0000e-04\n",
      "Epoch 10/25\n",
      "10/10 [==============================] - ETA: 0s - loss: 0.1444 - accuracy: 0.9981 Epoch 10: Learning rate is 0.000010\n",
      "\n",
      "Epoch 10: val_loss improved from 0.15928 to 0.12748, saving model to model_us_alexnet.h5\n",
      "10/10 [==============================] - 52s 5s/step - loss: 0.1444 - accuracy: 0.9981 - val_loss: 0.1275 - val_accuracy: 1.0000 - lr: 1.0000e-05\n",
      "Epoch 11/25\n",
      "10/10 [==============================] - ETA: 0s - loss: 0.1254 - accuracy: 1.0000 Epoch 11: Learning rate is 0.000010\n",
      "\n",
      "Epoch 11: val_loss improved from 0.12748 to 0.11711, saving model to model_us_alexnet.h5\n",
      "10/10 [==============================] - 52s 5s/step - loss: 0.1254 - accuracy: 1.0000 - val_loss: 0.1171 - val_accuracy: 1.0000 - lr: 1.0000e-05\n",
      "Epoch 12/25\n",
      "10/10 [==============================] - ETA: 0s - loss: 0.1179 - accuracy: 1.0000 Epoch 12: Learning rate is 0.000010\n",
      "\n",
      "Epoch 12: val_loss improved from 0.11711 to 0.11157, saving model to model_us_alexnet.h5\n",
      "10/10 [==============================] - 50s 5s/step - loss: 0.1179 - accuracy: 1.0000 - val_loss: 0.1116 - val_accuracy: 1.0000 - lr: 1.0000e-05\n",
      "Epoch 13/25\n",
      "10/10 [==============================] - ETA: 0s - loss: 0.1133 - accuracy: 1.0000\n",
      "Epoch 13: ReduceLROnPlateau reducing learning rate to 1e-05.\n",
      " Epoch 13: Learning rate is 0.000010\n",
      "\n",
      "Epoch 13: val_loss improved from 0.11157 to 0.10739, saving model to model_us_alexnet.h5\n",
      "10/10 [==============================] - 46s 5s/step - loss: 0.1133 - accuracy: 1.0000 - val_loss: 0.1074 - val_accuracy: 1.0000 - lr: 1.0000e-05\n",
      "Epoch 14/25\n",
      "10/10 [==============================] - ETA: 0s - loss: 0.1083 - accuracy: 1.0000 Epoch 14: Learning rate is 0.000010\n",
      "\n",
      "Epoch 14: val_loss improved from 0.10739 to 0.10349, saving model to model_us_alexnet.h5\n",
      "10/10 [==============================] - 45s 4s/step - loss: 0.1083 - accuracy: 1.0000 - val_loss: 0.1035 - val_accuracy: 1.0000 - lr: 1.0000e-05\n",
      "Epoch 15/25\n",
      "10/10 [==============================] - ETA: 0s - loss: 0.1039 - accuracy: 1.0000 Epoch 15: Learning rate is 0.000010\n",
      "\n",
      "Epoch 15: val_loss improved from 0.10349 to 0.09966, saving model to model_us_alexnet.h5\n",
      "10/10 [==============================] - 46s 5s/step - loss: 0.1039 - accuracy: 1.0000 - val_loss: 0.0997 - val_accuracy: 1.0000 - lr: 1.0000e-05\n",
      "Epoch 16/25\n",
      "10/10 [==============================] - ETA: 0s - loss: 0.1011 - accuracy: 0.9981 Epoch 16: Learning rate is 0.000010\n",
      "\n",
      "Epoch 16: val_loss improved from 0.09966 to 0.09599, saving model to model_us_alexnet.h5\n",
      "10/10 [==============================] - 46s 5s/step - loss: 0.1011 - accuracy: 0.9981 - val_loss: 0.0960 - val_accuracy: 1.0000 - lr: 1.0000e-05\n",
      "Epoch 17/25\n",
      "10/10 [==============================] - ETA: 0s - loss: 0.0965 - accuracy: 1.0000 Epoch 17: Learning rate is 0.000010\n",
      "\n",
      "Epoch 17: val_loss improved from 0.09599 to 0.09251, saving model to model_us_alexnet.h5\n",
      "10/10 [==============================] - 48s 5s/step - loss: 0.0965 - accuracy: 1.0000 - val_loss: 0.0925 - val_accuracy: 1.0000 - lr: 1.0000e-05\n",
      "Epoch 18/25\n",
      "10/10 [==============================] - ETA: 0s - loss: 0.0937 - accuracy: 1.0000 Epoch 18: Learning rate is 0.000010\n",
      "\n",
      "Epoch 18: val_loss improved from 0.09251 to 0.08928, saving model to model_us_alexnet.h5\n",
      "10/10 [==============================] - 49s 5s/step - loss: 0.0937 - accuracy: 1.0000 - val_loss: 0.0893 - val_accuracy: 1.0000 - lr: 1.0000e-05\n",
      "Epoch 19/25\n",
      "10/10 [==============================] - ETA: 0s - loss: 0.0905 - accuracy: 0.9981 Epoch 19: Learning rate is 0.000010\n",
      "\n",
      "Epoch 19: val_loss improved from 0.08928 to 0.08620, saving model to model_us_alexnet.h5\n",
      "10/10 [==============================] - 54s 5s/step - loss: 0.0905 - accuracy: 0.9981 - val_loss: 0.0862 - val_accuracy: 1.0000 - lr: 1.0000e-05\n",
      "Epoch 20/25\n",
      "10/10 [==============================] - ETA: 0s - loss: 0.0871 - accuracy: 1.0000 Epoch 20: Learning rate is 0.000010\n",
      "\n",
      "Epoch 20: val_loss improved from 0.08620 to 0.08312, saving model to model_us_alexnet.h5\n",
      "10/10 [==============================] - 55s 5s/step - loss: 0.0871 - accuracy: 1.0000 - val_loss: 0.0831 - val_accuracy: 1.0000 - lr: 1.0000e-05\n",
      "Epoch 21/25\n",
      "10/10 [==============================] - ETA: 0s - loss: 0.0839 - accuracy: 1.0000 Epoch 21: Learning rate is 0.000010\n",
      "\n",
      "Epoch 21: val_loss improved from 0.08312 to 0.08054, saving model to model_us_alexnet.h5\n",
      "10/10 [==============================] - 45s 4s/step - loss: 0.0839 - accuracy: 1.0000 - val_loss: 0.0805 - val_accuracy: 1.0000 - lr: 1.0000e-05\n",
      "Epoch 22/25\n",
      "10/10 [==============================] - ETA: 0s - loss: 0.0816 - accuracy: 0.9981 Epoch 22: Learning rate is 0.000010\n",
      "\n",
      "Epoch 22: val_loss improved from 0.08054 to 0.07765, saving model to model_us_alexnet.h5\n",
      "10/10 [==============================] - 21s 2s/step - loss: 0.0816 - accuracy: 0.9981 - val_loss: 0.0776 - val_accuracy: 1.0000 - lr: 1.0000e-05\n"
     ]
    },
    {
     "name": "stdout",
     "output_type": "stream",
     "text": [
      "Epoch 23/25\n",
      "10/10 [==============================] - ETA: 0s - loss: 0.0798 - accuracy: 1.0000 Epoch 23: Learning rate is 0.000010\n",
      "\n",
      "Epoch 23: val_loss improved from 0.07765 to 0.07526, saving model to model_us_alexnet.h5\n",
      "10/10 [==============================] - 21s 2s/step - loss: 0.0798 - accuracy: 1.0000 - val_loss: 0.0753 - val_accuracy: 1.0000 - lr: 1.0000e-05\n",
      "Epoch 24/25\n",
      "10/10 [==============================] - ETA: 0s - loss: 0.0761 - accuracy: 1.0000 Epoch 24: Learning rate is 0.000010\n",
      "\n",
      "Epoch 24: val_loss improved from 0.07526 to 0.07305, saving model to model_us_alexnet.h5\n",
      "10/10 [==============================] - 21s 2s/step - loss: 0.0761 - accuracy: 1.0000 - val_loss: 0.0730 - val_accuracy: 1.0000 - lr: 1.0000e-05\n",
      "Epoch 25/25\n",
      "10/10 [==============================] - ETA: 0s - loss: 0.0742 - accuracy: 0.9981 Epoch 25: Learning rate is 0.000010\n",
      "\n",
      "Epoch 25: val_loss improved from 0.07305 to 0.07052, saving model to model_us_alexnet.h5\n",
      "10/10 [==============================] - 21s 2s/step - loss: 0.0742 - accuracy: 0.9981 - val_loss: 0.0705 - val_accuracy: 1.0000 - lr: 1.0000e-05\n"
     ]
    }
   ],
   "source": [
    "# Se antreneaza modelul\n",
    "checkpoiter = tf.keras.callbacks.ModelCheckpoint('model_us_alexnet.h5', verbose=1, save_best_only=True)\n",
    "steps = train_generator.samples//train_generator.batch_size\n",
    "reduce_lr = ReduceLROnPlateau(monitor='val_accuracy', factor=0.1, patience=4, min_lr=0.00001, verbose=1)\n",
    "callbacks = [\n",
    "#     tf.keras.callbacks.EarlyStopping(patience=5, monitor='val_loss'),\n",
    "    tf.keras.callbacks.TensorBoard(log_dir='logs'),\n",
    "    reduce_lr,\n",
    "    LearningRateLogger(),\n",
    "    checkpoiter\n",
    "\n",
    "]\n",
    "\n",
    "results = model.fit(train_generator, \n",
    "                    validation_data=validation_generator, \n",
    "                    validation_steps=validation_generator.samples // validation_generator.batch_size,\n",
    "                    steps_per_epoch = steps,\n",
    "                    shuffle=True,\n",
    "                    epochs=25, \n",
    "                    callbacks=callbacks,\n",
    "                    verbose=1\n",
    "                   )"
   ]
  },
  {
   "cell_type": "markdown",
   "id": "5a38d31d",
   "metadata": {},
   "source": [
    "## Results"
   ]
  },
  {
   "cell_type": "code",
   "execution_count": 127,
   "id": "3f5c8bd8",
   "metadata": {},
   "outputs": [
    {
     "name": "stdout",
     "output_type": "stream",
     "text": [
      "Accuracy Score =  1.0\n",
      "Loss Score =  0.07052476704120636\n"
     ]
    }
   ],
   "source": [
    "print('Accuracy Score = ',np.max(results.history['val_accuracy']))\n",
    "print('Loss Score = ',np.min(results.history['val_loss']))"
   ]
  },
  {
   "cell_type": "markdown",
   "id": "2f48efbd",
   "metadata": {},
   "source": [
    "### During training"
   ]
  },
  {
   "cell_type": "code",
   "execution_count": 112,
   "id": "60e7dba4",
   "metadata": {},
   "outputs": [
    {
     "data": {
      "image/png": "[encoded data removed]",
      "text/plain": [
       "<Figure size 640x480 with 2 Axes>"
      ]
     },
     "metadata": {},
     "output_type": "display_data"
    }
   ],
   "source": [
    "plt.figure()\n",
    "plt.subplot(211)\n",
    "loss_train_curve = results.history[\"loss\"]\n",
    "loss_val_curve = results.history[\"val_loss\"]\n",
    "plt.plot(loss_train_curve, label = \"Loss\")\n",
    "plt.plot(loss_val_curve, label = \"Val_Loss\")\n",
    "plt.legend(loc = 'upper right')\n",
    "plt.ylabel(\"Loss\")\n",
    "\n",
    "\n",
    "plt.subplot(212)\n",
    "acc_train_curve = results.history[\"accuracy\"]\n",
    "acc_val_curve = results.history[\"val_accuracy\"]\n",
    "plt.plot(acc_train_curve, label = \"Accuracy\")\n",
    "plt.plot(acc_val_curve, label = \"Val_Accuracy\")\n",
    "plt.legend(loc = 'upper right')\n",
    "plt.ylabel(\"Accuracy\")\n",
    "plt.xlabel(\"Epoch\")\n",
    "plt.show()"
   ]
  },
  {
   "cell_type": "markdown",
   "id": "a72bea1f",
   "metadata": {},
   "source": [
    "### Test the model"
   ]
  },
  {
   "cell_type": "code",
   "execution_count": 92,
   "id": "a048cd95",
   "metadata": {},
   "outputs": [
    {
     "name": "stdout",
     "output_type": "stream",
     "text": [
      "Found 70 images belonging to 2 classes.\n",
      "7/7 [==============================] - 1s 145ms/step - loss: 0.6404 - accuracy: 1.0000\n"
     ]
    }
   ],
   "source": [
    "# divisible with 70: 2, 5, 7, 10, 14, 35 \n",
    "test_batch_size = 10\n",
    "\n",
    "test_datagen = ImageDataGenerator(rescale=1./255)\n",
    "\n",
    "test_generator = test_datagen.flow_from_directory(\n",
    "    TEST_PATH,\n",
    "    target_size=input_size[1:],\n",
    "    batch_size=test_batch_size,\n",
    "    shuffle=False,\n",
    "class_mode='categorical')\n",
    "\n",
    "scores = model.evaluate(test_generator,workers=12)\n",
    "target_names = list(test_generator.class_indices.keys())"
   ]
  },
  {
   "cell_type": "code",
   "execution_count": 58,
   "id": "1e4a78c4",
   "metadata": {},
   "outputs": [
    {
     "name": "stdout",
     "output_type": "stream",
     "text": [
      "['US', 'non-US']\n"
     ]
    }
   ],
   "source": [
    "target_names = list(test_generator.class_indices.keys())\n",
    "print(target_names)"
   ]
  },
  {
   "cell_type": "markdown",
   "id": "25e92c3d",
   "metadata": {},
   "source": [
    "### Make prediction"
   ]
  },
  {
   "cell_type": "code",
   "execution_count": 128,
   "id": "efa5abc2",
   "metadata": {},
   "outputs": [
    {
     "name": "stdout",
     "output_type": "stream",
     "text": [
      "7/7 [==============================] - 1s 139ms/step\n",
      "[0 0 0 0 0 0 0 0 0 0 0 0 0 0 0 0 0 0 0 0 0 0 0 0 0 0 0 0 0 0 0 0 0 0 0 1 1\n",
      " 1 1 1 1 1 1 1 1 1 1 1 1 1 1 1 1 1 1 1 1 1 1 1 1 1 1 1 1 1 1 1 1 1]\n",
      "[0 0 0 0 0 0 0 0 0 0 0 0 0 0 0 0 0 0 0 0 0 0 0 0 0 0 0 0 0 0 0 0 0 0 0 1 1\n",
      " 1 1 1 1 1 1 1 1 1 1 1 1 1 1 1 1 1 1 1 1 1 1 1 1 1 1 1 1 1 1 1 1 1]\n",
      "1.0\n"
     ]
    }
   ],
   "source": [
    "test_generator.reset()\n",
    "\n",
    "Y_pred = model.predict(test_generator, verbose=1)\n",
    "\n",
    "y_pred = np.argmax(Y_pred, axis=-1)\n",
    "classes = test_generator.classes\n",
    "\n",
    "print(classes)\n",
    "print(y_pred)\n",
    "\n",
    "print(sum(y_pred==classes)/len(test_generator.classes))"
   ]
  },
  {
   "cell_type": "code",
   "execution_count": 121,
   "id": "9ffa1c92",
   "metadata": {},
   "outputs": [
    {
     "data": {
      "image/png": "[encoded data removed]",
      "text/plain": [
       "<Figure size 640x480 with 2 Axes>"
      ]
     },
     "metadata": {},
     "output_type": "display_data"
    }
   ],
   "source": [
    "# Confusion Matrix\n",
    "cm = confusion_matrix(test_generator.classes, y_pred)\n",
    "\n",
    "disp = ConfusionMatrixDisplay(confusion_matrix=cm, display_labels=target_names)\n",
    "\n",
    "disp.plot()\n",
    "plt.grid(False)\n",
    "plt.show()"
   ]
  },
  {
   "cell_type": "code",
   "execution_count": 122,
   "id": "6c73bd3c",
   "metadata": {},
   "outputs": [],
   "source": [
    "TN, FP, FN, TP = cm.ravel()\n"
   ]
  },
  {
   "cell_type": "code",
   "execution_count": 106,
   "id": "cd085753",
   "metadata": {},
   "outputs": [],
   "source": [
    "\n",
    "FP = cm.sum(axis=0) - np.diag(cm)  \n",
    "FN = cm.sum(axis=1) - np.diag(cm)\n",
    "TP = np.diag(cm)\n",
    "TN = cm.sum() - (FP + FN + TP)\n",
    "FP = FP.astype(float)\n",
    "FN = FN.astype(float)\n",
    "TP = TP.astype(float)\n",
    "TN = TN.astype(float)"
   ]
  },
  {
   "cell_type": "code",
   "execution_count": 107,
   "id": "59e6e965",
   "metadata": {},
   "outputs": [],
   "source": [
    "def Average(FP):\n",
    "    return sum(FP) / len(FP)\n",
    "FP=Average(FP)"
   ]
  },
  {
   "cell_type": "code",
   "execution_count": 108,
   "id": "147006c3",
   "metadata": {},
   "outputs": [],
   "source": [
    "\n",
    "def Average1(FN):\n",
    "    return sum(FN) / len(FN)\n",
    "FN=Average1(FN)"
   ]
  },
  {
   "cell_type": "code",
   "execution_count": 109,
   "id": "88eafa82",
   "metadata": {},
   "outputs": [],
   "source": [
    "def Average2(TP):\n",
    "    return sum(TP) / len(TP)\n",
    "TP=Average2(TP)"
   ]
  },
  {
   "cell_type": "code",
   "execution_count": 110,
   "id": "906d4f6b",
   "metadata": {},
   "outputs": [],
   "source": [
    "def Average3(TN):\n",
    "    return sum(TN) / len(TN)\n",
    "TN=Average3(TN)"
   ]
  },
  {
   "cell_type": "code",
   "execution_count": 123,
   "id": "97653433",
   "metadata": {},
   "outputs": [
    {
     "name": "stdout",
     "output_type": "stream",
     "text": [
      "True positive= 35\n",
      "True Negative= 35\n",
      "False positive= 0\n",
      "False Negative= 0\n"
     ]
    }
   ],
   "source": [
    "\n",
    "print(\"True positive=\",TP)\n",
    "print(\"True Negative=\",TN)\n",
    "print(\"False positive=\",FP)\n",
    "print(\"False Negative=\",FN)"
   ]
  },
  {
   "cell_type": "code",
   "execution_count": 124,
   "id": "cc345b90",
   "metadata": {},
   "outputs": [],
   "source": [
    "# Sensitivity, hit rate, recall, or true positive rate\n",
    "TPR = TP/(TP+FN)\n",
    "# Specificity or true negative rate\n",
    "TNR = TN/(TN+FP) \n",
    "# Precision or positive predictive value\n",
    "PPV = TP/(TP+FP)\n",
    "# Negative predictive value\n",
    "NPV = TN/(TN+FN)\n",
    "# Fall out or false positive rate\n",
    "FPR = FP/(FP+TN)\n",
    "# False negative rate\n",
    "FNR = FN/(TP+FN)\n",
    "# False discovery rate\n",
    "FDR = FP/(TP+FP)\n",
    "#F1_SCORE\n",
    "FSCO=(2*TP) / ((2*TP) +FP + FN) \n",
    "# Overall accuracy\n",
    "ACC = (TP+TN)/(TP+FP+FN+TN)"
   ]
  },
  {
   "cell_type": "code",
   "execution_count": 125,
   "id": "9fc3d131",
   "metadata": {},
   "outputs": [
    {
     "name": "stdout",
     "output_type": "stream",
     "text": [
      "sensitivity= 100.0 %\n",
      "precision= 100.0 %\n",
      "Specificity= 100.0 %\n",
      "F-score= 100.0 %\n",
      "ACCURACY= 100.0 %\n",
      "FNR= 0.0 %\n",
      "FPR= 0.0 %\n",
      "NPV= 100.0 %\n"
     ]
    }
   ],
   "source": [
    "print(\"sensitivity=\",TPR*100,\"%\")\n",
    "print(\"precision=\",PPV*100,\"%\")\n",
    "print(\"Specificity=\",TNR*100,\"%\")\n",
    "print(\"F-score=\",FSCO*100,\"%\")\n",
    "print(\"ACCURACY=\",ACC*100,\"%\")\n",
    "print(\"FNR=\",FNR*100,\"%\")\n",
    "print(\"FPR=\",FPR*100,\"%\")\n",
    "print(\"NPV=\",NPV*100,\"%\")"
   ]
  }
 ],
 "metadata": {
  "kernelspec": {
   "display_name": "Python 3 (ipykernel)",
   "language": "python",
   "name": "python3"
  },
  "language_info": {
   "codemirror_mode": {
    "name": "ipython",
    "version": 3
   },
   "file_extension": ".py",
   "mimetype": "text/x-python",
   "name": "python",
   "nbconvert_exporter": "python",
   "pygments_lexer": "ipython3",
   "version": "3.10.9"
  }
 },
 "nbformat": 4,
 "nbformat_minor": 5
}
